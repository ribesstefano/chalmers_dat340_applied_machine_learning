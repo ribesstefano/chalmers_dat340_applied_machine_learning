{
  "nbformat": 4,
  "nbformat_minor": 0,
  "metadata": {
    "colab": {
      "name": "assignment_1.ipynb",
      "provenance": [],
      "collapsed_sections": [],
      "authorship_tag": "ABX9TyPrLSIBctoYkOt3O2LHUKnl",
      "include_colab_link": true
    },
    "kernelspec": {
      "name": "python3",
      "display_name": "Python 3"
    },
    "language_info": {
      "name": "python"
    }
  },
  "cells": [
    {
      "cell_type": "markdown",
      "metadata": {
        "id": "view-in-github",
        "colab_type": "text"
      },
      "source": [
        "<a href=\"https://colab.research.google.com/github/ribesstefano/chalmers_dat340_applied_machine_learning/blob/main/assignment_1/assignment_1.ipynb\" target=\"_parent\"><img src=\"https://colab.research.google.com/assets/colab-badge.svg\" alt=\"Open In Colab\"/></a>"
      ]
    },
    {
      "cell_type": "markdown",
      "source": [
        "Group PA 47 - Author: Stefano Ribes, ribes@chalmers.se\n",
        "\n",
        "This Notebook can be viewed online at this link: https://colab.research.google.com/drive/1K5IDJ8wIE_jblm-tRKh2e3QpovpEBptB?usp=sharing\n",
        "\n",
        "# Programming Assignment 1\n",
        "\n",
        "## Task 0: Setup"
      ],
      "metadata": {
        "id": "zaul3s35MUXF"
      }
    },
    {
      "cell_type": "code",
      "source": [
        "from google.colab import drive\n",
        "drive.mount('/content/drive')"
      ],
      "metadata": {
        "colab": {
          "base_uri": "https://localhost:8080/"
        },
        "id": "1BwmtPm8Qufd",
        "outputId": "1ca88a4f-2ad1-4a4c-cb33-010f6688ef1a"
      },
      "execution_count": 1,
      "outputs": [
        {
          "output_type": "stream",
          "name": "stdout",
          "text": [
            "Mounted at /content/drive\n"
          ]
        }
      ]
    },
    {
      "cell_type": "code",
      "execution_count": 2,
      "metadata": {
        "colab": {
          "base_uri": "https://localhost:8080/",
          "height": 36
        },
        "id": "vVbTrGnIMQQr",
        "outputId": "fd7bffa0-5ab9-4a66-af0b-df3edff2c756"
      },
      "outputs": [
        {
          "output_type": "execute_result",
          "data": {
            "text/plain": [
              "'/content/drive/MyDrive/Colab Notebooks/dat340/assignment_1/data'"
            ],
            "application/vnd.google.colaboratory.intrinsic+json": {
              "type": "string"
            }
          },
          "metadata": {},
          "execution_count": 2
        }
      ],
      "source": [
        "import os\n",
        "\n",
        "ASSIGNMENT_ID = 'assignment_1'\n",
        "\n",
        "data_dir = os.path.join(os.path.abspath(''), 'drive', 'MyDrive')\n",
        "data_dir = os.path.join(data_dir, 'Colab Notebooks', 'dat340', ASSIGNMENT_ID)\n",
        "data_dir = os.path.join(data_dir, 'data')\n",
        "data_dir"
      ]
    },
    {
      "cell_type": "code",
      "source": [
        "from IPython.display import set_matplotlib_formats\n",
        "set_matplotlib_formats('pdf', 'svg')"
      ],
      "metadata": {
        "id": "HJGn_xrRvdFr"
      },
      "execution_count": 69,
      "outputs": []
    },
    {
      "cell_type": "markdown",
      "source": [
        "## Task 1: A classification example: fetal heart condition diagnosis"
      ],
      "metadata": {
        "id": "4jgGEFh5P-eb"
      }
    },
    {
      "cell_type": "markdown",
      "source": [
        "### Step 1. Reading the data"
      ],
      "metadata": {
        "id": "_jSg4P7C9qWf"
      }
    },
    {
      "cell_type": "code",
      "source": [
        "import pandas as pd\n",
        "from sklearn.model_selection import train_test_split\n",
        "  \n",
        "# Read the CSV file.\n",
        "filename = os.path.join(data_dir, 'CTG.csv')\n",
        "data = pd.read_csv(filename, skiprows=1)\n",
        "\n",
        "# Select the relevant numerical columns.\n",
        "selected_cols = ['LB', 'AC', 'FM', 'UC', 'DL', 'DS', 'DP', 'ASTV', 'MSTV', 'ALTV',\n",
        "                 'MLTV', 'Width', 'Min', 'Max', 'Nmax', 'Nzeros', 'Mode', 'Mean',\n",
        "                 'Median', 'Variance', 'Tendency', 'NSP']\n",
        "data = data[selected_cols].dropna()\n",
        "\n",
        "# Shuffle the dataset.\n",
        "data_shuffled = data.sample(frac=1.0, random_state=0)\n",
        "\n",
        "# Split into input part X and output part Y.\n",
        "X = data_shuffled.drop('NSP', axis=1)\n",
        "\n",
        "# Map the diagnosis code to a human-readable label.\n",
        "def to_label(y):\n",
        "    return [None, 'normal', 'suspect', 'pathologic'][(int(y))]\n",
        "\n",
        "Y = data_shuffled['NSP'].apply(to_label)\n",
        "\n",
        "# Partition the data into training and test sets.\n",
        "Xtrain, Xtest, Ytrain, Ytest = train_test_split(X, Y, test_size=0.2, random_state=0)\n",
        "X.head()"
      ],
      "metadata": {
        "colab": {
          "base_uri": "https://localhost:8080/",
          "height": 236
        },
        "id": "h3nWUAg3QIIp",
        "outputId": "339b4935-9adc-4a75-8a65-7763fa3760a3"
      },
      "execution_count": 3,
      "outputs": [
        {
          "output_type": "execute_result",
          "data": {
            "text/plain": [
              "         LB   AC   FM   UC   DL   DS   DP  ASTV  MSTV  ALTV  ...  Width  \\\n",
              "658   130.0  1.0  0.0  3.0  0.0  0.0  0.0  24.0   1.2  12.0  ...   35.0   \n",
              "1734  134.0  9.0  1.0  8.0  5.0  0.0  0.0  59.0   1.2   0.0  ...  109.0   \n",
              "1226  125.0  1.0  0.0  4.0  0.0  0.0  0.0  43.0   0.7  31.0  ...   21.0   \n",
              "1808  143.0  0.0  0.0  1.0  0.0  0.0  0.0  69.0   0.3   6.0  ...   27.0   \n",
              "825   152.0  0.0  0.0  4.0  0.0  0.0  0.0  62.0   0.4  59.0  ...   25.0   \n",
              "\n",
              "        Min    Max  Nmax  Nzeros   Mode   Mean  Median  Variance  Tendency  \n",
              "658   120.0  155.0   1.0     0.0  134.0  133.0   135.0       1.0       0.0  \n",
              "1734   80.0  189.0   6.0     0.0  150.0  146.0   150.0      33.0       0.0  \n",
              "1226  120.0  141.0   0.0     0.0  131.0  130.0   132.0       1.0       0.0  \n",
              "1808  132.0  159.0   1.0     0.0  145.0  144.0   146.0       1.0       0.0  \n",
              "825   136.0  161.0   0.0     0.0  159.0  156.0   158.0       1.0       1.0  \n",
              "\n",
              "[5 rows x 21 columns]"
            ],
            "text/html": [
              "\n",
              "  <div id=\"df-c4916ed1-b769-40fe-8073-7d02f8f4d7c7\">\n",
              "    <div class=\"colab-df-container\">\n",
              "      <div>\n",
              "<style scoped>\n",
              "    .dataframe tbody tr th:only-of-type {\n",
              "        vertical-align: middle;\n",
              "    }\n",
              "\n",
              "    .dataframe tbody tr th {\n",
              "        vertical-align: top;\n",
              "    }\n",
              "\n",
              "    .dataframe thead th {\n",
              "        text-align: right;\n",
              "    }\n",
              "</style>\n",
              "<table border=\"1\" class=\"dataframe\">\n",
              "  <thead>\n",
              "    <tr style=\"text-align: right;\">\n",
              "      <th></th>\n",
              "      <th>LB</th>\n",
              "      <th>AC</th>\n",
              "      <th>FM</th>\n",
              "      <th>UC</th>\n",
              "      <th>DL</th>\n",
              "      <th>DS</th>\n",
              "      <th>DP</th>\n",
              "      <th>ASTV</th>\n",
              "      <th>MSTV</th>\n",
              "      <th>ALTV</th>\n",
              "      <th>...</th>\n",
              "      <th>Width</th>\n",
              "      <th>Min</th>\n",
              "      <th>Max</th>\n",
              "      <th>Nmax</th>\n",
              "      <th>Nzeros</th>\n",
              "      <th>Mode</th>\n",
              "      <th>Mean</th>\n",
              "      <th>Median</th>\n",
              "      <th>Variance</th>\n",
              "      <th>Tendency</th>\n",
              "    </tr>\n",
              "  </thead>\n",
              "  <tbody>\n",
              "    <tr>\n",
              "      <th>658</th>\n",
              "      <td>130.0</td>\n",
              "      <td>1.0</td>\n",
              "      <td>0.0</td>\n",
              "      <td>3.0</td>\n",
              "      <td>0.0</td>\n",
              "      <td>0.0</td>\n",
              "      <td>0.0</td>\n",
              "      <td>24.0</td>\n",
              "      <td>1.2</td>\n",
              "      <td>12.0</td>\n",
              "      <td>...</td>\n",
              "      <td>35.0</td>\n",
              "      <td>120.0</td>\n",
              "      <td>155.0</td>\n",
              "      <td>1.0</td>\n",
              "      <td>0.0</td>\n",
              "      <td>134.0</td>\n",
              "      <td>133.0</td>\n",
              "      <td>135.0</td>\n",
              "      <td>1.0</td>\n",
              "      <td>0.0</td>\n",
              "    </tr>\n",
              "    <tr>\n",
              "      <th>1734</th>\n",
              "      <td>134.0</td>\n",
              "      <td>9.0</td>\n",
              "      <td>1.0</td>\n",
              "      <td>8.0</td>\n",
              "      <td>5.0</td>\n",
              "      <td>0.0</td>\n",
              "      <td>0.0</td>\n",
              "      <td>59.0</td>\n",
              "      <td>1.2</td>\n",
              "      <td>0.0</td>\n",
              "      <td>...</td>\n",
              "      <td>109.0</td>\n",
              "      <td>80.0</td>\n",
              "      <td>189.0</td>\n",
              "      <td>6.0</td>\n",
              "      <td>0.0</td>\n",
              "      <td>150.0</td>\n",
              "      <td>146.0</td>\n",
              "      <td>150.0</td>\n",
              "      <td>33.0</td>\n",
              "      <td>0.0</td>\n",
              "    </tr>\n",
              "    <tr>\n",
              "      <th>1226</th>\n",
              "      <td>125.0</td>\n",
              "      <td>1.0</td>\n",
              "      <td>0.0</td>\n",
              "      <td>4.0</td>\n",
              "      <td>0.0</td>\n",
              "      <td>0.0</td>\n",
              "      <td>0.0</td>\n",
              "      <td>43.0</td>\n",
              "      <td>0.7</td>\n",
              "      <td>31.0</td>\n",
              "      <td>...</td>\n",
              "      <td>21.0</td>\n",
              "      <td>120.0</td>\n",
              "      <td>141.0</td>\n",
              "      <td>0.0</td>\n",
              "      <td>0.0</td>\n",
              "      <td>131.0</td>\n",
              "      <td>130.0</td>\n",
              "      <td>132.0</td>\n",
              "      <td>1.0</td>\n",
              "      <td>0.0</td>\n",
              "    </tr>\n",
              "    <tr>\n",
              "      <th>1808</th>\n",
              "      <td>143.0</td>\n",
              "      <td>0.0</td>\n",
              "      <td>0.0</td>\n",
              "      <td>1.0</td>\n",
              "      <td>0.0</td>\n",
              "      <td>0.0</td>\n",
              "      <td>0.0</td>\n",
              "      <td>69.0</td>\n",
              "      <td>0.3</td>\n",
              "      <td>6.0</td>\n",
              "      <td>...</td>\n",
              "      <td>27.0</td>\n",
              "      <td>132.0</td>\n",
              "      <td>159.0</td>\n",
              "      <td>1.0</td>\n",
              "      <td>0.0</td>\n",
              "      <td>145.0</td>\n",
              "      <td>144.0</td>\n",
              "      <td>146.0</td>\n",
              "      <td>1.0</td>\n",
              "      <td>0.0</td>\n",
              "    </tr>\n",
              "    <tr>\n",
              "      <th>825</th>\n",
              "      <td>152.0</td>\n",
              "      <td>0.0</td>\n",
              "      <td>0.0</td>\n",
              "      <td>4.0</td>\n",
              "      <td>0.0</td>\n",
              "      <td>0.0</td>\n",
              "      <td>0.0</td>\n",
              "      <td>62.0</td>\n",
              "      <td>0.4</td>\n",
              "      <td>59.0</td>\n",
              "      <td>...</td>\n",
              "      <td>25.0</td>\n",
              "      <td>136.0</td>\n",
              "      <td>161.0</td>\n",
              "      <td>0.0</td>\n",
              "      <td>0.0</td>\n",
              "      <td>159.0</td>\n",
              "      <td>156.0</td>\n",
              "      <td>158.0</td>\n",
              "      <td>1.0</td>\n",
              "      <td>1.0</td>\n",
              "    </tr>\n",
              "  </tbody>\n",
              "</table>\n",
              "<p>5 rows × 21 columns</p>\n",
              "</div>\n",
              "      <button class=\"colab-df-convert\" onclick=\"convertToInteractive('df-c4916ed1-b769-40fe-8073-7d02f8f4d7c7')\"\n",
              "              title=\"Convert this dataframe to an interactive table.\"\n",
              "              style=\"display:none;\">\n",
              "        \n",
              "  <svg xmlns=\"http://www.w3.org/2000/svg\" height=\"24px\"viewBox=\"0 0 24 24\"\n",
              "       width=\"24px\">\n",
              "    <path d=\"M0 0h24v24H0V0z\" fill=\"none\"/>\n",
              "    <path d=\"M18.56 5.44l.94 2.06.94-2.06 2.06-.94-2.06-.94-.94-2.06-.94 2.06-2.06.94zm-11 1L8.5 8.5l.94-2.06 2.06-.94-2.06-.94L8.5 2.5l-.94 2.06-2.06.94zm10 10l.94 2.06.94-2.06 2.06-.94-2.06-.94-.94-2.06-.94 2.06-2.06.94z\"/><path d=\"M17.41 7.96l-1.37-1.37c-.4-.4-.92-.59-1.43-.59-.52 0-1.04.2-1.43.59L10.3 9.45l-7.72 7.72c-.78.78-.78 2.05 0 2.83L4 21.41c.39.39.9.59 1.41.59.51 0 1.02-.2 1.41-.59l7.78-7.78 2.81-2.81c.8-.78.8-2.07 0-2.86zM5.41 20L4 18.59l7.72-7.72 1.47 1.35L5.41 20z\"/>\n",
              "  </svg>\n",
              "      </button>\n",
              "      \n",
              "  <style>\n",
              "    .colab-df-container {\n",
              "      display:flex;\n",
              "      flex-wrap:wrap;\n",
              "      gap: 12px;\n",
              "    }\n",
              "\n",
              "    .colab-df-convert {\n",
              "      background-color: #E8F0FE;\n",
              "      border: none;\n",
              "      border-radius: 50%;\n",
              "      cursor: pointer;\n",
              "      display: none;\n",
              "      fill: #1967D2;\n",
              "      height: 32px;\n",
              "      padding: 0 0 0 0;\n",
              "      width: 32px;\n",
              "    }\n",
              "\n",
              "    .colab-df-convert:hover {\n",
              "      background-color: #E2EBFA;\n",
              "      box-shadow: 0px 1px 2px rgba(60, 64, 67, 0.3), 0px 1px 3px 1px rgba(60, 64, 67, 0.15);\n",
              "      fill: #174EA6;\n",
              "    }\n",
              "\n",
              "    [theme=dark] .colab-df-convert {\n",
              "      background-color: #3B4455;\n",
              "      fill: #D2E3FC;\n",
              "    }\n",
              "\n",
              "    [theme=dark] .colab-df-convert:hover {\n",
              "      background-color: #434B5C;\n",
              "      box-shadow: 0px 1px 3px 1px rgba(0, 0, 0, 0.15);\n",
              "      filter: drop-shadow(0px 1px 2px rgba(0, 0, 0, 0.3));\n",
              "      fill: #FFFFFF;\n",
              "    }\n",
              "  </style>\n",
              "\n",
              "      <script>\n",
              "        const buttonEl =\n",
              "          document.querySelector('#df-c4916ed1-b769-40fe-8073-7d02f8f4d7c7 button.colab-df-convert');\n",
              "        buttonEl.style.display =\n",
              "          google.colab.kernel.accessAllowed ? 'block' : 'none';\n",
              "\n",
              "        async function convertToInteractive(key) {\n",
              "          const element = document.querySelector('#df-c4916ed1-b769-40fe-8073-7d02f8f4d7c7');\n",
              "          const dataTable =\n",
              "            await google.colab.kernel.invokeFunction('convertToInteractive',\n",
              "                                                     [key], {});\n",
              "          if (!dataTable) return;\n",
              "\n",
              "          const docLinkHtml = 'Like what you see? Visit the ' +\n",
              "            '<a target=\"_blank\" href=https://colab.research.google.com/notebooks/data_table.ipynb>data table notebook</a>'\n",
              "            + ' to learn more about interactive tables.';\n",
              "          element.innerHTML = '';\n",
              "          dataTable['output_type'] = 'display_data';\n",
              "          await google.colab.output.renderOutput(dataTable, element);\n",
              "          const docLink = document.createElement('div');\n",
              "          docLink.innerHTML = docLinkHtml;\n",
              "          element.appendChild(docLink);\n",
              "        }\n",
              "      </script>\n",
              "    </div>\n",
              "  </div>\n",
              "  "
            ]
          },
          "metadata": {},
          "execution_count": 3
        }
      ]
    },
    {
      "cell_type": "markdown",
      "source": [
        "### Step 2. Training the baseline classifier"
      ],
      "metadata": {
        "id": "qR4onUZOQIhT"
      }
    },
    {
      "cell_type": "code",
      "source": [
        "from sklearn.dummy import DummyClassifier\n",
        "\n",
        "clf = DummyClassifier(strategy='most_frequent')\n",
        "clf"
      ],
      "metadata": {
        "id": "1DNZoEhBQNC6",
        "colab": {
          "base_uri": "https://localhost:8080/"
        },
        "outputId": "8dd29e67-bd70-4e0e-dcc0-441f79f6c099"
      },
      "execution_count": 4,
      "outputs": [
        {
          "output_type": "execute_result",
          "data": {
            "text/plain": [
              "DummyClassifier(strategy='most_frequent')"
            ]
          },
          "metadata": {},
          "execution_count": 4
        }
      ]
    },
    {
      "cell_type": "code",
      "source": [
        "from sklearn.model_selection import cross_val_score\n",
        "\n",
        "baseline_scores = cross_val_score(clf, Xtrain, Ytrain)\n",
        "baseline_scores"
      ],
      "metadata": {
        "colab": {
          "base_uri": "https://localhost:8080/"
        },
        "id": "gTbYCKgwnYLQ",
        "outputId": "c43cca61-7c50-4efb-ebb8-5e21a2dec362"
      },
      "execution_count": 5,
      "outputs": [
        {
          "output_type": "execute_result",
          "data": {
            "text/plain": [
              "array([0.78235294, 0.78235294, 0.77941176, 0.77941176, 0.77941176])"
            ]
          },
          "metadata": {},
          "execution_count": 5
        }
      ]
    },
    {
      "cell_type": "markdown",
      "source": [
        "> The result is a NumPy array that contains the accuracies on the different folds in the cross-validation. Aggregate these scores so that you get a single score that you can use to compare different classifiers.\n",
        "\n",
        "In order to obtain a single score, I simply average the results of the 5 folds returned from the cross-validation."
      ],
      "metadata": {
        "id": "dhRsJVcsnf6b"
      }
    },
    {
      "cell_type": "code",
      "source": [
        "from sklearn.metrics import accuracy_score\n",
        "\n",
        "def aggregate_scores(scores):\n",
        "    return scores.mean()\n",
        "\n",
        "baseline_score = aggregate_scores(baseline_scores)\n",
        "baseline_score"
      ],
      "metadata": {
        "colab": {
          "base_uri": "https://localhost:8080/"
        },
        "id": "fkkim0fLng9s",
        "outputId": "402c8c6d-d459-4a53-ff75-80c4760fce78"
      },
      "execution_count": 16,
      "outputs": [
        {
          "output_type": "execute_result",
          "data": {
            "text/plain": [
              "0.7805882352941176"
            ]
          },
          "metadata": {},
          "execution_count": 16
        }
      ]
    },
    {
      "cell_type": "markdown",
      "source": [
        "### Step 3. Trying out some different classifiers\n",
        "\n",
        "First I import the tested classifiers."
      ],
      "metadata": {
        "id": "6z5ZE0rMQNfS"
      }
    },
    {
      "cell_type": "code",
      "source": [
        "# Tree-based classifiers\n",
        "from sklearn.tree import DecisionTreeClassifier\n",
        "from sklearn.ensemble import RandomForestClassifier\n",
        "from sklearn.ensemble import GradientBoostingClassifier\n",
        "# Linear classifiers\n",
        "from sklearn.linear_model import Perceptron\n",
        "from sklearn.linear_model import LogisticRegression\n",
        "from sklearn.svm import LinearSVC\n",
        "# Neural network classifier (will take longer time to train)\n",
        "from sklearn.neural_network import MLPClassifier"
      ],
      "metadata": {
        "id": "TvkvzE1oQPwt"
      },
      "execution_count": null,
      "outputs": []
    },
    {
      "cell_type": "markdown",
      "source": [
        "Since I don't have much experience with some of the proposed classifiers, I left most of the parameters at their default value."
      ],
      "metadata": {
        "id": "F_C-pMtyf_8H"
      }
    },
    {
      "cell_type": "code",
      "source": [
        "models = {\n",
        "    'Baseline' : DummyClassifier(strategy='most_frequent'),\n",
        "    'DecisionTreeClassifier' : DecisionTreeClassifier(max_depth=None), # None: till necessary\n",
        "    'RandomForestClassifier' : RandomForestClassifier(n_estimators=256), # 100\n",
        "    'GradientBoostingClassifier' : GradientBoostingClassifier(n_estimators=128, max_leaf_nodes=8),\n",
        "    'LogisticRegression' : LogisticRegression(solver='saga', max_iter=2000, tol=0.1, C=5.5),\n",
        "    'Perceptron' : Perceptron(early_stopping=True, tol=0.01),\n",
        "    'LinearSVC' : LinearSVC(dual=False, max_iter=2000, tol=0.0001, C=2.),\n",
        "    'MLPClassifier' : MLPClassifier(hidden_layer_sizes=(128, 64, 64, ), learning_rate_init=0.01, batch_size=128, max_iter=500),\n",
        "}\n",
        "\n",
        "scores = {}\n",
        "\n",
        "for model_type in models.keys():\n",
        "    model = models[model_type]\n",
        "    score = aggregate_scores(cross_val_score(model, Xtrain, Ytrain))\n",
        "    scores[model_type] = score\n",
        "    print(f'INFO. Model {model_type} aggregated score: {score:.4f}')\n",
        "\n",
        "best_model_type = max(scores, key=scores.get)\n",
        "print('=' * 80)\n",
        "print(f'INFO. Best Model is {best_model_type} with score: {scores[best_model_type]:.4f}')"
      ],
      "metadata": {
        "colab": {
          "base_uri": "https://localhost:8080/"
        },
        "id": "x_dhPou3tVoj",
        "outputId": "b129aefe-c100-421b-ac9f-5c616a00706a"
      },
      "execution_count": null,
      "outputs": [
        {
          "output_type": "stream",
          "name": "stdout",
          "text": [
            "INFO. Model Baseline aggregated score: 0.7806\n",
            "INFO. Model DecisionTreeClassifier aggregated score: 0.9235\n",
            "INFO. Model RandomForestClassifier aggregated score: 0.9406\n",
            "INFO. Model GradientBoostingClassifier aggregated score: 0.9506\n",
            "INFO. Model LogisticRegression aggregated score: 0.8406\n",
            "INFO. Model Perceptron aggregated score: 0.8294\n",
            "INFO. Model LinearSVC aggregated score: 0.8971\n",
            "INFO. Model MLPClassifier aggregated score: 0.8829\n",
            "================================================================================\n",
            "INFO. Best Model is GradientBoostingClassifier with score: 0.9506\n"
          ]
        }
      ]
    },
    {
      "cell_type": "code",
      "source": [
        "import matplotlib.pyplot as plt\n",
        "\n",
        "linspace = [x for x in range(len(models.keys()))]\n",
        "plt.bar(linspace, scores.values())\n",
        "plt.xticks(linspace, [f'{m}' for m in models.keys()], rotation=90)\n",
        "plt.grid(which='both', axis='y', alpha=0.7, zorder=1)\n",
        "plt.ylabel('Accuracy')\n",
        "plt.show()"
      ],
      "metadata": {
        "colab": {
          "base_uri": "https://localhost:8080/",
          "height": 497
        },
        "id": "TEboaKycPlHz",
        "outputId": "e5b411f7-40e6-4d4b-9f37-ff99772dea1c"
      },
      "execution_count": null,
      "outputs": [
        {
          "output_type": "display_data",
          "data": {
            "text/plain": [
              "<Figure size 432x288 with 1 Axes>"
            ],
            "image/svg+xml": "<?xml version=\"1.0\" encoding=\"utf-8\" standalone=\"no\"?>\n<!DOCTYPE svg PUBLIC \"-//W3C//DTD SVG 1.1//EN\"\n  \"http://www.w3.org/Graphics/SVG/1.1/DTD/svg11.dtd\">\n<!-- Created with matplotlib (https://matplotlib.org/) -->\n<svg height=\"357.222812pt\" version=\"1.1\" viewBox=\"0 0 384.354062 357.222812\" width=\"384.354062pt\" xmlns=\"http://www.w3.org/2000/svg\" xmlns:xlink=\"http://www.w3.org/1999/xlink\">\n <defs>\n  <style type=\"text/css\">\n*{stroke-linecap:butt;stroke-linejoin:round;}\n  </style>\n </defs>\n <g id=\"figure_1\">\n  <g id=\"patch_1\">\n   <path d=\"M 0 357.222812 \nL 384.354062 357.222812 \nL 384.354062 0 \nL 0 0 \nz\n\" style=\"fill:none;\"/>\n  </g>\n  <g id=\"axes_1\">\n   <g id=\"patch_2\">\n    <path d=\"M 42.354063 224.64 \nL 377.154063 224.64 \nL 377.154063 7.2 \nL 42.354063 7.2 \nz\n\" style=\"fill:#eaeaf2;\"/>\n   </g>\n   <g id=\"matplotlib.axis_1\">\n    <g id=\"xtick_1\">\n     <g id=\"line2d_1\">\n      <path clip-path=\"url(#p22af94317a)\" d=\"M 73.180636 224.64 \nL 73.180636 7.2 \n\" style=\"fill:none;stroke:#ffffff;stroke-linecap:round;\"/>\n     </g>\n     <g id=\"line2d_2\"/>\n     <g id=\"text_1\">\n      <!-- Baseline -->\n      <defs>\n       <path d=\"M 61.421875 19.390625 \nQ 61.421875 14.15625 59.375 10.46875 \nQ 57.328125 6.78125 53.859375 4.46875 \nQ 50.390625 2.15625 45.796875 1.078125 \nQ 41.21875 0 36.140625 0 \nL 8.203125 0 \nL 8.203125 68.796875 \nL 33.203125 68.796875 \nQ 38.921875 68.796875 43.40625 67.84375 \nQ 47.90625 66.890625 51.03125 64.84375 \nQ 54.15625 62.796875 55.78125 59.640625 \nQ 57.421875 56.5 57.421875 52.09375 \nQ 57.421875 49.21875 56.609375 46.671875 \nQ 55.8125 44.140625 54.171875 42.0625 \nQ 52.546875 39.984375 50.078125 38.5 \nQ 47.609375 37.015625 44.34375 36.28125 \nQ 48.484375 35.796875 51.6875 34.375 \nQ 54.890625 32.953125 57.03125 30.75 \nQ 59.1875 28.5625 60.296875 25.65625 \nQ 61.421875 22.75 61.421875 19.390625 \nz\nM 48.046875 50.984375 \nQ 48.046875 56.546875 44.234375 58.9375 \nQ 40.4375 61.328125 33.203125 61.328125 \nL 17.53125 61.328125 \nL 17.53125 39.546875 \nL 33.203125 39.546875 \nQ 37.3125 39.546875 40.140625 40.34375 \nQ 42.96875 41.15625 44.71875 42.640625 \nQ 46.484375 44.140625 47.265625 46.234375 \nQ 48.046875 48.34375 48.046875 50.984375 \nz\nM 52 20.125 \nQ 52 23.390625 50.796875 25.6875 \nQ 49.609375 27.984375 47.359375 29.4375 \nQ 45.125 30.90625 41.96875 31.59375 \nQ 38.8125 32.28125 34.90625 32.28125 \nL 17.53125 32.28125 \nL 17.53125 7.46875 \nL 35.640625 7.46875 \nQ 39.203125 7.46875 42.203125 8.046875 \nQ 45.21875 8.640625 47.390625 10.109375 \nQ 49.5625 11.578125 50.78125 14.015625 \nQ 52 16.453125 52 20.125 \nz\n\" id=\"LiberationSans-66\"/>\n       <path d=\"M 20.21875 -0.984375 \nQ 12.25 -0.984375 8.25 3.21875 \nQ 4.25 7.421875 4.25 14.75 \nQ 4.25 19.96875 6.21875 23.3125 \nQ 8.203125 26.65625 11.390625 28.5625 \nQ 14.59375 30.46875 18.6875 31.203125 \nQ 22.796875 31.9375 27.046875 32.03125 \nL 38.921875 32.234375 \nL 38.921875 35.109375 \nQ 38.921875 38.375 38.234375 40.671875 \nQ 37.546875 42.96875 36.125 44.375 \nQ 34.71875 45.796875 32.59375 46.453125 \nQ 30.46875 47.125 27.59375 47.125 \nQ 25.046875 47.125 23 46.75 \nQ 20.953125 46.390625 19.4375 45.4375 \nQ 17.921875 44.484375 16.984375 42.84375 \nQ 16.0625 41.21875 15.765625 38.71875 \nL 6.59375 39.546875 \nQ 7.078125 42.671875 8.4375 45.28125 \nQ 9.8125 47.90625 12.328125 49.796875 \nQ 14.84375 51.703125 18.625 52.75 \nQ 22.40625 53.8125 27.78125 53.8125 \nQ 37.75 53.8125 42.765625 49.234375 \nQ 47.796875 44.671875 47.796875 36.03125 \nL 47.796875 13.28125 \nQ 47.796875 9.375 48.828125 7.390625 \nQ 49.859375 5.421875 52.734375 5.421875 \nQ 53.46875 5.421875 54.203125 5.515625 \nQ 54.9375 5.609375 55.609375 5.765625 \nL 55.609375 0.296875 \nQ 53.953125 -0.09375 52.3125 -0.28125 \nQ 50.6875 -0.484375 48.828125 -0.484375 \nQ 46.34375 -0.484375 44.5625 0.171875 \nQ 42.78125 0.828125 41.65625 2.171875 \nQ 40.53125 3.515625 39.9375 5.484375 \nQ 39.359375 7.46875 39.203125 10.109375 \nL 38.921875 10.109375 \nQ 37.5 7.5625 35.8125 5.515625 \nQ 34.125 3.46875 31.875 2.03125 \nQ 29.640625 0.59375 26.78125 -0.1875 \nQ 23.921875 -0.984375 20.21875 -0.984375 \nz\nM 22.21875 5.609375 \nQ 26.421875 5.609375 29.5625 7.140625 \nQ 32.71875 8.6875 34.78125 11.078125 \nQ 36.859375 13.484375 37.890625 16.3125 \nQ 38.921875 19.140625 38.921875 21.734375 \nL 38.921875 26.078125 \nL 29.296875 25.875 \nQ 26.078125 25.828125 23.171875 25.40625 \nQ 20.265625 25 18.0625 23.78125 \nQ 15.875 22.5625 14.578125 20.359375 \nQ 13.28125 18.171875 13.28125 14.59375 \nQ 13.28125 10.296875 15.59375 7.953125 \nQ 17.921875 5.609375 22.21875 5.609375 \nz\n\" id=\"LiberationSans-97\"/>\n       <path d=\"M 46.390625 14.59375 \nQ 46.390625 10.890625 44.9375 7.984375 \nQ 43.5 5.078125 40.765625 3.09375 \nQ 38.03125 1.125 34.046875 0.0625 \nQ 30.078125 -0.984375 24.953125 -0.984375 \nQ 20.359375 -0.984375 16.671875 -0.265625 \nQ 12.984375 0.4375 10.203125 2 \nQ 7.421875 3.5625 5.53125 6.125 \nQ 3.65625 8.6875 2.78125 12.40625 \nL 10.546875 13.921875 \nQ 11.671875 9.671875 15.1875 7.6875 \nQ 18.703125 5.71875 24.953125 5.71875 \nQ 27.78125 5.71875 30.140625 6.109375 \nQ 32.515625 6.5 34.21875 7.453125 \nQ 35.9375 8.40625 36.890625 9.984375 \nQ 37.84375 11.578125 37.84375 13.921875 \nQ 37.84375 16.3125 36.71875 17.84375 \nQ 35.59375 19.390625 33.59375 20.40625 \nQ 31.59375 21.4375 28.734375 22.1875 \nQ 25.875 22.953125 22.46875 23.875 \nQ 19.28125 24.703125 16.15625 25.734375 \nQ 13.03125 26.765625 10.515625 28.4375 \nQ 8.015625 30.125 6.453125 32.609375 \nQ 4.890625 35.109375 4.890625 38.875 \nQ 4.890625 46.09375 10.03125 49.875 \nQ 15.1875 53.65625 25.046875 53.65625 \nQ 33.796875 53.65625 38.9375 50.578125 \nQ 44.09375 47.515625 45.453125 40.71875 \nL 37.546875 39.75 \nQ 37.109375 41.796875 35.9375 43.1875 \nQ 34.765625 44.578125 33.109375 45.4375 \nQ 31.453125 46.296875 29.375 46.65625 \nQ 27.296875 47.015625 25.046875 47.015625 \nQ 19.09375 47.015625 16.25 45.203125 \nQ 13.421875 43.40625 13.421875 39.75 \nQ 13.421875 37.59375 14.46875 36.203125 \nQ 15.53125 34.8125 17.40625 33.859375 \nQ 19.28125 32.90625 21.921875 32.203125 \nQ 24.5625 31.5 27.734375 30.71875 \nQ 29.828125 30.171875 32.03125 29.5625 \nQ 34.234375 28.953125 36.296875 28.09375 \nQ 38.375 27.25 40.203125 26.09375 \nQ 42.046875 24.953125 43.40625 23.34375 \nQ 44.78125 21.734375 45.578125 19.578125 \nQ 46.390625 17.4375 46.390625 14.59375 \nz\n\" id=\"LiberationSans-115\"/>\n       <path d=\"M 13.484375 24.5625 \nQ 13.484375 20.40625 14.328125 16.90625 \nQ 15.1875 13.421875 16.96875 10.90625 \nQ 18.75 8.40625 21.53125 7 \nQ 24.3125 5.609375 28.21875 5.609375 \nQ 33.9375 5.609375 37.375 7.90625 \nQ 40.828125 10.203125 42.046875 13.71875 \nL 49.75 11.53125 \nQ 48.921875 9.328125 47.4375 7.109375 \nQ 45.953125 4.890625 43.453125 3.09375 \nQ 40.96875 1.3125 37.234375 0.15625 \nQ 33.5 -0.984375 28.21875 -0.984375 \nQ 16.5 -0.984375 10.375 6 \nQ 4.25 12.984375 4.25 26.765625 \nQ 4.25 34.1875 6.09375 39.328125 \nQ 7.953125 44.484375 11.171875 47.703125 \nQ 14.40625 50.921875 18.703125 52.359375 \nQ 23 53.8125 27.875 53.8125 \nQ 34.515625 53.8125 38.984375 51.65625 \nQ 43.453125 49.515625 46.15625 45.71875 \nQ 48.875 41.9375 50.015625 36.8125 \nQ 51.171875 31.6875 51.171875 25.734375 \nL 51.171875 24.5625 \nz\nM 42.09375 31.296875 \nQ 41.359375 39.65625 37.84375 43.484375 \nQ 34.328125 47.3125 27.734375 47.3125 \nQ 25.53125 47.3125 23.109375 46.609375 \nQ 20.703125 45.90625 18.65625 44.09375 \nQ 16.609375 42.28125 15.1875 39.171875 \nQ 13.765625 36.078125 13.578125 31.296875 \nz\n\" id=\"LiberationSans-101\"/>\n       <path d=\"M 6.734375 0 \nL 6.734375 72.46875 \nL 15.53125 72.46875 \nL 15.53125 0 \nz\n\" id=\"LiberationSans-108\"/>\n       <path d=\"M 6.6875 64.0625 \nL 6.6875 72.46875 \nL 15.484375 72.46875 \nL 15.484375 64.0625 \nz\nM 6.6875 0 \nL 6.6875 52.828125 \nL 15.484375 52.828125 \nL 15.484375 0 \nz\n\" id=\"LiberationSans-105\"/>\n       <path d=\"M 40.28125 0 \nL 40.28125 33.5 \nQ 40.28125 37.359375 39.71875 39.9375 \nQ 39.15625 42.53125 37.890625 44.109375 \nQ 36.625 45.703125 34.546875 46.359375 \nQ 32.46875 47.015625 29.390625 47.015625 \nQ 26.265625 47.015625 23.75 45.921875 \nQ 21.234375 44.828125 19.453125 42.75 \nQ 17.671875 40.671875 16.6875 37.625 \nQ 15.71875 34.578125 15.71875 30.609375 \nL 15.71875 0 \nL 6.9375 0 \nL 6.9375 41.546875 \nQ 6.9375 43.21875 6.90625 45.046875 \nQ 6.890625 46.875 6.828125 48.5 \nQ 6.78125 50.140625 6.734375 51.3125 \nQ 6.6875 52.484375 6.640625 52.828125 \nL 14.9375 52.828125 \nQ 14.984375 52.59375 15.03125 51.515625 \nQ 15.09375 50.4375 15.15625 49.046875 \nQ 15.234375 47.65625 15.28125 46.21875 \nQ 15.328125 44.78125 15.328125 43.796875 \nL 15.484375 43.796875 \nQ 16.75 46.09375 18.265625 47.953125 \nQ 19.78125 49.8125 21.78125 51.09375 \nQ 23.78125 52.390625 26.359375 53.09375 \nQ 28.953125 53.8125 32.375 53.8125 \nQ 36.765625 53.8125 39.9375 52.734375 \nQ 43.109375 51.65625 45.15625 49.40625 \nQ 47.21875 47.171875 48.171875 43.625 \nQ 49.125 40.09375 49.125 35.203125 \nL 49.125 0 \nz\n\" id=\"LiberationSans-110\"/>\n      </defs>\n      <g style=\"fill:#262626;\" transform=\"translate(75.766573 269.997812)rotate(-90)scale(0.1 -0.1)\">\n       <use xlink:href=\"#LiberationSans-66\"/>\n       <use x=\"66.699219\" xlink:href=\"#LiberationSans-97\"/>\n       <use x=\"122.314453\" xlink:href=\"#LiberationSans-115\"/>\n       <use x=\"172.314453\" xlink:href=\"#LiberationSans-101\"/>\n       <use x=\"227.929688\" xlink:href=\"#LiberationSans-108\"/>\n       <use x=\"250.146484\" xlink:href=\"#LiberationSans-105\"/>\n       <use x=\"272.363281\" xlink:href=\"#LiberationSans-110\"/>\n       <use x=\"327.978516\" xlink:href=\"#LiberationSans-101\"/>\n      </g>\n     </g>\n    </g>\n    <g id=\"xtick_2\">\n     <g id=\"line2d_3\">\n      <path clip-path=\"url(#p22af94317a)\" d=\"M 112.201615 224.64 \nL 112.201615 7.2 \n\" style=\"fill:none;stroke:#ffffff;stroke-linecap:round;\"/>\n     </g>\n     <g id=\"line2d_4\"/>\n     <g id=\"text_2\">\n      <!-- DecisionTreeClassifier -->\n      <defs>\n       <path d=\"M 67.4375 35.109375 \nQ 67.4375 26.515625 64.84375 19.9375 \nQ 62.25 13.375 57.75 8.953125 \nQ 53.265625 4.546875 47.140625 2.265625 \nQ 41.015625 0 33.9375 0 \nL 8.203125 0 \nL 8.203125 68.796875 \nL 30.953125 68.796875 \nQ 38.921875 68.796875 45.625 66.8125 \nQ 52.34375 64.84375 57.171875 60.71875 \nQ 62.015625 56.59375 64.71875 50.234375 \nQ 67.4375 43.890625 67.4375 35.109375 \nz\nM 58.0625 35.109375 \nQ 58.0625 42.09375 56.046875 47.046875 \nQ 54.046875 52 50.4375 55.171875 \nQ 46.828125 58.34375 41.796875 59.828125 \nQ 36.765625 61.328125 30.765625 61.328125 \nL 17.53125 61.328125 \nL 17.53125 7.46875 \nL 32.859375 7.46875 \nQ 38.28125 7.46875 42.890625 9.21875 \nQ 47.515625 10.984375 50.875 14.453125 \nQ 54.25 17.921875 56.15625 23.09375 \nQ 58.0625 28.265625 58.0625 35.109375 \nz\n\" id=\"LiberationSans-68\"/>\n       <path d=\"M 13.421875 26.65625 \nQ 13.421875 22.125 14.078125 18.3125 \nQ 14.75 14.5 16.3125 11.734375 \nQ 17.875 8.984375 20.4375 7.46875 \nQ 23 5.953125 26.765625 5.953125 \nQ 31.453125 5.953125 34.59375 8.484375 \nQ 37.75 11.03125 38.484375 16.3125 \nL 47.359375 15.71875 \nQ 46.921875 12.453125 45.453125 9.421875 \nQ 44 6.390625 41.484375 4.09375 \nQ 38.96875 1.8125 35.34375 0.40625 \nQ 31.734375 -0.984375 27 -0.984375 \nQ 20.796875 -0.984375 16.453125 1.109375 \nQ 12.109375 3.21875 9.390625 6.90625 \nQ 6.6875 10.59375 5.46875 15.59375 \nQ 4.25 20.609375 4.25 26.46875 \nQ 4.25 31.78125 5.125 35.859375 \nQ 6 39.9375 7.59375 42.984375 \nQ 9.1875 46.046875 11.328125 48.125 \nQ 13.484375 50.203125 15.984375 51.4375 \nQ 18.5 52.6875 21.28125 53.25 \nQ 24.078125 53.8125 26.90625 53.8125 \nQ 31.34375 53.8125 34.8125 52.59375 \nQ 38.28125 51.375 40.796875 49.25 \nQ 43.3125 47.125 44.875 44.234375 \nQ 46.4375 41.359375 47.078125 38.03125 \nL 38.03125 37.359375 \nQ 37.359375 41.75 34.5625 44.328125 \nQ 31.78125 46.921875 26.65625 46.921875 \nQ 22.90625 46.921875 20.390625 45.671875 \nQ 17.875 44.4375 16.3125 41.921875 \nQ 14.75 39.40625 14.078125 35.59375 \nQ 13.421875 31.78125 13.421875 26.65625 \nz\n\" id=\"LiberationSans-99\"/>\n       <path d=\"M 51.421875 26.46875 \nQ 51.421875 12.59375 45.3125 5.796875 \nQ 39.203125 -0.984375 27.59375 -0.984375 \nQ 22.078125 -0.984375 17.71875 0.671875 \nQ 13.375 2.34375 10.375 5.765625 \nQ 7.375 9.1875 5.78125 14.328125 \nQ 4.203125 19.484375 4.203125 26.46875 \nQ 4.203125 53.8125 27.875 53.8125 \nQ 34.03125 53.8125 38.5 52.09375 \nQ 42.96875 50.390625 45.828125 46.96875 \nQ 48.6875 43.5625 50.046875 38.421875 \nQ 51.421875 33.296875 51.421875 26.46875 \nz\nM 42.1875 26.46875 \nQ 42.1875 32.625 41.234375 36.625 \nQ 40.28125 40.625 38.453125 43.015625 \nQ 36.625 45.40625 33.984375 46.359375 \nQ 31.34375 47.3125 28.03125 47.3125 \nQ 24.65625 47.3125 21.9375 46.3125 \nQ 19.234375 45.3125 17.328125 42.890625 \nQ 15.4375 40.484375 14.421875 36.46875 \nQ 13.421875 32.46875 13.421875 26.46875 \nQ 13.421875 20.3125 14.5 16.28125 \nQ 15.578125 12.25 17.453125 9.859375 \nQ 19.34375 7.46875 21.90625 6.484375 \nQ 24.46875 5.515625 27.484375 5.515625 \nQ 30.859375 5.515625 33.59375 6.46875 \nQ 36.328125 7.421875 38.234375 9.8125 \nQ 40.140625 12.203125 41.15625 16.25 \nQ 42.1875 20.3125 42.1875 26.46875 \nz\n\" id=\"LiberationSans-111\"/>\n       <path d=\"M 35.15625 61.1875 \nL 35.15625 0 \nL 25.875 0 \nL 25.875 61.1875 \nL 2.25 61.1875 \nL 2.25 68.796875 \nL 58.796875 68.796875 \nL 58.796875 61.1875 \nz\n\" id=\"LiberationSans-84\"/>\n       <path d=\"M 6.9375 0 \nL 6.9375 40.53125 \nQ 6.9375 42.1875 6.90625 43.921875 \nQ 6.890625 45.65625 6.828125 47.265625 \nQ 6.78125 48.875 6.734375 50.28125 \nQ 6.6875 51.703125 6.640625 52.828125 \nL 14.9375 52.828125 \nQ 14.984375 51.703125 15.0625 50.265625 \nQ 15.140625 48.828125 15.203125 47.3125 \nQ 15.28125 45.796875 15.296875 44.40625 \nQ 15.328125 43.015625 15.328125 42.046875 \nL 15.53125 42.046875 \nQ 16.453125 45.0625 17.5 47.28125 \nQ 18.5625 49.515625 19.96875 50.953125 \nQ 21.390625 52.390625 23.34375 53.09375 \nQ 25.296875 53.8125 28.078125 53.8125 \nQ 29.15625 53.8125 30.125 53.640625 \nQ 31.109375 53.46875 31.640625 53.328125 \nL 31.640625 45.265625 \nQ 30.765625 45.515625 29.59375 45.625 \nQ 28.421875 45.75 26.953125 45.75 \nQ 23.921875 45.75 21.796875 44.375 \nQ 19.671875 43.015625 18.328125 40.59375 \nQ 17 38.1875 16.359375 34.84375 \nQ 15.71875 31.5 15.71875 27.546875 \nL 15.71875 0 \nz\n\" id=\"LiberationSans-114\"/>\n       <path d=\"M 38.671875 62.203125 \nQ 32.8125 62.203125 28.296875 60.25 \nQ 23.78125 58.296875 20.71875 54.6875 \nQ 17.671875 51.078125 16.109375 46 \nQ 14.546875 40.921875 14.546875 34.71875 \nQ 14.546875 28.515625 16.234375 23.359375 \nQ 17.921875 18.21875 21.0625 14.5 \nQ 24.21875 10.796875 28.78125 8.734375 \nQ 33.34375 6.6875 39.0625 6.6875 \nQ 43.0625 6.6875 46.359375 7.734375 \nQ 49.65625 8.796875 52.3125 10.6875 \nQ 54.984375 12.59375 57.078125 15.203125 \nQ 59.1875 17.828125 60.796875 21 \nL 68.40625 17.1875 \nQ 66.546875 13.328125 63.8125 10 \nQ 61.078125 6.6875 57.390625 4.25 \nQ 53.71875 1.8125 49.046875 0.40625 \nQ 44.390625 -0.984375 38.625 -0.984375 \nQ 30.28125 -0.984375 24 1.671875 \nQ 17.71875 4.34375 13.5 9.109375 \nQ 9.28125 13.875 7.171875 20.40625 \nQ 5.078125 26.953125 5.078125 34.71875 \nQ 5.078125 42.78125 7.296875 49.265625 \nQ 9.515625 55.765625 13.78125 60.328125 \nQ 18.0625 64.890625 24.3125 67.359375 \nQ 30.5625 69.828125 38.578125 69.828125 \nQ 49.5625 69.828125 56.9375 65.53125 \nQ 64.3125 61.234375 67.78125 52.78125 \nL 58.9375 49.859375 \nQ 57.953125 52.296875 56.296875 54.515625 \nQ 54.640625 56.734375 52.140625 58.4375 \nQ 49.65625 60.15625 46.3125 61.171875 \nQ 42.96875 62.203125 38.671875 62.203125 \nz\n\" id=\"LiberationSans-67\"/>\n       <path d=\"M 17.625 46.4375 \nL 17.625 0 \nL 8.84375 0 \nL 8.84375 46.4375 \nL 1.421875 46.4375 \nL 1.421875 52.828125 \nL 8.84375 52.828125 \nL 8.84375 58.796875 \nQ 8.84375 61.671875 9.375 64.140625 \nQ 9.90625 66.609375 11.34375 68.4375 \nQ 12.796875 70.265625 15.28125 71.3125 \nQ 17.78125 72.359375 21.734375 72.359375 \nQ 23.296875 72.359375 24.96875 72.21875 \nQ 26.65625 72.078125 27.9375 71.78125 \nL 27.9375 65.09375 \nQ 27.09375 65.234375 26 65.359375 \nQ 24.90625 65.484375 24.03125 65.484375 \nQ 22.078125 65.484375 20.828125 64.9375 \nQ 19.578125 64.40625 18.875 63.40625 \nQ 18.171875 62.40625 17.890625 60.9375 \nQ 17.625 59.46875 17.625 57.5625 \nL 17.625 52.828125 \nL 27.9375 52.828125 \nL 27.9375 46.4375 \nz\n\" id=\"LiberationSans-102\"/>\n      </defs>\n      <g style=\"fill:#262626;\" transform=\"translate(114.787552 331.29)rotate(-90)scale(0.1 -0.1)\">\n       <use xlink:href=\"#LiberationSans-68\"/>\n       <use x=\"72.216797\" xlink:href=\"#LiberationSans-101\"/>\n       <use x=\"127.832031\" xlink:href=\"#LiberationSans-99\"/>\n       <use x=\"177.832031\" xlink:href=\"#LiberationSans-105\"/>\n       <use x=\"200.048828\" xlink:href=\"#LiberationSans-115\"/>\n       <use x=\"250.048828\" xlink:href=\"#LiberationSans-105\"/>\n       <use x=\"272.265625\" xlink:href=\"#LiberationSans-111\"/>\n       <use x=\"327.880859\" xlink:href=\"#LiberationSans-110\"/>\n       <use x=\"383.496094\" xlink:href=\"#LiberationSans-84\"/>\n       <use x=\"440.830078\" xlink:href=\"#LiberationSans-114\"/>\n       <use x=\"474.130859\" xlink:href=\"#LiberationSans-101\"/>\n       <use x=\"529.746094\" xlink:href=\"#LiberationSans-101\"/>\n       <use x=\"585.361328\" xlink:href=\"#LiberationSans-67\"/>\n       <use x=\"657.578125\" xlink:href=\"#LiberationSans-108\"/>\n       <use x=\"679.794922\" xlink:href=\"#LiberationSans-97\"/>\n       <use x=\"735.410156\" xlink:href=\"#LiberationSans-115\"/>\n       <use x=\"785.410156\" xlink:href=\"#LiberationSans-115\"/>\n       <use x=\"835.410156\" xlink:href=\"#LiberationSans-105\"/>\n       <use x=\"857.626953\" xlink:href=\"#LiberationSans-102\"/>\n       <use x=\"885.410156\" xlink:href=\"#LiberationSans-105\"/>\n       <use x=\"907.626953\" xlink:href=\"#LiberationSans-101\"/>\n       <use x=\"963.242188\" xlink:href=\"#LiberationSans-114\"/>\n      </g>\n     </g>\n    </g>\n    <g id=\"xtick_3\">\n     <g id=\"line2d_5\">\n      <path clip-path=\"url(#p22af94317a)\" d=\"M 151.222594 224.64 \nL 151.222594 7.2 \n\" style=\"fill:none;stroke:#ffffff;stroke-linecap:round;\"/>\n     </g>\n     <g id=\"line2d_6\"/>\n     <g id=\"text_3\">\n      <!-- RandomForestClassifier -->\n      <defs>\n       <path d=\"M 56.84375 0 \nL 38.96875 28.5625 \nL 17.53125 28.5625 \nL 17.53125 0 \nL 8.203125 0 \nL 8.203125 68.796875 \nL 40.578125 68.796875 \nQ 46.4375 68.796875 50.953125 67.453125 \nQ 55.46875 66.109375 58.546875 63.5625 \nQ 61.625 61.03125 63.234375 57.375 \nQ 64.84375 53.71875 64.84375 49.125 \nQ 64.84375 45.84375 63.890625 42.671875 \nQ 62.9375 39.5 60.890625 36.859375 \nQ 58.84375 34.234375 55.65625 32.328125 \nQ 52.484375 30.421875 48.046875 29.640625 \nL 67.578125 0 \nz\nM 55.46875 49.03125 \nQ 55.46875 52.15625 54.390625 54.4375 \nQ 53.328125 56.734375 51.265625 58.265625 \nQ 49.21875 59.8125 46.28125 60.5625 \nQ 43.359375 61.328125 39.65625 61.328125 \nL 17.53125 61.328125 \nL 17.53125 35.9375 \nL 40.046875 35.9375 \nQ 44.046875 35.9375 46.96875 36.9375 \nQ 49.90625 37.9375 51.78125 39.6875 \nQ 53.65625 41.453125 54.5625 43.84375 \nQ 55.46875 46.234375 55.46875 49.03125 \nz\n\" id=\"LiberationSans-82\"/>\n       <path d=\"M 40.09375 8.5 \nQ 37.640625 3.421875 33.609375 1.21875 \nQ 29.59375 -0.984375 23.640625 -0.984375 \nQ 13.625 -0.984375 8.90625 5.75 \nQ 4.203125 12.5 4.203125 26.171875 \nQ 4.203125 53.8125 23.640625 53.8125 \nQ 29.640625 53.8125 33.640625 51.609375 \nQ 37.640625 49.421875 40.09375 44.625 \nL 40.1875 44.625 \nQ 40.1875 45.125 40.15625 46.171875 \nQ 40.140625 47.21875 40.109375 48.359375 \nQ 40.09375 49.515625 40.09375 50.53125 \nQ 40.09375 51.5625 40.09375 52 \nL 40.09375 72.46875 \nL 48.875 72.46875 \nL 48.875 10.890625 \nQ 48.875 8.984375 48.890625 7.21875 \nQ 48.921875 5.46875 48.96875 4 \nQ 49.03125 2.546875 49.078125 1.484375 \nQ 49.125 0.4375 49.171875 0 \nL 40.765625 0 \nQ 40.671875 0.484375 40.59375 1.390625 \nQ 40.53125 2.296875 40.453125 3.46875 \nQ 40.375 4.640625 40.328125 5.9375 \nQ 40.28125 7.234375 40.28125 8.5 \nz\nM 13.421875 26.46875 \nQ 13.421875 21 14.109375 17.09375 \nQ 14.796875 13.1875 16.3125 10.671875 \nQ 17.828125 8.15625 20.171875 6.984375 \nQ 22.515625 5.8125 25.875 5.8125 \nQ 29.34375 5.8125 32 6.9375 \nQ 34.671875 8.0625 36.453125 10.578125 \nQ 38.234375 13.09375 39.15625 17.140625 \nQ 40.09375 21.1875 40.09375 27.046875 \nQ 40.09375 32.671875 39.15625 36.546875 \nQ 38.234375 40.4375 36.421875 42.828125 \nQ 34.625 45.21875 32 46.265625 \nQ 29.390625 47.3125 25.984375 47.3125 \nQ 22.75 47.3125 20.40625 46.1875 \nQ 18.0625 45.0625 16.5 42.578125 \nQ 14.9375 40.09375 14.171875 36.109375 \nQ 13.421875 32.125 13.421875 26.46875 \nz\n\" id=\"LiberationSans-100\"/>\n       <path d=\"M 37.5 0 \nL 37.5 33.5 \nQ 37.5 37.359375 37.015625 39.9375 \nQ 36.53125 42.53125 35.375 44.109375 \nQ 34.234375 45.703125 32.375 46.359375 \nQ 30.515625 47.015625 27.828125 47.015625 \nQ 25.046875 47.015625 22.796875 45.921875 \nQ 20.5625 44.828125 18.96875 42.75 \nQ 17.390625 40.671875 16.53125 37.625 \nQ 15.671875 34.578125 15.671875 30.609375 \nL 15.671875 0 \nL 6.9375 0 \nL 6.9375 41.546875 \nQ 6.9375 43.21875 6.90625 45.046875 \nQ 6.890625 46.875 6.828125 48.5 \nQ 6.78125 50.140625 6.734375 51.3125 \nQ 6.6875 52.484375 6.640625 52.828125 \nL 14.9375 52.828125 \nQ 14.984375 52.59375 15.03125 51.515625 \nQ 15.09375 50.4375 15.15625 49.046875 \nQ 15.234375 47.65625 15.28125 46.21875 \nQ 15.328125 44.78125 15.328125 43.796875 \nL 15.484375 43.796875 \nQ 16.65625 46.09375 18.015625 47.953125 \nQ 19.390625 49.8125 21.21875 51.09375 \nQ 23.046875 52.390625 25.40625 53.09375 \nQ 27.78125 53.8125 30.90625 53.8125 \nQ 36.921875 53.8125 40.40625 51.421875 \nQ 43.890625 49.03125 45.265625 43.796875 \nL 45.40625 43.796875 \nQ 46.578125 46.09375 48.046875 47.953125 \nQ 49.515625 49.8125 51.46875 51.09375 \nQ 53.421875 52.390625 55.859375 53.09375 \nQ 58.296875 53.8125 61.421875 53.8125 \nQ 65.4375 53.8125 68.328125 52.734375 \nQ 71.234375 51.65625 73.09375 49.40625 \nQ 74.953125 47.171875 75.828125 43.625 \nQ 76.703125 40.09375 76.703125 35.203125 \nL 76.703125 0 \nL 68.015625 0 \nL 68.015625 33.5 \nQ 68.015625 37.359375 67.53125 39.9375 \nQ 67.046875 42.53125 65.890625 44.109375 \nQ 64.75 45.703125 62.890625 46.359375 \nQ 61.03125 47.015625 58.34375 47.015625 \nQ 55.5625 47.015625 53.3125 45.96875 \nQ 51.078125 44.921875 49.484375 42.875 \nQ 47.90625 40.828125 47.046875 37.75 \nQ 46.1875 34.671875 46.1875 30.609375 \nL 46.1875 0 \nz\n\" id=\"LiberationSans-109\"/>\n       <path d=\"M 17.53125 61.1875 \nL 17.53125 35.59375 \nL 55.90625 35.59375 \nL 55.90625 27.875 \nL 17.53125 27.875 \nL 17.53125 0 \nL 8.203125 0 \nL 8.203125 68.796875 \nL 57.078125 68.796875 \nL 57.078125 61.1875 \nz\n\" id=\"LiberationSans-70\"/>\n       <path d=\"M 27.046875 0.390625 \nQ 25.046875 -0.140625 22.96875 -0.453125 \nQ 20.90625 -0.78125 18.171875 -0.78125 \nQ 7.625 -0.78125 7.625 11.1875 \nL 7.625 46.4375 \nL 1.515625 46.4375 \nL 1.515625 52.828125 \nL 7.953125 52.828125 \nL 10.546875 64.65625 \nL 16.40625 64.65625 \nL 16.40625 52.828125 \nL 26.171875 52.828125 \nL 26.171875 46.4375 \nL 16.40625 46.4375 \nL 16.40625 13.09375 \nQ 16.40625 9.28125 17.640625 7.734375 \nQ 18.890625 6.203125 21.96875 6.203125 \nQ 23.25 6.203125 24.4375 6.390625 \nQ 25.640625 6.59375 27.046875 6.890625 \nz\n\" id=\"LiberationSans-116\"/>\n      </defs>\n      <g style=\"fill:#262626;\" transform=\"translate(153.808531 338.89)rotate(-90)scale(0.1 -0.1)\">\n       <use xlink:href=\"#LiberationSans-82\"/>\n       <use x=\"72.216797\" xlink:href=\"#LiberationSans-97\"/>\n       <use x=\"127.832031\" xlink:href=\"#LiberationSans-110\"/>\n       <use x=\"183.447266\" xlink:href=\"#LiberationSans-100\"/>\n       <use x=\"239.0625\" xlink:href=\"#LiberationSans-111\"/>\n       <use x=\"294.677734\" xlink:href=\"#LiberationSans-109\"/>\n       <use x=\"377.978516\" xlink:href=\"#LiberationSans-70\"/>\n       <use x=\"439.0625\" xlink:href=\"#LiberationSans-111\"/>\n       <use x=\"494.677734\" xlink:href=\"#LiberationSans-114\"/>\n       <use x=\"527.978516\" xlink:href=\"#LiberationSans-101\"/>\n       <use x=\"583.59375\" xlink:href=\"#LiberationSans-115\"/>\n       <use x=\"633.59375\" xlink:href=\"#LiberationSans-116\"/>\n       <use x=\"661.376953\" xlink:href=\"#LiberationSans-67\"/>\n       <use x=\"733.59375\" xlink:href=\"#LiberationSans-108\"/>\n       <use x=\"755.810547\" xlink:href=\"#LiberationSans-97\"/>\n       <use x=\"811.425781\" xlink:href=\"#LiberationSans-115\"/>\n       <use x=\"861.425781\" xlink:href=\"#LiberationSans-115\"/>\n       <use x=\"911.425781\" xlink:href=\"#LiberationSans-105\"/>\n       <use x=\"933.642578\" xlink:href=\"#LiberationSans-102\"/>\n       <use x=\"961.425781\" xlink:href=\"#LiberationSans-105\"/>\n       <use x=\"983.642578\" xlink:href=\"#LiberationSans-101\"/>\n       <use x=\"1039.257812\" xlink:href=\"#LiberationSans-114\"/>\n      </g>\n     </g>\n    </g>\n    <g id=\"xtick_4\">\n     <g id=\"line2d_7\">\n      <path clip-path=\"url(#p22af94317a)\" d=\"M 190.243573 224.64 \nL 190.243573 7.2 \n\" style=\"fill:none;stroke:#ffffff;stroke-linecap:round;\"/>\n     </g>\n     <g id=\"line2d_8\"/>\n     <g id=\"text_4\">\n      <!-- GradientBoostingClassifier -->\n      <defs>\n       <path d=\"M 5.03125 34.71875 \nQ 5.03125 42.78125 7.203125 49.265625 \nQ 9.375 55.765625 13.6875 60.328125 \nQ 18.015625 64.890625 24.40625 67.359375 \nQ 30.8125 69.828125 39.265625 69.828125 \nQ 45.609375 69.828125 50.390625 68.703125 \nQ 55.171875 67.578125 58.6875 65.46875 \nQ 62.203125 63.375 64.640625 60.375 \nQ 67.09375 57.375 68.796875 53.609375 \nL 59.90625 50.984375 \nQ 58.640625 53.515625 56.859375 55.59375 \nQ 55.078125 57.671875 52.53125 59.125 \nQ 50 60.59375 46.65625 61.390625 \nQ 43.3125 62.203125 39.015625 62.203125 \nQ 32.765625 62.203125 28.140625 60.25 \nQ 23.53125 58.296875 20.5 54.6875 \nQ 17.484375 51.078125 15.984375 46 \nQ 14.5 40.921875 14.5 34.71875 \nQ 14.5 28.515625 16.109375 23.359375 \nQ 17.71875 18.21875 20.890625 14.484375 \nQ 24.078125 10.75 28.78125 8.671875 \nQ 33.5 6.59375 39.703125 6.59375 \nQ 43.75 6.59375 47.171875 7.265625 \nQ 50.59375 7.953125 53.34375 9.046875 \nQ 56.109375 10.15625 58.203125 11.5 \nQ 60.296875 12.84375 61.71875 14.203125 \nL 61.71875 26.609375 \nL 41.15625 26.609375 \nL 41.15625 34.421875 \nL 70.3125 34.421875 \nL 70.3125 10.6875 \nQ 68.015625 8.34375 64.90625 6.21875 \nQ 61.8125 4.109375 57.953125 2.484375 \nQ 54.109375 0.875 49.515625 -0.046875 \nQ 44.921875 -0.984375 39.703125 -0.984375 \nQ 31 -0.984375 24.5 1.671875 \nQ 18.015625 4.34375 13.6875 9.109375 \nQ 9.375 13.875 7.203125 20.40625 \nQ 5.03125 26.953125 5.03125 34.71875 \nz\n\" id=\"LiberationSans-71\"/>\n       <path d=\"M 26.765625 -20.75 \nQ 22.21875 -20.75 18.703125 -19.8125 \nQ 15.1875 -18.890625 12.6875 -17.15625 \nQ 10.203125 -15.4375 8.640625 -13.03125 \nQ 7.078125 -10.640625 6.390625 -7.71875 \nL 15.234375 -6.453125 \nQ 16.109375 -10.109375 19.109375 -12.078125 \nQ 22.125 -14.0625 27 -14.0625 \nQ 29.984375 -14.0625 32.421875 -13.234375 \nQ 34.859375 -12.40625 36.5625 -10.5625 \nQ 38.28125 -8.734375 39.203125 -5.796875 \nQ 40.140625 -2.875 40.140625 1.3125 \nL 40.140625 9.8125 \nL 40.046875 9.8125 \nQ 39.0625 7.8125 37.625 5.984375 \nQ 36.1875 4.15625 34.109375 2.734375 \nQ 32.03125 1.3125 29.296875 0.453125 \nQ 26.5625 -0.390625 23.046875 -0.390625 \nQ 18.015625 -0.390625 14.421875 1.296875 \nQ 10.84375 2.984375 8.5625 6.34375 \nQ 6.296875 9.71875 5.25 14.71875 \nQ 4.203125 19.734375 4.203125 26.3125 \nQ 4.203125 32.671875 5.25 37.75 \nQ 6.296875 42.828125 8.65625 46.359375 \nQ 11.03125 49.90625 14.8125 51.78125 \nQ 18.609375 53.65625 24.03125 53.65625 \nQ 29.640625 53.65625 33.765625 51.09375 \nQ 37.890625 48.53125 40.140625 43.796875 \nL 40.234375 43.796875 \nQ 40.234375 45.015625 40.296875 46.53125 \nQ 40.375 48.046875 40.453125 49.390625 \nQ 40.53125 50.734375 40.625 51.703125 \nQ 40.71875 52.6875 40.828125 52.828125 \nL 49.171875 52.828125 \nQ 49.125 52.390625 49.078125 51.34375 \nQ 49.03125 50.296875 48.96875 48.828125 \nQ 48.921875 47.359375 48.890625 45.578125 \nQ 48.875 43.796875 48.875 41.890625 \nL 48.875 1.515625 \nQ 48.875 -9.578125 43.421875 -15.15625 \nQ 37.984375 -20.75 26.765625 -20.75 \nz\nM 40.140625 26.421875 \nQ 40.140625 31.9375 38.9375 35.859375 \nQ 37.75 39.796875 35.796875 42.28125 \nQ 33.84375 44.78125 31.328125 45.953125 \nQ 28.8125 47.125 26.171875 47.125 \nQ 22.796875 47.125 20.375 45.953125 \nQ 17.96875 44.78125 16.375 42.265625 \nQ 14.796875 39.75 14.03125 35.8125 \nQ 13.28125 31.890625 13.28125 26.421875 \nQ 13.28125 20.703125 14.03125 16.8125 \nQ 14.796875 12.9375 16.359375 10.546875 \nQ 17.921875 8.15625 20.3125 7.125 \nQ 22.703125 6.109375 26.03125 6.109375 \nQ 28.65625 6.109375 31.171875 7.21875 \nQ 33.6875 8.34375 35.6875 10.78125 \nQ 37.703125 13.234375 38.921875 17.09375 \nQ 40.140625 20.953125 40.140625 26.421875 \nz\n\" id=\"LiberationSans-103\"/>\n      </defs>\n      <g style=\"fill:#262626;\" transform=\"translate(192.82951 350.022812)rotate(-90)scale(0.1 -0.1)\">\n       <use xlink:href=\"#LiberationSans-71\"/>\n       <use x=\"77.783203\" xlink:href=\"#LiberationSans-114\"/>\n       <use x=\"111.083984\" xlink:href=\"#LiberationSans-97\"/>\n       <use x=\"166.699219\" xlink:href=\"#LiberationSans-100\"/>\n       <use x=\"222.314453\" xlink:href=\"#LiberationSans-105\"/>\n       <use x=\"244.53125\" xlink:href=\"#LiberationSans-101\"/>\n       <use x=\"300.146484\" xlink:href=\"#LiberationSans-110\"/>\n       <use x=\"355.761719\" xlink:href=\"#LiberationSans-116\"/>\n       <use x=\"383.544922\" xlink:href=\"#LiberationSans-66\"/>\n       <use x=\"450.244141\" xlink:href=\"#LiberationSans-111\"/>\n       <use x=\"505.859375\" xlink:href=\"#LiberationSans-111\"/>\n       <use x=\"561.474609\" xlink:href=\"#LiberationSans-115\"/>\n       <use x=\"611.474609\" xlink:href=\"#LiberationSans-116\"/>\n       <use x=\"639.257812\" xlink:href=\"#LiberationSans-105\"/>\n       <use x=\"661.474609\" xlink:href=\"#LiberationSans-110\"/>\n       <use x=\"717.089844\" xlink:href=\"#LiberationSans-103\"/>\n       <use x=\"772.705078\" xlink:href=\"#LiberationSans-67\"/>\n       <use x=\"844.921875\" xlink:href=\"#LiberationSans-108\"/>\n       <use x=\"867.138672\" xlink:href=\"#LiberationSans-97\"/>\n       <use x=\"922.753906\" xlink:href=\"#LiberationSans-115\"/>\n       <use x=\"972.753906\" xlink:href=\"#LiberationSans-115\"/>\n       <use x=\"1022.753906\" xlink:href=\"#LiberationSans-105\"/>\n       <use x=\"1044.970703\" xlink:href=\"#LiberationSans-102\"/>\n       <use x=\"1072.753906\" xlink:href=\"#LiberationSans-105\"/>\n       <use x=\"1094.970703\" xlink:href=\"#LiberationSans-101\"/>\n       <use x=\"1150.585938\" xlink:href=\"#LiberationSans-114\"/>\n      </g>\n     </g>\n    </g>\n    <g id=\"xtick_5\">\n     <g id=\"line2d_9\">\n      <path clip-path=\"url(#p22af94317a)\" d=\"M 229.264552 224.64 \nL 229.264552 7.2 \n\" style=\"fill:none;stroke:#ffffff;stroke-linecap:round;\"/>\n     </g>\n     <g id=\"line2d_10\"/>\n     <g id=\"text_5\">\n      <!-- LogisticRegression -->\n      <defs>\n       <path d=\"M 8.203125 0 \nL 8.203125 68.796875 \nL 17.53125 68.796875 \nL 17.53125 7.625 \nL 52.296875 7.625 \nL 52.296875 0 \nz\n\" id=\"LiberationSans-76\"/>\n      </defs>\n      <g style=\"fill:#262626;\" transform=\"translate(231.85049 316.122812)rotate(-90)scale(0.1 -0.1)\">\n       <use xlink:href=\"#LiberationSans-76\"/>\n       <use x=\"55.615234\" xlink:href=\"#LiberationSans-111\"/>\n       <use x=\"111.230469\" xlink:href=\"#LiberationSans-103\"/>\n       <use x=\"166.845703\" xlink:href=\"#LiberationSans-105\"/>\n       <use x=\"189.0625\" xlink:href=\"#LiberationSans-115\"/>\n       <use x=\"239.0625\" xlink:href=\"#LiberationSans-116\"/>\n       <use x=\"266.845703\" xlink:href=\"#LiberationSans-105\"/>\n       <use x=\"289.0625\" xlink:href=\"#LiberationSans-99\"/>\n       <use x=\"339.0625\" xlink:href=\"#LiberationSans-82\"/>\n       <use x=\"411.279297\" xlink:href=\"#LiberationSans-101\"/>\n       <use x=\"466.894531\" xlink:href=\"#LiberationSans-103\"/>\n       <use x=\"522.509766\" xlink:href=\"#LiberationSans-114\"/>\n       <use x=\"555.810547\" xlink:href=\"#LiberationSans-101\"/>\n       <use x=\"611.425781\" xlink:href=\"#LiberationSans-115\"/>\n       <use x=\"661.425781\" xlink:href=\"#LiberationSans-115\"/>\n       <use x=\"711.425781\" xlink:href=\"#LiberationSans-105\"/>\n       <use x=\"733.642578\" xlink:href=\"#LiberationSans-111\"/>\n       <use x=\"789.257812\" xlink:href=\"#LiberationSans-110\"/>\n      </g>\n     </g>\n    </g>\n    <g id=\"xtick_6\">\n     <g id=\"line2d_11\">\n      <path clip-path=\"url(#p22af94317a)\" d=\"M 268.285531 224.64 \nL 268.285531 7.2 \n\" style=\"fill:none;stroke:#ffffff;stroke-linecap:round;\"/>\n     </g>\n     <g id=\"line2d_12\"/>\n     <g id=\"text_6\">\n      <!-- Perceptron -->\n      <defs>\n       <path d=\"M 61.421875 48.09375 \nQ 61.421875 43.609375 59.9375 39.71875 \nQ 58.453125 35.84375 55.5 32.984375 \nQ 52.546875 30.125 48.09375 28.46875 \nQ 43.65625 26.8125 37.75 26.8125 \nL 17.53125 26.8125 \nL 17.53125 0 \nL 8.203125 0 \nL 8.203125 68.796875 \nL 37.15625 68.796875 \nQ 43.265625 68.796875 47.796875 67.3125 \nQ 52.34375 65.828125 55.375 63.109375 \nQ 58.40625 60.40625 59.90625 56.5625 \nQ 61.421875 52.734375 61.421875 48.09375 \nz\nM 52.046875 48 \nQ 52.046875 54.546875 48.046875 57.9375 \nQ 44.046875 61.328125 36.03125 61.328125 \nL 17.53125 61.328125 \nL 17.53125 34.1875 \nL 36.421875 34.1875 \nQ 44.484375 34.1875 48.265625 37.75 \nQ 52.046875 41.3125 52.046875 48 \nz\n\" id=\"LiberationSans-80\"/>\n       <path d=\"M 51.421875 26.65625 \nQ 51.421875 20.65625 50.4375 15.578125 \nQ 49.46875 10.5 47.1875 6.828125 \nQ 44.921875 3.171875 41.1875 1.09375 \nQ 37.453125 -0.984375 31.984375 -0.984375 \nQ 26.3125 -0.984375 22.0625 1.171875 \nQ 17.828125 3.328125 15.578125 8.203125 \nL 15.328125 8.203125 \nQ 15.375 8.109375 15.40625 7.328125 \nQ 15.4375 6.546875 15.453125 5.375 \nQ 15.484375 4.203125 15.5 2.75 \nQ 15.53125 1.3125 15.53125 -0.09375 \nL 15.53125 -20.75 \nL 6.734375 -20.75 \nL 6.734375 42.046875 \nQ 6.734375 43.953125 6.703125 45.703125 \nQ 6.6875 47.46875 6.640625 48.90625 \nQ 6.59375 50.34375 6.546875 51.359375 \nQ 6.5 52.390625 6.453125 52.828125 \nL 14.9375 52.828125 \nQ 14.984375 52.6875 15.0625 51.796875 \nQ 15.140625 50.921875 15.203125 49.671875 \nQ 15.28125 48.4375 15.359375 47.015625 \nQ 15.4375 45.609375 15.4375 44.34375 \nL 15.625 44.34375 \nQ 16.84375 46.875 18.40625 48.65625 \nQ 19.96875 50.4375 21.96875 51.578125 \nQ 23.96875 52.734375 26.4375 53.25 \nQ 28.90625 53.765625 31.984375 53.765625 \nQ 37.453125 53.765625 41.1875 51.8125 \nQ 44.921875 49.859375 47.1875 46.3125 \nQ 49.46875 42.78125 50.4375 37.765625 \nQ 51.421875 32.765625 51.421875 26.65625 \nz\nM 42.1875 26.46875 \nQ 42.1875 31.34375 41.59375 35.15625 \nQ 41.015625 38.96875 39.578125 41.59375 \nQ 38.140625 44.234375 35.734375 45.59375 \nQ 33.34375 46.96875 29.734375 46.96875 \nQ 26.8125 46.96875 24.21875 46.140625 \nQ 21.625 45.3125 19.703125 42.96875 \nQ 17.78125 40.625 16.65625 36.5 \nQ 15.53125 32.375 15.53125 25.78125 \nQ 15.53125 20.171875 16.453125 16.28125 \nQ 17.390625 12.40625 19.171875 10.015625 \nQ 20.953125 7.625 23.578125 6.5625 \nQ 26.21875 5.515625 29.640625 5.515625 \nQ 33.296875 5.515625 35.71875 6.921875 \nQ 38.140625 8.34375 39.578125 11.03125 \nQ 41.015625 13.71875 41.59375 17.59375 \nQ 42.1875 21.484375 42.1875 26.46875 \nz\n\" id=\"LiberationSans-112\"/>\n      </defs>\n      <g style=\"fill:#262626;\" transform=\"translate(270.871469 280.5525)rotate(-90)scale(0.1 -0.1)\">\n       <use xlink:href=\"#LiberationSans-80\"/>\n       <use x=\"66.699219\" xlink:href=\"#LiberationSans-101\"/>\n       <use x=\"122.314453\" xlink:href=\"#LiberationSans-114\"/>\n       <use x=\"155.615234\" xlink:href=\"#LiberationSans-99\"/>\n       <use x=\"205.615234\" xlink:href=\"#LiberationSans-101\"/>\n       <use x=\"261.230469\" xlink:href=\"#LiberationSans-112\"/>\n       <use x=\"316.845703\" xlink:href=\"#LiberationSans-116\"/>\n       <use x=\"344.628906\" xlink:href=\"#LiberationSans-114\"/>\n       <use x=\"377.929688\" xlink:href=\"#LiberationSans-111\"/>\n       <use x=\"433.544922\" xlink:href=\"#LiberationSans-110\"/>\n      </g>\n     </g>\n    </g>\n    <g id=\"xtick_7\">\n     <g id=\"line2d_13\">\n      <path clip-path=\"url(#p22af94317a)\" d=\"M 307.30651 224.64 \nL 307.30651 7.2 \n\" style=\"fill:none;stroke:#ffffff;stroke-linecap:round;\"/>\n     </g>\n     <g id=\"line2d_14\"/>\n     <g id=\"text_7\">\n      <!-- LinearSVC -->\n      <defs>\n       <path d=\"M 62.109375 19 \nQ 62.109375 14.65625 60.421875 10.984375 \nQ 58.734375 7.328125 55.21875 4.65625 \nQ 51.703125 2 46.359375 0.5 \nQ 41.015625 -0.984375 33.6875 -0.984375 \nQ 20.84375 -0.984375 13.671875 3.515625 \nQ 6.5 8.015625 4.546875 16.5 \nL 13.578125 18.3125 \nQ 14.265625 15.625 15.671875 13.421875 \nQ 17.09375 11.234375 19.5 9.640625 \nQ 21.921875 8.0625 25.484375 7.171875 \nQ 29.046875 6.296875 34.03125 6.296875 \nQ 38.1875 6.296875 41.65625 7 \nQ 45.125 7.71875 47.609375 9.171875 \nQ 50.09375 10.640625 51.484375 12.953125 \nQ 52.875 15.28125 52.875 18.5 \nQ 52.875 21.875 51.34375 23.96875 \nQ 49.8125 26.078125 47.015625 27.4375 \nQ 44.234375 28.8125 40.375 29.734375 \nQ 36.53125 30.671875 31.84375 31.734375 \nQ 28.953125 32.375 26.046875 33.125 \nQ 23.140625 33.890625 20.484375 34.9375 \nQ 17.828125 35.984375 15.484375 37.390625 \nQ 13.140625 38.8125 11.421875 40.796875 \nQ 9.71875 42.78125 8.734375 45.390625 \nQ 7.765625 48 7.765625 51.421875 \nQ 7.765625 56.296875 9.734375 59.78125 \nQ 11.71875 63.28125 15.234375 65.53125 \nQ 18.75 67.78125 23.53125 68.796875 \nQ 28.328125 69.828125 33.890625 69.828125 \nQ 40.28125 69.828125 44.8125 68.828125 \nQ 49.359375 67.828125 52.484375 65.8125 \nQ 55.609375 63.8125 57.484375 60.859375 \nQ 59.375 57.90625 60.5 54 \nL 51.3125 52.390625 \nQ 50.640625 54.890625 49.34375 56.84375 \nQ 48.046875 58.796875 45.9375 60.109375 \nQ 43.84375 61.421875 40.84375 62.109375 \nQ 37.84375 62.796875 33.796875 62.796875 \nQ 29 62.796875 25.75 61.9375 \nQ 22.515625 61.078125 20.53125 59.609375 \nQ 18.5625 58.15625 17.703125 56.171875 \nQ 16.84375 54.203125 16.84375 51.90625 \nQ 16.84375 48.828125 18.375 46.84375 \nQ 19.921875 44.875 22.5625 43.546875 \nQ 25.203125 42.234375 28.65625 41.359375 \nQ 32.125 40.484375 36.03125 39.59375 \nQ 39.203125 38.875 42.359375 38.109375 \nQ 45.515625 37.359375 48.390625 36.296875 \nQ 51.265625 35.25 53.78125 33.828125 \nQ 56.296875 32.421875 58.15625 30.375 \nQ 60.015625 28.328125 61.0625 25.53125 \nQ 62.109375 22.75 62.109375 19 \nz\n\" id=\"LiberationSans-83\"/>\n       <path d=\"M 38.1875 0 \nL 28.515625 0 \nL 0.4375 68.796875 \nL 10.25 68.796875 \nL 29.296875 20.359375 \nQ 30.03125 18.171875 30.765625 15.984375 \nQ 31.5 13.8125 32.078125 12.109375 \nQ 32.765625 10.109375 33.40625 8.203125 \nQ 33.984375 10.015625 34.671875 12.015625 \nQ 35.25 13.71875 35.953125 15.859375 \nQ 36.671875 18.015625 37.5 20.359375 \nL 56.453125 68.796875 \nL 66.265625 68.796875 \nz\n\" id=\"LiberationSans-86\"/>\n      </defs>\n      <g style=\"fill:#262626;\" transform=\"translate(309.892448 279.997812)rotate(-90)scale(0.1 -0.1)\">\n       <use xlink:href=\"#LiberationSans-76\"/>\n       <use x=\"55.615234\" xlink:href=\"#LiberationSans-105\"/>\n       <use x=\"77.832031\" xlink:href=\"#LiberationSans-110\"/>\n       <use x=\"133.447266\" xlink:href=\"#LiberationSans-101\"/>\n       <use x=\"189.0625\" xlink:href=\"#LiberationSans-97\"/>\n       <use x=\"244.677734\" xlink:href=\"#LiberationSans-114\"/>\n       <use x=\"277.978516\" xlink:href=\"#LiberationSans-83\"/>\n       <use x=\"344.677734\" xlink:href=\"#LiberationSans-86\"/>\n       <use x=\"411.376953\" xlink:href=\"#LiberationSans-67\"/>\n      </g>\n     </g>\n    </g>\n    <g id=\"xtick_8\">\n     <g id=\"line2d_15\">\n      <path clip-path=\"url(#p22af94317a)\" d=\"M 346.327489 224.64 \nL 346.327489 7.2 \n\" style=\"fill:none;stroke:#ffffff;stroke-linecap:round;\"/>\n     </g>\n     <g id=\"line2d_16\"/>\n     <g id=\"text_8\">\n      <!-- MLPClassifier -->\n      <defs>\n       <path d=\"M 66.703125 0 \nL 66.703125 45.90625 \nQ 66.703125 48.390625 66.75 50.96875 \nQ 66.796875 53.5625 66.890625 55.71875 \nQ 67 58.203125 67.140625 60.546875 \nQ 66.453125 58.0625 65.71875 55.609375 \nQ 65.09375 53.515625 64.328125 51.140625 \nQ 63.578125 48.78125 62.84375 46.875 \nL 45.0625 0 \nL 38.53125 0 \nL 20.515625 46.875 \nQ 20.21875 47.609375 19.890625 48.578125 \nQ 19.578125 49.5625 19.203125 50.65625 \nQ 18.84375 51.765625 18.46875 52.90625 \nQ 18.109375 54.046875 17.78125 55.171875 \nQ 16.9375 57.765625 16.15625 60.546875 \nQ 16.21875 57.8125 16.3125 55.125 \nQ 16.40625 52.828125 16.453125 50.3125 \nQ 16.5 47.796875 16.5 45.90625 \nL 16.5 0 \nL 8.203125 0 \nL 8.203125 68.796875 \nL 20.453125 68.796875 \nL 38.765625 21.09375 \nQ 39.109375 20.125 39.59375 18.578125 \nQ 40.09375 17.046875 40.53125 15.421875 \nQ 40.96875 13.8125 41.328125 12.375 \nQ 41.703125 10.9375 41.84375 10.15625 \nQ 42 10.9375 42.390625 12.40625 \nQ 42.78125 13.875 43.28125 15.484375 \nQ 43.796875 17.09375 44.28125 18.609375 \nQ 44.78125 20.125 45.171875 21.09375 \nL 63.140625 68.796875 \nL 75.09375 68.796875 \nL 75.09375 0 \nz\n\" id=\"LiberationSans-77\"/>\n      </defs>\n      <g style=\"fill:#262626;\" transform=\"translate(348.913427 293.318125)rotate(-90)scale(0.1 -0.1)\">\n       <use xlink:href=\"#LiberationSans-77\"/>\n       <use x=\"83.300781\" xlink:href=\"#LiberationSans-76\"/>\n       <use x=\"138.916016\" xlink:href=\"#LiberationSans-80\"/>\n       <use x=\"205.615234\" xlink:href=\"#LiberationSans-67\"/>\n       <use x=\"277.832031\" xlink:href=\"#LiberationSans-108\"/>\n       <use x=\"300.048828\" xlink:href=\"#LiberationSans-97\"/>\n       <use x=\"355.664062\" xlink:href=\"#LiberationSans-115\"/>\n       <use x=\"405.664062\" xlink:href=\"#LiberationSans-115\"/>\n       <use x=\"455.664062\" xlink:href=\"#LiberationSans-105\"/>\n       <use x=\"477.880859\" xlink:href=\"#LiberationSans-102\"/>\n       <use x=\"505.664062\" xlink:href=\"#LiberationSans-105\"/>\n       <use x=\"527.880859\" xlink:href=\"#LiberationSans-101\"/>\n       <use x=\"583.496094\" xlink:href=\"#LiberationSans-114\"/>\n      </g>\n     </g>\n    </g>\n   </g>\n   <g id=\"matplotlib.axis_2\">\n    <g id=\"ytick_1\">\n     <g id=\"line2d_17\">\n      <path clip-path=\"url(#p22af94317a)\" d=\"M 42.354063 224.64 \nL 377.154063 224.64 \n\" style=\"fill:none;stroke:#ffffff;stroke-linecap:round;stroke-opacity:0.7;\"/>\n     </g>\n     <g id=\"line2d_18\"/>\n     <g id=\"text_9\">\n      <!-- 0.0 -->\n      <defs>\n       <path d=\"M 51.703125 34.421875 \nQ 51.703125 24.515625 49.828125 17.75 \nQ 47.953125 10.984375 44.703125 6.8125 \nQ 41.453125 2.640625 37.0625 0.828125 \nQ 32.671875 -0.984375 27.6875 -0.984375 \nQ 22.65625 -0.984375 18.3125 0.828125 \nQ 13.96875 2.640625 10.765625 6.78125 \nQ 7.5625 10.9375 5.734375 17.703125 \nQ 3.90625 24.46875 3.90625 34.421875 \nQ 3.90625 44.828125 5.734375 51.640625 \nQ 7.5625 58.453125 10.78125 62.5 \nQ 14.015625 66.546875 18.40625 68.1875 \nQ 22.796875 69.828125 27.984375 69.828125 \nQ 32.90625 69.828125 37.21875 68.1875 \nQ 41.546875 66.546875 44.765625 62.5 \nQ 48 58.453125 49.84375 51.640625 \nQ 51.703125 44.828125 51.703125 34.421875 \nz\nM 42.78125 34.421875 \nQ 42.78125 42.625 41.796875 48.0625 \nQ 40.828125 53.515625 38.921875 56.765625 \nQ 37.015625 60.015625 34.25 61.359375 \nQ 31.5 62.703125 27.984375 62.703125 \nQ 24.265625 62.703125 21.4375 61.328125 \nQ 18.609375 59.96875 16.671875 56.71875 \nQ 14.75 53.46875 13.765625 48.015625 \nQ 12.796875 42.578125 12.796875 34.421875 \nQ 12.796875 26.515625 13.796875 21.09375 \nQ 14.796875 15.671875 16.71875 12.375 \nQ 18.65625 9.078125 21.4375 7.640625 \nQ 24.21875 6.203125 27.78125 6.203125 \nQ 31.25 6.203125 34.03125 7.640625 \nQ 36.8125 9.078125 38.734375 12.375 \nQ 40.671875 15.671875 41.71875 21.09375 \nQ 42.78125 26.515625 42.78125 34.421875 \nz\n\" id=\"LiberationSans-48\"/>\n       <path d=\"M 9.125 0 \nL 9.125 10.6875 \nL 18.65625 10.6875 \nL 18.65625 0 \nz\n\" id=\"LiberationSans-46\"/>\n      </defs>\n      <g style=\"fill:#262626;\" transform=\"translate(21.454063 228.263437)scale(0.1 -0.1)\">\n       <use xlink:href=\"#LiberationSans-48\"/>\n       <use x=\"55.615234\" xlink:href=\"#LiberationSans-46\"/>\n       <use x=\"83.398438\" xlink:href=\"#LiberationSans-48\"/>\n      </g>\n     </g>\n    </g>\n    <g id=\"ytick_2\">\n     <g id=\"line2d_19\">\n      <path clip-path=\"url(#p22af94317a)\" d=\"M 42.354063 181.069986 \nL 377.154063 181.069986 \n\" style=\"fill:none;stroke:#ffffff;stroke-linecap:round;stroke-opacity:0.7;\"/>\n     </g>\n     <g id=\"line2d_20\"/>\n     <g id=\"text_10\">\n      <!-- 0.2 -->\n      <defs>\n       <path d=\"M 5.03125 0 \nL 5.03125 6.203125 \nQ 7.515625 11.921875 11.109375 16.28125 \nQ 14.703125 20.65625 18.65625 24.1875 \nQ 22.609375 27.734375 26.484375 30.765625 \nQ 30.375 33.796875 33.5 36.8125 \nQ 36.625 39.84375 38.546875 43.15625 \nQ 40.484375 46.484375 40.484375 50.6875 \nQ 40.484375 53.609375 39.59375 55.828125 \nQ 38.71875 58.0625 37.0625 59.5625 \nQ 35.40625 61.078125 33.078125 61.828125 \nQ 30.765625 62.59375 27.9375 62.59375 \nQ 25.296875 62.59375 22.96875 61.859375 \nQ 20.65625 61.140625 18.84375 59.671875 \nQ 17.046875 58.203125 15.890625 56.03125 \nQ 14.75 53.859375 14.40625 50.984375 \nL 5.421875 51.8125 \nQ 5.859375 55.515625 7.46875 58.78125 \nQ 9.078125 62.0625 11.90625 64.53125 \nQ 14.75 67 18.71875 68.40625 \nQ 22.703125 69.828125 27.9375 69.828125 \nQ 33.0625 69.828125 37.0625 68.609375 \nQ 41.0625 67.390625 43.8125 64.984375 \nQ 46.578125 62.59375 48.046875 59.078125 \nQ 49.515625 55.5625 49.515625 50.984375 \nQ 49.515625 47.515625 48.265625 44.390625 \nQ 47.015625 41.265625 44.9375 38.421875 \nQ 42.875 35.59375 40.140625 32.953125 \nQ 37.40625 30.328125 34.421875 27.8125 \nQ 31.453125 25.296875 28.421875 22.828125 \nQ 25.390625 20.359375 22.71875 17.859375 \nQ 20.0625 15.375 17.96875 12.8125 \nQ 15.875 10.25 14.703125 7.46875 \nL 50.59375 7.46875 \nL 50.59375 0 \nz\n\" id=\"LiberationSans-50\"/>\n      </defs>\n      <g style=\"fill:#262626;\" transform=\"translate(21.454063 184.693423)scale(0.1 -0.1)\">\n       <use xlink:href=\"#LiberationSans-48\"/>\n       <use x=\"55.615234\" xlink:href=\"#LiberationSans-46\"/>\n       <use x=\"83.398438\" xlink:href=\"#LiberationSans-50\"/>\n      </g>\n     </g>\n    </g>\n    <g id=\"ytick_3\">\n     <g id=\"line2d_21\">\n      <path clip-path=\"url(#p22af94317a)\" d=\"M 42.354063 137.499972 \nL 377.154063 137.499972 \n\" style=\"fill:none;stroke:#ffffff;stroke-linecap:round;stroke-opacity:0.7;\"/>\n     </g>\n     <g id=\"line2d_22\"/>\n     <g id=\"text_11\">\n      <!-- 0.4 -->\n      <defs>\n       <path d=\"M 43.015625 15.578125 \nL 43.015625 0 \nL 34.71875 0 \nL 34.71875 15.578125 \nL 2.296875 15.578125 \nL 2.296875 22.40625 \nL 33.796875 68.796875 \nL 43.015625 68.796875 \nL 43.015625 22.515625 \nL 52.6875 22.515625 \nL 52.6875 15.578125 \nz\nM 34.71875 58.890625 \nQ 34.625 58.640625 34.234375 57.9375 \nQ 33.84375 57.234375 33.34375 56.34375 \nQ 32.859375 55.46875 32.34375 54.5625 \nQ 31.84375 53.65625 31.453125 53.078125 \nL 13.8125 27.09375 \nQ 13.578125 26.703125 13.109375 26.0625 \nQ 12.640625 25.4375 12.15625 24.78125 \nQ 11.671875 24.125 11.171875 23.484375 \nQ 10.6875 22.859375 10.40625 22.515625 \nL 34.71875 22.515625 \nz\n\" id=\"LiberationSans-52\"/>\n      </defs>\n      <g style=\"fill:#262626;\" transform=\"translate(21.454063 141.123409)scale(0.1 -0.1)\">\n       <use xlink:href=\"#LiberationSans-48\"/>\n       <use x=\"55.615234\" xlink:href=\"#LiberationSans-46\"/>\n       <use x=\"83.398438\" xlink:href=\"#LiberationSans-52\"/>\n      </g>\n     </g>\n    </g>\n    <g id=\"ytick_4\">\n     <g id=\"line2d_23\">\n      <path clip-path=\"url(#p22af94317a)\" d=\"M 42.354063 93.929958 \nL 377.154063 93.929958 \n\" style=\"fill:none;stroke:#ffffff;stroke-linecap:round;stroke-opacity:0.7;\"/>\n     </g>\n     <g id=\"line2d_24\"/>\n     <g id=\"text_12\">\n      <!-- 0.6 -->\n      <defs>\n       <path d=\"M 51.21875 22.515625 \nQ 51.21875 17.328125 49.78125 13 \nQ 48.34375 8.6875 45.53125 5.578125 \nQ 42.71875 2.484375 38.5625 0.75 \nQ 34.421875 -0.984375 29 -0.984375 \nQ 23 -0.984375 18.5 1.3125 \nQ 14.015625 3.609375 11.03125 7.921875 \nQ 8.0625 12.25 6.5625 18.53125 \nQ 5.078125 24.8125 5.078125 32.8125 \nQ 5.078125 42 6.765625 48.921875 \nQ 8.453125 55.859375 11.625 60.5 \nQ 14.796875 65.140625 19.359375 67.484375 \nQ 23.921875 69.828125 29.6875 69.828125 \nQ 33.203125 69.828125 36.28125 69.09375 \nQ 39.359375 68.359375 41.875 66.71875 \nQ 44.390625 65.09375 46.28125 62.40625 \nQ 48.1875 59.71875 49.3125 55.8125 \nL 40.921875 54.296875 \nQ 39.546875 58.734375 36.546875 60.71875 \nQ 33.546875 62.703125 29.59375 62.703125 \nQ 25.984375 62.703125 23.046875 60.984375 \nQ 20.125 59.28125 18.0625 55.875 \nQ 16.015625 52.484375 14.90625 47.359375 \nQ 13.8125 42.234375 13.8125 35.40625 \nQ 16.21875 39.84375 20.5625 42.15625 \nQ 24.90625 44.484375 30.515625 44.484375 \nQ 35.203125 44.484375 39.015625 42.96875 \nQ 42.828125 41.453125 45.53125 38.59375 \nQ 48.25 35.75 49.734375 31.671875 \nQ 51.21875 27.59375 51.21875 22.515625 \nz\nM 42.28125 22.125 \nQ 42.28125 25.6875 41.40625 28.5625 \nQ 40.53125 31.453125 38.765625 33.46875 \nQ 37.015625 35.5 34.421875 36.59375 \nQ 31.84375 37.703125 28.421875 37.703125 \nQ 26.03125 37.703125 23.578125 36.984375 \nQ 21.140625 36.28125 19.15625 34.6875 \nQ 17.1875 33.109375 15.9375 30.515625 \nQ 14.703125 27.9375 14.703125 24.21875 \nQ 14.703125 20.40625 15.671875 17.109375 \nQ 16.65625 13.8125 18.484375 11.375 \nQ 20.3125 8.9375 22.890625 7.515625 \nQ 25.484375 6.109375 28.71875 6.109375 \nQ 31.890625 6.109375 34.40625 7.203125 \nQ 36.921875 8.296875 38.671875 10.375 \nQ 40.4375 12.453125 41.359375 15.421875 \nQ 42.28125 18.40625 42.28125 22.125 \nz\n\" id=\"LiberationSans-54\"/>\n      </defs>\n      <g style=\"fill:#262626;\" transform=\"translate(21.454063 97.553395)scale(0.1 -0.1)\">\n       <use xlink:href=\"#LiberationSans-48\"/>\n       <use x=\"55.615234\" xlink:href=\"#LiberationSans-46\"/>\n       <use x=\"83.398438\" xlink:href=\"#LiberationSans-54\"/>\n      </g>\n     </g>\n    </g>\n    <g id=\"ytick_5\">\n     <g id=\"line2d_25\">\n      <path clip-path=\"url(#p22af94317a)\" d=\"M 42.354063 50.359943 \nL 377.154063 50.359943 \n\" style=\"fill:none;stroke:#ffffff;stroke-linecap:round;stroke-opacity:0.7;\"/>\n     </g>\n     <g id=\"line2d_26\"/>\n     <g id=\"text_13\">\n      <!-- 0.8 -->\n      <defs>\n       <path d=\"M 51.265625 19.1875 \nQ 51.265625 14.796875 49.875 11.109375 \nQ 48.484375 7.421875 45.625 4.734375 \nQ 42.78125 2.046875 38.328125 0.53125 \nQ 33.890625 -0.984375 27.828125 -0.984375 \nQ 21.78125 -0.984375 17.359375 0.53125 \nQ 12.9375 2.046875 10.03125 4.703125 \nQ 7.125 7.375 5.734375 11.0625 \nQ 4.34375 14.75 4.34375 19.09375 \nQ 4.34375 22.859375 5.484375 25.78125 \nQ 6.640625 28.71875 8.5625 30.828125 \nQ 10.5 32.953125 12.96875 34.25 \nQ 15.4375 35.546875 18.0625 35.984375 \nL 18.0625 36.1875 \nQ 15.1875 36.859375 12.90625 38.375 \nQ 10.640625 39.890625 9.09375 42.015625 \nQ 7.5625 44.140625 6.75 46.71875 \nQ 5.953125 49.3125 5.953125 52.203125 \nQ 5.953125 55.8125 7.34375 59 \nQ 8.734375 62.203125 11.46875 64.625 \nQ 14.203125 67.046875 18.25 68.4375 \nQ 22.3125 69.828125 27.640625 69.828125 \nQ 33.25 69.828125 37.375 68.40625 \nQ 41.5 67 44.203125 64.578125 \nQ 46.921875 62.15625 48.234375 58.9375 \nQ 49.5625 55.71875 49.5625 52.09375 \nQ 49.5625 49.265625 48.75 46.671875 \nQ 47.953125 44.09375 46.40625 41.96875 \nQ 44.875 39.84375 42.59375 38.34375 \nQ 40.328125 36.859375 37.359375 36.28125 \nL 37.359375 36.078125 \nQ 40.328125 35.59375 42.859375 34.296875 \nQ 45.40625 33.015625 47.265625 30.890625 \nQ 49.125 28.765625 50.1875 25.828125 \nQ 51.265625 22.90625 51.265625 19.1875 \nz\nM 40.4375 51.609375 \nQ 40.4375 54.203125 39.765625 56.34375 \nQ 39.109375 58.5 37.59375 60.03125 \nQ 36.078125 61.578125 33.640625 62.421875 \nQ 31.203125 63.28125 27.640625 63.28125 \nQ 24.171875 63.28125 21.78125 62.421875 \nQ 19.390625 61.578125 17.84375 60.03125 \nQ 16.3125 58.5 15.625 56.34375 \nQ 14.9375 54.203125 14.9375 51.609375 \nQ 14.9375 49.5625 15.46875 47.40625 \nQ 16.015625 45.265625 17.421875 43.5 \nQ 18.84375 41.75 21.328125 40.625 \nQ 23.828125 39.5 27.734375 39.5 \nQ 31.890625 39.5 34.40625 40.625 \nQ 36.921875 41.75 38.25 43.5 \nQ 39.59375 45.265625 40.015625 47.40625 \nQ 40.4375 49.5625 40.4375 51.609375 \nz\nM 42.140625 20.015625 \nQ 42.140625 22.515625 41.453125 24.828125 \nQ 40.765625 27.15625 39.109375 28.9375 \nQ 37.453125 30.71875 34.640625 31.8125 \nQ 31.84375 32.90625 27.640625 32.90625 \nQ 23.78125 32.90625 21.0625 31.8125 \nQ 18.359375 30.71875 16.671875 28.90625 \nQ 14.984375 27.09375 14.203125 24.71875 \nQ 13.421875 22.359375 13.421875 19.828125 \nQ 13.421875 16.65625 14.203125 14.03125 \nQ 14.984375 11.421875 16.6875 9.546875 \nQ 18.40625 7.671875 21.1875 6.640625 \nQ 23.96875 5.609375 27.9375 5.609375 \nQ 31.9375 5.609375 34.671875 6.640625 \nQ 37.40625 7.671875 39.0625 9.546875 \nQ 40.71875 11.421875 41.421875 14.078125 \nQ 42.140625 16.75 42.140625 20.015625 \nz\n\" id=\"LiberationSans-56\"/>\n      </defs>\n      <g style=\"fill:#262626;\" transform=\"translate(21.454063 53.983381)scale(0.1 -0.1)\">\n       <use xlink:href=\"#LiberationSans-48\"/>\n       <use x=\"55.615234\" xlink:href=\"#LiberationSans-46\"/>\n       <use x=\"83.398438\" xlink:href=\"#LiberationSans-56\"/>\n      </g>\n     </g>\n    </g>\n    <g id=\"text_14\">\n     <!-- Accuracy -->\n     <defs>\n      <path d=\"M 56.984375 0 \nL 49.125 20.125 \nL 17.78125 20.125 \nL 9.859375 0 \nL 0.203125 0 \nL 28.265625 68.796875 \nL 38.875 68.796875 \nL 66.5 0 \nz\nM 37.5 50.09375 \nQ 36.71875 52.046875 36 54.046875 \nQ 35.296875 56.0625 34.765625 57.6875 \nQ 34.234375 59.328125 33.859375 60.421875 \nQ 33.5 61.53125 33.453125 61.765625 \nQ 33.34375 61.53125 33 60.40625 \nQ 32.671875 59.28125 32.109375 57.609375 \nQ 31.546875 55.953125 30.828125 53.953125 \nQ 30.125 51.953125 29.390625 50 \nL 20.609375 27.390625 \nL 46.34375 27.390625 \nz\n\" id=\"LiberationSans-65\"/>\n      <path d=\"M 15.328125 52.828125 \nL 15.328125 19.34375 \nQ 15.328125 15.484375 15.890625 12.890625 \nQ 16.453125 10.296875 17.71875 8.703125 \nQ 19 7.125 21.0625 6.46875 \nQ 23.140625 5.8125 26.21875 5.8125 \nQ 29.34375 5.8125 31.859375 6.90625 \nQ 34.375 8.015625 36.15625 10.078125 \nQ 37.9375 12.15625 38.90625 15.203125 \nQ 39.890625 18.265625 39.890625 22.21875 \nL 39.890625 52.828125 \nL 48.6875 52.828125 \nL 48.6875 11.28125 \nQ 48.6875 9.625 48.703125 7.78125 \nQ 48.734375 5.953125 48.78125 4.3125 \nQ 48.828125 2.6875 48.875 1.515625 \nQ 48.921875 0.34375 48.96875 0 \nL 40.671875 0 \nQ 40.625 0.25 40.578125 1.3125 \nQ 40.53125 2.390625 40.453125 3.78125 \nQ 40.375 5.171875 40.328125 6.609375 \nQ 40.28125 8.0625 40.28125 9.03125 \nL 40.140625 9.03125 \nQ 38.875 6.734375 37.359375 4.875 \nQ 35.84375 3.03125 33.84375 1.734375 \nQ 31.84375 0.4375 29.25 -0.265625 \nQ 26.65625 -0.984375 23.25 -0.984375 \nQ 18.84375 -0.984375 15.671875 0.09375 \nQ 12.5 1.171875 10.453125 3.421875 \nQ 8.40625 5.671875 7.453125 9.1875 \nQ 6.5 12.703125 6.5 17.625 \nL 6.5 52.828125 \nz\n\" id=\"LiberationSans-117\"/>\n      <path d=\"M 29.5 0 \nQ 27.640625 -4.78125 25.703125 -8.609375 \nQ 23.78125 -12.453125 21.390625 -15.15625 \nQ 19 -17.875 16.0625 -19.3125 \nQ 13.140625 -20.75 9.328125 -20.75 \nQ 7.671875 -20.75 6.25 -20.65625 \nQ 4.828125 -20.5625 3.265625 -20.21875 \nL 3.265625 -13.625 \nQ 4.203125 -13.765625 5.375 -13.84375 \nQ 6.546875 -13.921875 7.375 -13.921875 \nQ 11.234375 -13.921875 14.546875 -11.03125 \nQ 17.875 -8.15625 20.359375 -1.859375 \nL 21.1875 0.25 \nL 0.25 52.828125 \nL 9.625 52.828125 \nL 20.75 23.640625 \nQ 21.234375 22.3125 21.984375 20.109375 \nQ 22.75 17.921875 23.5 15.71875 \nQ 24.265625 13.53125 24.84375 11.765625 \nQ 25.4375 10.015625 25.53125 9.578125 \nQ 25.6875 10.109375 26.25 11.6875 \nQ 26.8125 13.28125 27.515625 15.234375 \nQ 28.21875 17.1875 28.953125 19.1875 \nQ 29.6875 21.1875 30.171875 22.65625 \nL 40.53125 52.828125 \nL 49.8125 52.828125 \nz\n\" id=\"LiberationSans-121\"/>\n     </defs>\n     <g style=\"fill:#262626;\" transform=\"translate(15.171563 138.537031)rotate(-90)scale(0.11 -0.11)\">\n      <use xlink:href=\"#LiberationSans-65\"/>\n      <use x=\"66.699219\" xlink:href=\"#LiberationSans-99\"/>\n      <use x=\"116.699219\" xlink:href=\"#LiberationSans-99\"/>\n      <use x=\"166.699219\" xlink:href=\"#LiberationSans-117\"/>\n      <use x=\"222.314453\" xlink:href=\"#LiberationSans-114\"/>\n      <use x=\"255.615234\" xlink:href=\"#LiberationSans-97\"/>\n      <use x=\"311.230469\" xlink:href=\"#LiberationSans-99\"/>\n      <use x=\"361.230469\" xlink:href=\"#LiberationSans-121\"/>\n     </g>\n    </g>\n   </g>\n   <g id=\"patch_3\">\n    <path clip-path=\"url(#p22af94317a)\" d=\"M 57.572244 224.64 \nL 88.789028 224.64 \nL 88.789028 54.588798 \nL 57.572244 54.588798 \nz\n\" style=\"fill:#4c72b0;\"/>\n   </g>\n   <g id=\"patch_4\">\n    <path clip-path=\"url(#p22af94317a)\" d=\"M 96.593223 224.64 \nL 127.810007 224.64 \nL 127.810007 23.449052 \nL 96.593223 23.449052 \nz\n\" style=\"fill:#4c72b0;\"/>\n   </g>\n   <g id=\"patch_5\">\n    <path clip-path=\"url(#p22af94317a)\" d=\"M 135.614202 224.64 \nL 166.830986 224.64 \nL 166.830986 19.732786 \nL 135.614202 19.732786 \nz\n\" style=\"fill:#4c72b0;\"/>\n   </g>\n   <g id=\"patch_6\">\n    <path clip-path=\"url(#p22af94317a)\" d=\"M 174.635181 224.64 \nL 205.851965 224.64 \nL 205.851965 17.554286 \nL 174.635181 17.554286 \nz\n\" style=\"fill:#4c72b0;\"/>\n   </g>\n   <g id=\"patch_7\">\n    <path clip-path=\"url(#p22af94317a)\" d=\"M 213.65616 224.64 \nL 244.872944 224.64 \nL 244.872944 41.517793 \nL 213.65616 41.517793 \nz\n\" style=\"fill:#4c72b0;\"/>\n   </g>\n   <g id=\"patch_8\">\n    <path clip-path=\"url(#p22af94317a)\" d=\"M 252.677139 224.64 \nL 283.893923 224.64 \nL 283.893923 43.952588 \nL 252.677139 43.952588 \nz\n\" style=\"fill:#4c72b0;\"/>\n   </g>\n   <g id=\"patch_9\">\n    <path clip-path=\"url(#p22af94317a)\" d=\"M 291.698118 224.64 \nL 322.914902 224.64 \nL 322.914902 29.215672 \nL 291.698118 29.215672 \nz\n\" style=\"fill:#4c72b0;\"/>\n   </g>\n   <g id=\"patch_10\">\n    <path clip-path=\"url(#p22af94317a)\" d=\"M 330.719097 224.64 \nL 361.935881 224.64 \nL 361.935881 32.291202 \nL 330.719097 32.291202 \nz\n\" style=\"fill:#4c72b0;\"/>\n   </g>\n   <g id=\"patch_11\">\n    <path d=\"M 42.354063 224.64 \nL 42.354063 7.2 \n\" style=\"fill:none;\"/>\n   </g>\n   <g id=\"patch_12\">\n    <path d=\"M 377.154063 224.64 \nL 377.154063 7.2 \n\" style=\"fill:none;\"/>\n   </g>\n   <g id=\"patch_13\">\n    <path d=\"M 42.354063 224.64 \nL 377.154063 224.64 \n\" style=\"fill:none;\"/>\n   </g>\n   <g id=\"patch_14\">\n    <path d=\"M 42.354063 7.2 \nL 377.154063 7.2 \n\" style=\"fill:none;\"/>\n   </g>\n  </g>\n </g>\n <defs>\n  <clipPath id=\"p22af94317a\">\n   <rect height=\"217.44\" width=\"334.8\" x=\"42.354063\" y=\"7.2\"/>\n  </clipPath>\n </defs>\n</svg>\n"
          },
          "metadata": {
            "needs_background": "light"
          }
        }
      ]
    },
    {
      "cell_type": "markdown",
      "source": [
        "Based on the cross-validation score, the highest score is achieved by the GradientBoostingClassifier model. Because of that, I proceed in training it on the full dataset and then evaluate on the test data."
      ],
      "metadata": {
        "id": "Rbx_8seqJLT0"
      }
    },
    {
      "cell_type": "markdown",
      "source": [
        "### Step 4. Final evaluation"
      ],
      "metadata": {
        "id": "RjxtA0YOQQLJ"
      }
    },
    {
      "cell_type": "code",
      "source": [
        "models[best_model_type].fit(Xtrain, Ytrain)\n",
        "Yguess = models[best_model_type].predict(Xtest)\n",
        "acc = accuracy_score(Ytest, Yguess)\n",
        "print(f'INFO. Trained {best_model_type} reached accuracy: {acc:.4f}')"
      ],
      "metadata": {
        "colab": {
          "base_uri": "https://localhost:8080/"
        },
        "id": "NIi96YpJ0I1l",
        "outputId": "a8668162-0c4a-4208-f306-97029b0d5cb5"
      },
      "execution_count": null,
      "outputs": [
        {
          "output_type": "stream",
          "name": "stdout",
          "text": [
            "INFO. Trained GradientBoostingClassifier reached accuracy: 0.9272\n"
          ]
        }
      ]
    },
    {
      "cell_type": "markdown",
      "source": [
        "> **For the report.** In your submitted report, please include a description of the classifier you selected and report its accuracy. (At this point, we are of course not asking you to describe internal workings of various machine learning models that we will cover in detail at later points during the course, but you are of course free to read about them if you're interested.)"
      ],
      "metadata": {
        "id": "PEuGd4m7YDmi"
      }
    },
    {
      "cell_type": "markdown",
      "source": [
        "#### Gradient Boosting Classifier"
      ],
      "metadata": {
        "id": "r-GVeGFKRLsV"
      }
    },
    {
      "cell_type": "markdown",
      "source": [
        "The GradientBoostingClassifier is an advanced version of the AdaBoosting model. Like a random forest classifier, it's also ensemble-based, meaning that the classification is done by several \"weak\" learners, i.e. typically small decision trees.\n",
        "\n",
        "The main idea, compared to random forests, is not just to create $n$ decision trees and utilize their average score. Rather, each tree is built \"from the previous one error\". In practice, GradientBoostingClassifier generates $n$ decision trees for which their result minimizes a certain loss function.\n",
        "\n",
        "In classification task, GradientBoostingClassifier needs to perform a mapping from continuos-values outputs from the weak learners to class probability."
      ],
      "metadata": {
        "id": "lvi7KqYSoRqf"
      }
    },
    {
      "cell_type": "markdown",
      "source": [
        "## Task 2: Decision trees for classification"
      ],
      "metadata": {
        "id": "iQNiUR5SQTGb"
      }
    },
    {
      "cell_type": "markdown",
      "source": [
        "### Setup"
      ],
      "metadata": {
        "id": "6HhVpLYG9n-C"
      }
    },
    {
      "cell_type": "code",
      "source": [
        "import numpy as np\n",
        "import matplotlib.pyplot as plt\n",
        "from sklearn.model_selection import train_test_split\n",
        "\n",
        "%config InlineBackend.figure_format = 'svg' \n",
        "plt.style.use('seaborn')\n",
        "%matplotlib inline\n",
        "\n",
        "# # Load Dataset\n",
        "# filename = os.path.join(data_dir, 'iris.csv')\n",
        "# data = pd.read_csv(filename)\n",
        "# data_shuffled = data.sample(frac=1.0, random_state=0)\n",
        "# X = data_shuffled.drop('species', axis=1)\n",
        "# Y = data_shuffled['species']\n",
        "\n",
        "# data_shuffled.head()\n",
        "\n",
        "# Xtrain, Xtest, Ytrain, Ytest = train_test_split(X, Y, test_size=0.4, random_state=0)\n",
        "# clf = DecisionTreeClassifier()\n",
        "# clf.fit(Xtrain, Ytrain);"
      ],
      "metadata": {
        "id": "C5G8awtr8R4C"
      },
      "execution_count": 7,
      "outputs": []
    },
    {
      "cell_type": "markdown",
      "source": [
        "#### Leaf"
      ],
      "metadata": {
        "id": "PhVUifKScGHw"
      }
    },
    {
      "cell_type": "code",
      "source": [
        "class DecisionTreeLeaf:\n",
        "    def __init__(self, value):\n",
        "        self.value = value\n",
        "\n",
        "    # This method computes the prediction for this leaf node. This will just return a constant value.\n",
        "    def predict(self, x):\n",
        "        return self.value\n",
        "\n",
        "    # Utility function to draw a tree visually using graphviz.\n",
        "    def draw_tree(self, graph, node_counter, names):\n",
        "        node_id = str(node_counter)\n",
        "        val_str = f'{self.value:.4g}' if isinstance(self.value, float) else str(self.value)\n",
        "        graph.node(node_id, val_str, style='filled')\n",
        "        return node_counter+1, node_id\n",
        "        \n",
        "    def __eq__(self, other):\n",
        "        if isinstance(other, DecisionTreeLeaf):\n",
        "            return self.value == other.value\n",
        "        else:\n",
        "            return False\n",
        "\n",
        "class DecisionTreeBranch:\n",
        "    def __init__(self, feature, threshold, low_subtree, high_subtree):\n",
        "        self.feature = feature\n",
        "        self.threshold = threshold\n",
        "        self.low_subtree = low_subtree\n",
        "        self.high_subtree = high_subtree\n",
        "\n",
        "    # For a branch node, we compute the prediction by first considering the feature, and then \n",
        "    # calling the upper or lower subtree, depending on whether the feature is or isn't greater\n",
        "    # than the threshold.\n",
        "    def predict(self, x):\n",
        "        if x[self.feature] <= self.threshold:\n",
        "            return self.low_subtree.predict(x)\n",
        "        else:\n",
        "            return self.high_subtree.predict(x)\n",
        "\n",
        "    # Utility function to draw a tree visually using graphviz.\n",
        "    def draw_tree(self, graph, node_counter, names):\n",
        "        node_counter, low_id = self.low_subtree.draw_tree(graph, node_counter, names)\n",
        "        node_counter, high_id = self.high_subtree.draw_tree(graph, node_counter, names)\n",
        "        node_id = str(node_counter)\n",
        "        fname = f'F{self.feature}' if names is None else names[self.feature]\n",
        "        lbl = f'{fname} > {self.threshold:.4g}?'\n",
        "        graph.node(node_id, lbl, shape='box', fillcolor='yellow', style='filled, rounded')\n",
        "        graph.edge(node_id, low_id, 'False')\n",
        "        graph.edge(node_id, high_id, 'True')\n",
        "        return node_counter+1, node_id"
      ],
      "metadata": {
        "id": "DqUZtyBr9BtJ"
      },
      "execution_count": 8,
      "outputs": []
    },
    {
      "cell_type": "markdown",
      "source": [
        "#### Decision Tree"
      ],
      "metadata": {
        "id": "xNKXO61dcJz3"
      }
    },
    {
      "cell_type": "code",
      "source": [
        "from graphviz import Digraph\n",
        "from sklearn.base import BaseEstimator, ClassifierMixin\n",
        "from abc import ABC, abstractmethod\n",
        "\n",
        "class DecisionTree(ABC, BaseEstimator):\n",
        "\n",
        "    def __init__(self, max_depth):\n",
        "        super().__init__()\n",
        "        self.max_depth = max_depth\n",
        "        \n",
        "    # As usual in scikit-learn, the training method is called *fit*. We first process the dataset so that\n",
        "    # we're sure that it's represented as a NumPy matrix. Then we call the recursive tree-building method\n",
        "    # called make_tree (see below).\n",
        "    def fit(self, X, Y):\n",
        "        if isinstance(X, pd.DataFrame):\n",
        "            self.names = X.columns\n",
        "            X = X.to_numpy()\n",
        "        elif isinstance(X, list):\n",
        "            self.names = None\n",
        "            X = np.array(X)\n",
        "        else:\n",
        "            self.names = None\n",
        "        Y = np.array(Y)        \n",
        "        self.root = self.make_tree(X, Y, self.max_depth)\n",
        "        \n",
        "    def draw_tree(self):\n",
        "        graph = Digraph()\n",
        "        self.root.draw_tree(graph, 0, self.names)\n",
        "        return graph\n",
        "    \n",
        "    # By scikit-learn convention, the method *predict* computes the classification or regression output\n",
        "    # for a set of instances.\n",
        "    # To implement it, we call a separate method that carries out the prediction for one instance.\n",
        "    def predict(self, X):\n",
        "        if isinstance(X, pd.DataFrame):\n",
        "            X = X.to_numpy()\n",
        "        return [self.predict_one(x) for x in X]\n",
        "\n",
        "    # Predicting the output for one instance.\n",
        "    def predict_one(self, x):\n",
        "        return self.root.predict(x)        \n",
        "\n",
        "    # This is the recursive training \n",
        "    def make_tree(self, X, Y, max_depth):\n",
        "\n",
        "        # We start by computing the default value that will be used if we'll return a leaf node.\n",
        "        # For classifiers, this will be the most common value in Y.\n",
        "        default_value = self.get_default_value(Y)\n",
        "\n",
        "        # First the two base cases in the recursion: is the training set completely\n",
        "        # homogeneous, or have we reached the maximum depth? Then we need to return a leaf.\n",
        "\n",
        "        # If we have reached the maximum depth, return a leaf with the majority value.\n",
        "        if max_depth == 0:\n",
        "            return DecisionTreeLeaf(default_value)\n",
        "\n",
        "        # If all the instances in the remaining training set have the same output value,\n",
        "        # return a leaf with this value.\n",
        "        if self.is_homogeneous(Y):\n",
        "            return DecisionTreeLeaf(default_value)\n",
        "\n",
        "        # Select the \"most useful\" feature and split threshold. To rank the \"usefulness\" of features,\n",
        "        # we use one of the classification or regression criteria.\n",
        "        # For each feature, we call best_split (defined in a subclass). We then maximize over the features.\n",
        "        n_features = X.shape[1]\n",
        "        _, best_feature, best_threshold = max(self.best_split(X, Y, feature) for feature in range(n_features))\n",
        "        \n",
        "        if best_feature is None:\n",
        "            return DecisionTreeLeaf(default_value)\n",
        "\n",
        "        # Split the training set into subgroups, based on whether the selected feature is greater than\n",
        "        # the threshold or not\n",
        "        X_low, X_high, Y_low, Y_high = self.split_by_feature(X, Y, best_feature, best_threshold)\n",
        "\n",
        "        # Build the subtrees using a recursive call. Each subtree is associated\n",
        "        # with a value of the feature.\n",
        "        low_subtree = self.make_tree(X_low, Y_low, max_depth-1)\n",
        "        high_subtree = self.make_tree(X_high, Y_high, max_depth-1)\n",
        "\n",
        "        if low_subtree == high_subtree:\n",
        "            return low_subtree\n",
        "\n",
        "        # Return a decision tree branch containing the result.\n",
        "        return DecisionTreeBranch(best_feature, best_threshold, low_subtree, high_subtree)\n",
        "    \n",
        "    # Utility method that splits the data into the \"upper\" and \"lower\" part, based on a feature\n",
        "    # and a threshold.\n",
        "    def split_by_feature(self, X, Y, feature, threshold):\n",
        "        low = X[:,feature] <= threshold\n",
        "        high = ~low\n",
        "        return X[low], X[high], Y[low], Y[high]\n",
        "    \n",
        "    # The following three methods need to be implemented by the classification and regression subclasses.\n",
        "    \n",
        "    @abstractmethod\n",
        "    def get_default_value(self, Y):\n",
        "        pass\n",
        "\n",
        "    @abstractmethod\n",
        "    def is_homogeneous(self, Y):\n",
        "        pass\n",
        "\n",
        "    @abstractmethod\n",
        "    def best_split(self, X, Y, feature):\n",
        "        pass"
      ],
      "metadata": {
        "id": "CCA6B9gX9QWm"
      },
      "execution_count": 9,
      "outputs": []
    },
    {
      "cell_type": "markdown",
      "source": [
        "#### Tree Classifier"
      ],
      "metadata": {
        "id": "lChJ_YHOcM-g"
      }
    },
    {
      "cell_type": "code",
      "source": [
        "from collections import Counter\n",
        "\n",
        "class TreeClassifier(DecisionTree, ClassifierMixin):\n",
        "\n",
        "    def __init__(self, max_depth=10, criterion='maj_sum'):\n",
        "        super().__init__(max_depth)\n",
        "        self.criterion = criterion\n",
        "        \n",
        "    def fit(self, X, Y):\n",
        "        # For decision tree classifiers, there are some different ways to measure\n",
        "        # the homogeneity of subsets.\n",
        "        if self.criterion == 'maj_sum':\n",
        "            self.criterion_function = majority_sum_scorer\n",
        "        elif self.criterion == 'info_gain':\n",
        "            self.criterion_function = info_gain_scorer\n",
        "        elif self.criterion == 'gini':\n",
        "            self.criterion_function = gini_scorer\n",
        "        else:\n",
        "            raise Exception(f'Unknown criterion: {self.criterion}')\n",
        "        super().fit(X, Y)\n",
        "        self.classes_ = sorted(set(Y))\n",
        "\n",
        "    # Select a default value that is going to be used if we decide to make a leaf.\n",
        "    # We will select the most common value.\n",
        "    def get_default_value(self, Y):\n",
        "        self.class_distribution = Counter(Y)\n",
        "        return self.class_distribution.most_common(1)[0][0]\n",
        "    \n",
        "    # Checks whether a set of output values is homogeneous. In the classification case, \n",
        "    # this means that all output values are identical.\n",
        "    # We assume that we called get_default_value just before, so that we can access\n",
        "    # the class_distribution attribute. If the class distribution contains just one item,\n",
        "    # this means that the set is homogeneous.\n",
        "    def is_homogeneous(self, Y):\n",
        "        return len(self.class_distribution) == 1\n",
        "        \n",
        "    # Finds the best splitting point for a given feature. We'll keep frequency tables (Counters)\n",
        "    # for the upper and lower parts, and then compute the impurity criterion using these tables.\n",
        "    # In the end, we return a triple consisting of\n",
        "    # - the best score we found, according to the criterion we're using\n",
        "    # - the id of the feature\n",
        "    # - the threshold for the best split\n",
        "    def best_split(self, X, Y, feature):\n",
        "\n",
        "        # Create a list of input-output pairs, where we have sorted\n",
        "        # in ascending order by the input feature we're considering.\n",
        "        sorted_indices = np.argsort(X[:, feature])        \n",
        "        X_sorted = list(X[sorted_indices, feature])\n",
        "        Y_sorted = list(Y[sorted_indices])\n",
        "\n",
        "        n = len(Y)\n",
        "\n",
        "        # The frequency tables corresponding to the parts *before and including*\n",
        "        # and *after* the current element.\n",
        "        low_distr = Counter()\n",
        "        high_distr = Counter(Y)\n",
        "\n",
        "        # Keep track of the best result we've seen so far.\n",
        "        max_score = -np.inf\n",
        "        max_i = None\n",
        "\n",
        "        # Go through all the positions (excluding the last position).\n",
        "        for i in range(0, n-1):\n",
        "\n",
        "            # Input and output at the current position.\n",
        "            x_i = X_sorted[i]\n",
        "            y_i = Y_sorted[i]\n",
        "            \n",
        "            # Update the frequency tables.\n",
        "            low_distr[y_i] += 1\n",
        "            high_distr[y_i] -= 1\n",
        "\n",
        "            # If the input is equal to the input at the next position, we will\n",
        "            # not consider a split here.\n",
        "            #x_next = XY[i+1][0]\n",
        "            x_next = X_sorted[i+1]\n",
        "            if x_i == x_next:\n",
        "                continue\n",
        "\n",
        "            # Compute the homogeneity criterion for a split at this position.\n",
        "            score = self.criterion_function(i+1, low_distr, n-i-1, high_distr)\n",
        "\n",
        "            # If this is the best split, remember it.\n",
        "            if score > max_score:\n",
        "                max_score = score\n",
        "                max_i = i\n",
        "\n",
        "        # If we didn't find any split (meaning that all inputs are identical), return\n",
        "        # a dummy value.\n",
        "        if max_i is None:\n",
        "            return -np.inf, None, None\n",
        "\n",
        "        # Otherwise, return the best split we found and its score.\n",
        "        split_point = 0.5*(X_sorted[max_i] + X_sorted[max_i+1])\n",
        "        return max_score, feature, split_point"
      ],
      "metadata": {
        "id": "Rn0Te5Pi9Wu5"
      },
      "execution_count": 10,
      "outputs": []
    },
    {
      "cell_type": "code",
      "source": [
        "def majority_sum_scorer(n_low, low_distr, n_high, high_distr):\n",
        "    maj_sum_low = low_distr.most_common(1)[0][1]\n",
        "    maj_sum_high = high_distr.most_common(1)[0][1]\n",
        "    return maj_sum_low + maj_sum_high\n",
        "    \n",
        "def entropy(distr):\n",
        "    n = sum(distr.values())\n",
        "    ps = [n_i/n for n_i in distr.values()]\n",
        "    return -sum(p*np.log2(p) if p > 0 else 0 for p in ps)\n",
        "\n",
        "def info_gain_scorer(n_low, low_distr, n_high, high_distr):\n",
        "    return -(n_low*entropy(low_distr)+n_high*entropy(high_distr))/(n_low+n_high)\n",
        "\n",
        "def gini_impurity(distr):\n",
        "    n = sum(distr.values())\n",
        "    ps = [n_i/n for n_i in distr.values()]\n",
        "    return 1-sum(p**2 for p in ps)\n",
        "    \n",
        "def gini_scorer(n_low, low_distr, n_high, high_distr):\n",
        "    return -(n_low*gini_impurity(low_distr)+n_high*gini_impurity(high_distr))/(n_low+n_high)"
      ],
      "metadata": {
        "id": "TA8BXzq29a6J"
      },
      "execution_count": 11,
      "outputs": []
    },
    {
      "cell_type": "markdown",
      "source": [
        "### Evaluation\n",
        "\n",
        "> For the report. In your submitted report, please mention what value of max_depth you selected and what accuracy you got."
      ],
      "metadata": {
        "id": "JXGw_D8O9iG8"
      }
    },
    {
      "cell_type": "code",
      "source": [
        "model = TreeClassifier(max_depth=10, criterion='maj_sum')\n",
        "model_score = aggregate_scores(cross_val_score(model, Xtrain, Ytrain))\n",
        "print(model_score)"
      ],
      "metadata": {
        "colab": {
          "base_uri": "https://localhost:8080/"
        },
        "id": "C6QJmEIb9wmi",
        "outputId": "64de2ced-ae39-48c9-e329-d3980f614ad0"
      },
      "execution_count": 12,
      "outputs": [
        {
          "output_type": "stream",
          "name": "stdout",
          "text": [
            "0.9099999999999999\n"
          ]
        }
      ]
    },
    {
      "cell_type": "code",
      "source": [
        "import itertools\n",
        "\n",
        "depths = [1, 5, 10, 20]\n",
        "criterions = ['maj_sum', 'info_gain', 'gini']\n",
        "best_score = -1\n",
        "scores = {}\n",
        "\n",
        "for (d, c) in itertools.product(depths, criterions):\n",
        "    model = TreeClassifier(max_depth=d, criterion=c)\n",
        "    model_score = aggregate_scores(cross_val_score(model, Xtrain, Ytrain))\n",
        "    scores[f'd={d}, c={c}'] = model_score\n",
        "    print(f'INFO. Tree with depth {d} with criterion {c} achieved: {model_score:.4f}')\n",
        "    if model_score > best_score:\n",
        "        best_model = model\n",
        "        best_depth = d\n",
        "        best_criterion = c\n",
        "        best_score = model_score\n",
        "print(f'INFO. Tree with depth {best_depth} with criterion {best_criterion} achieved best score: {best_score}')"
      ],
      "metadata": {
        "colab": {
          "base_uri": "https://localhost:8080/"
        },
        "id": "upvoHYdPZKwK",
        "outputId": "3c2b8541-d84b-48ea-eea9-37676ccf9d68"
      },
      "execution_count": 13,
      "outputs": [
        {
          "output_type": "stream",
          "name": "stdout",
          "text": [
            "INFO. Tree with depth 1 with criterion maj_sum achieved: 0.8318\n",
            "INFO. Tree with depth 1 with criterion info_gain achieved: 0.7806\n",
            "INFO. Tree with depth 1 with criterion gini achieved: 0.8165\n",
            "INFO. Tree with depth 5 with criterion maj_sum achieved: 0.9124\n",
            "INFO. Tree with depth 5 with criterion info_gain achieved: 0.9159\n",
            "INFO. Tree with depth 5 with criterion gini achieved: 0.9300\n",
            "INFO. Tree with depth 10 with criterion maj_sum achieved: 0.9100\n",
            "INFO. Tree with depth 10 with criterion info_gain achieved: 0.9294\n",
            "INFO. Tree with depth 10 with criterion gini achieved: 0.9229\n",
            "INFO. Tree with depth 20 with criterion maj_sum achieved: 0.9065\n",
            "INFO. Tree with depth 20 with criterion info_gain achieved: 0.9300\n",
            "INFO. Tree with depth 20 with criterion gini achieved: 0.9206\n",
            "INFO. Tree with depth 5 with criterion gini achieved best score: 0.93\n"
          ]
        }
      ]
    },
    {
      "cell_type": "code",
      "source": [
        "fig, ax = plt.subplots()\n",
        "linspace = [x for x in range(len(scores.keys()))]\n",
        "plt.bar(linspace, scores.values())\n",
        "plt.xticks(linspace, [f'{m}' for m in scores.keys()], rotation=90)\n",
        "plt.grid(which='both', axis='y', zorder=1)\n",
        "plt.ylabel('Accuracy')\n",
        "plt.tight_layout()\n",
        "plt.show()"
      ],
      "metadata": {
        "colab": {
          "base_uri": "https://localhost:8080/",
          "height": 396
        },
        "id": "oo0kDbPGRloY",
        "outputId": "52a982ba-a404-4701-be23-263223612512"
      },
      "execution_count": 14,
      "outputs": [
        {
          "output_type": "display_data",
          "data": {
            "text/plain": [
              "<Figure size 432x288 with 1 Axes>"
            ],
            "image/svg+xml": "<?xml version=\"1.0\" encoding=\"utf-8\" standalone=\"no\"?>\n<!DOCTYPE svg PUBLIC \"-//W3C//DTD SVG 1.1//EN\"\n  \"http://www.w3.org/Graphics/SVG/1.1/DTD/svg11.dtd\">\n<!-- Created with matplotlib (https://matplotlib.org/) -->\n<svg height=\"280.807813pt\" version=\"1.1\" viewBox=\"0 0 424.954062 280.807813\" width=\"424.954062pt\" xmlns=\"http://www.w3.org/2000/svg\" xmlns:xlink=\"http://www.w3.org/1999/xlink\">\n <defs>\n  <style type=\"text/css\">\n*{stroke-linecap:butt;stroke-linejoin:round;}\n  </style>\n </defs>\n <g id=\"figure_1\">\n  <g id=\"patch_1\">\n   <path d=\"M 0 280.807813 \nL 424.954062 280.807813 \nL 424.954062 0 \nL 0 0 \nz\n\" style=\"fill:none;\"/>\n  </g>\n  <g id=\"axes_1\">\n   <g id=\"patch_2\">\n    <path d=\"M 42.354063 187.1 \nL 417.754062 187.1 \nL 417.754062 7.2 \nL 42.354063 7.2 \nz\n\" style=\"fill:#eaeaf2;\"/>\n   </g>\n   <g id=\"matplotlib.axis_1\">\n    <g id=\"xtick_1\">\n     <g id=\"line2d_1\">\n      <path clip-path=\"url(#p25afd073c3)\" d=\"M 70.986266 187.1 \nL 70.986266 7.2 \n\" style=\"fill:none;stroke:#ffffff;stroke-linecap:round;\"/>\n     </g>\n     <g id=\"line2d_2\"/>\n     <g id=\"text_1\">\n      <!-- d=1, c=maj_sum -->\n      <defs>\n       <path d=\"M 40.09375 8.5 \nQ 37.640625 3.421875 33.609375 1.21875 \nQ 29.59375 -0.984375 23.640625 -0.984375 \nQ 13.625 -0.984375 8.90625 5.75 \nQ 4.203125 12.5 4.203125 26.171875 \nQ 4.203125 53.8125 23.640625 53.8125 \nQ 29.640625 53.8125 33.640625 51.609375 \nQ 37.640625 49.421875 40.09375 44.625 \nL 40.1875 44.625 \nQ 40.1875 45.125 40.15625 46.171875 \nQ 40.140625 47.21875 40.109375 48.359375 \nQ 40.09375 49.515625 40.09375 50.53125 \nQ 40.09375 51.5625 40.09375 52 \nL 40.09375 72.46875 \nL 48.875 72.46875 \nL 48.875 10.890625 \nQ 48.875 8.984375 48.890625 7.21875 \nQ 48.921875 5.46875 48.96875 4 \nQ 49.03125 2.546875 49.078125 1.484375 \nQ 49.125 0.4375 49.171875 0 \nL 40.765625 0 \nQ 40.671875 0.484375 40.59375 1.390625 \nQ 40.53125 2.296875 40.453125 3.46875 \nQ 40.375 4.640625 40.328125 5.9375 \nQ 40.28125 7.234375 40.28125 8.5 \nz\nM 13.421875 26.46875 \nQ 13.421875 21 14.109375 17.09375 \nQ 14.796875 13.1875 16.3125 10.671875 \nQ 17.828125 8.15625 20.171875 6.984375 \nQ 22.515625 5.8125 25.875 5.8125 \nQ 29.34375 5.8125 32 6.9375 \nQ 34.671875 8.0625 36.453125 10.578125 \nQ 38.234375 13.09375 39.15625 17.140625 \nQ 40.09375 21.1875 40.09375 27.046875 \nQ 40.09375 32.671875 39.15625 36.546875 \nQ 38.234375 40.4375 36.421875 42.828125 \nQ 34.625 45.21875 32 46.265625 \nQ 29.390625 47.3125 25.984375 47.3125 \nQ 22.75 47.3125 20.40625 46.1875 \nQ 18.0625 45.0625 16.5 42.578125 \nQ 14.9375 40.09375 14.171875 36.109375 \nQ 13.421875 32.125 13.421875 26.46875 \nz\n\" id=\"LiberationSans-100\"/>\n       <path d=\"M 4.890625 41.796875 \nL 4.890625 49.03125 \nL 53.46875 49.03125 \nL 53.46875 41.796875 \nz\nM 4.890625 16.796875 \nL 4.890625 24.03125 \nL 53.46875 24.03125 \nL 53.46875 16.796875 \nz\n\" id=\"LiberationSans-61\"/>\n       <path d=\"M 7.625 0 \nL 7.625 7.46875 \nL 25.140625 7.46875 \nL 25.140625 60.40625 \nL 9.625 49.3125 \nL 9.625 57.625 \nL 25.875 68.796875 \nL 33.984375 68.796875 \nL 33.984375 7.46875 \nL 50.734375 7.46875 \nL 50.734375 0 \nz\n\" id=\"LiberationSans-49\"/>\n       <path d=\"M 18.796875 10.6875 \nL 18.796875 2.484375 \nQ 18.796875 -0.09375 18.578125 -2.21875 \nQ 18.359375 -4.34375 17.875 -6.171875 \nQ 17.390625 -8.015625 16.671875 -9.625 \nQ 15.96875 -11.234375 14.984375 -12.796875 \nL 8.984375 -12.796875 \nQ 11.1875 -9.625 12.375 -6.390625 \nQ 13.578125 -3.171875 13.578125 0 \nL 9.28125 0 \nL 9.28125 10.6875 \nz\n\" id=\"LiberationSans-44\"/>\n       <path id=\"LiberationSans-32\"/>\n       <path d=\"M 13.421875 26.65625 \nQ 13.421875 22.125 14.078125 18.3125 \nQ 14.75 14.5 16.3125 11.734375 \nQ 17.875 8.984375 20.4375 7.46875 \nQ 23 5.953125 26.765625 5.953125 \nQ 31.453125 5.953125 34.59375 8.484375 \nQ 37.75 11.03125 38.484375 16.3125 \nL 47.359375 15.71875 \nQ 46.921875 12.453125 45.453125 9.421875 \nQ 44 6.390625 41.484375 4.09375 \nQ 38.96875 1.8125 35.34375 0.40625 \nQ 31.734375 -0.984375 27 -0.984375 \nQ 20.796875 -0.984375 16.453125 1.109375 \nQ 12.109375 3.21875 9.390625 6.90625 \nQ 6.6875 10.59375 5.46875 15.59375 \nQ 4.25 20.609375 4.25 26.46875 \nQ 4.25 31.78125 5.125 35.859375 \nQ 6 39.9375 7.59375 42.984375 \nQ 9.1875 46.046875 11.328125 48.125 \nQ 13.484375 50.203125 15.984375 51.4375 \nQ 18.5 52.6875 21.28125 53.25 \nQ 24.078125 53.8125 26.90625 53.8125 \nQ 31.34375 53.8125 34.8125 52.59375 \nQ 38.28125 51.375 40.796875 49.25 \nQ 43.3125 47.125 44.875 44.234375 \nQ 46.4375 41.359375 47.078125 38.03125 \nL 38.03125 37.359375 \nQ 37.359375 41.75 34.5625 44.328125 \nQ 31.78125 46.921875 26.65625 46.921875 \nQ 22.90625 46.921875 20.390625 45.671875 \nQ 17.875 44.4375 16.3125 41.921875 \nQ 14.75 39.40625 14.078125 35.59375 \nQ 13.421875 31.78125 13.421875 26.65625 \nz\n\" id=\"LiberationSans-99\"/>\n       <path d=\"M 37.5 0 \nL 37.5 33.5 \nQ 37.5 37.359375 37.015625 39.9375 \nQ 36.53125 42.53125 35.375 44.109375 \nQ 34.234375 45.703125 32.375 46.359375 \nQ 30.515625 47.015625 27.828125 47.015625 \nQ 25.046875 47.015625 22.796875 45.921875 \nQ 20.5625 44.828125 18.96875 42.75 \nQ 17.390625 40.671875 16.53125 37.625 \nQ 15.671875 34.578125 15.671875 30.609375 \nL 15.671875 0 \nL 6.9375 0 \nL 6.9375 41.546875 \nQ 6.9375 43.21875 6.90625 45.046875 \nQ 6.890625 46.875 6.828125 48.5 \nQ 6.78125 50.140625 6.734375 51.3125 \nQ 6.6875 52.484375 6.640625 52.828125 \nL 14.9375 52.828125 \nQ 14.984375 52.59375 15.03125 51.515625 \nQ 15.09375 50.4375 15.15625 49.046875 \nQ 15.234375 47.65625 15.28125 46.21875 \nQ 15.328125 44.78125 15.328125 43.796875 \nL 15.484375 43.796875 \nQ 16.65625 46.09375 18.015625 47.953125 \nQ 19.390625 49.8125 21.21875 51.09375 \nQ 23.046875 52.390625 25.40625 53.09375 \nQ 27.78125 53.8125 30.90625 53.8125 \nQ 36.921875 53.8125 40.40625 51.421875 \nQ 43.890625 49.03125 45.265625 43.796875 \nL 45.40625 43.796875 \nQ 46.578125 46.09375 48.046875 47.953125 \nQ 49.515625 49.8125 51.46875 51.09375 \nQ 53.421875 52.390625 55.859375 53.09375 \nQ 58.296875 53.8125 61.421875 53.8125 \nQ 65.4375 53.8125 68.328125 52.734375 \nQ 71.234375 51.65625 73.09375 49.40625 \nQ 74.953125 47.171875 75.828125 43.625 \nQ 76.703125 40.09375 76.703125 35.203125 \nL 76.703125 0 \nL 68.015625 0 \nL 68.015625 33.5 \nQ 68.015625 37.359375 67.53125 39.9375 \nQ 67.046875 42.53125 65.890625 44.109375 \nQ 64.75 45.703125 62.890625 46.359375 \nQ 61.03125 47.015625 58.34375 47.015625 \nQ 55.5625 47.015625 53.3125 45.96875 \nQ 51.078125 44.921875 49.484375 42.875 \nQ 47.90625 40.828125 47.046875 37.75 \nQ 46.1875 34.671875 46.1875 30.609375 \nL 46.1875 0 \nz\n\" id=\"LiberationSans-109\"/>\n       <path d=\"M 20.21875 -0.984375 \nQ 12.25 -0.984375 8.25 3.21875 \nQ 4.25 7.421875 4.25 14.75 \nQ 4.25 19.96875 6.21875 23.3125 \nQ 8.203125 26.65625 11.390625 28.5625 \nQ 14.59375 30.46875 18.6875 31.203125 \nQ 22.796875 31.9375 27.046875 32.03125 \nL 38.921875 32.234375 \nL 38.921875 35.109375 \nQ 38.921875 38.375 38.234375 40.671875 \nQ 37.546875 42.96875 36.125 44.375 \nQ 34.71875 45.796875 32.59375 46.453125 \nQ 30.46875 47.125 27.59375 47.125 \nQ 25.046875 47.125 23 46.75 \nQ 20.953125 46.390625 19.4375 45.4375 \nQ 17.921875 44.484375 16.984375 42.84375 \nQ 16.0625 41.21875 15.765625 38.71875 \nL 6.59375 39.546875 \nQ 7.078125 42.671875 8.4375 45.28125 \nQ 9.8125 47.90625 12.328125 49.796875 \nQ 14.84375 51.703125 18.625 52.75 \nQ 22.40625 53.8125 27.78125 53.8125 \nQ 37.75 53.8125 42.765625 49.234375 \nQ 47.796875 44.671875 47.796875 36.03125 \nL 47.796875 13.28125 \nQ 47.796875 9.375 48.828125 7.390625 \nQ 49.859375 5.421875 52.734375 5.421875 \nQ 53.46875 5.421875 54.203125 5.515625 \nQ 54.9375 5.609375 55.609375 5.765625 \nL 55.609375 0.296875 \nQ 53.953125 -0.09375 52.3125 -0.28125 \nQ 50.6875 -0.484375 48.828125 -0.484375 \nQ 46.34375 -0.484375 44.5625 0.171875 \nQ 42.78125 0.828125 41.65625 2.171875 \nQ 40.53125 3.515625 39.9375 5.484375 \nQ 39.359375 7.46875 39.203125 10.109375 \nL 38.921875 10.109375 \nQ 37.5 7.5625 35.8125 5.515625 \nQ 34.125 3.46875 31.875 2.03125 \nQ 29.640625 0.59375 26.78125 -0.1875 \nQ 23.921875 -0.984375 20.21875 -0.984375 \nz\nM 22.21875 5.609375 \nQ 26.421875 5.609375 29.5625 7.140625 \nQ 32.71875 8.6875 34.78125 11.078125 \nQ 36.859375 13.484375 37.890625 16.3125 \nQ 38.921875 19.140625 38.921875 21.734375 \nL 38.921875 26.078125 \nL 29.296875 25.875 \nQ 26.078125 25.828125 23.171875 25.40625 \nQ 20.265625 25 18.0625 23.78125 \nQ 15.875 22.5625 14.578125 20.359375 \nQ 13.28125 18.171875 13.28125 14.59375 \nQ 13.28125 10.296875 15.59375 7.953125 \nQ 17.921875 5.609375 22.21875 5.609375 \nz\n\" id=\"LiberationSans-97\"/>\n       <path d=\"M 6.6875 64.0625 \nL 6.6875 72.46875 \nL 15.484375 72.46875 \nL 15.484375 64.0625 \nz\nM 15.484375 -6.546875 \nQ 15.484375 -9.578125 14.96875 -12.15625 \nQ 14.453125 -14.75 13.125 -16.65625 \nQ 11.8125 -18.5625 9.546875 -19.65625 \nQ 7.28125 -20.75 3.765625 -20.75 \nQ 2.09375 -20.75 0.5 -20.65625 \nQ -1.078125 -20.5625 -2.4375 -20.3125 \nL -2.4375 -13.53125 \nQ -1.8125 -13.625 -0.921875 -13.71875 \nQ -0.046875 -13.8125 0.59375 -13.8125 \nQ 2.4375 -13.8125 3.625 -13.328125 \nQ 4.828125 -12.84375 5.515625 -11.796875 \nQ 6.203125 -10.75 6.4375 -9.109375 \nQ 6.6875 -7.46875 6.6875 -5.21875 \nL 6.6875 52.828125 \nL 15.484375 52.828125 \nz\n\" id=\"LiberationSans-106\"/>\n       <path d=\"M -1.515625 -19.875 \nL -1.515625 -13.53125 \nL 56.734375 -13.53125 \nL 56.734375 -19.875 \nz\n\" id=\"LiberationSans-95\"/>\n       <path d=\"M 46.390625 14.59375 \nQ 46.390625 10.890625 44.9375 7.984375 \nQ 43.5 5.078125 40.765625 3.09375 \nQ 38.03125 1.125 34.046875 0.0625 \nQ 30.078125 -0.984375 24.953125 -0.984375 \nQ 20.359375 -0.984375 16.671875 -0.265625 \nQ 12.984375 0.4375 10.203125 2 \nQ 7.421875 3.5625 5.53125 6.125 \nQ 3.65625 8.6875 2.78125 12.40625 \nL 10.546875 13.921875 \nQ 11.671875 9.671875 15.1875 7.6875 \nQ 18.703125 5.71875 24.953125 5.71875 \nQ 27.78125 5.71875 30.140625 6.109375 \nQ 32.515625 6.5 34.21875 7.453125 \nQ 35.9375 8.40625 36.890625 9.984375 \nQ 37.84375 11.578125 37.84375 13.921875 \nQ 37.84375 16.3125 36.71875 17.84375 \nQ 35.59375 19.390625 33.59375 20.40625 \nQ 31.59375 21.4375 28.734375 22.1875 \nQ 25.875 22.953125 22.46875 23.875 \nQ 19.28125 24.703125 16.15625 25.734375 \nQ 13.03125 26.765625 10.515625 28.4375 \nQ 8.015625 30.125 6.453125 32.609375 \nQ 4.890625 35.109375 4.890625 38.875 \nQ 4.890625 46.09375 10.03125 49.875 \nQ 15.1875 53.65625 25.046875 53.65625 \nQ 33.796875 53.65625 38.9375 50.578125 \nQ 44.09375 47.515625 45.453125 40.71875 \nL 37.546875 39.75 \nQ 37.109375 41.796875 35.9375 43.1875 \nQ 34.765625 44.578125 33.109375 45.4375 \nQ 31.453125 46.296875 29.375 46.65625 \nQ 27.296875 47.015625 25.046875 47.015625 \nQ 19.09375 47.015625 16.25 45.203125 \nQ 13.421875 43.40625 13.421875 39.75 \nQ 13.421875 37.59375 14.46875 36.203125 \nQ 15.53125 34.8125 17.40625 33.859375 \nQ 19.28125 32.90625 21.921875 32.203125 \nQ 24.5625 31.5 27.734375 30.71875 \nQ 29.828125 30.171875 32.03125 29.5625 \nQ 34.234375 28.953125 36.296875 28.09375 \nQ 38.375 27.25 40.203125 26.09375 \nQ 42.046875 24.953125 43.40625 23.34375 \nQ 44.78125 21.734375 45.578125 19.578125 \nQ 46.390625 17.4375 46.390625 14.59375 \nz\n\" id=\"LiberationSans-115\"/>\n       <path d=\"M 15.328125 52.828125 \nL 15.328125 19.34375 \nQ 15.328125 15.484375 15.890625 12.890625 \nQ 16.453125 10.296875 17.71875 8.703125 \nQ 19 7.125 21.0625 6.46875 \nQ 23.140625 5.8125 26.21875 5.8125 \nQ 29.34375 5.8125 31.859375 6.90625 \nQ 34.375 8.015625 36.15625 10.078125 \nQ 37.9375 12.15625 38.90625 15.203125 \nQ 39.890625 18.265625 39.890625 22.21875 \nL 39.890625 52.828125 \nL 48.6875 52.828125 \nL 48.6875 11.28125 \nQ 48.6875 9.625 48.703125 7.78125 \nQ 48.734375 5.953125 48.78125 4.3125 \nQ 48.828125 2.6875 48.875 1.515625 \nQ 48.921875 0.34375 48.96875 0 \nL 40.671875 0 \nQ 40.625 0.25 40.578125 1.3125 \nQ 40.53125 2.390625 40.453125 3.78125 \nQ 40.375 5.171875 40.328125 6.609375 \nQ 40.28125 8.0625 40.28125 9.03125 \nL 40.140625 9.03125 \nQ 38.875 6.734375 37.359375 4.875 \nQ 35.84375 3.03125 33.84375 1.734375 \nQ 31.84375 0.4375 29.25 -0.265625 \nQ 26.65625 -0.984375 23.25 -0.984375 \nQ 18.84375 -0.984375 15.671875 0.09375 \nQ 12.5 1.171875 10.453125 3.421875 \nQ 8.40625 5.671875 7.453125 9.1875 \nQ 6.5 12.703125 6.5 17.625 \nL 6.5 52.828125 \nz\n\" id=\"LiberationSans-117\"/>\n      </defs>\n      <g style=\"fill:#262626;\" transform=\"translate(73.572203 268.023438)rotate(-90)scale(0.1 -0.1)\">\n       <use xlink:href=\"#LiberationSans-100\"/>\n       <use x=\"55.615234\" xlink:href=\"#LiberationSans-61\"/>\n       <use x=\"114.013672\" xlink:href=\"#LiberationSans-49\"/>\n       <use x=\"169.628906\" xlink:href=\"#LiberationSans-44\"/>\n       <use x=\"197.412109\" xlink:href=\"#LiberationSans-32\"/>\n       <use x=\"225.195312\" xlink:href=\"#LiberationSans-99\"/>\n       <use x=\"275.195312\" xlink:href=\"#LiberationSans-61\"/>\n       <use x=\"333.59375\" xlink:href=\"#LiberationSans-109\"/>\n       <use x=\"416.894531\" xlink:href=\"#LiberationSans-97\"/>\n       <use x=\"472.509766\" xlink:href=\"#LiberationSans-106\"/>\n       <use x=\"494.726562\" xlink:href=\"#LiberationSans-95\"/>\n       <use x=\"550.341797\" xlink:href=\"#LiberationSans-115\"/>\n       <use x=\"600.341797\" xlink:href=\"#LiberationSans-117\"/>\n       <use x=\"655.957031\" xlink:href=\"#LiberationSans-109\"/>\n      </g>\n     </g>\n    </g>\n    <g id=\"xtick_2\">\n     <g id=\"line2d_3\">\n      <path clip-path=\"url(#p25afd073c3)\" d=\"M 99.907683 187.1 \nL 99.907683 7.2 \n\" style=\"fill:none;stroke:#ffffff;stroke-linecap:round;\"/>\n     </g>\n     <g id=\"line2d_4\"/>\n     <g id=\"text_2\">\n      <!-- d=1, c=info_gain -->\n      <defs>\n       <path d=\"M 6.6875 64.0625 \nL 6.6875 72.46875 \nL 15.484375 72.46875 \nL 15.484375 64.0625 \nz\nM 6.6875 0 \nL 6.6875 52.828125 \nL 15.484375 52.828125 \nL 15.484375 0 \nz\n\" id=\"LiberationSans-105\"/>\n       <path d=\"M 40.28125 0 \nL 40.28125 33.5 \nQ 40.28125 37.359375 39.71875 39.9375 \nQ 39.15625 42.53125 37.890625 44.109375 \nQ 36.625 45.703125 34.546875 46.359375 \nQ 32.46875 47.015625 29.390625 47.015625 \nQ 26.265625 47.015625 23.75 45.921875 \nQ 21.234375 44.828125 19.453125 42.75 \nQ 17.671875 40.671875 16.6875 37.625 \nQ 15.71875 34.578125 15.71875 30.609375 \nL 15.71875 0 \nL 6.9375 0 \nL 6.9375 41.546875 \nQ 6.9375 43.21875 6.90625 45.046875 \nQ 6.890625 46.875 6.828125 48.5 \nQ 6.78125 50.140625 6.734375 51.3125 \nQ 6.6875 52.484375 6.640625 52.828125 \nL 14.9375 52.828125 \nQ 14.984375 52.59375 15.03125 51.515625 \nQ 15.09375 50.4375 15.15625 49.046875 \nQ 15.234375 47.65625 15.28125 46.21875 \nQ 15.328125 44.78125 15.328125 43.796875 \nL 15.484375 43.796875 \nQ 16.75 46.09375 18.265625 47.953125 \nQ 19.78125 49.8125 21.78125 51.09375 \nQ 23.78125 52.390625 26.359375 53.09375 \nQ 28.953125 53.8125 32.375 53.8125 \nQ 36.765625 53.8125 39.9375 52.734375 \nQ 43.109375 51.65625 45.15625 49.40625 \nQ 47.21875 47.171875 48.171875 43.625 \nQ 49.125 40.09375 49.125 35.203125 \nL 49.125 0 \nz\n\" id=\"LiberationSans-110\"/>\n       <path d=\"M 17.625 46.4375 \nL 17.625 0 \nL 8.84375 0 \nL 8.84375 46.4375 \nL 1.421875 46.4375 \nL 1.421875 52.828125 \nL 8.84375 52.828125 \nL 8.84375 58.796875 \nQ 8.84375 61.671875 9.375 64.140625 \nQ 9.90625 66.609375 11.34375 68.4375 \nQ 12.796875 70.265625 15.28125 71.3125 \nQ 17.78125 72.359375 21.734375 72.359375 \nQ 23.296875 72.359375 24.96875 72.21875 \nQ 26.65625 72.078125 27.9375 71.78125 \nL 27.9375 65.09375 \nQ 27.09375 65.234375 26 65.359375 \nQ 24.90625 65.484375 24.03125 65.484375 \nQ 22.078125 65.484375 20.828125 64.9375 \nQ 19.578125 64.40625 18.875 63.40625 \nQ 18.171875 62.40625 17.890625 60.9375 \nQ 17.625 59.46875 17.625 57.5625 \nL 17.625 52.828125 \nL 27.9375 52.828125 \nL 27.9375 46.4375 \nz\n\" id=\"LiberationSans-102\"/>\n       <path d=\"M 51.421875 26.46875 \nQ 51.421875 12.59375 45.3125 5.796875 \nQ 39.203125 -0.984375 27.59375 -0.984375 \nQ 22.078125 -0.984375 17.71875 0.671875 \nQ 13.375 2.34375 10.375 5.765625 \nQ 7.375 9.1875 5.78125 14.328125 \nQ 4.203125 19.484375 4.203125 26.46875 \nQ 4.203125 53.8125 27.875 53.8125 \nQ 34.03125 53.8125 38.5 52.09375 \nQ 42.96875 50.390625 45.828125 46.96875 \nQ 48.6875 43.5625 50.046875 38.421875 \nQ 51.421875 33.296875 51.421875 26.46875 \nz\nM 42.1875 26.46875 \nQ 42.1875 32.625 41.234375 36.625 \nQ 40.28125 40.625 38.453125 43.015625 \nQ 36.625 45.40625 33.984375 46.359375 \nQ 31.34375 47.3125 28.03125 47.3125 \nQ 24.65625 47.3125 21.9375 46.3125 \nQ 19.234375 45.3125 17.328125 42.890625 \nQ 15.4375 40.484375 14.421875 36.46875 \nQ 13.421875 32.46875 13.421875 26.46875 \nQ 13.421875 20.3125 14.5 16.28125 \nQ 15.578125 12.25 17.453125 9.859375 \nQ 19.34375 7.46875 21.90625 6.484375 \nQ 24.46875 5.515625 27.484375 5.515625 \nQ 30.859375 5.515625 33.59375 6.46875 \nQ 36.328125 7.421875 38.234375 9.8125 \nQ 40.140625 12.203125 41.15625 16.25 \nQ 42.1875 20.3125 42.1875 26.46875 \nz\n\" id=\"LiberationSans-111\"/>\n       <path d=\"M 26.765625 -20.75 \nQ 22.21875 -20.75 18.703125 -19.8125 \nQ 15.1875 -18.890625 12.6875 -17.15625 \nQ 10.203125 -15.4375 8.640625 -13.03125 \nQ 7.078125 -10.640625 6.390625 -7.71875 \nL 15.234375 -6.453125 \nQ 16.109375 -10.109375 19.109375 -12.078125 \nQ 22.125 -14.0625 27 -14.0625 \nQ 29.984375 -14.0625 32.421875 -13.234375 \nQ 34.859375 -12.40625 36.5625 -10.5625 \nQ 38.28125 -8.734375 39.203125 -5.796875 \nQ 40.140625 -2.875 40.140625 1.3125 \nL 40.140625 9.8125 \nL 40.046875 9.8125 \nQ 39.0625 7.8125 37.625 5.984375 \nQ 36.1875 4.15625 34.109375 2.734375 \nQ 32.03125 1.3125 29.296875 0.453125 \nQ 26.5625 -0.390625 23.046875 -0.390625 \nQ 18.015625 -0.390625 14.421875 1.296875 \nQ 10.84375 2.984375 8.5625 6.34375 \nQ 6.296875 9.71875 5.25 14.71875 \nQ 4.203125 19.734375 4.203125 26.3125 \nQ 4.203125 32.671875 5.25 37.75 \nQ 6.296875 42.828125 8.65625 46.359375 \nQ 11.03125 49.90625 14.8125 51.78125 \nQ 18.609375 53.65625 24.03125 53.65625 \nQ 29.640625 53.65625 33.765625 51.09375 \nQ 37.890625 48.53125 40.140625 43.796875 \nL 40.234375 43.796875 \nQ 40.234375 45.015625 40.296875 46.53125 \nQ 40.375 48.046875 40.453125 49.390625 \nQ 40.53125 50.734375 40.625 51.703125 \nQ 40.71875 52.6875 40.828125 52.828125 \nL 49.171875 52.828125 \nQ 49.125 52.390625 49.078125 51.34375 \nQ 49.03125 50.296875 48.96875 48.828125 \nQ 48.921875 47.359375 48.890625 45.578125 \nQ 48.875 43.796875 48.875 41.890625 \nL 48.875 1.515625 \nQ 48.875 -9.578125 43.421875 -15.15625 \nQ 37.984375 -20.75 26.765625 -20.75 \nz\nM 40.140625 26.421875 \nQ 40.140625 31.9375 38.9375 35.859375 \nQ 37.75 39.796875 35.796875 42.28125 \nQ 33.84375 44.78125 31.328125 45.953125 \nQ 28.8125 47.125 26.171875 47.125 \nQ 22.796875 47.125 20.375 45.953125 \nQ 17.96875 44.78125 16.375 42.265625 \nQ 14.796875 39.75 14.03125 35.8125 \nQ 13.28125 31.890625 13.28125 26.421875 \nQ 13.28125 20.703125 14.03125 16.8125 \nQ 14.796875 12.9375 16.359375 10.546875 \nQ 17.921875 8.15625 20.3125 7.125 \nQ 22.703125 6.109375 26.03125 6.109375 \nQ 28.65625 6.109375 31.171875 7.21875 \nQ 33.6875 8.34375 35.6875 10.78125 \nQ 37.703125 13.234375 38.921875 17.09375 \nQ 40.140625 20.953125 40.140625 26.421875 \nz\n\" id=\"LiberationSans-103\"/>\n      </defs>\n      <g style=\"fill:#262626;\" transform=\"translate(102.493621 268.046875)rotate(-90)scale(0.1 -0.1)\">\n       <use xlink:href=\"#LiberationSans-100\"/>\n       <use x=\"55.615234\" xlink:href=\"#LiberationSans-61\"/>\n       <use x=\"114.013672\" xlink:href=\"#LiberationSans-49\"/>\n       <use x=\"169.628906\" xlink:href=\"#LiberationSans-44\"/>\n       <use x=\"197.412109\" xlink:href=\"#LiberationSans-32\"/>\n       <use x=\"225.195312\" xlink:href=\"#LiberationSans-99\"/>\n       <use x=\"275.195312\" xlink:href=\"#LiberationSans-61\"/>\n       <use x=\"333.59375\" xlink:href=\"#LiberationSans-105\"/>\n       <use x=\"355.810547\" xlink:href=\"#LiberationSans-110\"/>\n       <use x=\"411.425781\" xlink:href=\"#LiberationSans-102\"/>\n       <use x=\"439.208984\" xlink:href=\"#LiberationSans-111\"/>\n       <use x=\"494.824219\" xlink:href=\"#LiberationSans-95\"/>\n       <use x=\"550.439453\" xlink:href=\"#LiberationSans-103\"/>\n       <use x=\"606.054688\" xlink:href=\"#LiberationSans-97\"/>\n       <use x=\"661.669922\" xlink:href=\"#LiberationSans-105\"/>\n       <use x=\"683.886719\" xlink:href=\"#LiberationSans-110\"/>\n      </g>\n     </g>\n    </g>\n    <g id=\"xtick_3\">\n     <g id=\"line2d_5\">\n      <path clip-path=\"url(#p25afd073c3)\" d=\"M 128.829101 187.1 \nL 128.829101 7.2 \n\" style=\"fill:none;stroke:#ffffff;stroke-linecap:round;\"/>\n     </g>\n     <g id=\"line2d_6\"/>\n     <g id=\"text_3\">\n      <!-- d=1, c=gini -->\n      <g style=\"fill:#262626;\" transform=\"translate(131.415039 243.025)rotate(-90)scale(0.1 -0.1)\">\n       <use xlink:href=\"#LiberationSans-100\"/>\n       <use x=\"55.615234\" xlink:href=\"#LiberationSans-61\"/>\n       <use x=\"114.013672\" xlink:href=\"#LiberationSans-49\"/>\n       <use x=\"169.628906\" xlink:href=\"#LiberationSans-44\"/>\n       <use x=\"197.412109\" xlink:href=\"#LiberationSans-32\"/>\n       <use x=\"225.195312\" xlink:href=\"#LiberationSans-99\"/>\n       <use x=\"275.195312\" xlink:href=\"#LiberationSans-61\"/>\n       <use x=\"333.59375\" xlink:href=\"#LiberationSans-103\"/>\n       <use x=\"389.208984\" xlink:href=\"#LiberationSans-105\"/>\n       <use x=\"411.425781\" xlink:href=\"#LiberationSans-110\"/>\n       <use x=\"467.041016\" xlink:href=\"#LiberationSans-105\"/>\n      </g>\n     </g>\n    </g>\n    <g id=\"xtick_4\">\n     <g id=\"line2d_7\">\n      <path clip-path=\"url(#p25afd073c3)\" d=\"M 157.750519 187.1 \nL 157.750519 7.2 \n\" style=\"fill:none;stroke:#ffffff;stroke-linecap:round;\"/>\n     </g>\n     <g id=\"line2d_8\"/>\n     <g id=\"text_4\">\n      <!-- d=5, c=maj_sum -->\n      <defs>\n       <path d=\"M 51.421875 22.40625 \nQ 51.421875 17.234375 49.859375 12.9375 \nQ 48.296875 8.640625 45.21875 5.53125 \nQ 42.140625 2.4375 37.578125 0.71875 \nQ 33.015625 -0.984375 27 -0.984375 \nQ 21.578125 -0.984375 17.546875 0.28125 \nQ 13.53125 1.5625 10.734375 3.78125 \nQ 7.953125 6 6.3125 8.984375 \nQ 4.6875 11.96875 4 15.375 \nL 12.890625 16.40625 \nQ 13.421875 14.453125 14.390625 12.625 \nQ 15.375 10.796875 17.0625 9.34375 \nQ 18.75 7.90625 21.21875 7.046875 \nQ 23.6875 6.203125 27.203125 6.203125 \nQ 30.609375 6.203125 33.390625 7.25 \nQ 36.1875 8.296875 38.15625 10.34375 \nQ 40.140625 12.40625 41.203125 15.375 \nQ 42.28125 18.359375 42.28125 22.21875 \nQ 42.28125 25.390625 41.25 28.046875 \nQ 40.234375 30.71875 38.328125 32.640625 \nQ 36.421875 34.578125 33.65625 35.640625 \nQ 30.90625 36.71875 27.390625 36.71875 \nQ 25.203125 36.71875 23.34375 36.328125 \nQ 21.484375 35.9375 19.890625 35.25 \nQ 18.3125 34.578125 17.015625 33.671875 \nQ 15.71875 32.765625 14.59375 31.78125 \nL 6 31.78125 \nL 8.296875 68.796875 \nL 47.40625 68.796875 \nL 47.40625 61.328125 \nL 16.3125 61.328125 \nL 14.984375 39.5 \nQ 17.328125 41.3125 20.84375 42.59375 \nQ 24.359375 43.890625 29.203125 43.890625 \nQ 34.328125 43.890625 38.421875 42.328125 \nQ 42.53125 40.765625 45.40625 37.90625 \nQ 48.296875 35.0625 49.859375 31.109375 \nQ 51.421875 27.15625 51.421875 22.40625 \nz\n\" id=\"LiberationSans-53\"/>\n      </defs>\n      <g style=\"fill:#262626;\" transform=\"translate(160.336456 268.023438)rotate(-90)scale(0.1 -0.1)\">\n       <use xlink:href=\"#LiberationSans-100\"/>\n       <use x=\"55.615234\" xlink:href=\"#LiberationSans-61\"/>\n       <use x=\"114.013672\" xlink:href=\"#LiberationSans-53\"/>\n       <use x=\"169.628906\" xlink:href=\"#LiberationSans-44\"/>\n       <use x=\"197.412109\" xlink:href=\"#LiberationSans-32\"/>\n       <use x=\"225.195312\" xlink:href=\"#LiberationSans-99\"/>\n       <use x=\"275.195312\" xlink:href=\"#LiberationSans-61\"/>\n       <use x=\"333.59375\" xlink:href=\"#LiberationSans-109\"/>\n       <use x=\"416.894531\" xlink:href=\"#LiberationSans-97\"/>\n       <use x=\"472.509766\" xlink:href=\"#LiberationSans-106\"/>\n       <use x=\"494.726562\" xlink:href=\"#LiberationSans-95\"/>\n       <use x=\"550.341797\" xlink:href=\"#LiberationSans-115\"/>\n       <use x=\"600.341797\" xlink:href=\"#LiberationSans-117\"/>\n       <use x=\"655.957031\" xlink:href=\"#LiberationSans-109\"/>\n      </g>\n     </g>\n    </g>\n    <g id=\"xtick_5\">\n     <g id=\"line2d_9\">\n      <path clip-path=\"url(#p25afd073c3)\" d=\"M 186.671936 187.1 \nL 186.671936 7.2 \n\" style=\"fill:none;stroke:#ffffff;stroke-linecap:round;\"/>\n     </g>\n     <g id=\"line2d_10\"/>\n     <g id=\"text_5\">\n      <!-- d=5, c=info_gain -->\n      <g style=\"fill:#262626;\" transform=\"translate(189.257874 268.046875)rotate(-90)scale(0.1 -0.1)\">\n       <use xlink:href=\"#LiberationSans-100\"/>\n       <use x=\"55.615234\" xlink:href=\"#LiberationSans-61\"/>\n       <use x=\"114.013672\" xlink:href=\"#LiberationSans-53\"/>\n       <use x=\"169.628906\" xlink:href=\"#LiberationSans-44\"/>\n       <use x=\"197.412109\" xlink:href=\"#LiberationSans-32\"/>\n       <use x=\"225.195312\" xlink:href=\"#LiberationSans-99\"/>\n       <use x=\"275.195312\" xlink:href=\"#LiberationSans-61\"/>\n       <use x=\"333.59375\" xlink:href=\"#LiberationSans-105\"/>\n       <use x=\"355.810547\" xlink:href=\"#LiberationSans-110\"/>\n       <use x=\"411.425781\" xlink:href=\"#LiberationSans-102\"/>\n       <use x=\"439.208984\" xlink:href=\"#LiberationSans-111\"/>\n       <use x=\"494.824219\" xlink:href=\"#LiberationSans-95\"/>\n       <use x=\"550.439453\" xlink:href=\"#LiberationSans-103\"/>\n       <use x=\"606.054688\" xlink:href=\"#LiberationSans-97\"/>\n       <use x=\"661.669922\" xlink:href=\"#LiberationSans-105\"/>\n       <use x=\"683.886719\" xlink:href=\"#LiberationSans-110\"/>\n      </g>\n     </g>\n    </g>\n    <g id=\"xtick_6\">\n     <g id=\"line2d_11\">\n      <path clip-path=\"url(#p25afd073c3)\" d=\"M 215.593354 187.1 \nL 215.593354 7.2 \n\" style=\"fill:none;stroke:#ffffff;stroke-linecap:round;\"/>\n     </g>\n     <g id=\"line2d_12\"/>\n     <g id=\"text_6\">\n      <!-- d=5, c=gini -->\n      <g style=\"fill:#262626;\" transform=\"translate(218.179291 243.025)rotate(-90)scale(0.1 -0.1)\">\n       <use xlink:href=\"#LiberationSans-100\"/>\n       <use x=\"55.615234\" xlink:href=\"#LiberationSans-61\"/>\n       <use x=\"114.013672\" xlink:href=\"#LiberationSans-53\"/>\n       <use x=\"169.628906\" xlink:href=\"#LiberationSans-44\"/>\n       <use x=\"197.412109\" xlink:href=\"#LiberationSans-32\"/>\n       <use x=\"225.195312\" xlink:href=\"#LiberationSans-99\"/>\n       <use x=\"275.195312\" xlink:href=\"#LiberationSans-61\"/>\n       <use x=\"333.59375\" xlink:href=\"#LiberationSans-103\"/>\n       <use x=\"389.208984\" xlink:href=\"#LiberationSans-105\"/>\n       <use x=\"411.425781\" xlink:href=\"#LiberationSans-110\"/>\n       <use x=\"467.041016\" xlink:href=\"#LiberationSans-105\"/>\n      </g>\n     </g>\n    </g>\n    <g id=\"xtick_7\">\n     <g id=\"line2d_13\">\n      <path clip-path=\"url(#p25afd073c3)\" d=\"M 244.514771 187.1 \nL 244.514771 7.2 \n\" style=\"fill:none;stroke:#ffffff;stroke-linecap:round;\"/>\n     </g>\n     <g id=\"line2d_14\"/>\n     <g id=\"text_7\">\n      <!-- d=10, c=maj_sum -->\n      <defs>\n       <path d=\"M 51.703125 34.421875 \nQ 51.703125 24.515625 49.828125 17.75 \nQ 47.953125 10.984375 44.703125 6.8125 \nQ 41.453125 2.640625 37.0625 0.828125 \nQ 32.671875 -0.984375 27.6875 -0.984375 \nQ 22.65625 -0.984375 18.3125 0.828125 \nQ 13.96875 2.640625 10.765625 6.78125 \nQ 7.5625 10.9375 5.734375 17.703125 \nQ 3.90625 24.46875 3.90625 34.421875 \nQ 3.90625 44.828125 5.734375 51.640625 \nQ 7.5625 58.453125 10.78125 62.5 \nQ 14.015625 66.546875 18.40625 68.1875 \nQ 22.796875 69.828125 27.984375 69.828125 \nQ 32.90625 69.828125 37.21875 68.1875 \nQ 41.546875 66.546875 44.765625 62.5 \nQ 48 58.453125 49.84375 51.640625 \nQ 51.703125 44.828125 51.703125 34.421875 \nz\nM 42.78125 34.421875 \nQ 42.78125 42.625 41.796875 48.0625 \nQ 40.828125 53.515625 38.921875 56.765625 \nQ 37.015625 60.015625 34.25 61.359375 \nQ 31.5 62.703125 27.984375 62.703125 \nQ 24.265625 62.703125 21.4375 61.328125 \nQ 18.609375 59.96875 16.671875 56.71875 \nQ 14.75 53.46875 13.765625 48.015625 \nQ 12.796875 42.578125 12.796875 34.421875 \nQ 12.796875 26.515625 13.796875 21.09375 \nQ 14.796875 15.671875 16.71875 12.375 \nQ 18.65625 9.078125 21.4375 7.640625 \nQ 24.21875 6.203125 27.78125 6.203125 \nQ 31.25 6.203125 34.03125 7.640625 \nQ 36.8125 9.078125 38.734375 12.375 \nQ 40.671875 15.671875 41.71875 21.09375 \nQ 42.78125 26.515625 42.78125 34.421875 \nz\n\" id=\"LiberationSans-48\"/>\n      </defs>\n      <g style=\"fill:#262626;\" transform=\"translate(247.100709 273.584375)rotate(-90)scale(0.1 -0.1)\">\n       <use xlink:href=\"#LiberationSans-100\"/>\n       <use x=\"55.615234\" xlink:href=\"#LiberationSans-61\"/>\n       <use x=\"114.013672\" xlink:href=\"#LiberationSans-49\"/>\n       <use x=\"169.628906\" xlink:href=\"#LiberationSans-48\"/>\n       <use x=\"225.244141\" xlink:href=\"#LiberationSans-44\"/>\n       <use x=\"253.027344\" xlink:href=\"#LiberationSans-32\"/>\n       <use x=\"280.810547\" xlink:href=\"#LiberationSans-99\"/>\n       <use x=\"330.810547\" xlink:href=\"#LiberationSans-61\"/>\n       <use x=\"389.208984\" xlink:href=\"#LiberationSans-109\"/>\n       <use x=\"472.509766\" xlink:href=\"#LiberationSans-97\"/>\n       <use x=\"528.125\" xlink:href=\"#LiberationSans-106\"/>\n       <use x=\"550.341797\" xlink:href=\"#LiberationSans-95\"/>\n       <use x=\"605.957031\" xlink:href=\"#LiberationSans-115\"/>\n       <use x=\"655.957031\" xlink:href=\"#LiberationSans-117\"/>\n       <use x=\"711.572266\" xlink:href=\"#LiberationSans-109\"/>\n      </g>\n     </g>\n    </g>\n    <g id=\"xtick_8\">\n     <g id=\"line2d_15\">\n      <path clip-path=\"url(#p25afd073c3)\" d=\"M 273.436189 187.1 \nL 273.436189 7.2 \n\" style=\"fill:none;stroke:#ffffff;stroke-linecap:round;\"/>\n     </g>\n     <g id=\"line2d_16\"/>\n     <g id=\"text_8\">\n      <!-- d=10, c=info_gain -->\n      <g style=\"fill:#262626;\" transform=\"translate(276.022126 273.607813)rotate(-90)scale(0.1 -0.1)\">\n       <use xlink:href=\"#LiberationSans-100\"/>\n       <use x=\"55.615234\" xlink:href=\"#LiberationSans-61\"/>\n       <use x=\"114.013672\" xlink:href=\"#LiberationSans-49\"/>\n       <use x=\"169.628906\" xlink:href=\"#LiberationSans-48\"/>\n       <use x=\"225.244141\" xlink:href=\"#LiberationSans-44\"/>\n       <use x=\"253.027344\" xlink:href=\"#LiberationSans-32\"/>\n       <use x=\"280.810547\" xlink:href=\"#LiberationSans-99\"/>\n       <use x=\"330.810547\" xlink:href=\"#LiberationSans-61\"/>\n       <use x=\"389.208984\" xlink:href=\"#LiberationSans-105\"/>\n       <use x=\"411.425781\" xlink:href=\"#LiberationSans-110\"/>\n       <use x=\"467.041016\" xlink:href=\"#LiberationSans-102\"/>\n       <use x=\"494.824219\" xlink:href=\"#LiberationSans-111\"/>\n       <use x=\"550.439453\" xlink:href=\"#LiberationSans-95\"/>\n       <use x=\"606.054688\" xlink:href=\"#LiberationSans-103\"/>\n       <use x=\"661.669922\" xlink:href=\"#LiberationSans-97\"/>\n       <use x=\"717.285156\" xlink:href=\"#LiberationSans-105\"/>\n       <use x=\"739.501953\" xlink:href=\"#LiberationSans-110\"/>\n      </g>\n     </g>\n    </g>\n    <g id=\"xtick_9\">\n     <g id=\"line2d_17\">\n      <path clip-path=\"url(#p25afd073c3)\" d=\"M 302.357606 187.1 \nL 302.357606 7.2 \n\" style=\"fill:none;stroke:#ffffff;stroke-linecap:round;\"/>\n     </g>\n     <g id=\"line2d_18\"/>\n     <g id=\"text_9\">\n      <!-- d=10, c=gini -->\n      <g style=\"fill:#262626;\" transform=\"translate(304.943544 248.585938)rotate(-90)scale(0.1 -0.1)\">\n       <use xlink:href=\"#LiberationSans-100\"/>\n       <use x=\"55.615234\" xlink:href=\"#LiberationSans-61\"/>\n       <use x=\"114.013672\" xlink:href=\"#LiberationSans-49\"/>\n       <use x=\"169.628906\" xlink:href=\"#LiberationSans-48\"/>\n       <use x=\"225.244141\" xlink:href=\"#LiberationSans-44\"/>\n       <use x=\"253.027344\" xlink:href=\"#LiberationSans-32\"/>\n       <use x=\"280.810547\" xlink:href=\"#LiberationSans-99\"/>\n       <use x=\"330.810547\" xlink:href=\"#LiberationSans-61\"/>\n       <use x=\"389.208984\" xlink:href=\"#LiberationSans-103\"/>\n       <use x=\"444.824219\" xlink:href=\"#LiberationSans-105\"/>\n       <use x=\"467.041016\" xlink:href=\"#LiberationSans-110\"/>\n       <use x=\"522.65625\" xlink:href=\"#LiberationSans-105\"/>\n      </g>\n     </g>\n    </g>\n    <g id=\"xtick_10\">\n     <g id=\"line2d_19\">\n      <path clip-path=\"url(#p25afd073c3)\" d=\"M 331.279024 187.1 \nL 331.279024 7.2 \n\" style=\"fill:none;stroke:#ffffff;stroke-linecap:round;\"/>\n     </g>\n     <g id=\"line2d_20\"/>\n     <g id=\"text_10\">\n      <!-- d=20, c=maj_sum -->\n      <defs>\n       <path d=\"M 5.03125 0 \nL 5.03125 6.203125 \nQ 7.515625 11.921875 11.109375 16.28125 \nQ 14.703125 20.65625 18.65625 24.1875 \nQ 22.609375 27.734375 26.484375 30.765625 \nQ 30.375 33.796875 33.5 36.8125 \nQ 36.625 39.84375 38.546875 43.15625 \nQ 40.484375 46.484375 40.484375 50.6875 \nQ 40.484375 53.609375 39.59375 55.828125 \nQ 38.71875 58.0625 37.0625 59.5625 \nQ 35.40625 61.078125 33.078125 61.828125 \nQ 30.765625 62.59375 27.9375 62.59375 \nQ 25.296875 62.59375 22.96875 61.859375 \nQ 20.65625 61.140625 18.84375 59.671875 \nQ 17.046875 58.203125 15.890625 56.03125 \nQ 14.75 53.859375 14.40625 50.984375 \nL 5.421875 51.8125 \nQ 5.859375 55.515625 7.46875 58.78125 \nQ 9.078125 62.0625 11.90625 64.53125 \nQ 14.75 67 18.71875 68.40625 \nQ 22.703125 69.828125 27.9375 69.828125 \nQ 33.0625 69.828125 37.0625 68.609375 \nQ 41.0625 67.390625 43.8125 64.984375 \nQ 46.578125 62.59375 48.046875 59.078125 \nQ 49.515625 55.5625 49.515625 50.984375 \nQ 49.515625 47.515625 48.265625 44.390625 \nQ 47.015625 41.265625 44.9375 38.421875 \nQ 42.875 35.59375 40.140625 32.953125 \nQ 37.40625 30.328125 34.421875 27.8125 \nQ 31.453125 25.296875 28.421875 22.828125 \nQ 25.390625 20.359375 22.71875 17.859375 \nQ 20.0625 15.375 17.96875 12.8125 \nQ 15.875 10.25 14.703125 7.46875 \nL 50.59375 7.46875 \nL 50.59375 0 \nz\n\" id=\"LiberationSans-50\"/>\n      </defs>\n      <g style=\"fill:#262626;\" transform=\"translate(333.864961 273.584375)rotate(-90)scale(0.1 -0.1)\">\n       <use xlink:href=\"#LiberationSans-100\"/>\n       <use x=\"55.615234\" xlink:href=\"#LiberationSans-61\"/>\n       <use x=\"114.013672\" xlink:href=\"#LiberationSans-50\"/>\n       <use x=\"169.628906\" xlink:href=\"#LiberationSans-48\"/>\n       <use x=\"225.244141\" xlink:href=\"#LiberationSans-44\"/>\n       <use x=\"253.027344\" xlink:href=\"#LiberationSans-32\"/>\n       <use x=\"280.810547\" xlink:href=\"#LiberationSans-99\"/>\n       <use x=\"330.810547\" xlink:href=\"#LiberationSans-61\"/>\n       <use x=\"389.208984\" xlink:href=\"#LiberationSans-109\"/>\n       <use x=\"472.509766\" xlink:href=\"#LiberationSans-97\"/>\n       <use x=\"528.125\" xlink:href=\"#LiberationSans-106\"/>\n       <use x=\"550.341797\" xlink:href=\"#LiberationSans-95\"/>\n       <use x=\"605.957031\" xlink:href=\"#LiberationSans-115\"/>\n       <use x=\"655.957031\" xlink:href=\"#LiberationSans-117\"/>\n       <use x=\"711.572266\" xlink:href=\"#LiberationSans-109\"/>\n      </g>\n     </g>\n    </g>\n    <g id=\"xtick_11\">\n     <g id=\"line2d_21\">\n      <path clip-path=\"url(#p25afd073c3)\" d=\"M 360.200442 187.1 \nL 360.200442 7.2 \n\" style=\"fill:none;stroke:#ffffff;stroke-linecap:round;\"/>\n     </g>\n     <g id=\"line2d_22\"/>\n     <g id=\"text_11\">\n      <!-- d=20, c=info_gain -->\n      <g style=\"fill:#262626;\" transform=\"translate(362.786379 273.607813)rotate(-90)scale(0.1 -0.1)\">\n       <use xlink:href=\"#LiberationSans-100\"/>\n       <use x=\"55.615234\" xlink:href=\"#LiberationSans-61\"/>\n       <use x=\"114.013672\" xlink:href=\"#LiberationSans-50\"/>\n       <use x=\"169.628906\" xlink:href=\"#LiberationSans-48\"/>\n       <use x=\"225.244141\" xlink:href=\"#LiberationSans-44\"/>\n       <use x=\"253.027344\" xlink:href=\"#LiberationSans-32\"/>\n       <use x=\"280.810547\" xlink:href=\"#LiberationSans-99\"/>\n       <use x=\"330.810547\" xlink:href=\"#LiberationSans-61\"/>\n       <use x=\"389.208984\" xlink:href=\"#LiberationSans-105\"/>\n       <use x=\"411.425781\" xlink:href=\"#LiberationSans-110\"/>\n       <use x=\"467.041016\" xlink:href=\"#LiberationSans-102\"/>\n       <use x=\"494.824219\" xlink:href=\"#LiberationSans-111\"/>\n       <use x=\"550.439453\" xlink:href=\"#LiberationSans-95\"/>\n       <use x=\"606.054688\" xlink:href=\"#LiberationSans-103\"/>\n       <use x=\"661.669922\" xlink:href=\"#LiberationSans-97\"/>\n       <use x=\"717.285156\" xlink:href=\"#LiberationSans-105\"/>\n       <use x=\"739.501953\" xlink:href=\"#LiberationSans-110\"/>\n      </g>\n     </g>\n    </g>\n    <g id=\"xtick_12\">\n     <g id=\"line2d_23\">\n      <path clip-path=\"url(#p25afd073c3)\" d=\"M 389.121859 187.1 \nL 389.121859 7.2 \n\" style=\"fill:none;stroke:#ffffff;stroke-linecap:round;\"/>\n     </g>\n     <g id=\"line2d_24\"/>\n     <g id=\"text_12\">\n      <!-- d=20, c=gini -->\n      <g style=\"fill:#262626;\" transform=\"translate(391.707797 248.585938)rotate(-90)scale(0.1 -0.1)\">\n       <use xlink:href=\"#LiberationSans-100\"/>\n       <use x=\"55.615234\" xlink:href=\"#LiberationSans-61\"/>\n       <use x=\"114.013672\" xlink:href=\"#LiberationSans-50\"/>\n       <use x=\"169.628906\" xlink:href=\"#LiberationSans-48\"/>\n       <use x=\"225.244141\" xlink:href=\"#LiberationSans-44\"/>\n       <use x=\"253.027344\" xlink:href=\"#LiberationSans-32\"/>\n       <use x=\"280.810547\" xlink:href=\"#LiberationSans-99\"/>\n       <use x=\"330.810547\" xlink:href=\"#LiberationSans-61\"/>\n       <use x=\"389.208984\" xlink:href=\"#LiberationSans-103\"/>\n       <use x=\"444.824219\" xlink:href=\"#LiberationSans-105\"/>\n       <use x=\"467.041016\" xlink:href=\"#LiberationSans-110\"/>\n       <use x=\"522.65625\" xlink:href=\"#LiberationSans-105\"/>\n      </g>\n     </g>\n    </g>\n   </g>\n   <g id=\"matplotlib.axis_2\">\n    <g id=\"ytick_1\">\n     <g id=\"line2d_25\">\n      <path clip-path=\"url(#p25afd073c3)\" d=\"M 42.354063 187.1 \nL 417.754062 187.1 \n\" style=\"fill:none;stroke:#ffffff;stroke-linecap:round;\"/>\n     </g>\n     <g id=\"line2d_26\"/>\n     <g id=\"text_13\">\n      <!-- 0.0 -->\n      <defs>\n       <path d=\"M 9.125 0 \nL 9.125 10.6875 \nL 18.65625 10.6875 \nL 18.65625 0 \nz\n\" id=\"LiberationSans-46\"/>\n      </defs>\n      <g style=\"fill:#262626;\" transform=\"translate(21.454063 190.723437)scale(0.1 -0.1)\">\n       <use xlink:href=\"#LiberationSans-48\"/>\n       <use x=\"55.615234\" xlink:href=\"#LiberationSans-46\"/>\n       <use x=\"83.398438\" xlink:href=\"#LiberationSans-48\"/>\n      </g>\n     </g>\n    </g>\n    <g id=\"ytick_2\">\n     <g id=\"line2d_27\">\n      <path clip-path=\"url(#p25afd073c3)\" d=\"M 42.354063 150.254122 \nL 417.754062 150.254122 \n\" style=\"fill:none;stroke:#ffffff;stroke-linecap:round;\"/>\n     </g>\n     <g id=\"line2d_28\"/>\n     <g id=\"text_14\">\n      <!-- 0.2 -->\n      <g style=\"fill:#262626;\" transform=\"translate(21.454063 153.877559)scale(0.1 -0.1)\">\n       <use xlink:href=\"#LiberationSans-48\"/>\n       <use x=\"55.615234\" xlink:href=\"#LiberationSans-46\"/>\n       <use x=\"83.398438\" xlink:href=\"#LiberationSans-50\"/>\n      </g>\n     </g>\n    </g>\n    <g id=\"ytick_3\">\n     <g id=\"line2d_29\">\n      <path clip-path=\"url(#p25afd073c3)\" d=\"M 42.354063 113.408244 \nL 417.754062 113.408244 \n\" style=\"fill:none;stroke:#ffffff;stroke-linecap:round;\"/>\n     </g>\n     <g id=\"line2d_30\"/>\n     <g id=\"text_15\">\n      <!-- 0.4 -->\n      <defs>\n       <path d=\"M 43.015625 15.578125 \nL 43.015625 0 \nL 34.71875 0 \nL 34.71875 15.578125 \nL 2.296875 15.578125 \nL 2.296875 22.40625 \nL 33.796875 68.796875 \nL 43.015625 68.796875 \nL 43.015625 22.515625 \nL 52.6875 22.515625 \nL 52.6875 15.578125 \nz\nM 34.71875 58.890625 \nQ 34.625 58.640625 34.234375 57.9375 \nQ 33.84375 57.234375 33.34375 56.34375 \nQ 32.859375 55.46875 32.34375 54.5625 \nQ 31.84375 53.65625 31.453125 53.078125 \nL 13.8125 27.09375 \nQ 13.578125 26.703125 13.109375 26.0625 \nQ 12.640625 25.4375 12.15625 24.78125 \nQ 11.671875 24.125 11.171875 23.484375 \nQ 10.6875 22.859375 10.40625 22.515625 \nL 34.71875 22.515625 \nz\n\" id=\"LiberationSans-52\"/>\n      </defs>\n      <g style=\"fill:#262626;\" transform=\"translate(21.454063 117.031681)scale(0.1 -0.1)\">\n       <use xlink:href=\"#LiberationSans-48\"/>\n       <use x=\"55.615234\" xlink:href=\"#LiberationSans-46\"/>\n       <use x=\"83.398438\" xlink:href=\"#LiberationSans-52\"/>\n      </g>\n     </g>\n    </g>\n    <g id=\"ytick_4\">\n     <g id=\"line2d_31\">\n      <path clip-path=\"url(#p25afd073c3)\" d=\"M 42.354063 76.562366 \nL 417.754062 76.562366 \n\" style=\"fill:none;stroke:#ffffff;stroke-linecap:round;\"/>\n     </g>\n     <g id=\"line2d_32\"/>\n     <g id=\"text_16\">\n      <!-- 0.6 -->\n      <defs>\n       <path d=\"M 51.21875 22.515625 \nQ 51.21875 17.328125 49.78125 13 \nQ 48.34375 8.6875 45.53125 5.578125 \nQ 42.71875 2.484375 38.5625 0.75 \nQ 34.421875 -0.984375 29 -0.984375 \nQ 23 -0.984375 18.5 1.3125 \nQ 14.015625 3.609375 11.03125 7.921875 \nQ 8.0625 12.25 6.5625 18.53125 \nQ 5.078125 24.8125 5.078125 32.8125 \nQ 5.078125 42 6.765625 48.921875 \nQ 8.453125 55.859375 11.625 60.5 \nQ 14.796875 65.140625 19.359375 67.484375 \nQ 23.921875 69.828125 29.6875 69.828125 \nQ 33.203125 69.828125 36.28125 69.09375 \nQ 39.359375 68.359375 41.875 66.71875 \nQ 44.390625 65.09375 46.28125 62.40625 \nQ 48.1875 59.71875 49.3125 55.8125 \nL 40.921875 54.296875 \nQ 39.546875 58.734375 36.546875 60.71875 \nQ 33.546875 62.703125 29.59375 62.703125 \nQ 25.984375 62.703125 23.046875 60.984375 \nQ 20.125 59.28125 18.0625 55.875 \nQ 16.015625 52.484375 14.90625 47.359375 \nQ 13.8125 42.234375 13.8125 35.40625 \nQ 16.21875 39.84375 20.5625 42.15625 \nQ 24.90625 44.484375 30.515625 44.484375 \nQ 35.203125 44.484375 39.015625 42.96875 \nQ 42.828125 41.453125 45.53125 38.59375 \nQ 48.25 35.75 49.734375 31.671875 \nQ 51.21875 27.59375 51.21875 22.515625 \nz\nM 42.28125 22.125 \nQ 42.28125 25.6875 41.40625 28.5625 \nQ 40.53125 31.453125 38.765625 33.46875 \nQ 37.015625 35.5 34.421875 36.59375 \nQ 31.84375 37.703125 28.421875 37.703125 \nQ 26.03125 37.703125 23.578125 36.984375 \nQ 21.140625 36.28125 19.15625 34.6875 \nQ 17.1875 33.109375 15.9375 30.515625 \nQ 14.703125 27.9375 14.703125 24.21875 \nQ 14.703125 20.40625 15.671875 17.109375 \nQ 16.65625 13.8125 18.484375 11.375 \nQ 20.3125 8.9375 22.890625 7.515625 \nQ 25.484375 6.109375 28.71875 6.109375 \nQ 31.890625 6.109375 34.40625 7.203125 \nQ 36.921875 8.296875 38.671875 10.375 \nQ 40.4375 12.453125 41.359375 15.421875 \nQ 42.28125 18.40625 42.28125 22.125 \nz\n\" id=\"LiberationSans-54\"/>\n      </defs>\n      <g style=\"fill:#262626;\" transform=\"translate(21.454063 80.185803)scale(0.1 -0.1)\">\n       <use xlink:href=\"#LiberationSans-48\"/>\n       <use x=\"55.615234\" xlink:href=\"#LiberationSans-46\"/>\n       <use x=\"83.398438\" xlink:href=\"#LiberationSans-54\"/>\n      </g>\n     </g>\n    </g>\n    <g id=\"ytick_5\">\n     <g id=\"line2d_33\">\n      <path clip-path=\"url(#p25afd073c3)\" d=\"M 42.354063 39.716487 \nL 417.754062 39.716487 \n\" style=\"fill:none;stroke:#ffffff;stroke-linecap:round;\"/>\n     </g>\n     <g id=\"line2d_34\"/>\n     <g id=\"text_17\">\n      <!-- 0.8 -->\n      <defs>\n       <path d=\"M 51.265625 19.1875 \nQ 51.265625 14.796875 49.875 11.109375 \nQ 48.484375 7.421875 45.625 4.734375 \nQ 42.78125 2.046875 38.328125 0.53125 \nQ 33.890625 -0.984375 27.828125 -0.984375 \nQ 21.78125 -0.984375 17.359375 0.53125 \nQ 12.9375 2.046875 10.03125 4.703125 \nQ 7.125 7.375 5.734375 11.0625 \nQ 4.34375 14.75 4.34375 19.09375 \nQ 4.34375 22.859375 5.484375 25.78125 \nQ 6.640625 28.71875 8.5625 30.828125 \nQ 10.5 32.953125 12.96875 34.25 \nQ 15.4375 35.546875 18.0625 35.984375 \nL 18.0625 36.1875 \nQ 15.1875 36.859375 12.90625 38.375 \nQ 10.640625 39.890625 9.09375 42.015625 \nQ 7.5625 44.140625 6.75 46.71875 \nQ 5.953125 49.3125 5.953125 52.203125 \nQ 5.953125 55.8125 7.34375 59 \nQ 8.734375 62.203125 11.46875 64.625 \nQ 14.203125 67.046875 18.25 68.4375 \nQ 22.3125 69.828125 27.640625 69.828125 \nQ 33.25 69.828125 37.375 68.40625 \nQ 41.5 67 44.203125 64.578125 \nQ 46.921875 62.15625 48.234375 58.9375 \nQ 49.5625 55.71875 49.5625 52.09375 \nQ 49.5625 49.265625 48.75 46.671875 \nQ 47.953125 44.09375 46.40625 41.96875 \nQ 44.875 39.84375 42.59375 38.34375 \nQ 40.328125 36.859375 37.359375 36.28125 \nL 37.359375 36.078125 \nQ 40.328125 35.59375 42.859375 34.296875 \nQ 45.40625 33.015625 47.265625 30.890625 \nQ 49.125 28.765625 50.1875 25.828125 \nQ 51.265625 22.90625 51.265625 19.1875 \nz\nM 40.4375 51.609375 \nQ 40.4375 54.203125 39.765625 56.34375 \nQ 39.109375 58.5 37.59375 60.03125 \nQ 36.078125 61.578125 33.640625 62.421875 \nQ 31.203125 63.28125 27.640625 63.28125 \nQ 24.171875 63.28125 21.78125 62.421875 \nQ 19.390625 61.578125 17.84375 60.03125 \nQ 16.3125 58.5 15.625 56.34375 \nQ 14.9375 54.203125 14.9375 51.609375 \nQ 14.9375 49.5625 15.46875 47.40625 \nQ 16.015625 45.265625 17.421875 43.5 \nQ 18.84375 41.75 21.328125 40.625 \nQ 23.828125 39.5 27.734375 39.5 \nQ 31.890625 39.5 34.40625 40.625 \nQ 36.921875 41.75 38.25 43.5 \nQ 39.59375 45.265625 40.015625 47.40625 \nQ 40.4375 49.5625 40.4375 51.609375 \nz\nM 42.140625 20.015625 \nQ 42.140625 22.515625 41.453125 24.828125 \nQ 40.765625 27.15625 39.109375 28.9375 \nQ 37.453125 30.71875 34.640625 31.8125 \nQ 31.84375 32.90625 27.640625 32.90625 \nQ 23.78125 32.90625 21.0625 31.8125 \nQ 18.359375 30.71875 16.671875 28.90625 \nQ 14.984375 27.09375 14.203125 24.71875 \nQ 13.421875 22.359375 13.421875 19.828125 \nQ 13.421875 16.65625 14.203125 14.03125 \nQ 14.984375 11.421875 16.6875 9.546875 \nQ 18.40625 7.671875 21.1875 6.640625 \nQ 23.96875 5.609375 27.9375 5.609375 \nQ 31.9375 5.609375 34.671875 6.640625 \nQ 37.40625 7.671875 39.0625 9.546875 \nQ 40.71875 11.421875 41.421875 14.078125 \nQ 42.140625 16.75 42.140625 20.015625 \nz\n\" id=\"LiberationSans-56\"/>\n      </defs>\n      <g style=\"fill:#262626;\" transform=\"translate(21.454063 43.339925)scale(0.1 -0.1)\">\n       <use xlink:href=\"#LiberationSans-48\"/>\n       <use x=\"55.615234\" xlink:href=\"#LiberationSans-46\"/>\n       <use x=\"83.398438\" xlink:href=\"#LiberationSans-56\"/>\n      </g>\n     </g>\n    </g>\n    <g id=\"text_18\">\n     <!-- Accuracy -->\n     <defs>\n      <path d=\"M 56.984375 0 \nL 49.125 20.125 \nL 17.78125 20.125 \nL 9.859375 0 \nL 0.203125 0 \nL 28.265625 68.796875 \nL 38.875 68.796875 \nL 66.5 0 \nz\nM 37.5 50.09375 \nQ 36.71875 52.046875 36 54.046875 \nQ 35.296875 56.0625 34.765625 57.6875 \nQ 34.234375 59.328125 33.859375 60.421875 \nQ 33.5 61.53125 33.453125 61.765625 \nQ 33.34375 61.53125 33 60.40625 \nQ 32.671875 59.28125 32.109375 57.609375 \nQ 31.546875 55.953125 30.828125 53.953125 \nQ 30.125 51.953125 29.390625 50 \nL 20.609375 27.390625 \nL 46.34375 27.390625 \nz\n\" id=\"LiberationSans-65\"/>\n      <path d=\"M 6.9375 0 \nL 6.9375 40.53125 \nQ 6.9375 42.1875 6.90625 43.921875 \nQ 6.890625 45.65625 6.828125 47.265625 \nQ 6.78125 48.875 6.734375 50.28125 \nQ 6.6875 51.703125 6.640625 52.828125 \nL 14.9375 52.828125 \nQ 14.984375 51.703125 15.0625 50.265625 \nQ 15.140625 48.828125 15.203125 47.3125 \nQ 15.28125 45.796875 15.296875 44.40625 \nQ 15.328125 43.015625 15.328125 42.046875 \nL 15.53125 42.046875 \nQ 16.453125 45.0625 17.5 47.28125 \nQ 18.5625 49.515625 19.96875 50.953125 \nQ 21.390625 52.390625 23.34375 53.09375 \nQ 25.296875 53.8125 28.078125 53.8125 \nQ 29.15625 53.8125 30.125 53.640625 \nQ 31.109375 53.46875 31.640625 53.328125 \nL 31.640625 45.265625 \nQ 30.765625 45.515625 29.59375 45.625 \nQ 28.421875 45.75 26.953125 45.75 \nQ 23.921875 45.75 21.796875 44.375 \nQ 19.671875 43.015625 18.328125 40.59375 \nQ 17 38.1875 16.359375 34.84375 \nQ 15.71875 31.5 15.71875 27.546875 \nL 15.71875 0 \nz\n\" id=\"LiberationSans-114\"/>\n      <path d=\"M 29.5 0 \nQ 27.640625 -4.78125 25.703125 -8.609375 \nQ 23.78125 -12.453125 21.390625 -15.15625 \nQ 19 -17.875 16.0625 -19.3125 \nQ 13.140625 -20.75 9.328125 -20.75 \nQ 7.671875 -20.75 6.25 -20.65625 \nQ 4.828125 -20.5625 3.265625 -20.21875 \nL 3.265625 -13.625 \nQ 4.203125 -13.765625 5.375 -13.84375 \nQ 6.546875 -13.921875 7.375 -13.921875 \nQ 11.234375 -13.921875 14.546875 -11.03125 \nQ 17.875 -8.15625 20.359375 -1.859375 \nL 21.1875 0.25 \nL 0.25 52.828125 \nL 9.625 52.828125 \nL 20.75 23.640625 \nQ 21.234375 22.3125 21.984375 20.109375 \nQ 22.75 17.921875 23.5 15.71875 \nQ 24.265625 13.53125 24.84375 11.765625 \nQ 25.4375 10.015625 25.53125 9.578125 \nQ 25.6875 10.109375 26.25 11.6875 \nQ 26.8125 13.28125 27.515625 15.234375 \nQ 28.21875 17.1875 28.953125 19.1875 \nQ 29.6875 21.1875 30.171875 22.65625 \nL 40.53125 52.828125 \nL 49.8125 52.828125 \nz\n\" id=\"LiberationSans-121\"/>\n     </defs>\n     <g style=\"fill:#262626;\" transform=\"translate(15.171563 119.767031)rotate(-90)scale(0.11 -0.11)\">\n      <use xlink:href=\"#LiberationSans-65\"/>\n      <use x=\"66.699219\" xlink:href=\"#LiberationSans-99\"/>\n      <use x=\"116.699219\" xlink:href=\"#LiberationSans-99\"/>\n      <use x=\"166.699219\" xlink:href=\"#LiberationSans-117\"/>\n      <use x=\"222.314453\" xlink:href=\"#LiberationSans-114\"/>\n      <use x=\"255.615234\" xlink:href=\"#LiberationSans-97\"/>\n      <use x=\"311.230469\" xlink:href=\"#LiberationSans-99\"/>\n      <use x=\"361.230469\" xlink:href=\"#LiberationSans-121\"/>\n     </g>\n    </g>\n   </g>\n   <g id=\"patch_3\">\n    <path clip-path=\"url(#p25afd073c3)\" d=\"M 59.417699 187.1 \nL 82.554833 187.1 \nL 82.554833 33.864495 \nL 59.417699 33.864495 \nz\n\" style=\"fill:#4c72b0;\"/>\n   </g>\n   <g id=\"patch_4\">\n    <path clip-path=\"url(#p25afd073c3)\" d=\"M 88.339116 187.1 \nL 111.47625 187.1 \nL 111.47625 43.292705 \nL 88.339116 43.292705 \nz\n\" style=\"fill:#4c72b0;\"/>\n   </g>\n   <g id=\"patch_5\">\n    <path clip-path=\"url(#p25afd073c3)\" d=\"M 117.260534 187.1 \nL 140.397668 187.1 \nL 140.397668 36.682121 \nL 117.260534 36.682121 \nz\n\" style=\"fill:#4c72b0;\"/>\n   </g>\n   <g id=\"patch_6\">\n    <path clip-path=\"url(#p25afd073c3)\" d=\"M 146.181952 187.1 \nL 169.319086 187.1 \nL 169.319086 19.017774 \nL 146.181952 19.017774 \nz\n\" style=\"fill:#4c72b0;\"/>\n   </g>\n   <g id=\"patch_7\">\n    <path clip-path=\"url(#p25afd073c3)\" d=\"M 175.103369 187.1 \nL 198.240503 187.1 \nL 198.240503 18.367552 \nL 175.103369 18.367552 \nz\n\" style=\"fill:#4c72b0;\"/>\n   </g>\n   <g id=\"patch_8\">\n    <path clip-path=\"url(#p25afd073c3)\" d=\"M 204.024787 187.1 \nL 227.161921 187.1 \nL 227.161921 15.766667 \nL 204.024787 15.766667 \nz\n\" style=\"fill:#4c72b0;\"/>\n   </g>\n   <g id=\"patch_9\">\n    <path clip-path=\"url(#p25afd073c3)\" d=\"M 232.946204 187.1 \nL 256.083338 187.1 \nL 256.083338 19.451254 \nL 232.946204 19.451254 \nz\n\" style=\"fill:#4c72b0;\"/>\n   </g>\n   <g id=\"patch_10\">\n    <path clip-path=\"url(#p25afd073c3)\" d=\"M 261.867622 187.1 \nL 285.004756 187.1 \nL 285.004756 15.875037 \nL 261.867622 15.875037 \nz\n\" style=\"fill:#4c72b0;\"/>\n   </g>\n   <g id=\"patch_11\">\n    <path clip-path=\"url(#p25afd073c3)\" d=\"M 290.789039 187.1 \nL 313.926173 187.1 \nL 313.926173 17.067109 \nL 290.789039 17.067109 \nz\n\" style=\"fill:#4c72b0;\"/>\n   </g>\n   <g id=\"patch_12\">\n    <path clip-path=\"url(#p25afd073c3)\" d=\"M 319.710457 187.1 \nL 342.847591 187.1 \nL 342.847591 20.101476 \nL 319.710457 20.101476 \nz\n\" style=\"fill:#4c72b0;\"/>\n   </g>\n   <g id=\"patch_13\">\n    <path clip-path=\"url(#p25afd073c3)\" d=\"M 348.631875 187.1 \nL 371.769009 187.1 \nL 371.769009 15.766667 \nL 348.631875 15.766667 \nz\n\" style=\"fill:#4c72b0;\"/>\n   </g>\n   <g id=\"patch_14\">\n    <path clip-path=\"url(#p25afd073c3)\" d=\"M 377.553292 187.1 \nL 400.690426 187.1 \nL 400.690426 17.50059 \nL 377.553292 17.50059 \nz\n\" style=\"fill:#4c72b0;\"/>\n   </g>\n   <g id=\"patch_15\">\n    <path d=\"M 42.354063 187.1 \nL 42.354063 7.2 \n\" style=\"fill:none;\"/>\n   </g>\n   <g id=\"patch_16\">\n    <path d=\"M 417.754062 187.1 \nL 417.754062 7.2 \n\" style=\"fill:none;\"/>\n   </g>\n   <g id=\"patch_17\">\n    <path d=\"M 42.354063 187.1 \nL 417.754062 187.1 \n\" style=\"fill:none;\"/>\n   </g>\n   <g id=\"patch_18\">\n    <path d=\"M 42.354063 7.2 \nL 417.754062 7.2 \n\" style=\"fill:none;\"/>\n   </g>\n  </g>\n </g>\n <defs>\n  <clipPath id=\"p25afd073c3\">\n   <rect height=\"179.9\" width=\"375.4\" x=\"42.354063\" y=\"7.2\"/>\n  </clipPath>\n </defs>\n</svg>\n"
          },
          "metadata": {
            "needs_background": "light"
          }
        }
      ]
    },
    {
      "cell_type": "code",
      "source": [
        "best_model.fit(Xtrain, Ytrain)\n",
        "acc = accuracy_score(Ytest, best_model.predict(Xtest))\n",
        "print(f'INFO. Trained TreeClassifier model with max_depth={best_depth} reached test accuracy of: {acc:.4f}')"
      ],
      "metadata": {
        "colab": {
          "base_uri": "https://localhost:8080/"
        },
        "id": "BWl4fUbZ-ake",
        "outputId": "e7c3098f-a07d-4fa8-d941-ce423bfc94de"
      },
      "execution_count": 17,
      "outputs": [
        {
          "output_type": "stream",
          "name": "stdout",
          "text": [
            "INFO. Trained TreeClassifier model with max_depth=5 reached test accuracy of: 0.9061\n"
          ]
        }
      ]
    },
    {
      "cell_type": "code",
      "source": [
        "best_model.draw_tree()"
      ],
      "metadata": {
        "colab": {
          "base_uri": "https://localhost:8080/",
          "height": 680
        },
        "id": "yYfO4oTk-vEj",
        "outputId": "e653f355-7c04-4c4e-d413-0d33929043a9"
      },
      "execution_count": null,
      "outputs": [
        {
          "output_type": "execute_result",
          "data": {
            "text/plain": [
              "<graphviz.dot.Digraph at 0x7f74d24dd390>"
            ],
            "image/svg+xml": "<?xml version=\"1.0\" encoding=\"UTF-8\" standalone=\"no\"?>\n<!DOCTYPE svg PUBLIC \"-//W3C//DTD SVG 1.1//EN\"\n \"http://www.w3.org/Graphics/SVG/1.1/DTD/svg11.dtd\">\n<!-- Generated by graphviz version 2.40.1 (20161225.0304)\n -->\n<!-- Title: %3 Pages: 1 -->\n<svg width=\"1667pt\" height=\"479pt\"\n viewBox=\"0.00 0.00 1666.74 479.00\" xmlns=\"http://www.w3.org/2000/svg\" xmlns:xlink=\"http://www.w3.org/1999/xlink\">\n<g id=\"graph0\" class=\"graph\" transform=\"scale(1 1) rotate(0) translate(4 475)\">\n<title>%3</title>\n<polygon fill=\"#ffffff\" stroke=\"transparent\" points=\"-4,4 -4,-475 1662.7434,-475 1662.7434,4 -4,4\"/>\n<!-- 0 -->\n<g id=\"node1\" class=\"node\">\n<title>0</title>\n<ellipse fill=\"#d3d3d3\" stroke=\"#000000\" cx=\"37.0467\" cy=\"-18\" rx=\"37.0935\" ry=\"18\"/>\n<text text-anchor=\"middle\" x=\"37.0467\" y=\"-14.3\" font-family=\"Times,serif\" font-size=\"14.00\" fill=\"#000000\">normal</text>\n</g>\n<!-- 1 -->\n<g id=\"node2\" class=\"node\">\n<title>1</title>\n<ellipse fill=\"#d3d3d3\" stroke=\"#000000\" cx=\"130.0467\" cy=\"-18\" rx=\"37.8943\" ry=\"18\"/>\n<text text-anchor=\"middle\" x=\"130.0467\" y=\"-14.3\" font-family=\"Times,serif\" font-size=\"14.00\" fill=\"#000000\">suspect</text>\n</g>\n<!-- 2 -->\n<g id=\"node3\" class=\"node\">\n<title>2</title>\n<path fill=\"#ffff00\" stroke=\"#000000\" d=\"M124.0467,-123C124.0467,-123 42.0467,-123 42.0467,-123 36.0467,-123 30.0467,-117 30.0467,-111 30.0467,-111 30.0467,-99 30.0467,-99 30.0467,-93 36.0467,-87 42.0467,-87 42.0467,-87 124.0467,-87 124.0467,-87 130.0467,-87 136.0467,-93 136.0467,-99 136.0467,-99 136.0467,-111 136.0467,-111 136.0467,-117 130.0467,-123 124.0467,-123\"/>\n<text text-anchor=\"middle\" x=\"83.0467\" y=\"-101.3\" font-family=\"Times,serif\" font-size=\"14.00\" fill=\"#000000\">Variance &gt; 4.5?</text>\n</g>\n<!-- 2&#45;&gt;0 -->\n<g id=\"edge1\" class=\"edge\">\n<title>2&#45;&gt;0</title>\n<path fill=\"none\" stroke=\"#000000\" d=\"M73.5155,-86.9735C67.0582,-74.7609 58.4141,-58.4123 51.1624,-44.697\"/>\n<polygon fill=\"#000000\" stroke=\"#000000\" points=\"54.1767,-42.9101 46.4083,-35.7057 47.9885,-46.182 54.1767,-42.9101\"/>\n<text text-anchor=\"middle\" x=\"78.0467\" y=\"-57.8\" font-family=\"Times,serif\" font-size=\"14.00\" fill=\"#000000\">False</text>\n</g>\n<!-- 2&#45;&gt;1 -->\n<g id=\"edge2\" class=\"edge\">\n<title>2&#45;&gt;1</title>\n<path fill=\"none\" stroke=\"#000000\" d=\"M92.7851,-86.9735C99.3828,-74.7609 108.2148,-58.4123 115.6242,-44.697\"/>\n<polygon fill=\"#000000\" stroke=\"#000000\" points=\"118.8078,-46.1675 120.4816,-35.7057 112.6491,-42.8403 118.8078,-46.1675\"/>\n<text text-anchor=\"middle\" x=\"123.5467\" y=\"-57.8\" font-family=\"Times,serif\" font-size=\"14.00\" fill=\"#000000\">True</text>\n</g>\n<!-- 3 -->\n<g id=\"node4\" class=\"node\">\n<title>3</title>\n<ellipse fill=\"#d3d3d3\" stroke=\"#000000\" cx=\"192.0467\" cy=\"-105\" rx=\"37.8943\" ry=\"18\"/>\n<text text-anchor=\"middle\" x=\"192.0467\" y=\"-101.3\" font-family=\"Times,serif\" font-size=\"14.00\" fill=\"#000000\">suspect</text>\n</g>\n<!-- 4 -->\n<g id=\"node5\" class=\"node\">\n<title>4</title>\n<path fill=\"#ffff00\" stroke=\"#000000\" d=\"M225.5467,-210C225.5467,-210 158.5467,-210 158.5467,-210 152.5467,-210 146.5467,-204 146.5467,-198 146.5467,-198 146.5467,-186 146.5467,-186 146.5467,-180 152.5467,-174 158.5467,-174 158.5467,-174 225.5467,-174 225.5467,-174 231.5467,-174 237.5467,-180 237.5467,-186 237.5467,-186 237.5467,-198 237.5467,-198 237.5467,-204 231.5467,-210 225.5467,-210\"/>\n<text text-anchor=\"middle\" x=\"192.0467\" y=\"-188.3\" font-family=\"Times,serif\" font-size=\"14.00\" fill=\"#000000\">ALTV &gt; 61?</text>\n</g>\n<!-- 4&#45;&gt;2 -->\n<g id=\"edge3\" class=\"edge\">\n<title>4&#45;&gt;2</title>\n<path fill=\"none\" stroke=\"#000000\" d=\"M169.4618,-173.9735C153.2393,-161.0253 131.1917,-143.4276 113.4271,-129.2485\"/>\n<polygon fill=\"#000000\" stroke=\"#000000\" points=\"115.6017,-126.5061 105.6027,-123.0034 111.235,-131.9771 115.6017,-126.5061\"/>\n<text text-anchor=\"middle\" x=\"160.0467\" y=\"-144.8\" font-family=\"Times,serif\" font-size=\"14.00\" fill=\"#000000\">False</text>\n</g>\n<!-- 4&#45;&gt;3 -->\n<g id=\"edge4\" class=\"edge\">\n<title>4&#45;&gt;3</title>\n<path fill=\"none\" stroke=\"#000000\" d=\"M192.0467,-173.9735C192.0467,-162.1918 192.0467,-146.5607 192.0467,-133.1581\"/>\n<polygon fill=\"#000000\" stroke=\"#000000\" points=\"195.5468,-133.0033 192.0467,-123.0034 188.5468,-133.0034 195.5468,-133.0033\"/>\n<text text-anchor=\"middle\" x=\"205.5467\" y=\"-144.8\" font-family=\"Times,serif\" font-size=\"14.00\" fill=\"#000000\">True</text>\n</g>\n<!-- 5 -->\n<g id=\"node6\" class=\"node\">\n<title>5</title>\n<ellipse fill=\"#d3d3d3\" stroke=\"#000000\" cx=\"256.0467\" cy=\"-18\" rx=\"37.0935\" ry=\"18\"/>\n<text text-anchor=\"middle\" x=\"256.0467\" y=\"-14.3\" font-family=\"Times,serif\" font-size=\"14.00\" fill=\"#000000\">normal</text>\n</g>\n<!-- 6 -->\n<g id=\"node7\" class=\"node\">\n<title>6</title>\n<ellipse fill=\"#d3d3d3\" stroke=\"#000000\" cx=\"349.0467\" cy=\"-18\" rx=\"37.8943\" ry=\"18\"/>\n<text text-anchor=\"middle\" x=\"349.0467\" y=\"-14.3\" font-family=\"Times,serif\" font-size=\"14.00\" fill=\"#000000\">suspect</text>\n</g>\n<!-- 7 -->\n<g id=\"node8\" class=\"node\">\n<title>7</title>\n<path fill=\"#ffff00\" stroke=\"#000000\" d=\"M318.5467,-123C318.5467,-123 259.5467,-123 259.5467,-123 253.5467,-123 247.5467,-117 247.5467,-111 247.5467,-111 247.5467,-99 247.5467,-99 247.5467,-93 253.5467,-87 259.5467,-87 259.5467,-87 318.5467,-87 318.5467,-87 324.5467,-87 330.5467,-93 330.5467,-99 330.5467,-99 330.5467,-111 330.5467,-111 330.5467,-117 324.5467,-123 318.5467,-123\"/>\n<text text-anchor=\"middle\" x=\"289.0467\" y=\"-101.3\" font-family=\"Times,serif\" font-size=\"14.00\" fill=\"#000000\">ALTV &gt; 7?</text>\n</g>\n<!-- 7&#45;&gt;5 -->\n<g id=\"edge5\" class=\"edge\">\n<title>7&#45;&gt;5</title>\n<path fill=\"none\" stroke=\"#000000\" d=\"M282.2091,-86.9735C277.6213,-74.8784 271.4946,-58.7263 266.3235,-45.0934\"/>\n<polygon fill=\"#000000\" stroke=\"#000000\" points=\"269.5818,-43.8144 262.7627,-35.7057 263.0368,-46.297 269.5818,-43.8144\"/>\n<text text-anchor=\"middle\" x=\"290.0467\" y=\"-57.8\" font-family=\"Times,serif\" font-size=\"14.00\" fill=\"#000000\">False</text>\n</g>\n<!-- 7&#45;&gt;6 -->\n<g id=\"edge6\" class=\"edge\">\n<title>7&#45;&gt;6</title>\n<path fill=\"none\" stroke=\"#000000\" d=\"M301.4788,-86.9735C310.1769,-74.3612 321.9173,-57.3377 331.5578,-43.359\"/>\n<polygon fill=\"#000000\" stroke=\"#000000\" points=\"334.4469,-45.3346 337.243,-35.1154 328.6844,-41.3605 334.4469,-45.3346\"/>\n<text text-anchor=\"middle\" x=\"336.5467\" y=\"-57.8\" font-family=\"Times,serif\" font-size=\"14.00\" fill=\"#000000\">True</text>\n</g>\n<!-- 8 -->\n<g id=\"node9\" class=\"node\">\n<title>8</title>\n<ellipse fill=\"#d3d3d3\" stroke=\"#000000\" cx=\"399.0467\" cy=\"-105\" rx=\"50.0912\" ry=\"18\"/>\n<text text-anchor=\"middle\" x=\"399.0467\" y=\"-101.3\" font-family=\"Times,serif\" font-size=\"14.00\" fill=\"#000000\">pathologic</text>\n</g>\n<!-- 9 -->\n<g id=\"node10\" class=\"node\">\n<title>9</title>\n<path fill=\"#ffff00\" stroke=\"#000000\" d=\"M372.5467,-210C372.5467,-210 293.5467,-210 293.5467,-210 287.5467,-210 281.5467,-204 281.5467,-198 281.5467,-198 281.5467,-186 281.5467,-186 281.5467,-180 287.5467,-174 293.5467,-174 293.5467,-174 372.5467,-174 372.5467,-174 378.5467,-174 384.5467,-180 384.5467,-186 384.5467,-186 384.5467,-198 384.5467,-198 384.5467,-204 378.5467,-210 372.5467,-210\"/>\n<text text-anchor=\"middle\" x=\"333.0467\" y=\"-188.3\" font-family=\"Times,serif\" font-size=\"14.00\" fill=\"#000000\">ASTV &gt; 79.5?</text>\n</g>\n<!-- 9&#45;&gt;7 -->\n<g id=\"edge7\" class=\"edge\">\n<title>9&#45;&gt;7</title>\n<path fill=\"none\" stroke=\"#000000\" d=\"M323.9299,-173.9735C317.7943,-161.8418 309.5945,-145.6287 302.6866,-131.9698\"/>\n<polygon fill=\"#000000\" stroke=\"#000000\" points=\"305.7883,-130.3474 298.1519,-123.0034 299.5417,-133.5066 305.7883,-130.3474\"/>\n<text text-anchor=\"middle\" x=\"329.0467\" y=\"-144.8\" font-family=\"Times,serif\" font-size=\"14.00\" fill=\"#000000\">False</text>\n</g>\n<!-- 9&#45;&gt;8 -->\n<g id=\"edge8\" class=\"edge\">\n<title>9&#45;&gt;8</title>\n<path fill=\"none\" stroke=\"#000000\" d=\"M346.722,-173.9735C356.2274,-161.4437 369.0357,-144.56 379.6006,-130.6335\"/>\n<polygon fill=\"#000000\" stroke=\"#000000\" points=\"382.5839,-132.492 385.8394,-122.4097 377.007,-128.2613 382.5839,-132.492\"/>\n<text text-anchor=\"middle\" x=\"383.5467\" y=\"-144.8\" font-family=\"Times,serif\" font-size=\"14.00\" fill=\"#000000\">True</text>\n</g>\n<!-- 10 -->\n<g id=\"node11\" class=\"node\">\n<title>10</title>\n<path fill=\"#ffff00\" stroke=\"#000000\" d=\"M372.5467,-297C372.5467,-297 293.5467,-297 293.5467,-297 287.5467,-297 281.5467,-291 281.5467,-285 281.5467,-285 281.5467,-273 281.5467,-273 281.5467,-267 287.5467,-261 293.5467,-261 293.5467,-261 372.5467,-261 372.5467,-261 378.5467,-261 384.5467,-267 384.5467,-273 384.5467,-273 384.5467,-285 384.5467,-285 384.5467,-291 378.5467,-297 372.5467,-297\"/>\n<text text-anchor=\"middle\" x=\"333.0467\" y=\"-275.3\" font-family=\"Times,serif\" font-size=\"14.00\" fill=\"#000000\">ASTV &gt; 59.5?</text>\n</g>\n<!-- 10&#45;&gt;4 -->\n<g id=\"edge9\" class=\"edge\">\n<title>10&#45;&gt;4</title>\n<path fill=\"none\" stroke=\"#000000\" d=\"M303.8314,-260.9735C282.3736,-247.7336 253.0375,-229.6326 229.802,-215.2958\"/>\n<polygon fill=\"#000000\" stroke=\"#000000\" points=\"231.5728,-212.2759 221.2246,-210.0034 227.8971,-218.2331 231.5728,-212.2759\"/>\n<text text-anchor=\"middle\" x=\"286.0467\" y=\"-231.8\" font-family=\"Times,serif\" font-size=\"14.00\" fill=\"#000000\">False</text>\n</g>\n<!-- 10&#45;&gt;9 -->\n<g id=\"edge10\" class=\"edge\">\n<title>10&#45;&gt;9</title>\n<path fill=\"none\" stroke=\"#000000\" d=\"M333.0467,-260.9735C333.0467,-249.1918 333.0467,-233.5607 333.0467,-220.1581\"/>\n<polygon fill=\"#000000\" stroke=\"#000000\" points=\"336.5468,-220.0033 333.0467,-210.0034 329.5468,-220.0034 336.5468,-220.0033\"/>\n<text text-anchor=\"middle\" x=\"346.5467\" y=\"-231.8\" font-family=\"Times,serif\" font-size=\"14.00\" fill=\"#000000\">True</text>\n</g>\n<!-- 11 -->\n<g id=\"node12\" class=\"node\">\n<title>11</title>\n<ellipse fill=\"#d3d3d3\" stroke=\"#000000\" cx=\"481.0467\" cy=\"-192\" rx=\"50.0912\" ry=\"18\"/>\n<text text-anchor=\"middle\" x=\"481.0467\" y=\"-188.3\" font-family=\"Times,serif\" font-size=\"14.00\" fill=\"#000000\">pathologic</text>\n</g>\n<!-- 12 -->\n<g id=\"node13\" class=\"node\">\n<title>12</title>\n<ellipse fill=\"#d3d3d3\" stroke=\"#000000\" cx=\"504.0467\" cy=\"-105\" rx=\"37.0935\" ry=\"18\"/>\n<text text-anchor=\"middle\" x=\"504.0467\" y=\"-101.3\" font-family=\"Times,serif\" font-size=\"14.00\" fill=\"#000000\">normal</text>\n</g>\n<!-- 13 -->\n<g id=\"node14\" class=\"node\">\n<title>13</title>\n<ellipse fill=\"#d3d3d3\" stroke=\"#000000\" cx=\"609.0467\" cy=\"-105\" rx=\"50.0912\" ry=\"18\"/>\n<text text-anchor=\"middle\" x=\"609.0467\" y=\"-101.3\" font-family=\"Times,serif\" font-size=\"14.00\" fill=\"#000000\">pathologic</text>\n</g>\n<!-- 14 -->\n<g id=\"node15\" class=\"node\">\n<title>14</title>\n<path fill=\"#ffff00\" stroke=\"#000000\" d=\"M628.5467,-210C628.5467,-210 561.5467,-210 561.5467,-210 555.5467,-210 549.5467,-204 549.5467,-198 549.5467,-198 549.5467,-186 549.5467,-186 549.5467,-180 555.5467,-174 561.5467,-174 561.5467,-174 628.5467,-174 628.5467,-174 634.5467,-174 640.5467,-180 640.5467,-186 640.5467,-186 640.5467,-198 640.5467,-198 640.5467,-204 634.5467,-210 628.5467,-210\"/>\n<text text-anchor=\"middle\" x=\"595.0467\" y=\"-188.3\" font-family=\"Times,serif\" font-size=\"14.00\" fill=\"#000000\">ALTV &gt; 77?</text>\n</g>\n<!-- 14&#45;&gt;12 -->\n<g id=\"edge11\" class=\"edge\">\n<title>14&#45;&gt;12</title>\n<path fill=\"none\" stroke=\"#000000\" d=\"M576.1915,-173.9735C562.3599,-160.75 543.4563,-142.6773 528.4691,-128.3489\"/>\n<polygon fill=\"#000000\" stroke=\"#000000\" points=\"530.6832,-125.6235 521.0364,-121.2429 525.8459,-130.6832 530.6832,-125.6235\"/>\n<text text-anchor=\"middle\" x=\"570.0467\" y=\"-144.8\" font-family=\"Times,serif\" font-size=\"14.00\" fill=\"#000000\">False</text>\n</g>\n<!-- 14&#45;&gt;13 -->\n<g id=\"edge12\" class=\"edge\">\n<title>14&#45;&gt;13</title>\n<path fill=\"none\" stroke=\"#000000\" d=\"M597.9475,-173.9735C599.8434,-162.1918 602.3588,-146.5607 604.5155,-133.1581\"/>\n<polygon fill=\"#000000\" stroke=\"#000000\" points=\"608.0163,-133.4324 606.1496,-123.0034 601.1052,-132.3203 608.0163,-133.4324\"/>\n<text text-anchor=\"middle\" x=\"616.5467\" y=\"-144.8\" font-family=\"Times,serif\" font-size=\"14.00\" fill=\"#000000\">True</text>\n</g>\n<!-- 15 -->\n<g id=\"node16\" class=\"node\">\n<title>15</title>\n<path fill=\"#ffff00\" stroke=\"#000000\" d=\"M548.5467,-297C548.5467,-297 495.5467,-297 495.5467,-297 489.5467,-297 483.5467,-291 483.5467,-285 483.5467,-285 483.5467,-273 483.5467,-273 483.5467,-267 489.5467,-261 495.5467,-261 495.5467,-261 548.5467,-261 548.5467,-261 554.5467,-261 560.5467,-267 560.5467,-273 560.5467,-273 560.5467,-285 560.5467,-285 560.5467,-291 554.5467,-297 548.5467,-297\"/>\n<text text-anchor=\"middle\" x=\"522.0467\" y=\"-275.3\" font-family=\"Times,serif\" font-size=\"14.00\" fill=\"#000000\">UC &gt; 3.5?</text>\n</g>\n<!-- 15&#45;&gt;11 -->\n<g id=\"edge13\" class=\"edge\">\n<title>15&#45;&gt;11</title>\n<path fill=\"none\" stroke=\"#000000\" d=\"M513.5515,-260.9735C507.8892,-248.9585 500.3403,-232.9401 493.9427,-219.3646\"/>\n<polygon fill=\"#000000\" stroke=\"#000000\" points=\"496.9601,-217.5571 489.5311,-210.0034 490.628,-220.5413 496.9601,-217.5571\"/>\n<text text-anchor=\"middle\" x=\"519.0467\" y=\"-231.8\" font-family=\"Times,serif\" font-size=\"14.00\" fill=\"#000000\">False</text>\n</g>\n<!-- 15&#45;&gt;14 -->\n<g id=\"edge14\" class=\"edge\">\n<title>15&#45;&gt;14</title>\n<path fill=\"none\" stroke=\"#000000\" d=\"M537.1724,-260.9735C547.6455,-248.4919 561.7437,-231.6899 573.4032,-217.7944\"/>\n<polygon fill=\"#000000\" stroke=\"#000000\" points=\"576.1938,-219.9136 579.9404,-210.0034 570.8314,-215.4142 576.1938,-219.9136\"/>\n<text text-anchor=\"middle\" x=\"576.5467\" y=\"-231.8\" font-family=\"Times,serif\" font-size=\"14.00\" fill=\"#000000\">True</text>\n</g>\n<!-- 16 -->\n<g id=\"node17\" class=\"node\">\n<title>16</title>\n<path fill=\"#ffff00\" stroke=\"#000000\" d=\"M561.0467,-384C561.0467,-384 483.0467,-384 483.0467,-384 477.0467,-384 471.0467,-378 471.0467,-372 471.0467,-372 471.0467,-360 471.0467,-360 471.0467,-354 477.0467,-348 483.0467,-348 483.0467,-348 561.0467,-348 561.0467,-348 567.0467,-348 573.0467,-354 573.0467,-360 573.0467,-360 573.0467,-372 573.0467,-372 573.0467,-378 567.0467,-384 561.0467,-384\"/>\n<text text-anchor=\"middle\" x=\"522.0467\" y=\"-362.3\" font-family=\"Times,serif\" font-size=\"14.00\" fill=\"#000000\">ALTV &gt; 68.5?</text>\n</g>\n<!-- 16&#45;&gt;10 -->\n<g id=\"edge15\" class=\"edge\">\n<title>16&#45;&gt;10</title>\n<path fill=\"none\" stroke=\"#000000\" d=\"M482.8858,-347.9735C453.4897,-334.442 413.0629,-315.8328 381.6089,-301.354\"/>\n<polygon fill=\"#000000\" stroke=\"#000000\" points=\"382.7048,-298.0055 372.1575,-297.0034 379.7778,-304.3642 382.7048,-298.0055\"/>\n<text text-anchor=\"middle\" x=\"454.0467\" y=\"-318.8\" font-family=\"Times,serif\" font-size=\"14.00\" fill=\"#000000\">False</text>\n</g>\n<!-- 16&#45;&gt;15 -->\n<g id=\"edge16\" class=\"edge\">\n<title>16&#45;&gt;15</title>\n<path fill=\"none\" stroke=\"#000000\" d=\"M522.0467,-347.9735C522.0467,-336.1918 522.0467,-320.5607 522.0467,-307.1581\"/>\n<polygon fill=\"#000000\" stroke=\"#000000\" points=\"525.5468,-307.0033 522.0467,-297.0034 518.5468,-307.0034 525.5468,-307.0033\"/>\n<text text-anchor=\"middle\" x=\"535.5467\" y=\"-318.8\" font-family=\"Times,serif\" font-size=\"14.00\" fill=\"#000000\">True</text>\n</g>\n<!-- 17 -->\n<g id=\"node18\" class=\"node\">\n<title>17</title>\n<ellipse fill=\"#d3d3d3\" stroke=\"#000000\" cx=\"715.0467\" cy=\"-105\" rx=\"37.8943\" ry=\"18\"/>\n<text text-anchor=\"middle\" x=\"715.0467\" y=\"-101.3\" font-family=\"Times,serif\" font-size=\"14.00\" fill=\"#000000\">suspect</text>\n</g>\n<!-- 18 -->\n<g id=\"node19\" class=\"node\">\n<title>18</title>\n<ellipse fill=\"#d3d3d3\" stroke=\"#000000\" cx=\"821.0467\" cy=\"-105\" rx=\"50.0912\" ry=\"18\"/>\n<text text-anchor=\"middle\" x=\"821.0467\" y=\"-101.3\" font-family=\"Times,serif\" font-size=\"14.00\" fill=\"#000000\">pathologic</text>\n</g>\n<!-- 19 -->\n<g id=\"node20\" class=\"node\">\n<title>19</title>\n<path fill=\"#ffff00\" stroke=\"#000000\" d=\"M856.0467,-210C856.0467,-210 780.0467,-210 780.0467,-210 774.0467,-210 768.0467,-204 768.0467,-198 768.0467,-198 768.0467,-186 768.0467,-186 768.0467,-180 774.0467,-174 780.0467,-174 780.0467,-174 856.0467,-174 856.0467,-174 862.0467,-174 868.0467,-180 868.0467,-186 868.0467,-186 868.0467,-198 868.0467,-198 868.0467,-204 862.0467,-210 856.0467,-210\"/>\n<text text-anchor=\"middle\" x=\"818.0467\" y=\"-188.3\" font-family=\"Times,serif\" font-size=\"14.00\" fill=\"#000000\">Width &gt; 72.5?</text>\n</g>\n<!-- 19&#45;&gt;17 -->\n<g id=\"edge17\" class=\"edge\">\n<title>19&#45;&gt;17</title>\n<path fill=\"none\" stroke=\"#000000\" d=\"M796.705,-173.9735C780.7034,-160.4576 758.7041,-141.8756 741.5709,-127.4039\"/>\n<polygon fill=\"#000000\" stroke=\"#000000\" points=\"743.4966,-124.449 733.5986,-120.6701 738.9796,-129.7967 743.4966,-124.449\"/>\n<text text-anchor=\"middle\" x=\"788.0467\" y=\"-144.8\" font-family=\"Times,serif\" font-size=\"14.00\" fill=\"#000000\">False</text>\n</g>\n<!-- 19&#45;&gt;18 -->\n<g id=\"edge18\" class=\"edge\">\n<title>19&#45;&gt;18</title>\n<path fill=\"none\" stroke=\"#000000\" d=\"M818.6683,-173.9735C819.0746,-162.1918 819.6136,-146.5607 820.0757,-133.1581\"/>\n<polygon fill=\"#000000\" stroke=\"#000000\" points=\"823.5791,-133.1181 820.4259,-123.0034 816.5833,-132.8768 823.5791,-133.1181\"/>\n<text text-anchor=\"middle\" x=\"833.5467\" y=\"-144.8\" font-family=\"Times,serif\" font-size=\"14.00\" fill=\"#000000\">True</text>\n</g>\n<!-- 20 -->\n<g id=\"node21\" class=\"node\">\n<title>20</title>\n<ellipse fill=\"#d3d3d3\" stroke=\"#000000\" cx=\"939.0467\" cy=\"-105\" rx=\"50.0912\" ry=\"18\"/>\n<text text-anchor=\"middle\" x=\"939.0467\" y=\"-101.3\" font-family=\"Times,serif\" font-size=\"14.00\" fill=\"#000000\">pathologic</text>\n</g>\n<!-- 21 -->\n<g id=\"node22\" class=\"node\">\n<title>21</title>\n<ellipse fill=\"#d3d3d3\" stroke=\"#000000\" cx=\"1044.0467\" cy=\"-105\" rx=\"37.0935\" ry=\"18\"/>\n<text text-anchor=\"middle\" x=\"1044.0467\" y=\"-101.3\" font-family=\"Times,serif\" font-size=\"14.00\" fill=\"#000000\">normal</text>\n</g>\n<!-- 22 -->\n<g id=\"node23\" class=\"node\">\n<title>22</title>\n<path fill=\"#ffff00\" stroke=\"#000000\" d=\"M987.5467,-210C987.5467,-210 898.5467,-210 898.5467,-210 892.5467,-210 886.5467,-204 886.5467,-198 886.5467,-198 886.5467,-186 886.5467,-186 886.5467,-180 892.5467,-174 898.5467,-174 898.5467,-174 987.5467,-174 987.5467,-174 993.5467,-174 999.5467,-180 999.5467,-186 999.5467,-186 999.5467,-198 999.5467,-198 999.5467,-204 993.5467,-210 987.5467,-210\"/>\n<text text-anchor=\"middle\" x=\"943.0467\" y=\"-188.3\" font-family=\"Times,serif\" font-size=\"14.00\" fill=\"#000000\">Variance &gt; 23.5?</text>\n</g>\n<!-- 22&#45;&gt;20 -->\n<g id=\"edge19\" class=\"edge\">\n<title>22&#45;&gt;20</title>\n<path fill=\"none\" stroke=\"#000000\" d=\"M942.2179,-173.9735C941.6762,-162.1918 940.9575,-146.5607 940.3413,-133.1581\"/>\n<polygon fill=\"#000000\" stroke=\"#000000\" points=\"943.8301,-132.832 939.8745,-123.0034 936.8375,-133.1536 943.8301,-132.832\"/>\n<text text-anchor=\"middle\" x=\"957.0467\" y=\"-144.8\" font-family=\"Times,serif\" font-size=\"14.00\" fill=\"#000000\">False</text>\n</g>\n<!-- 22&#45;&gt;21 -->\n<g id=\"edge20\" class=\"edge\">\n<title>22&#45;&gt;21</title>\n<path fill=\"none\" stroke=\"#000000\" d=\"M963.974,-173.9735C979.5656,-160.5431 1000.9643,-142.1106 1017.718,-127.6792\"/>\n<polygon fill=\"#000000\" stroke=\"#000000\" points=\"1020.2312,-130.1339 1025.5236,-120.9556 1015.6627,-124.8302 1020.2312,-130.1339\"/>\n<text text-anchor=\"middle\" x=\"1013.5467\" y=\"-144.8\" font-family=\"Times,serif\" font-size=\"14.00\" fill=\"#000000\">True</text>\n</g>\n<!-- 23 -->\n<g id=\"node24\" class=\"node\">\n<title>23</title>\n<path fill=\"#ffff00\" stroke=\"#000000\" d=\"M900.0467,-297C900.0467,-297 826.0467,-297 826.0467,-297 820.0467,-297 814.0467,-291 814.0467,-285 814.0467,-285 814.0467,-273 814.0467,-273 814.0467,-267 820.0467,-261 826.0467,-261 826.0467,-261 900.0467,-261 900.0467,-261 906.0467,-261 912.0467,-267 912.0467,-273 912.0467,-273 912.0467,-285 912.0467,-285 912.0467,-291 906.0467,-297 900.0467,-297\"/>\n<text text-anchor=\"middle\" x=\"863.0467\" y=\"-275.3\" font-family=\"Times,serif\" font-size=\"14.00\" fill=\"#000000\">Max &gt; 220.5?</text>\n</g>\n<!-- 23&#45;&gt;19 -->\n<g id=\"edge21\" class=\"edge\">\n<title>23&#45;&gt;19</title>\n<path fill=\"none\" stroke=\"#000000\" d=\"M853.7227,-260.9735C847.4477,-248.8418 839.0615,-232.6287 831.9966,-218.9698\"/>\n<polygon fill=\"#000000\" stroke=\"#000000\" points=\"835.0618,-217.2776 827.3588,-210.0034 828.8443,-220.4935 835.0618,-217.2776\"/>\n<text text-anchor=\"middle\" x=\"859.0467\" y=\"-231.8\" font-family=\"Times,serif\" font-size=\"14.00\" fill=\"#000000\">False</text>\n</g>\n<!-- 23&#45;&gt;22 -->\n<g id=\"edge22\" class=\"edge\">\n<title>23&#45;&gt;22</title>\n<path fill=\"none\" stroke=\"#000000\" d=\"M879.6228,-260.9735C891.2074,-248.3752 906.8394,-231.3755 919.6853,-217.4055\"/>\n<polygon fill=\"#000000\" stroke=\"#000000\" points=\"922.2995,-219.7335 926.4919,-210.0034 917.1468,-214.9953 922.2995,-219.7335\"/>\n<text text-anchor=\"middle\" x=\"921.5467\" y=\"-231.8\" font-family=\"Times,serif\" font-size=\"14.00\" fill=\"#000000\">True</text>\n</g>\n<!-- 24 -->\n<g id=\"node25\" class=\"node\">\n<title>24</title>\n<ellipse fill=\"#d3d3d3\" stroke=\"#000000\" cx=\"1136.0467\" cy=\"-105\" rx=\"37.0935\" ry=\"18\"/>\n<text text-anchor=\"middle\" x=\"1136.0467\" y=\"-101.3\" font-family=\"Times,serif\" font-size=\"14.00\" fill=\"#000000\">normal</text>\n</g>\n<!-- 25 -->\n<g id=\"node26\" class=\"node\">\n<title>25</title>\n<ellipse fill=\"#d3d3d3\" stroke=\"#000000\" cx=\"1143.0467\" cy=\"-18\" rx=\"50.0912\" ry=\"18\"/>\n<text text-anchor=\"middle\" x=\"1143.0467\" y=\"-14.3\" font-family=\"Times,serif\" font-size=\"14.00\" fill=\"#000000\">pathologic</text>\n</g>\n<!-- 26 -->\n<g id=\"node27\" class=\"node\">\n<title>26</title>\n<ellipse fill=\"#d3d3d3\" stroke=\"#000000\" cx=\"1249.0467\" cy=\"-18\" rx=\"37.8943\" ry=\"18\"/>\n<text text-anchor=\"middle\" x=\"1249.0467\" y=\"-14.3\" font-family=\"Times,serif\" font-size=\"14.00\" fill=\"#000000\">suspect</text>\n</g>\n<!-- 27 -->\n<g id=\"node28\" class=\"node\">\n<title>27</title>\n<path fill=\"#ffff00\" stroke=\"#000000\" d=\"M1295.0467,-123C1295.0467,-123 1203.0467,-123 1203.0467,-123 1197.0467,-123 1191.0467,-117 1191.0467,-111 1191.0467,-111 1191.0467,-99 1191.0467,-99 1191.0467,-93 1197.0467,-87 1203.0467,-87 1203.0467,-87 1295.0467,-87 1295.0467,-87 1301.0467,-87 1307.0467,-93 1307.0467,-99 1307.0467,-99 1307.0467,-111 1307.0467,-111 1307.0467,-117 1301.0467,-123 1295.0467,-123\"/>\n<text text-anchor=\"middle\" x=\"1249.0467\" y=\"-101.3\" font-family=\"Times,serif\" font-size=\"14.00\" fill=\"#000000\">Median &gt; 128.5?</text>\n</g>\n<!-- 27&#45;&gt;25 -->\n<g id=\"edge23\" class=\"edge\">\n<title>27&#45;&gt;25</title>\n<path fill=\"none\" stroke=\"#000000\" d=\"M1227.0834,-86.9735C1210.9284,-73.7142 1188.8331,-55.5794 1171.3532,-41.2327\"/>\n<polygon fill=\"#000000\" stroke=\"#000000\" points=\"1173.1394,-38.1708 1163.1891,-34.532 1168.6984,-43.5817 1173.1394,-38.1708\"/>\n<text text-anchor=\"middle\" x=\"1218.0467\" y=\"-57.8\" font-family=\"Times,serif\" font-size=\"14.00\" fill=\"#000000\">False</text>\n</g>\n<!-- 27&#45;&gt;26 -->\n<g id=\"edge24\" class=\"edge\">\n<title>27&#45;&gt;26</title>\n<path fill=\"none\" stroke=\"#000000\" d=\"M1249.0467,-86.9735C1249.0467,-75.1918 1249.0467,-59.5607 1249.0467,-46.1581\"/>\n<polygon fill=\"#000000\" stroke=\"#000000\" points=\"1252.5468,-46.0033 1249.0467,-36.0034 1245.5468,-46.0034 1252.5468,-46.0033\"/>\n<text text-anchor=\"middle\" x=\"1262.5467\" y=\"-57.8\" font-family=\"Times,serif\" font-size=\"14.00\" fill=\"#000000\">True</text>\n</g>\n<!-- 28 -->\n<g id=\"node29\" class=\"node\">\n<title>28</title>\n<path fill=\"#ffff00\" stroke=\"#000000\" d=\"M1217.5467,-210C1217.5467,-210 1166.5467,-210 1166.5467,-210 1160.5467,-210 1154.5467,-204 1154.5467,-198 1154.5467,-198 1154.5467,-186 1154.5467,-186 1154.5467,-180 1160.5467,-174 1166.5467,-174 1166.5467,-174 1217.5467,-174 1217.5467,-174 1223.5467,-174 1229.5467,-180 1229.5467,-186 1229.5467,-186 1229.5467,-198 1229.5467,-198 1229.5467,-204 1223.5467,-210 1217.5467,-210\"/>\n<text text-anchor=\"middle\" x=\"1192.0467\" y=\"-188.3\" font-family=\"Times,serif\" font-size=\"14.00\" fill=\"#000000\">DP &gt; 1.5?</text>\n</g>\n<!-- 28&#45;&gt;24 -->\n<g id=\"edge25\" class=\"edge\">\n<title>28&#45;&gt;24</title>\n<path fill=\"none\" stroke=\"#000000\" d=\"M1180.4435,-173.9735C1172.4543,-161.5619 1161.7154,-144.8782 1152.8006,-131.0284\"/>\n<polygon fill=\"#000000\" stroke=\"#000000\" points=\"1155.6085,-128.924 1147.253,-122.4097 1149.7224,-132.7127 1155.6085,-128.924\"/>\n<text text-anchor=\"middle\" x=\"1183.0467\" y=\"-144.8\" font-family=\"Times,serif\" font-size=\"14.00\" fill=\"#000000\">False</text>\n</g>\n<!-- 28&#45;&gt;27 -->\n<g id=\"edge26\" class=\"edge\">\n<title>28&#45;&gt;27</title>\n<path fill=\"none\" stroke=\"#000000\" d=\"M1203.8571,-173.9735C1211.8819,-161.7252 1222.6324,-145.3165 1231.6345,-131.5766\"/>\n<polygon fill=\"#000000\" stroke=\"#000000\" points=\"1234.6987,-133.2861 1237.2514,-123.0034 1228.8435,-129.4499 1234.6987,-133.2861\"/>\n<text text-anchor=\"middle\" x=\"1237.5467\" y=\"-144.8\" font-family=\"Times,serif\" font-size=\"14.00\" fill=\"#000000\">True</text>\n</g>\n<!-- 29 -->\n<g id=\"node30\" class=\"node\">\n<title>29</title>\n<ellipse fill=\"#d3d3d3\" stroke=\"#000000\" cx=\"1342.0467\" cy=\"-18\" rx=\"37.0935\" ry=\"18\"/>\n<text text-anchor=\"middle\" x=\"1342.0467\" y=\"-14.3\" font-family=\"Times,serif\" font-size=\"14.00\" fill=\"#000000\">normal</text>\n</g>\n<!-- 30 -->\n<g id=\"node31\" class=\"node\">\n<title>30</title>\n<ellipse fill=\"#d3d3d3\" stroke=\"#000000\" cx=\"1435.0467\" cy=\"-18\" rx=\"37.8943\" ry=\"18\"/>\n<text text-anchor=\"middle\" x=\"1435.0467\" y=\"-14.3\" font-family=\"Times,serif\" font-size=\"14.00\" fill=\"#000000\">suspect</text>\n</g>\n<!-- 31 -->\n<g id=\"node32\" class=\"node\">\n<title>31</title>\n<path fill=\"#ffff00\" stroke=\"#000000\" d=\"M1438.5467,-123C1438.5467,-123 1359.5467,-123 1359.5467,-123 1353.5467,-123 1347.5467,-117 1347.5467,-111 1347.5467,-111 1347.5467,-99 1347.5467,-99 1347.5467,-93 1353.5467,-87 1359.5467,-87 1359.5467,-87 1438.5467,-87 1438.5467,-87 1444.5467,-87 1450.5467,-93 1450.5467,-99 1450.5467,-99 1450.5467,-111 1450.5467,-111 1450.5467,-117 1444.5467,-123 1438.5467,-123\"/>\n<text text-anchor=\"middle\" x=\"1399.0467\" y=\"-101.3\" font-family=\"Times,serif\" font-size=\"14.00\" fill=\"#000000\">ASTV &gt; 56.5?</text>\n</g>\n<!-- 31&#45;&gt;29 -->\n<g id=\"edge27\" class=\"edge\">\n<title>31&#45;&gt;29</title>\n<path fill=\"none\" stroke=\"#000000\" d=\"M1387.2363,-86.9735C1379.1045,-74.5619 1368.1738,-57.8782 1359.0998,-44.0284\"/>\n<polygon fill=\"#000000\" stroke=\"#000000\" points=\"1361.861,-41.8562 1353.4531,-35.4097 1356.0058,-45.6924 1361.861,-41.8562\"/>\n<text text-anchor=\"middle\" x=\"1389.0467\" y=\"-57.8\" font-family=\"Times,serif\" font-size=\"14.00\" fill=\"#000000\">False</text>\n</g>\n<!-- 31&#45;&gt;30 -->\n<g id=\"edge28\" class=\"edge\">\n<title>31&#45;&gt;30</title>\n<path fill=\"none\" stroke=\"#000000\" d=\"M1406.5059,-86.9735C1411.5108,-74.8784 1418.1944,-58.7263 1423.8357,-45.0934\"/>\n<polygon fill=\"#000000\" stroke=\"#000000\" points=\"1427.1307,-46.2841 1427.7202,-35.7057 1420.6626,-43.6076 1427.1307,-46.2841\"/>\n<text text-anchor=\"middle\" x=\"1433.5467\" y=\"-57.8\" font-family=\"Times,serif\" font-size=\"14.00\" fill=\"#000000\">True</text>\n</g>\n<!-- 32 -->\n<g id=\"node33\" class=\"node\">\n<title>32</title>\n<ellipse fill=\"#d3d3d3\" stroke=\"#000000\" cx=\"1528.0467\" cy=\"-18\" rx=\"37.0935\" ry=\"18\"/>\n<text text-anchor=\"middle\" x=\"1528.0467\" y=\"-14.3\" font-family=\"Times,serif\" font-size=\"14.00\" fill=\"#000000\">normal</text>\n</g>\n<!-- 33 -->\n<g id=\"node34\" class=\"node\">\n<title>33</title>\n<ellipse fill=\"#d3d3d3\" stroke=\"#000000\" cx=\"1621.0467\" cy=\"-18\" rx=\"37.8943\" ry=\"18\"/>\n<text text-anchor=\"middle\" x=\"1621.0467\" y=\"-14.3\" font-family=\"Times,serif\" font-size=\"14.00\" fill=\"#000000\">suspect</text>\n</g>\n<!-- 34 -->\n<g id=\"node35\" class=\"node\">\n<title>34</title>\n<path fill=\"#ffff00\" stroke=\"#000000\" d=\"M1553.0467,-123C1553.0467,-123 1503.0467,-123 1503.0467,-123 1497.0467,-123 1491.0467,-117 1491.0467,-111 1491.0467,-111 1491.0467,-99 1491.0467,-99 1491.0467,-93 1497.0467,-87 1503.0467,-87 1503.0467,-87 1553.0467,-87 1553.0467,-87 1559.0467,-87 1565.0467,-93 1565.0467,-99 1565.0467,-99 1565.0467,-111 1565.0467,-111 1565.0467,-117 1559.0467,-123 1553.0467,-123\"/>\n<text text-anchor=\"middle\" x=\"1528.0467\" y=\"-101.3\" font-family=\"Times,serif\" font-size=\"14.00\" fill=\"#000000\">UC &gt; 10?</text>\n</g>\n<!-- 34&#45;&gt;32 -->\n<g id=\"edge29\" class=\"edge\">\n<title>34&#45;&gt;32</title>\n<path fill=\"none\" stroke=\"#000000\" d=\"M1528.0467,-86.9735C1528.0467,-75.1918 1528.0467,-59.5607 1528.0467,-46.1581\"/>\n<polygon fill=\"#000000\" stroke=\"#000000\" points=\"1531.5468,-46.0033 1528.0467,-36.0034 1524.5468,-46.0034 1531.5468,-46.0033\"/>\n<text text-anchor=\"middle\" x=\"1543.0467\" y=\"-57.8\" font-family=\"Times,serif\" font-size=\"14.00\" fill=\"#000000\">False</text>\n</g>\n<!-- 34&#45;&gt;33 -->\n<g id=\"edge30\" class=\"edge\">\n<title>34&#45;&gt;33</title>\n<path fill=\"none\" stroke=\"#000000\" d=\"M1547.3164,-86.9735C1561.4519,-73.75 1580.771,-55.6773 1596.0876,-41.3489\"/>\n<polygon fill=\"#000000\" stroke=\"#000000\" points=\"1598.772,-43.6304 1603.6837,-34.2429 1593.9898,-38.5185 1598.772,-43.6304\"/>\n<text text-anchor=\"middle\" x=\"1593.5467\" y=\"-57.8\" font-family=\"Times,serif\" font-size=\"14.00\" fill=\"#000000\">True</text>\n</g>\n<!-- 35 -->\n<g id=\"node36\" class=\"node\">\n<title>35</title>\n<path fill=\"#ffff00\" stroke=\"#000000\" d=\"M1425.5467,-210C1425.5467,-210 1372.5467,-210 1372.5467,-210 1366.5467,-210 1360.5467,-204 1360.5467,-198 1360.5467,-198 1360.5467,-186 1360.5467,-186 1360.5467,-180 1366.5467,-174 1372.5467,-174 1372.5467,-174 1425.5467,-174 1425.5467,-174 1431.5467,-174 1437.5467,-180 1437.5467,-186 1437.5467,-186 1437.5467,-198 1437.5467,-198 1437.5467,-204 1431.5467,-210 1425.5467,-210\"/>\n<text text-anchor=\"middle\" x=\"1399.0467\" y=\"-188.3\" font-family=\"Times,serif\" font-size=\"14.00\" fill=\"#000000\">AC &gt; 1.5?</text>\n</g>\n<!-- 35&#45;&gt;31 -->\n<g id=\"edge31\" class=\"edge\">\n<title>35&#45;&gt;31</title>\n<path fill=\"none\" stroke=\"#000000\" d=\"M1399.0467,-173.9735C1399.0467,-162.1918 1399.0467,-146.5607 1399.0467,-133.1581\"/>\n<polygon fill=\"#000000\" stroke=\"#000000\" points=\"1402.5468,-133.0033 1399.0467,-123.0034 1395.5468,-133.0034 1402.5468,-133.0033\"/>\n<text text-anchor=\"middle\" x=\"1414.0467\" y=\"-144.8\" font-family=\"Times,serif\" font-size=\"14.00\" fill=\"#000000\">False</text>\n</g>\n<!-- 35&#45;&gt;34 -->\n<g id=\"edge32\" class=\"edge\">\n<title>35&#45;&gt;34</title>\n<path fill=\"none\" stroke=\"#000000\" d=\"M1425.7756,-173.9735C1445.2342,-160.8503 1471.7743,-142.9512 1492.9415,-128.6756\"/>\n<polygon fill=\"#000000\" stroke=\"#000000\" points=\"1495.0183,-131.4966 1501.3521,-123.0034 1491.1043,-125.6931 1495.0183,-131.4966\"/>\n<text text-anchor=\"middle\" x=\"1485.5467\" y=\"-144.8\" font-family=\"Times,serif\" font-size=\"14.00\" fill=\"#000000\">True</text>\n</g>\n<!-- 36 -->\n<g id=\"node37\" class=\"node\">\n<title>36</title>\n<path fill=\"#ffff00\" stroke=\"#000000\" d=\"M1225.5467,-297C1225.5467,-297 1158.5467,-297 1158.5467,-297 1152.5467,-297 1146.5467,-291 1146.5467,-285 1146.5467,-285 1146.5467,-273 1146.5467,-273 1146.5467,-267 1152.5467,-261 1158.5467,-261 1158.5467,-261 1225.5467,-261 1225.5467,-261 1231.5467,-261 1237.5467,-267 1237.5467,-273 1237.5467,-273 1237.5467,-285 1237.5467,-285 1237.5467,-291 1231.5467,-297 1225.5467,-297\"/>\n<text text-anchor=\"middle\" x=\"1192.0467\" y=\"-275.3\" font-family=\"Times,serif\" font-size=\"14.00\" fill=\"#000000\">LB &gt; 147.5?</text>\n</g>\n<!-- 36&#45;&gt;28 -->\n<g id=\"edge33\" class=\"edge\">\n<title>36&#45;&gt;28</title>\n<path fill=\"none\" stroke=\"#000000\" d=\"M1192.0467,-260.9735C1192.0467,-249.1918 1192.0467,-233.5607 1192.0467,-220.1581\"/>\n<polygon fill=\"#000000\" stroke=\"#000000\" points=\"1195.5468,-220.0033 1192.0467,-210.0034 1188.5468,-220.0034 1195.5468,-220.0033\"/>\n<text text-anchor=\"middle\" x=\"1207.0467\" y=\"-231.8\" font-family=\"Times,serif\" font-size=\"14.00\" fill=\"#000000\">False</text>\n</g>\n<!-- 36&#45;&gt;35 -->\n<g id=\"edge34\" class=\"edge\">\n<title>36&#45;&gt;35</title>\n<path fill=\"none\" stroke=\"#000000\" d=\"M1234.9372,-260.9735C1268.7094,-246.7794 1315.775,-226.9983 1350.8469,-212.2579\"/>\n<polygon fill=\"#000000\" stroke=\"#000000\" points=\"1352.5372,-215.3441 1360.3999,-208.2429 1349.8249,-208.8909 1352.5372,-215.3441\"/>\n<text text-anchor=\"middle\" x=\"1321.5467\" y=\"-231.8\" font-family=\"Times,serif\" font-size=\"14.00\" fill=\"#000000\">True</text>\n</g>\n<!-- 37 -->\n<g id=\"node38\" class=\"node\">\n<title>37</title>\n<path fill=\"#ffff00\" stroke=\"#000000\" d=\"M903.0467,-384C903.0467,-384 823.0467,-384 823.0467,-384 817.0467,-384 811.0467,-378 811.0467,-372 811.0467,-372 811.0467,-360 811.0467,-360 811.0467,-354 817.0467,-348 823.0467,-348 823.0467,-348 903.0467,-348 903.0467,-348 909.0467,-348 915.0467,-354 915.0467,-360 915.0467,-360 915.0467,-372 915.0467,-372 915.0467,-378 909.0467,-384 903.0467,-384\"/>\n<text text-anchor=\"middle\" x=\"863.0467\" y=\"-362.3\" font-family=\"Times,serif\" font-size=\"14.00\" fill=\"#000000\">Mean &gt; 107.5?</text>\n</g>\n<!-- 37&#45;&gt;23 -->\n<g id=\"edge35\" class=\"edge\">\n<title>37&#45;&gt;23</title>\n<path fill=\"none\" stroke=\"#000000\" d=\"M863.0467,-347.9735C863.0467,-336.1918 863.0467,-320.5607 863.0467,-307.1581\"/>\n<polygon fill=\"#000000\" stroke=\"#000000\" points=\"866.5468,-307.0033 863.0467,-297.0034 859.5468,-307.0034 866.5468,-307.0033\"/>\n<text text-anchor=\"middle\" x=\"878.0467\" y=\"-318.8\" font-family=\"Times,serif\" font-size=\"14.00\" fill=\"#000000\">False</text>\n</g>\n<!-- 37&#45;&gt;36 -->\n<g id=\"edge36\" class=\"edge\">\n<title>37&#45;&gt;36</title>\n<path fill=\"none\" stroke=\"#000000\" d=\"M915.1777,-352.2146C975.5932,-336.2385 1074.7438,-310.0193 1136.554,-293.6744\"/>\n<polygon fill=\"#000000\" stroke=\"#000000\" points=\"1137.7438,-296.9801 1146.5167,-291.0399 1135.9542,-290.2127 1137.7438,-296.9801\"/>\n<text text-anchor=\"middle\" x=\"1061.5467\" y=\"-318.8\" font-family=\"Times,serif\" font-size=\"14.00\" fill=\"#000000\">True</text>\n</g>\n<!-- 38 -->\n<g id=\"node39\" class=\"node\">\n<title>38</title>\n<path fill=\"#ffff00\" stroke=\"#000000\" d=\"M787.5467,-471C787.5467,-471 706.5467,-471 706.5467,-471 700.5467,-471 694.5467,-465 694.5467,-459 694.5467,-459 694.5467,-447 694.5467,-447 694.5467,-441 700.5467,-435 706.5467,-435 706.5467,-435 787.5467,-435 787.5467,-435 793.5467,-435 799.5467,-441 799.5467,-447 799.5467,-447 799.5467,-459 799.5467,-459 799.5467,-465 793.5467,-471 787.5467,-471\"/>\n<text text-anchor=\"middle\" x=\"747.0467\" y=\"-449.3\" font-family=\"Times,serif\" font-size=\"14.00\" fill=\"#000000\">MSTV &gt; 0.55?</text>\n</g>\n<!-- 38&#45;&gt;16 -->\n<g id=\"edge37\" class=\"edge\">\n<title>38&#45;&gt;16</title>\n<path fill=\"none\" stroke=\"#000000\" d=\"M700.4266,-434.9735C664.9787,-421.267 616.0572,-402.3507 578.4116,-387.7944\"/>\n<polygon fill=\"#000000\" stroke=\"#000000\" points=\"579.1965,-384.3454 568.6071,-384.0034 576.6719,-390.8743 579.1965,-384.3454\"/>\n<text text-anchor=\"middle\" x=\"663.0467\" y=\"-405.8\" font-family=\"Times,serif\" font-size=\"14.00\" fill=\"#000000\">False</text>\n</g>\n<!-- 38&#45;&gt;37 -->\n<g id=\"edge38\" class=\"edge\">\n<title>38&#45;&gt;37</title>\n<path fill=\"none\" stroke=\"#000000\" d=\"M771.082,-434.9735C788.4241,-421.9669 812.0214,-404.269 830.9705,-390.0571\"/>\n<polygon fill=\"#000000\" stroke=\"#000000\" points=\"833.1422,-392.8034 839.0422,-384.0034 828.9422,-387.2034 833.1422,-392.8034\"/>\n<text text-anchor=\"middle\" x=\"825.5467\" y=\"-405.8\" font-family=\"Times,serif\" font-size=\"14.00\" fill=\"#000000\">True</text>\n</g>\n</g>\n</svg>\n"
          },
          "metadata": {},
          "execution_count": 69
        }
      ]
    },
    {
      "cell_type": "markdown",
      "source": [
        "## Task 3: A regression example: predicting apartment prices"
      ],
      "metadata": {
        "id": "be9Mr5JXQbcs"
      }
    },
    {
      "cell_type": "markdown",
      "source": [
        "### Setup"
      ],
      "metadata": {
        "id": "q2Fdlwjl_BYC"
      }
    },
    {
      "cell_type": "code",
      "source": [
        "# Read the CSV file using Pandas.\n",
        "filename = os.path.join(data_dir, 'sberbank.csv')\n",
        "alldata = pd.read_csv(filename)\n",
        "\n",
        "# Convert the timestamp string to an integer representing the year.\n",
        "def get_year(timestamp):\n",
        "    return int(timestamp[:4])\n",
        "alldata['year'] = alldata.timestamp.apply(get_year)\n",
        "\n",
        "# Select the 9 input columns and the output column.\n",
        "selected_columns = ['price_doc', 'year', 'full_sq', 'life_sq', 'floor', 'num_room', 'kitch_sq', 'full_all']\n",
        "alldata = alldata[selected_columns]\n",
        "alldata = alldata.dropna()\n",
        "\n",
        "# Shuffle.\n",
        "alldata_shuffled = alldata.sample(frac=1.0, random_state=0)\n",
        "\n",
        "# Separate the input and output columns.\n",
        "X = alldata_shuffled.drop('price_doc', axis=1)\n",
        "# For the output, we'll use the log of the sales price.\n",
        "Y = alldata_shuffled['price_doc'].apply(np.log)\n",
        "\n",
        "# Split into training and test sets.\n",
        "Xtrain, Xtest, Ytrain, Ytest = train_test_split(X, Y, test_size=0.2, random_state=0)\n",
        "Xtrain.head()\n",
        "# Ytrain.head()"
      ],
      "metadata": {
        "id": "7j_Dn9g2_C8c",
        "colab": {
          "base_uri": "https://localhost:8080/",
          "height": 206
        },
        "outputId": "61b0ca00-2a7d-4da4-8903-2c855a8102fe"
      },
      "execution_count": 18,
      "outputs": [
        {
          "output_type": "execute_result",
          "data": {
            "text/plain": [
              "       year  full_sq  life_sq  floor  num_room  kitch_sq  full_all\n",
              "11042  2013       74     74.0    2.0       2.0       1.0    122862\n",
              "11309  2013       60      1.0   23.0       2.0       1.0    156377\n",
              "12432  2013       31      1.0   22.0       1.0       1.0     13890\n",
              "9674   2013       37     20.0   12.0       1.0      10.0    156377\n",
              "13000  2013       40     40.0   15.0       1.0       1.0     21155"
            ],
            "text/html": [
              "\n",
              "  <div id=\"df-f538883b-2d4b-4c85-a369-cf462ad7023e\">\n",
              "    <div class=\"colab-df-container\">\n",
              "      <div>\n",
              "<style scoped>\n",
              "    .dataframe tbody tr th:only-of-type {\n",
              "        vertical-align: middle;\n",
              "    }\n",
              "\n",
              "    .dataframe tbody tr th {\n",
              "        vertical-align: top;\n",
              "    }\n",
              "\n",
              "    .dataframe thead th {\n",
              "        text-align: right;\n",
              "    }\n",
              "</style>\n",
              "<table border=\"1\" class=\"dataframe\">\n",
              "  <thead>\n",
              "    <tr style=\"text-align: right;\">\n",
              "      <th></th>\n",
              "      <th>year</th>\n",
              "      <th>full_sq</th>\n",
              "      <th>life_sq</th>\n",
              "      <th>floor</th>\n",
              "      <th>num_room</th>\n",
              "      <th>kitch_sq</th>\n",
              "      <th>full_all</th>\n",
              "    </tr>\n",
              "  </thead>\n",
              "  <tbody>\n",
              "    <tr>\n",
              "      <th>11042</th>\n",
              "      <td>2013</td>\n",
              "      <td>74</td>\n",
              "      <td>74.0</td>\n",
              "      <td>2.0</td>\n",
              "      <td>2.0</td>\n",
              "      <td>1.0</td>\n",
              "      <td>122862</td>\n",
              "    </tr>\n",
              "    <tr>\n",
              "      <th>11309</th>\n",
              "      <td>2013</td>\n",
              "      <td>60</td>\n",
              "      <td>1.0</td>\n",
              "      <td>23.0</td>\n",
              "      <td>2.0</td>\n",
              "      <td>1.0</td>\n",
              "      <td>156377</td>\n",
              "    </tr>\n",
              "    <tr>\n",
              "      <th>12432</th>\n",
              "      <td>2013</td>\n",
              "      <td>31</td>\n",
              "      <td>1.0</td>\n",
              "      <td>22.0</td>\n",
              "      <td>1.0</td>\n",
              "      <td>1.0</td>\n",
              "      <td>13890</td>\n",
              "    </tr>\n",
              "    <tr>\n",
              "      <th>9674</th>\n",
              "      <td>2013</td>\n",
              "      <td>37</td>\n",
              "      <td>20.0</td>\n",
              "      <td>12.0</td>\n",
              "      <td>1.0</td>\n",
              "      <td>10.0</td>\n",
              "      <td>156377</td>\n",
              "    </tr>\n",
              "    <tr>\n",
              "      <th>13000</th>\n",
              "      <td>2013</td>\n",
              "      <td>40</td>\n",
              "      <td>40.0</td>\n",
              "      <td>15.0</td>\n",
              "      <td>1.0</td>\n",
              "      <td>1.0</td>\n",
              "      <td>21155</td>\n",
              "    </tr>\n",
              "  </tbody>\n",
              "</table>\n",
              "</div>\n",
              "      <button class=\"colab-df-convert\" onclick=\"convertToInteractive('df-f538883b-2d4b-4c85-a369-cf462ad7023e')\"\n",
              "              title=\"Convert this dataframe to an interactive table.\"\n",
              "              style=\"display:none;\">\n",
              "        \n",
              "  <svg xmlns=\"http://www.w3.org/2000/svg\" height=\"24px\"viewBox=\"0 0 24 24\"\n",
              "       width=\"24px\">\n",
              "    <path d=\"M0 0h24v24H0V0z\" fill=\"none\"/>\n",
              "    <path d=\"M18.56 5.44l.94 2.06.94-2.06 2.06-.94-2.06-.94-.94-2.06-.94 2.06-2.06.94zm-11 1L8.5 8.5l.94-2.06 2.06-.94-2.06-.94L8.5 2.5l-.94 2.06-2.06.94zm10 10l.94 2.06.94-2.06 2.06-.94-2.06-.94-.94-2.06-.94 2.06-2.06.94z\"/><path d=\"M17.41 7.96l-1.37-1.37c-.4-.4-.92-.59-1.43-.59-.52 0-1.04.2-1.43.59L10.3 9.45l-7.72 7.72c-.78.78-.78 2.05 0 2.83L4 21.41c.39.39.9.59 1.41.59.51 0 1.02-.2 1.41-.59l7.78-7.78 2.81-2.81c.8-.78.8-2.07 0-2.86zM5.41 20L4 18.59l7.72-7.72 1.47 1.35L5.41 20z\"/>\n",
              "  </svg>\n",
              "      </button>\n",
              "      \n",
              "  <style>\n",
              "    .colab-df-container {\n",
              "      display:flex;\n",
              "      flex-wrap:wrap;\n",
              "      gap: 12px;\n",
              "    }\n",
              "\n",
              "    .colab-df-convert {\n",
              "      background-color: #E8F0FE;\n",
              "      border: none;\n",
              "      border-radius: 50%;\n",
              "      cursor: pointer;\n",
              "      display: none;\n",
              "      fill: #1967D2;\n",
              "      height: 32px;\n",
              "      padding: 0 0 0 0;\n",
              "      width: 32px;\n",
              "    }\n",
              "\n",
              "    .colab-df-convert:hover {\n",
              "      background-color: #E2EBFA;\n",
              "      box-shadow: 0px 1px 2px rgba(60, 64, 67, 0.3), 0px 1px 3px 1px rgba(60, 64, 67, 0.15);\n",
              "      fill: #174EA6;\n",
              "    }\n",
              "\n",
              "    [theme=dark] .colab-df-convert {\n",
              "      background-color: #3B4455;\n",
              "      fill: #D2E3FC;\n",
              "    }\n",
              "\n",
              "    [theme=dark] .colab-df-convert:hover {\n",
              "      background-color: #434B5C;\n",
              "      box-shadow: 0px 1px 3px 1px rgba(0, 0, 0, 0.15);\n",
              "      filter: drop-shadow(0px 1px 2px rgba(0, 0, 0, 0.3));\n",
              "      fill: #FFFFFF;\n",
              "    }\n",
              "  </style>\n",
              "\n",
              "      <script>\n",
              "        const buttonEl =\n",
              "          document.querySelector('#df-f538883b-2d4b-4c85-a369-cf462ad7023e button.colab-df-convert');\n",
              "        buttonEl.style.display =\n",
              "          google.colab.kernel.accessAllowed ? 'block' : 'none';\n",
              "\n",
              "        async function convertToInteractive(key) {\n",
              "          const element = document.querySelector('#df-f538883b-2d4b-4c85-a369-cf462ad7023e');\n",
              "          const dataTable =\n",
              "            await google.colab.kernel.invokeFunction('convertToInteractive',\n",
              "                                                     [key], {});\n",
              "          if (!dataTable) return;\n",
              "\n",
              "          const docLinkHtml = 'Like what you see? Visit the ' +\n",
              "            '<a target=\"_blank\" href=https://colab.research.google.com/notebooks/data_table.ipynb>data table notebook</a>'\n",
              "            + ' to learn more about interactive tables.';\n",
              "          element.innerHTML = '';\n",
              "          dataTable['output_type'] = 'display_data';\n",
              "          await google.colab.output.renderOutput(dataTable, element);\n",
              "          const docLink = document.createElement('div');\n",
              "          docLink.innerHTML = docLinkHtml;\n",
              "          element.appendChild(docLink);\n",
              "        }\n",
              "      </script>\n",
              "    </div>\n",
              "  </div>\n",
              "  "
            ]
          },
          "metadata": {},
          "execution_count": 18
        }
      ]
    },
    {
      "cell_type": "markdown",
      "source": [
        "### Baseline"
      ],
      "metadata": {
        "id": "xnKPJNv8_S-E"
      }
    },
    {
      "cell_type": "code",
      "source": [
        "from sklearn.linear_model import LinearRegression\n",
        "from sklearn.linear_model import Ridge\n",
        "from sklearn.linear_model import Lasso\n",
        "from sklearn.tree import DecisionTreeRegressor\n",
        "from sklearn.ensemble import RandomForestRegressor\n",
        "from sklearn.ensemble import GradientBoostingRegressor\n",
        "from sklearn.neural_network import MLPRegressor"
      ],
      "metadata": {
        "id": "5x7ouN_E_chM"
      },
      "execution_count": 19,
      "outputs": []
    },
    {
      "cell_type": "code",
      "source": [
        "from sklearn.dummy import DummyRegressor\n",
        "from sklearn.model_selection import cross_validate\n",
        "\n",
        "m1 = DummyRegressor()\n",
        "cross_validate(m1, Xtrain, Ytrain, scoring='neg_mean_squared_error')['test_score']"
      ],
      "metadata": {
        "id": "t2dXWG2D_UZ0",
        "colab": {
          "base_uri": "https://localhost:8080/"
        },
        "outputId": "154765b7-6e02-4390-f0cb-5428134769df"
      },
      "execution_count": 20,
      "outputs": [
        {
          "output_type": "execute_result",
          "data": {
            "text/plain": [
              "array([-0.38697391, -0.39964814, -0.37373174, -0.38247357, -0.31537297])"
            ]
          },
          "metadata": {},
          "execution_count": 20
        }
      ]
    },
    {
      "cell_type": "markdown",
      "source": [
        "### Evaluation\n"
      ],
      "metadata": {
        "id": "h1jQg0YC_lA8"
      }
    },
    {
      "cell_type": "markdown",
      "source": [
        "Since we are using the negative MSE, we should still search for the model that \"maximizes the score\"."
      ],
      "metadata": {
        "id": "le8bWtXqevrn"
      }
    },
    {
      "cell_type": "code",
      "source": [
        "models = {\n",
        "    'Baseline' : DummyRegressor(),\n",
        "    'LinearRegression': LinearRegression(),\n",
        "    'Ridge': Ridge(),\n",
        "    'Lasso': Lasso(),\n",
        "    'DecisionTreeRegressor': DecisionTreeRegressor(max_depth=None),\n",
        "    'RandomForestRegressor': RandomForestRegressor(n_estimators=256),\n",
        "    'GradientBoostingRegressor': GradientBoostingRegressor(n_estimators=128, max_leaf_nodes=8),\n",
        "    'MLPRegressor': MLPRegressor((128, 128, 128,), learning_rate_init=0.1, batch_size=128, max_iter=500),\n",
        "}\n",
        "\n",
        "scores = {}\n",
        "\n",
        "for model_type in models.keys():\n",
        "    model = models[model_type]\n",
        "    score = cross_validate(model, Xtrain, Ytrain,\n",
        "                           scoring='neg_mean_squared_error')['test_score']\n",
        "    score = aggregate_scores(score)\n",
        "    scores[model_type] = score\n",
        "    print(f'INFO. Model {model_type} aggregated score: {score:.4f}')\n",
        "\n",
        "best_model_type = max(scores, key=scores.get)\n",
        "print('=' * 80)\n",
        "print(f'INFO. Best Model is {best_model_type} with score: {scores[best_model_type]:.4f}')"
      ],
      "metadata": {
        "colab": {
          "base_uri": "https://localhost:8080/"
        },
        "id": "abz0x56ubH0z",
        "outputId": "e4ff392a-f6a6-45dc-bff2-258ef38e4e4e"
      },
      "execution_count": null,
      "outputs": [
        {
          "output_type": "stream",
          "name": "stdout",
          "text": [
            "INFO. Model Baseline aggregated score: -0.3716\n",
            "INFO. Model LinearRegression aggregated score: -0.3432\n",
            "INFO. Model Ridge aggregated score: -0.3431\n",
            "INFO. Model Lasso aggregated score: -0.2960\n",
            "INFO. Model DecisionTreeRegressor aggregated score: -0.6048\n",
            "INFO. Model RandomForestRegressor aggregated score: -0.3097\n",
            "INFO. Model GradientBoostingRegressor aggregated score: -0.2808\n"
          ]
        },
        {
          "output_type": "stream",
          "name": "stderr",
          "text": [
            "/usr/local/lib/python3.7/dist-packages/sklearn/neural_network/_multilayer_perceptron.py:696: ConvergenceWarning: Stochastic Optimizer: Maximum iterations (500) reached and the optimization hasn't converged yet.\n",
            "  ConvergenceWarning,\n"
          ]
        },
        {
          "output_type": "stream",
          "name": "stdout",
          "text": [
            "INFO. Model MLPRegressor aggregated score: -23.3665\n",
            "================================================================================\n",
            "INFO. Best Model is GradientBoostingRegressor with score: -0.2808\n"
          ]
        }
      ]
    },
    {
      "cell_type": "code",
      "source": [
        "from sklearn.metrics import mean_squared_error\n",
        "\n",
        "models[best_model_type].fit(Xtrain, Ytrain)\n",
        "neg_mse = mean_squared_error(Ytest, models[best_model_type].predict(Xtest))\n",
        "print(f'INFO. Trained {best_model_type} reached MSE of: {neg_mse:.4f}')"
      ],
      "metadata": {
        "id": "eB7lWyzr_m-_",
        "colab": {
          "base_uri": "https://localhost:8080/"
        },
        "outputId": "24097487-d7d1-47a7-b7be-ae4925a3d7f6"
      },
      "execution_count": null,
      "outputs": [
        {
          "output_type": "stream",
          "name": "stdout",
          "text": [
            "INFO. Trained GradientBoostingRegressor reached MSE of: 0.2969\n"
          ]
        }
      ]
    },
    {
      "cell_type": "markdown",
      "source": [
        "> For the report. In your submitted report, please include a description of the regression model you selected and report its evaluation score.\n",
        "\n",
        "A GradientBoostingRegressor model is very similar to a GradientBoostingClassifier model (explained above). It's output doesn't need to be mapped to a probability distribution. Instead, its output is an accumulated continuos sum of the outputs of its weak learners, i.e. decision trees."
      ],
      "metadata": {
        "id": "f4-AH420a_Ny"
      }
    },
    {
      "cell_type": "markdown",
      "source": [
        "## Task 4: Decision trees for regression (Optional)"
      ],
      "metadata": {
        "id": "fTT9XdB5Qfr6"
      }
    },
    {
      "cell_type": "markdown",
      "source": [
        "### Step 1. Implementing the Regression Model"
      ],
      "metadata": {
        "id": "RQyITFwBca30"
      }
    },
    {
      "cell_type": "code",
      "source": [
        "from sklearn.base import RegressorMixin\n",
        "\n",
        "class TreeRegressor(DecisionTree, RegressorMixin):\n",
        "\n",
        "    def __init__(self, max_depth=10, criterion='maj_sum'):\n",
        "        super().__init__(max_depth)\n",
        "        self.criterion = criterion # Unused\n",
        "        \n",
        "    def fit(self, X, Y):\n",
        "        # Reference: https://scikit-learn.org/stable/modules/tree.html\n",
        "\n",
        "        # # 'squared_error', 'friedman_mse', 'absolute_error', 'poisson'}, default='squared_error'\n",
        "        # def squared_error_scorer(n_low, low_distr, n_high, high_distr):\n",
        "        #     low_mean = np.mean(low_distr.values())\n",
        "        #     high_mean = np.mean(high_distr.values())\n",
        "        #     low_loss = np.sum((low_distr.values() - low_mean)**2) / n_low\n",
        "        #     high_loss = np.sum((high_distr.values() - high_mean)**2) / n_high\n",
        "        #     return (n_low * low_loss + n_high * high_loss) / (n_low + n_high)\n",
        "\n",
        "        # # if self.criterion == 'squared_error':\n",
        "        # #     self.criterion_function = squared_error_scorer\n",
        "        # self.criterion_function = squared_error_scorer\n",
        "\n",
        "        super().fit(X, Y)\n",
        "\n",
        "    # Select a default value that is going to be used if we decide to make a leaf.\n",
        "    # We will select the mean value.\n",
        "    def get_default_value(self, Y):\n",
        "        # ======================================================================\n",
        "        # TODO: To be changed\n",
        "        # ======================================================================\n",
        "        # self.distribution = Counter(Y)\n",
        "        # return self.distribution.most_common(1)[0][0]\n",
        "        self.distribution = Y\n",
        "        return np.mean(self.distribution)\n",
        "\n",
        "    # Checks whether a set of output values is homogeneous. In the classification case, \n",
        "    # this means that all output values are identical.\n",
        "    # We assume that we called get_default_value just before, so that we can access\n",
        "    # the distribution attribute. If the class distribution contains just one item,\n",
        "    # this means that the set is homogeneous.\n",
        "    def is_homogeneous(self, Y):\n",
        "        # ======================================================================\n",
        "        # TODO: To be changed\n",
        "        # ======================================================================\n",
        "        # return len(self.distribution) == 1\n",
        "        variance_threshold = 1.0\n",
        "        return np.var(self.distribution) < variance_threshold\n",
        "        \n",
        "    # Finds the best splitting point for a given feature. We'll keep frequency tables (Counters)\n",
        "    # for the upper and lower parts, and then compute the impurity criterion using these tables.\n",
        "    # In the end, we return a triple consisting of\n",
        "    # - the best score we found, according to the criterion we're using\n",
        "    # - the id of the feature\n",
        "    # - the threshold for the best split\n",
        "    def best_split(self, X, Y, feature):\n",
        "        # ======================================================================\n",
        "        # TODO: To be changed\n",
        "        # ======================================================================\n",
        "        # Create a list of input-output pairs, where we have sorted\n",
        "        # in ascending order by the input feature we're considering.\n",
        "        sorted_indices = np.argsort(X[:, feature])        \n",
        "        X_sorted = np.array(list(X[sorted_indices, feature]))\n",
        "        Y_sorted = np.array(list(Y[sorted_indices]))\n",
        "\n",
        "        n = len(Y)\n",
        "\n",
        "        # Keep track of the best result we've seen so far.\n",
        "        max_score = -np.inf\n",
        "        max_i = None\n",
        "\n",
        "        partial_low_squared_sum = np.sum(Y_sorted[0]**2)\n",
        "        partial_low_sum_squared = np.sum(Y_sorted[0])\n",
        "\n",
        "        partial_high_squared_sum = np.sum(Y_sorted[1:]**2)\n",
        "        partial_high_sum_squared = np.sum(Y_sorted[1:])\n",
        "\n",
        "        var_tot = np.var(Y_sorted)\n",
        "\n",
        "        for i in range(0, n-1):\n",
        "            # Input and output at the current position.\n",
        "            x_i = X_sorted[i]\n",
        "            y_i = Y_sorted[i]\n",
        "\n",
        "            partial_low_squared_sum += y_i**2\n",
        "            partial_low_sum_squared += y_i\n",
        "\n",
        "            partial_high_squared_sum -= y_i**2\n",
        "            partial_high_sum_squared -= y_i\n",
        "\n",
        "            n_low = i + 1\n",
        "            n_high = n - n_low\n",
        "            low_var = partial_low_squared_sum / n_low - partial_low_sum_squared**2 / (n_low**2)\n",
        "            high_var = partial_high_squared_sum / n_high - partial_high_sum_squared**2 / (n_high**2)\n",
        "\n",
        "            # If the input is equal to the input at the next position, we will\n",
        "            # not consider a split here.\n",
        "            x_next = X_sorted[i+1]\n",
        "            if x_i == x_next:\n",
        "                continue\n",
        "\n",
        "            # Compute the homogeneity criterion for a split at this position, i. e. variance reduction\n",
        "            score = tot_var - (n_high * high_var + n_low * low_var) / n\n",
        "            print(score)\n",
        "            # If this is the best split, remember it.\n",
        "            if score > max_score:\n",
        "                max_score = score\n",
        "                max_i = i\n",
        "\n",
        "        # If we didn't find any split (meaning that all inputs are identical), return\n",
        "        # a dummy value.\n",
        "        if max_i is None:\n",
        "            return -np.inf, None, None\n",
        "\n",
        "        # Otherwise, return the best split we found and its score.\n",
        "        split_point = 0.5*(X_sorted[max_i] + X_sorted[max_i+1])\n",
        "        return max_score, feature, split_point"
      ],
      "metadata": {
        "id": "AzmnLcLQdhwg"
      },
      "execution_count": 59,
      "outputs": []
    },
    {
      "cell_type": "markdown",
      "source": [
        "### Step 2. Sanity Check\n",
        "\n",
        "> The following function will generate a small number of training examples for a simple regression task with one input variable."
      ],
      "metadata": {
        "id": "jVkJgQuech2z"
      }
    },
    {
      "cell_type": "code",
      "source": [
        "def make_some_data(n):\n",
        "    x = np.random.uniform(-5, 5, size=n)\n",
        "    Y = (x > 1) + 0.1 * np.random.normal(size=n)\n",
        "    X = x.reshape(n, 1) # X needs to be a 2-dimensional matrix\n",
        "    return X, Y\n",
        "\n",
        "X, Y = make_some_data(1000)\n",
        "plt.scatter(X, Y)\n",
        "plt.show()"
      ],
      "metadata": {
        "id": "-sliJu7ackU4",
        "colab": {
          "base_uri": "https://localhost:8080/",
          "height": 352
        },
        "outputId": "22a38525-064a-4ba4-d9f4-c6f21cfc6986"
      },
      "execution_count": 60,
      "outputs": [
        {
          "output_type": "display_data",
          "data": {
            "text/plain": [
              "<Figure size 432x288 with 1 Axes>"
            ],
            "image/svg+xml": "<?xml version=\"1.0\" encoding=\"utf-8\" standalone=\"no\"?>\n<!DOCTYPE svg PUBLIC \"-//W3C//DTD SVG 1.1//EN\"\n  \"http://www.w3.org/Graphics/SVG/1.1/DTD/svg11.dtd\">\n<!-- Created with matplotlib (https://matplotlib.org/) -->\n<svg height=\"248.161875pt\" version=\"1.1\" viewBox=\"0 0 375.940625 248.161875\" width=\"375.940625pt\" xmlns=\"http://www.w3.org/2000/svg\" xmlns:xlink=\"http://www.w3.org/1999/xlink\">\n <defs>\n  <style type=\"text/css\">\n*{stroke-linecap:butt;stroke-linejoin:round;}\n  </style>\n </defs>\n <g id=\"figure_1\">\n  <g id=\"patch_1\">\n   <path d=\"M 0 248.161875 \nL 375.940625 248.161875 \nL 375.940625 0 \nL 0 0 \nz\n\" style=\"fill:none;\"/>\n  </g>\n  <g id=\"axes_1\">\n   <g id=\"patch_2\">\n    <path d=\"M 33.940625 224.64 \nL 368.740625 224.64 \nL 368.740625 7.2 \nL 33.940625 7.2 \nz\n\" style=\"fill:#eaeaf2;\"/>\n   </g>\n   <g id=\"matplotlib.axis_1\">\n    <g id=\"xtick_1\">\n     <g id=\"line2d_1\">\n      <path clip-path=\"url(#pca7cb581fc)\" d=\"M 79.342177 224.64 \nL 79.342177 7.2 \n\" style=\"fill:none;stroke:#ffffff;stroke-linecap:round;\"/>\n     </g>\n     <g id=\"line2d_2\"/>\n     <g id=\"text_1\">\n      <!-- −4 -->\n      <defs>\n       <path d=\"M 4.9375 29.6875 \nL 4.9375 36.8125 \nL 53.515625 36.8125 \nL 53.515625 29.6875 \nz\n\" id=\"LiberationSans-8722\"/>\n       <path d=\"M 43.015625 15.578125 \nL 43.015625 0 \nL 34.71875 0 \nL 34.71875 15.578125 \nL 2.296875 15.578125 \nL 2.296875 22.40625 \nL 33.796875 68.796875 \nL 43.015625 68.796875 \nL 43.015625 22.515625 \nL 52.6875 22.515625 \nL 52.6875 15.578125 \nz\nM 34.71875 58.890625 \nQ 34.625 58.640625 34.234375 57.9375 \nQ 33.84375 57.234375 33.34375 56.34375 \nQ 32.859375 55.46875 32.34375 54.5625 \nQ 31.84375 53.65625 31.453125 53.078125 \nL 13.8125 27.09375 \nQ 13.578125 26.703125 13.109375 26.0625 \nQ 12.640625 25.4375 12.15625 24.78125 \nQ 11.671875 24.125 11.171875 23.484375 \nQ 10.6875 22.859375 10.40625 22.515625 \nL 34.71875 22.515625 \nz\n\" id=\"LiberationSans-52\"/>\n      </defs>\n      <g style=\"fill:#262626;\" transform=\"translate(73.641396 238.886875)scale(0.1 -0.1)\">\n       <use xlink:href=\"#LiberationSans-8722\"/>\n       <use x=\"58.398438\" xlink:href=\"#LiberationSans-52\"/>\n      </g>\n     </g>\n    </g>\n    <g id=\"xtick_2\">\n     <g id=\"line2d_3\">\n      <path clip-path=\"url(#pca7cb581fc)\" d=\"M 140.280078 224.64 \nL 140.280078 7.2 \n\" style=\"fill:none;stroke:#ffffff;stroke-linecap:round;\"/>\n     </g>\n     <g id=\"line2d_4\"/>\n     <g id=\"text_2\">\n      <!-- −2 -->\n      <defs>\n       <path d=\"M 5.03125 0 \nL 5.03125 6.203125 \nQ 7.515625 11.921875 11.109375 16.28125 \nQ 14.703125 20.65625 18.65625 24.1875 \nQ 22.609375 27.734375 26.484375 30.765625 \nQ 30.375 33.796875 33.5 36.8125 \nQ 36.625 39.84375 38.546875 43.15625 \nQ 40.484375 46.484375 40.484375 50.6875 \nQ 40.484375 53.609375 39.59375 55.828125 \nQ 38.71875 58.0625 37.0625 59.5625 \nQ 35.40625 61.078125 33.078125 61.828125 \nQ 30.765625 62.59375 27.9375 62.59375 \nQ 25.296875 62.59375 22.96875 61.859375 \nQ 20.65625 61.140625 18.84375 59.671875 \nQ 17.046875 58.203125 15.890625 56.03125 \nQ 14.75 53.859375 14.40625 50.984375 \nL 5.421875 51.8125 \nQ 5.859375 55.515625 7.46875 58.78125 \nQ 9.078125 62.0625 11.90625 64.53125 \nQ 14.75 67 18.71875 68.40625 \nQ 22.703125 69.828125 27.9375 69.828125 \nQ 33.0625 69.828125 37.0625 68.609375 \nQ 41.0625 67.390625 43.8125 64.984375 \nQ 46.578125 62.59375 48.046875 59.078125 \nQ 49.515625 55.5625 49.515625 50.984375 \nQ 49.515625 47.515625 48.265625 44.390625 \nQ 47.015625 41.265625 44.9375 38.421875 \nQ 42.875 35.59375 40.140625 32.953125 \nQ 37.40625 30.328125 34.421875 27.8125 \nQ 31.453125 25.296875 28.421875 22.828125 \nQ 25.390625 20.359375 22.71875 17.859375 \nQ 20.0625 15.375 17.96875 12.8125 \nQ 15.875 10.25 14.703125 7.46875 \nL 50.59375 7.46875 \nL 50.59375 0 \nz\n\" id=\"LiberationSans-50\"/>\n      </defs>\n      <g style=\"fill:#262626;\" transform=\"translate(134.579297 238.886875)scale(0.1 -0.1)\">\n       <use xlink:href=\"#LiberationSans-8722\"/>\n       <use x=\"58.398438\" xlink:href=\"#LiberationSans-50\"/>\n      </g>\n     </g>\n    </g>\n    <g id=\"xtick_3\">\n     <g id=\"line2d_5\">\n      <path clip-path=\"url(#pca7cb581fc)\" d=\"M 201.21798 224.64 \nL 201.21798 7.2 \n\" style=\"fill:none;stroke:#ffffff;stroke-linecap:round;\"/>\n     </g>\n     <g id=\"line2d_6\"/>\n     <g id=\"text_3\">\n      <!-- 0 -->\n      <defs>\n       <path d=\"M 51.703125 34.421875 \nQ 51.703125 24.515625 49.828125 17.75 \nQ 47.953125 10.984375 44.703125 6.8125 \nQ 41.453125 2.640625 37.0625 0.828125 \nQ 32.671875 -0.984375 27.6875 -0.984375 \nQ 22.65625 -0.984375 18.3125 0.828125 \nQ 13.96875 2.640625 10.765625 6.78125 \nQ 7.5625 10.9375 5.734375 17.703125 \nQ 3.90625 24.46875 3.90625 34.421875 \nQ 3.90625 44.828125 5.734375 51.640625 \nQ 7.5625 58.453125 10.78125 62.5 \nQ 14.015625 66.546875 18.40625 68.1875 \nQ 22.796875 69.828125 27.984375 69.828125 \nQ 32.90625 69.828125 37.21875 68.1875 \nQ 41.546875 66.546875 44.765625 62.5 \nQ 48 58.453125 49.84375 51.640625 \nQ 51.703125 44.828125 51.703125 34.421875 \nz\nM 42.78125 34.421875 \nQ 42.78125 42.625 41.796875 48.0625 \nQ 40.828125 53.515625 38.921875 56.765625 \nQ 37.015625 60.015625 34.25 61.359375 \nQ 31.5 62.703125 27.984375 62.703125 \nQ 24.265625 62.703125 21.4375 61.328125 \nQ 18.609375 59.96875 16.671875 56.71875 \nQ 14.75 53.46875 13.765625 48.015625 \nQ 12.796875 42.578125 12.796875 34.421875 \nQ 12.796875 26.515625 13.796875 21.09375 \nQ 14.796875 15.671875 16.71875 12.375 \nQ 18.65625 9.078125 21.4375 7.640625 \nQ 24.21875 6.203125 27.78125 6.203125 \nQ 31.25 6.203125 34.03125 7.640625 \nQ 36.8125 9.078125 38.734375 12.375 \nQ 40.671875 15.671875 41.71875 21.09375 \nQ 42.78125 26.515625 42.78125 34.421875 \nz\n\" id=\"LiberationSans-48\"/>\n      </defs>\n      <g style=\"fill:#262626;\" transform=\"translate(198.437511 238.886875)scale(0.1 -0.1)\">\n       <use xlink:href=\"#LiberationSans-48\"/>\n      </g>\n     </g>\n    </g>\n    <g id=\"xtick_4\">\n     <g id=\"line2d_7\">\n      <path clip-path=\"url(#pca7cb581fc)\" d=\"M 262.155881 224.64 \nL 262.155881 7.2 \n\" style=\"fill:none;stroke:#ffffff;stroke-linecap:round;\"/>\n     </g>\n     <g id=\"line2d_8\"/>\n     <g id=\"text_4\">\n      <!-- 2 -->\n      <g style=\"fill:#262626;\" transform=\"translate(259.375412 238.886875)scale(0.1 -0.1)\">\n       <use xlink:href=\"#LiberationSans-50\"/>\n      </g>\n     </g>\n    </g>\n    <g id=\"xtick_5\">\n     <g id=\"line2d_9\">\n      <path clip-path=\"url(#pca7cb581fc)\" d=\"M 323.093782 224.64 \nL 323.093782 7.2 \n\" style=\"fill:none;stroke:#ffffff;stroke-linecap:round;\"/>\n     </g>\n     <g id=\"line2d_10\"/>\n     <g id=\"text_5\">\n      <!-- 4 -->\n      <g style=\"fill:#262626;\" transform=\"translate(320.313313 238.886875)scale(0.1 -0.1)\">\n       <use xlink:href=\"#LiberationSans-52\"/>\n      </g>\n     </g>\n    </g>\n   </g>\n   <g id=\"matplotlib.axis_2\">\n    <g id=\"ytick_1\">\n     <g id=\"line2d_11\">\n      <path clip-path=\"url(#pca7cb581fc)\" d=\"M 33.940625 221.154146 \nL 368.740625 221.154146 \n\" style=\"fill:none;stroke:#ffffff;stroke-linecap:round;\"/>\n     </g>\n     <g id=\"line2d_12\"/>\n     <g id=\"text_6\">\n      <!-- −0.4 -->\n      <defs>\n       <path d=\"M 9.125 0 \nL 9.125 10.6875 \nL 18.65625 10.6875 \nL 18.65625 0 \nz\n\" id=\"LiberationSans-46\"/>\n      </defs>\n      <g style=\"fill:#262626;\" transform=\"translate(7.2 224.777584)scale(0.1 -0.1)\">\n       <use xlink:href=\"#LiberationSans-8722\"/>\n       <use x=\"58.398438\" xlink:href=\"#LiberationSans-48\"/>\n       <use x=\"114.013672\" xlink:href=\"#LiberationSans-46\"/>\n       <use x=\"141.796875\" xlink:href=\"#LiberationSans-52\"/>\n      </g>\n     </g>\n    </g>\n    <g id=\"ytick_2\">\n     <g id=\"line2d_13\">\n      <path clip-path=\"url(#pca7cb581fc)\" d=\"M 33.940625 196.589555 \nL 368.740625 196.589555 \n\" style=\"fill:none;stroke:#ffffff;stroke-linecap:round;\"/>\n     </g>\n     <g id=\"line2d_14\"/>\n     <g id=\"text_7\">\n      <!-- −0.2 -->\n      <g style=\"fill:#262626;\" transform=\"translate(7.2 200.212992)scale(0.1 -0.1)\">\n       <use xlink:href=\"#LiberationSans-8722\"/>\n       <use x=\"58.398438\" xlink:href=\"#LiberationSans-48\"/>\n       <use x=\"114.013672\" xlink:href=\"#LiberationSans-46\"/>\n       <use x=\"141.796875\" xlink:href=\"#LiberationSans-50\"/>\n      </g>\n     </g>\n    </g>\n    <g id=\"ytick_3\">\n     <g id=\"line2d_15\">\n      <path clip-path=\"url(#pca7cb581fc)\" d=\"M 33.940625 172.024963 \nL 368.740625 172.024963 \n\" style=\"fill:none;stroke:#ffffff;stroke-linecap:round;\"/>\n     </g>\n     <g id=\"line2d_16\"/>\n     <g id=\"text_8\">\n      <!-- 0.0 -->\n      <g style=\"fill:#262626;\" transform=\"translate(13.040625 175.648401)scale(0.1 -0.1)\">\n       <use xlink:href=\"#LiberationSans-48\"/>\n       <use x=\"55.615234\" xlink:href=\"#LiberationSans-46\"/>\n       <use x=\"83.398438\" xlink:href=\"#LiberationSans-48\"/>\n      </g>\n     </g>\n    </g>\n    <g id=\"ytick_4\">\n     <g id=\"line2d_17\">\n      <path clip-path=\"url(#pca7cb581fc)\" d=\"M 33.940625 147.460372 \nL 368.740625 147.460372 \n\" style=\"fill:none;stroke:#ffffff;stroke-linecap:round;\"/>\n     </g>\n     <g id=\"line2d_18\"/>\n     <g id=\"text_9\">\n      <!-- 0.2 -->\n      <g style=\"fill:#262626;\" transform=\"translate(13.040625 151.083809)scale(0.1 -0.1)\">\n       <use xlink:href=\"#LiberationSans-48\"/>\n       <use x=\"55.615234\" xlink:href=\"#LiberationSans-46\"/>\n       <use x=\"83.398438\" xlink:href=\"#LiberationSans-50\"/>\n      </g>\n     </g>\n    </g>\n    <g id=\"ytick_5\">\n     <g id=\"line2d_19\">\n      <path clip-path=\"url(#pca7cb581fc)\" d=\"M 33.940625 122.89578 \nL 368.740625 122.89578 \n\" style=\"fill:none;stroke:#ffffff;stroke-linecap:round;\"/>\n     </g>\n     <g id=\"line2d_20\"/>\n     <g id=\"text_10\">\n      <!-- 0.4 -->\n      <g style=\"fill:#262626;\" transform=\"translate(13.040625 126.519218)scale(0.1 -0.1)\">\n       <use xlink:href=\"#LiberationSans-48\"/>\n       <use x=\"55.615234\" xlink:href=\"#LiberationSans-46\"/>\n       <use x=\"83.398438\" xlink:href=\"#LiberationSans-52\"/>\n      </g>\n     </g>\n    </g>\n    <g id=\"ytick_6\">\n     <g id=\"line2d_21\">\n      <path clip-path=\"url(#pca7cb581fc)\" d=\"M 33.940625 98.331189 \nL 368.740625 98.331189 \n\" style=\"fill:none;stroke:#ffffff;stroke-linecap:round;\"/>\n     </g>\n     <g id=\"line2d_22\"/>\n     <g id=\"text_11\">\n      <!-- 0.6 -->\n      <defs>\n       <path d=\"M 51.21875 22.515625 \nQ 51.21875 17.328125 49.78125 13 \nQ 48.34375 8.6875 45.53125 5.578125 \nQ 42.71875 2.484375 38.5625 0.75 \nQ 34.421875 -0.984375 29 -0.984375 \nQ 23 -0.984375 18.5 1.3125 \nQ 14.015625 3.609375 11.03125 7.921875 \nQ 8.0625 12.25 6.5625 18.53125 \nQ 5.078125 24.8125 5.078125 32.8125 \nQ 5.078125 42 6.765625 48.921875 \nQ 8.453125 55.859375 11.625 60.5 \nQ 14.796875 65.140625 19.359375 67.484375 \nQ 23.921875 69.828125 29.6875 69.828125 \nQ 33.203125 69.828125 36.28125 69.09375 \nQ 39.359375 68.359375 41.875 66.71875 \nQ 44.390625 65.09375 46.28125 62.40625 \nQ 48.1875 59.71875 49.3125 55.8125 \nL 40.921875 54.296875 \nQ 39.546875 58.734375 36.546875 60.71875 \nQ 33.546875 62.703125 29.59375 62.703125 \nQ 25.984375 62.703125 23.046875 60.984375 \nQ 20.125 59.28125 18.0625 55.875 \nQ 16.015625 52.484375 14.90625 47.359375 \nQ 13.8125 42.234375 13.8125 35.40625 \nQ 16.21875 39.84375 20.5625 42.15625 \nQ 24.90625 44.484375 30.515625 44.484375 \nQ 35.203125 44.484375 39.015625 42.96875 \nQ 42.828125 41.453125 45.53125 38.59375 \nQ 48.25 35.75 49.734375 31.671875 \nQ 51.21875 27.59375 51.21875 22.515625 \nz\nM 42.28125 22.125 \nQ 42.28125 25.6875 41.40625 28.5625 \nQ 40.53125 31.453125 38.765625 33.46875 \nQ 37.015625 35.5 34.421875 36.59375 \nQ 31.84375 37.703125 28.421875 37.703125 \nQ 26.03125 37.703125 23.578125 36.984375 \nQ 21.140625 36.28125 19.15625 34.6875 \nQ 17.1875 33.109375 15.9375 30.515625 \nQ 14.703125 27.9375 14.703125 24.21875 \nQ 14.703125 20.40625 15.671875 17.109375 \nQ 16.65625 13.8125 18.484375 11.375 \nQ 20.3125 8.9375 22.890625 7.515625 \nQ 25.484375 6.109375 28.71875 6.109375 \nQ 31.890625 6.109375 34.40625 7.203125 \nQ 36.921875 8.296875 38.671875 10.375 \nQ 40.4375 12.453125 41.359375 15.421875 \nQ 42.28125 18.40625 42.28125 22.125 \nz\n\" id=\"LiberationSans-54\"/>\n      </defs>\n      <g style=\"fill:#262626;\" transform=\"translate(13.040625 101.954626)scale(0.1 -0.1)\">\n       <use xlink:href=\"#LiberationSans-48\"/>\n       <use x=\"55.615234\" xlink:href=\"#LiberationSans-46\"/>\n       <use x=\"83.398438\" xlink:href=\"#LiberationSans-54\"/>\n      </g>\n     </g>\n    </g>\n    <g id=\"ytick_7\">\n     <g id=\"line2d_23\">\n      <path clip-path=\"url(#pca7cb581fc)\" d=\"M 33.940625 73.766597 \nL 368.740625 73.766597 \n\" style=\"fill:none;stroke:#ffffff;stroke-linecap:round;\"/>\n     </g>\n     <g id=\"line2d_24\"/>\n     <g id=\"text_12\">\n      <!-- 0.8 -->\n      <defs>\n       <path d=\"M 51.265625 19.1875 \nQ 51.265625 14.796875 49.875 11.109375 \nQ 48.484375 7.421875 45.625 4.734375 \nQ 42.78125 2.046875 38.328125 0.53125 \nQ 33.890625 -0.984375 27.828125 -0.984375 \nQ 21.78125 -0.984375 17.359375 0.53125 \nQ 12.9375 2.046875 10.03125 4.703125 \nQ 7.125 7.375 5.734375 11.0625 \nQ 4.34375 14.75 4.34375 19.09375 \nQ 4.34375 22.859375 5.484375 25.78125 \nQ 6.640625 28.71875 8.5625 30.828125 \nQ 10.5 32.953125 12.96875 34.25 \nQ 15.4375 35.546875 18.0625 35.984375 \nL 18.0625 36.1875 \nQ 15.1875 36.859375 12.90625 38.375 \nQ 10.640625 39.890625 9.09375 42.015625 \nQ 7.5625 44.140625 6.75 46.71875 \nQ 5.953125 49.3125 5.953125 52.203125 \nQ 5.953125 55.8125 7.34375 59 \nQ 8.734375 62.203125 11.46875 64.625 \nQ 14.203125 67.046875 18.25 68.4375 \nQ 22.3125 69.828125 27.640625 69.828125 \nQ 33.25 69.828125 37.375 68.40625 \nQ 41.5 67 44.203125 64.578125 \nQ 46.921875 62.15625 48.234375 58.9375 \nQ 49.5625 55.71875 49.5625 52.09375 \nQ 49.5625 49.265625 48.75 46.671875 \nQ 47.953125 44.09375 46.40625 41.96875 \nQ 44.875 39.84375 42.59375 38.34375 \nQ 40.328125 36.859375 37.359375 36.28125 \nL 37.359375 36.078125 \nQ 40.328125 35.59375 42.859375 34.296875 \nQ 45.40625 33.015625 47.265625 30.890625 \nQ 49.125 28.765625 50.1875 25.828125 \nQ 51.265625 22.90625 51.265625 19.1875 \nz\nM 40.4375 51.609375 \nQ 40.4375 54.203125 39.765625 56.34375 \nQ 39.109375 58.5 37.59375 60.03125 \nQ 36.078125 61.578125 33.640625 62.421875 \nQ 31.203125 63.28125 27.640625 63.28125 \nQ 24.171875 63.28125 21.78125 62.421875 \nQ 19.390625 61.578125 17.84375 60.03125 \nQ 16.3125 58.5 15.625 56.34375 \nQ 14.9375 54.203125 14.9375 51.609375 \nQ 14.9375 49.5625 15.46875 47.40625 \nQ 16.015625 45.265625 17.421875 43.5 \nQ 18.84375 41.75 21.328125 40.625 \nQ 23.828125 39.5 27.734375 39.5 \nQ 31.890625 39.5 34.40625 40.625 \nQ 36.921875 41.75 38.25 43.5 \nQ 39.59375 45.265625 40.015625 47.40625 \nQ 40.4375 49.5625 40.4375 51.609375 \nz\nM 42.140625 20.015625 \nQ 42.140625 22.515625 41.453125 24.828125 \nQ 40.765625 27.15625 39.109375 28.9375 \nQ 37.453125 30.71875 34.640625 31.8125 \nQ 31.84375 32.90625 27.640625 32.90625 \nQ 23.78125 32.90625 21.0625 31.8125 \nQ 18.359375 30.71875 16.671875 28.90625 \nQ 14.984375 27.09375 14.203125 24.71875 \nQ 13.421875 22.359375 13.421875 19.828125 \nQ 13.421875 16.65625 14.203125 14.03125 \nQ 14.984375 11.421875 16.6875 9.546875 \nQ 18.40625 7.671875 21.1875 6.640625 \nQ 23.96875 5.609375 27.9375 5.609375 \nQ 31.9375 5.609375 34.671875 6.640625 \nQ 37.40625 7.671875 39.0625 9.546875 \nQ 40.71875 11.421875 41.421875 14.078125 \nQ 42.140625 16.75 42.140625 20.015625 \nz\n\" id=\"LiberationSans-56\"/>\n      </defs>\n      <g style=\"fill:#262626;\" transform=\"translate(13.040625 77.390035)scale(0.1 -0.1)\">\n       <use xlink:href=\"#LiberationSans-48\"/>\n       <use x=\"55.615234\" xlink:href=\"#LiberationSans-46\"/>\n       <use x=\"83.398438\" xlink:href=\"#LiberationSans-56\"/>\n      </g>\n     </g>\n    </g>\n    <g id=\"ytick_8\">\n     <g id=\"line2d_25\">\n      <path clip-path=\"url(#pca7cb581fc)\" d=\"M 33.940625 49.202005 \nL 368.740625 49.202005 \n\" style=\"fill:none;stroke:#ffffff;stroke-linecap:round;\"/>\n     </g>\n     <g id=\"line2d_26\"/>\n     <g id=\"text_13\">\n      <!-- 1.0 -->\n      <defs>\n       <path d=\"M 7.625 0 \nL 7.625 7.46875 \nL 25.140625 7.46875 \nL 25.140625 60.40625 \nL 9.625 49.3125 \nL 9.625 57.625 \nL 25.875 68.796875 \nL 33.984375 68.796875 \nL 33.984375 7.46875 \nL 50.734375 7.46875 \nL 50.734375 0 \nz\n\" id=\"LiberationSans-49\"/>\n      </defs>\n      <g style=\"fill:#262626;\" transform=\"translate(13.040625 52.825443)scale(0.1 -0.1)\">\n       <use xlink:href=\"#LiberationSans-49\"/>\n       <use x=\"55.615234\" xlink:href=\"#LiberationSans-46\"/>\n       <use x=\"83.398438\" xlink:href=\"#LiberationSans-48\"/>\n      </g>\n     </g>\n    </g>\n    <g id=\"ytick_9\">\n     <g id=\"line2d_27\">\n      <path clip-path=\"url(#pca7cb581fc)\" d=\"M 33.940625 24.637414 \nL 368.740625 24.637414 \n\" style=\"fill:none;stroke:#ffffff;stroke-linecap:round;\"/>\n     </g>\n     <g id=\"line2d_28\"/>\n     <g id=\"text_14\">\n      <!-- 1.2 -->\n      <g style=\"fill:#262626;\" transform=\"translate(13.040625 28.260851)scale(0.1 -0.1)\">\n       <use xlink:href=\"#LiberationSans-49\"/>\n       <use x=\"55.615234\" xlink:href=\"#LiberationSans-46\"/>\n       <use x=\"83.398438\" xlink:href=\"#LiberationSans-50\"/>\n      </g>\n     </g>\n    </g>\n   </g>\n   <g id=\"PathCollection_1\">\n    <defs>\n     <path d=\"M 0 3.5 \nC 0.928211 3.5 1.81853 3.131218 2.474874 2.474874 \nC 3.131218 1.81853 3.5 0.928211 3.5 0 \nC 3.5 -0.928211 3.131218 -1.81853 2.474874 -2.474874 \nC 1.81853 -3.131218 0.928211 -3.5 0 -3.5 \nC -0.928211 -3.5 -1.81853 -3.131218 -2.474874 -2.474874 \nC -3.131218 -1.81853 -3.5 -0.928211 -3.5 0 \nC -3.5 0.928211 -3.131218 1.81853 -2.474874 2.474874 \nC -1.81853 3.131218 -0.928211 3.5 0 3.5 \nz\n\" id=\"m48a2ff4c84\" style=\"stroke:#4c72b0;stroke-width:0.3;\"/>\n    </defs>\n    <g clip-path=\"url(#pca7cb581fc)\">\n     <use style=\"fill:#4c72b0;stroke:#4c72b0;stroke-width:0.3;\" x=\"258.540432\" xlink:href=\"#m48a2ff4c84\" y=\"44.089387\"/>\n     <use style=\"fill:#4c72b0;stroke:#4c72b0;stroke-width:0.3;\" x=\"187.5584\" xlink:href=\"#m48a2ff4c84\" y=\"167.517068\"/>\n     <use style=\"fill:#4c72b0;stroke:#4c72b0;stroke-width:0.3;\" x=\"116.803852\" xlink:href=\"#m48a2ff4c84\" y=\"176.921781\"/>\n     <use style=\"fill:#4c72b0;stroke:#4c72b0;stroke-width:0.3;\" x=\"187.192119\" xlink:href=\"#m48a2ff4c84\" y=\"174.266625\"/>\n     <use style=\"fill:#4c72b0;stroke:#4c72b0;stroke-width:0.3;\" x=\"236.527907\" xlink:href=\"#m48a2ff4c84\" y=\"55.316509\"/>\n     <use style=\"fill:#4c72b0;stroke:#4c72b0;stroke-width:0.3;\" x=\"327.746239\" xlink:href=\"#m48a2ff4c84\" y=\"47.987994\"/>\n     <use style=\"fill:#4c72b0;stroke:#4c72b0;stroke-width:0.3;\" x=\"73.303778\" xlink:href=\"#m48a2ff4c84\" y=\"140.258167\"/>\n     <use style=\"fill:#4c72b0;stroke:#4c72b0;stroke-width:0.3;\" x=\"266.398223\" xlink:href=\"#m48a2ff4c84\" y=\"48.356507\"/>\n     <use style=\"fill:#4c72b0;stroke:#4c72b0;stroke-width:0.3;\" x=\"239.744634\" xlink:href=\"#m48a2ff4c84\" y=\"53.357166\"/>\n     <use style=\"fill:#4c72b0;stroke:#4c72b0;stroke-width:0.3;\" x=\"230.788377\" xlink:href=\"#m48a2ff4c84\" y=\"159.550748\"/>\n     <use style=\"fill:#4c72b0;stroke:#4c72b0;stroke-width:0.3;\" x=\"353.404431\" xlink:href=\"#m48a2ff4c84\" y=\"45.518704\"/>\n     <use style=\"fill:#4c72b0;stroke:#4c72b0;stroke-width:0.3;\" x=\"49.205918\" xlink:href=\"#m48a2ff4c84\" y=\"166.687285\"/>\n     <use style=\"fill:#4c72b0;stroke:#4c72b0;stroke-width:0.3;\" x=\"157.041641\" xlink:href=\"#m48a2ff4c84\" y=\"193.564236\"/>\n     <use style=\"fill:#4c72b0;stroke:#4c72b0;stroke-width:0.3;\" x=\"221.659297\" xlink:href=\"#m48a2ff4c84\" y=\"173.847132\"/>\n     <use style=\"fill:#4c72b0;stroke:#4c72b0;stroke-width:0.3;\" x=\"164.062109\" xlink:href=\"#m48a2ff4c84\" y=\"181.264226\"/>\n     <use style=\"fill:#4c72b0;stroke:#4c72b0;stroke-width:0.3;\" x=\"258.602732\" xlink:href=\"#m48a2ff4c84\" y=\"48.454043\"/>\n     <use style=\"fill:#4c72b0;stroke:#4c72b0;stroke-width:0.3;\" x=\"54.80337\" xlink:href=\"#m48a2ff4c84\" y=\"176.494802\"/>\n     <use style=\"fill:#4c72b0;stroke:#4c72b0;stroke-width:0.3;\" x=\"97.01151\" xlink:href=\"#m48a2ff4c84\" y=\"170.991211\"/>\n     <use style=\"fill:#4c72b0;stroke:#4c72b0;stroke-width:0.3;\" x=\"215.970141\" xlink:href=\"#m48a2ff4c84\" y=\"162.170002\"/>\n     <use style=\"fill:#4c72b0;stroke:#4c72b0;stroke-width:0.3;\" x=\"150.058664\" xlink:href=\"#m48a2ff4c84\" y=\"176.507672\"/>\n     <use style=\"fill:#4c72b0;stroke:#4c72b0;stroke-width:0.3;\" x=\"235.499146\" xlink:href=\"#m48a2ff4c84\" y=\"74.005673\"/>\n     <use style=\"fill:#4c72b0;stroke:#4c72b0;stroke-width:0.3;\" x=\"252.774602\" xlink:href=\"#m48a2ff4c84\" y=\"41.283304\"/>\n     <use style=\"fill:#4c72b0;stroke:#4c72b0;stroke-width:0.3;\" x=\"148.238399\" xlink:href=\"#m48a2ff4c84\" y=\"173.017525\"/>\n     <use style=\"fill:#4c72b0;stroke:#4c72b0;stroke-width:0.3;\" x=\"320.141241\" xlink:href=\"#m48a2ff4c84\" y=\"46.930029\"/>\n     <use style=\"fill:#4c72b0;stroke:#4c72b0;stroke-width:0.3;\" x=\"324.690235\" xlink:href=\"#m48a2ff4c84\" y=\"35.796195\"/>\n     <use style=\"fill:#4c72b0;stroke:#4c72b0;stroke-width:0.3;\" x=\"235.329284\" xlink:href=\"#m48a2ff4c84\" y=\"57.091505\"/>\n     <use style=\"fill:#4c72b0;stroke:#4c72b0;stroke-width:0.3;\" x=\"328.341758\" xlink:href=\"#m48a2ff4c84\" y=\"45.697503\"/>\n     <use style=\"fill:#4c72b0;stroke:#4c72b0;stroke-width:0.3;\" x=\"314.818041\" xlink:href=\"#m48a2ff4c84\" y=\"71.406387\"/>\n     <use style=\"fill:#4c72b0;stroke:#4c72b0;stroke-width:0.3;\" x=\"280.681469\" xlink:href=\"#m48a2ff4c84\" y=\"38.356758\"/>\n     <use style=\"fill:#4c72b0;stroke:#4c72b0;stroke-width:0.3;\" x=\"253.895204\" xlink:href=\"#m48a2ff4c84\" y=\"56.680025\"/>\n     <use style=\"fill:#4c72b0;stroke:#4c72b0;stroke-width:0.3;\" x=\"253.178731\" xlink:href=\"#m48a2ff4c84\" y=\"59.997256\"/>\n     <use style=\"fill:#4c72b0;stroke:#4c72b0;stroke-width:0.3;\" x=\"343.65381\" xlink:href=\"#m48a2ff4c84\" y=\"62.277948\"/>\n     <use style=\"fill:#4c72b0;stroke:#4c72b0;stroke-width:0.3;\" x=\"196.058164\" xlink:href=\"#m48a2ff4c84\" y=\"179.983379\"/>\n     <use style=\"fill:#4c72b0;stroke:#4c72b0;stroke-width:0.3;\" x=\"177.763351\" xlink:href=\"#m48a2ff4c84\" y=\"184.520388\"/>\n     <use style=\"fill:#4c72b0;stroke:#4c72b0;stroke-width:0.3;\" x=\"170.169002\" xlink:href=\"#m48a2ff4c84\" y=\"147.796263\"/>\n     <use style=\"fill:#4c72b0;stroke:#4c72b0;stroke-width:0.3;\" x=\"132.208132\" xlink:href=\"#m48a2ff4c84\" y=\"161.615191\"/>\n     <use style=\"fill:#4c72b0;stroke:#4c72b0;stroke-width:0.3;\" x=\"159.069441\" xlink:href=\"#m48a2ff4c84\" y=\"172.135181\"/>\n     <use style=\"fill:#4c72b0;stroke:#4c72b0;stroke-width:0.3;\" x=\"234.319108\" xlink:href=\"#m48a2ff4c84\" y=\"40.292356\"/>\n     <use style=\"fill:#4c72b0;stroke:#4c72b0;stroke-width:0.3;\" x=\"310.242894\" xlink:href=\"#m48a2ff4c84\" y=\"59.647581\"/>\n     <use style=\"fill:#4c72b0;stroke:#4c72b0;stroke-width:0.3;\" x=\"290.437818\" xlink:href=\"#m48a2ff4c84\" y=\"52.754086\"/>\n     <use style=\"fill:#4c72b0;stroke:#4c72b0;stroke-width:0.3;\" x=\"217.555711\" xlink:href=\"#m48a2ff4c84\" y=\"186.754067\"/>\n     <use style=\"fill:#4c72b0;stroke:#4c72b0;stroke-width:0.3;\" x=\"161.721797\" xlink:href=\"#m48a2ff4c84\" y=\"196.611223\"/>\n     <use style=\"fill:#4c72b0;stroke:#4c72b0;stroke-width:0.3;\" x=\"174.213314\" xlink:href=\"#m48a2ff4c84\" y=\"157.3772\"/>\n     <use style=\"fill:#4c72b0;stroke:#4c72b0;stroke-width:0.3;\" x=\"74.986773\" xlink:href=\"#m48a2ff4c84\" y=\"169.752562\"/>\n     <use style=\"fill:#4c72b0;stroke:#4c72b0;stroke-width:0.3;\" x=\"324.343841\" xlink:href=\"#m48a2ff4c84\" y=\"37.6224\"/>\n     <use style=\"fill:#4c72b0;stroke:#4c72b0;stroke-width:0.3;\" x=\"93.52849\" xlink:href=\"#m48a2ff4c84\" y=\"175.860208\"/>\n     <use style=\"fill:#4c72b0;stroke:#4c72b0;stroke-width:0.3;\" x=\"74.302344\" xlink:href=\"#m48a2ff4c84\" y=\"166.673527\"/>\n     <use style=\"fill:#4c72b0;stroke:#4c72b0;stroke-width:0.3;\" x=\"321.91385\" xlink:href=\"#m48a2ff4c84\" y=\"40.200903\"/>\n     <use style=\"fill:#4c72b0;stroke:#4c72b0;stroke-width:0.3;\" x=\"136.234627\" xlink:href=\"#m48a2ff4c84\" y=\"191.482628\"/>\n     <use style=\"fill:#4c72b0;stroke:#4c72b0;stroke-width:0.3;\" x=\"276.176079\" xlink:href=\"#m48a2ff4c84\" y=\"34.585187\"/>\n     <use style=\"fill:#4c72b0;stroke:#4c72b0;stroke-width:0.3;\" x=\"268.32094\" xlink:href=\"#m48a2ff4c84\" y=\"55.201072\"/>\n     <use style=\"fill:#4c72b0;stroke:#4c72b0;stroke-width:0.3;\" x=\"285.972232\" xlink:href=\"#m48a2ff4c84\" y=\"55.034011\"/>\n     <use style=\"fill:#4c72b0;stroke:#4c72b0;stroke-width:0.3;\" x=\"170.367269\" xlink:href=\"#m48a2ff4c84\" y=\"161.691124\"/>\n     <use style=\"fill:#4c72b0;stroke:#4c72b0;stroke-width:0.3;\" x=\"297.113189\" xlink:href=\"#m48a2ff4c84\" y=\"46.521206\"/>\n     <use style=\"fill:#4c72b0;stroke:#4c72b0;stroke-width:0.3;\" x=\"247.196646\" xlink:href=\"#m48a2ff4c84\" y=\"41.796212\"/>\n     <use style=\"fill:#4c72b0;stroke:#4c72b0;stroke-width:0.3;\" x=\"90.211919\" xlink:href=\"#m48a2ff4c84\" y=\"181.840157\"/>\n     <use style=\"fill:#4c72b0;stroke:#4c72b0;stroke-width:0.3;\" x=\"307.045352\" xlink:href=\"#m48a2ff4c84\" y=\"48.252028\"/>\n     <use style=\"fill:#4c72b0;stroke:#4c72b0;stroke-width:0.3;\" x=\"226.45958\" xlink:href=\"#m48a2ff4c84\" y=\"174.112506\"/>\n     <use style=\"fill:#4c72b0;stroke:#4c72b0;stroke-width:0.3;\" x=\"216.035712\" xlink:href=\"#m48a2ff4c84\" y=\"167.835399\"/>\n     <use style=\"fill:#4c72b0;stroke:#4c72b0;stroke-width:0.3;\" x=\"144.029429\" xlink:href=\"#m48a2ff4c84\" y=\"176.304963\"/>\n     <use style=\"fill:#4c72b0;stroke:#4c72b0;stroke-width:0.3;\" x=\"52.900597\" xlink:href=\"#m48a2ff4c84\" y=\"160.697932\"/>\n     <use style=\"fill:#4c72b0;stroke:#4c72b0;stroke-width:0.3;\" x=\"273.222336\" xlink:href=\"#m48a2ff4c84\" y=\"58.458861\"/>\n     <use style=\"fill:#4c72b0;stroke:#4c72b0;stroke-width:0.3;\" x=\"163.203195\" xlink:href=\"#m48a2ff4c84\" y=\"181.606743\"/>\n     <use style=\"fill:#4c72b0;stroke:#4c72b0;stroke-width:0.3;\" x=\"140.543906\" xlink:href=\"#m48a2ff4c84\" y=\"214.756364\"/>\n     <use style=\"fill:#4c72b0;stroke:#4c72b0;stroke-width:0.3;\" x=\"150.423413\" xlink:href=\"#m48a2ff4c84\" y=\"178.722866\"/>\n     <use style=\"fill:#4c72b0;stroke:#4c72b0;stroke-width:0.3;\" x=\"286.643378\" xlink:href=\"#m48a2ff4c84\" y=\"48.934572\"/>\n     <use style=\"fill:#4c72b0;stroke:#4c72b0;stroke-width:0.3;\" x=\"206.171376\" xlink:href=\"#m48a2ff4c84\" y=\"162.307189\"/>\n     <use style=\"fill:#4c72b0;stroke:#4c72b0;stroke-width:0.3;\" x=\"171.844411\" xlink:href=\"#m48a2ff4c84\" y=\"165.565964\"/>\n     <use style=\"fill:#4c72b0;stroke:#4c72b0;stroke-width:0.3;\" x=\"279.516998\" xlink:href=\"#m48a2ff4c84\" y=\"45.202718\"/>\n     <use style=\"fill:#4c72b0;stroke:#4c72b0;stroke-width:0.3;\" x=\"281.056113\" xlink:href=\"#m48a2ff4c84\" y=\"58.825906\"/>\n     <use style=\"fill:#4c72b0;stroke:#4c72b0;stroke-width:0.3;\" x=\"52.916876\" xlink:href=\"#m48a2ff4c84\" y=\"157.27439\"/>\n     <use style=\"fill:#4c72b0;stroke:#4c72b0;stroke-width:0.3;\" x=\"273.269196\" xlink:href=\"#m48a2ff4c84\" y=\"37.541529\"/>\n     <use style=\"fill:#4c72b0;stroke:#4c72b0;stroke-width:0.3;\" x=\"334.374428\" xlink:href=\"#m48a2ff4c84\" y=\"44.944524\"/>\n     <use style=\"fill:#4c72b0;stroke:#4c72b0;stroke-width:0.3;\" x=\"74.678984\" xlink:href=\"#m48a2ff4c84\" y=\"167.903997\"/>\n     <use style=\"fill:#4c72b0;stroke:#4c72b0;stroke-width:0.3;\" x=\"330.553071\" xlink:href=\"#m48a2ff4c84\" y=\"49.354175\"/>\n     <use style=\"fill:#4c72b0;stroke:#4c72b0;stroke-width:0.3;\" x=\"152.481177\" xlink:href=\"#m48a2ff4c84\" y=\"170.307001\"/>\n     <use style=\"fill:#4c72b0;stroke:#4c72b0;stroke-width:0.3;\" x=\"141.716144\" xlink:href=\"#m48a2ff4c84\" y=\"183.740301\"/>\n     <use style=\"fill:#4c72b0;stroke:#4c72b0;stroke-width:0.3;\" x=\"233.467639\" xlink:href=\"#m48a2ff4c84\" y=\"62.286042\"/>\n     <use style=\"fill:#4c72b0;stroke:#4c72b0;stroke-width:0.3;\" x=\"318.977176\" xlink:href=\"#m48a2ff4c84\" y=\"48.839336\"/>\n     <use style=\"fill:#4c72b0;stroke:#4c72b0;stroke-width:0.3;\" x=\"317.947621\" xlink:href=\"#m48a2ff4c84\" y=\"48.87548\"/>\n     <use style=\"fill:#4c72b0;stroke:#4c72b0;stroke-width:0.3;\" x=\"181.581146\" xlink:href=\"#m48a2ff4c84\" y=\"193.442822\"/>\n     <use style=\"fill:#4c72b0;stroke:#4c72b0;stroke-width:0.3;\" x=\"296.294913\" xlink:href=\"#m48a2ff4c84\" y=\"49.340967\"/>\n     <use style=\"fill:#4c72b0;stroke:#4c72b0;stroke-width:0.3;\" x=\"181.869317\" xlink:href=\"#m48a2ff4c84\" y=\"186.426076\"/>\n     <use style=\"fill:#4c72b0;stroke:#4c72b0;stroke-width:0.3;\" x=\"142.31201\" xlink:href=\"#m48a2ff4c84\" y=\"175.964245\"/>\n     <use style=\"fill:#4c72b0;stroke:#4c72b0;stroke-width:0.3;\" x=\"86.928747\" xlink:href=\"#m48a2ff4c84\" y=\"182.57429\"/>\n     <use style=\"fill:#4c72b0;stroke:#4c72b0;stroke-width:0.3;\" x=\"96.468693\" xlink:href=\"#m48a2ff4c84\" y=\"175.088944\"/>\n     <use style=\"fill:#4c72b0;stroke:#4c72b0;stroke-width:0.3;\" x=\"318.380129\" xlink:href=\"#m48a2ff4c84\" y=\"30.130479\"/>\n     <use style=\"fill:#4c72b0;stroke:#4c72b0;stroke-width:0.3;\" x=\"190.698133\" xlink:href=\"#m48a2ff4c84\" y=\"162.222476\"/>\n     <use style=\"fill:#4c72b0;stroke:#4c72b0;stroke-width:0.3;\" x=\"177.914144\" xlink:href=\"#m48a2ff4c84\" y=\"178.554325\"/>\n     <use style=\"fill:#4c72b0;stroke:#4c72b0;stroke-width:0.3;\" x=\"239.160143\" xlink:href=\"#m48a2ff4c84\" y=\"50.134443\"/>\n     <use style=\"fill:#4c72b0;stroke:#4c72b0;stroke-width:0.3;\" x=\"189.00304\" xlink:href=\"#m48a2ff4c84\" y=\"194.043357\"/>\n     <use style=\"fill:#4c72b0;stroke:#4c72b0;stroke-width:0.3;\" x=\"74.729096\" xlink:href=\"#m48a2ff4c84\" y=\"179.998024\"/>\n     <use style=\"fill:#4c72b0;stroke:#4c72b0;stroke-width:0.3;\" x=\"63.672131\" xlink:href=\"#m48a2ff4c84\" y=\"174.272741\"/>\n     <use style=\"fill:#4c72b0;stroke:#4c72b0;stroke-width:0.3;\" x=\"85.388338\" xlink:href=\"#m48a2ff4c84\" y=\"172.941103\"/>\n     <use style=\"fill:#4c72b0;stroke:#4c72b0;stroke-width:0.3;\" x=\"209.110601\" xlink:href=\"#m48a2ff4c84\" y=\"179.552871\"/>\n     <use style=\"fill:#4c72b0;stroke:#4c72b0;stroke-width:0.3;\" x=\"165.042979\" xlink:href=\"#m48a2ff4c84\" y=\"172.666884\"/>\n     <use style=\"fill:#4c72b0;stroke:#4c72b0;stroke-width:0.3;\" x=\"166.890267\" xlink:href=\"#m48a2ff4c84\" y=\"176.763723\"/>\n     <use style=\"fill:#4c72b0;stroke:#4c72b0;stroke-width:0.3;\" x=\"188.753293\" xlink:href=\"#m48a2ff4c84\" y=\"177.282539\"/>\n     <use style=\"fill:#4c72b0;stroke:#4c72b0;stroke-width:0.3;\" x=\"250.861727\" xlink:href=\"#m48a2ff4c84\" y=\"53.523304\"/>\n     <use style=\"fill:#4c72b0;stroke:#4c72b0;stroke-width:0.3;\" x=\"297.651078\" xlink:href=\"#m48a2ff4c84\" y=\"56.950143\"/>\n     <use style=\"fill:#4c72b0;stroke:#4c72b0;stroke-width:0.3;\" x=\"105.696146\" xlink:href=\"#m48a2ff4c84\" y=\"184.041367\"/>\n     <use style=\"fill:#4c72b0;stroke:#4c72b0;stroke-width:0.3;\" x=\"182.991368\" xlink:href=\"#m48a2ff4c84\" y=\"169.504937\"/>\n     <use style=\"fill:#4c72b0;stroke:#4c72b0;stroke-width:0.3;\" x=\"344.707722\" xlink:href=\"#m48a2ff4c84\" y=\"53.440276\"/>\n     <use style=\"fill:#4c72b0;stroke:#4c72b0;stroke-width:0.3;\" x=\"342.441862\" xlink:href=\"#m48a2ff4c84\" y=\"58.057709\"/>\n     <use style=\"fill:#4c72b0;stroke:#4c72b0;stroke-width:0.3;\" x=\"137.354208\" xlink:href=\"#m48a2ff4c84\" y=\"177.02064\"/>\n     <use style=\"fill:#4c72b0;stroke:#4c72b0;stroke-width:0.3;\" x=\"213.592286\" xlink:href=\"#m48a2ff4c84\" y=\"170.589223\"/>\n     <use style=\"fill:#4c72b0;stroke:#4c72b0;stroke-width:0.3;\" x=\"121.108338\" xlink:href=\"#m48a2ff4c84\" y=\"179.400122\"/>\n     <use style=\"fill:#4c72b0;stroke:#4c72b0;stroke-width:0.3;\" x=\"98.992721\" xlink:href=\"#m48a2ff4c84\" y=\"168.66149\"/>\n     <use style=\"fill:#4c72b0;stroke:#4c72b0;stroke-width:0.3;\" x=\"274.260658\" xlink:href=\"#m48a2ff4c84\" y=\"63.332316\"/>\n     <use style=\"fill:#4c72b0;stroke:#4c72b0;stroke-width:0.3;\" x=\"85.995997\" xlink:href=\"#m48a2ff4c84\" y=\"167.780477\"/>\n     <use style=\"fill:#4c72b0;stroke:#4c72b0;stroke-width:0.3;\" x=\"332.830678\" xlink:href=\"#m48a2ff4c84\" y=\"50.98237\"/>\n     <use style=\"fill:#4c72b0;stroke:#4c72b0;stroke-width:0.3;\" x=\"173.299095\" xlink:href=\"#m48a2ff4c84\" y=\"165.53346\"/>\n     <use style=\"fill:#4c72b0;stroke:#4c72b0;stroke-width:0.3;\" x=\"298.875188\" xlink:href=\"#m48a2ff4c84\" y=\"54.049771\"/>\n     <use style=\"fill:#4c72b0;stroke:#4c72b0;stroke-width:0.3;\" x=\"156.480683\" xlink:href=\"#m48a2ff4c84\" y=\"173.822546\"/>\n     <use style=\"fill:#4c72b0;stroke:#4c72b0;stroke-width:0.3;\" x=\"58.238637\" xlink:href=\"#m48a2ff4c84\" y=\"191.807153\"/>\n     <use style=\"fill:#4c72b0;stroke:#4c72b0;stroke-width:0.3;\" x=\"203.517849\" xlink:href=\"#m48a2ff4c84\" y=\"195.740027\"/>\n     <use style=\"fill:#4c72b0;stroke:#4c72b0;stroke-width:0.3;\" x=\"105.092049\" xlink:href=\"#m48a2ff4c84\" y=\"179.535184\"/>\n     <use style=\"fill:#4c72b0;stroke:#4c72b0;stroke-width:0.3;\" x=\"208.725675\" xlink:href=\"#m48a2ff4c84\" y=\"172.215078\"/>\n     <use style=\"fill:#4c72b0;stroke:#4c72b0;stroke-width:0.3;\" x=\"86.670001\" xlink:href=\"#m48a2ff4c84\" y=\"208.870346\"/>\n     <use style=\"fill:#4c72b0;stroke:#4c72b0;stroke-width:0.3;\" x=\"69.131893\" xlink:href=\"#m48a2ff4c84\" y=\"176.186228\"/>\n     <use style=\"fill:#4c72b0;stroke:#4c72b0;stroke-width:0.3;\" x=\"81.297546\" xlink:href=\"#m48a2ff4c84\" y=\"164.547416\"/>\n     <use style=\"fill:#4c72b0;stroke:#4c72b0;stroke-width:0.3;\" x=\"147.534586\" xlink:href=\"#m48a2ff4c84\" y=\"155.865836\"/>\n     <use style=\"fill:#4c72b0;stroke:#4c72b0;stroke-width:0.3;\" x=\"208.714541\" xlink:href=\"#m48a2ff4c84\" y=\"155.591111\"/>\n     <use style=\"fill:#4c72b0;stroke:#4c72b0;stroke-width:0.3;\" x=\"249.935029\" xlink:href=\"#m48a2ff4c84\" y=\"48.739124\"/>\n     <use style=\"fill:#4c72b0;stroke:#4c72b0;stroke-width:0.3;\" x=\"167.214975\" xlink:href=\"#m48a2ff4c84\" y=\"180.713152\"/>\n     <use style=\"fill:#4c72b0;stroke:#4c72b0;stroke-width:0.3;\" x=\"202.567741\" xlink:href=\"#m48a2ff4c84\" y=\"170.621091\"/>\n     <use style=\"fill:#4c72b0;stroke:#4c72b0;stroke-width:0.3;\" x=\"140.130801\" xlink:href=\"#m48a2ff4c84\" y=\"172.534666\"/>\n     <use style=\"fill:#4c72b0;stroke:#4c72b0;stroke-width:0.3;\" x=\"161.148177\" xlink:href=\"#m48a2ff4c84\" y=\"184.719574\"/>\n     <use style=\"fill:#4c72b0;stroke:#4c72b0;stroke-width:0.3;\" x=\"94.036736\" xlink:href=\"#m48a2ff4c84\" y=\"156.999527\"/>\n     <use style=\"fill:#4c72b0;stroke:#4c72b0;stroke-width:0.3;\" x=\"326.667718\" xlink:href=\"#m48a2ff4c84\" y=\"26.217342\"/>\n     <use style=\"fill:#4c72b0;stroke:#4c72b0;stroke-width:0.3;\" x=\"218.498125\" xlink:href=\"#m48a2ff4c84\" y=\"144.865762\"/>\n     <use style=\"fill:#4c72b0;stroke:#4c72b0;stroke-width:0.3;\" x=\"310.301894\" xlink:href=\"#m48a2ff4c84\" y=\"51.301153\"/>\n     <use style=\"fill:#4c72b0;stroke:#4c72b0;stroke-width:0.3;\" x=\"139.962524\" xlink:href=\"#m48a2ff4c84\" y=\"158.175601\"/>\n     <use style=\"fill:#4c72b0;stroke:#4c72b0;stroke-width:0.3;\" x=\"59.560745\" xlink:href=\"#m48a2ff4c84\" y=\"177.931634\"/>\n     <use style=\"fill:#4c72b0;stroke:#4c72b0;stroke-width:0.3;\" x=\"348.758879\" xlink:href=\"#m48a2ff4c84\" y=\"68.939952\"/>\n     <use style=\"fill:#4c72b0;stroke:#4c72b0;stroke-width:0.3;\" x=\"273.438909\" xlink:href=\"#m48a2ff4c84\" y=\"73.237372\"/>\n     <use style=\"fill:#4c72b0;stroke:#4c72b0;stroke-width:0.3;\" x=\"124.309163\" xlink:href=\"#m48a2ff4c84\" y=\"167.69451\"/>\n     <use style=\"fill:#4c72b0;stroke:#4c72b0;stroke-width:0.3;\" x=\"256.967536\" xlink:href=\"#m48a2ff4c84\" y=\"38.554912\"/>\n     <use style=\"fill:#4c72b0;stroke:#4c72b0;stroke-width:0.3;\" x=\"283.350529\" xlink:href=\"#m48a2ff4c84\" y=\"39.38195\"/>\n     <use style=\"fill:#4c72b0;stroke:#4c72b0;stroke-width:0.3;\" x=\"84.267672\" xlink:href=\"#m48a2ff4c84\" y=\"183.581106\"/>\n     <use style=\"fill:#4c72b0;stroke:#4c72b0;stroke-width:0.3;\" x=\"102.062851\" xlink:href=\"#m48a2ff4c84\" y=\"170.294285\"/>\n     <use style=\"fill:#4c72b0;stroke:#4c72b0;stroke-width:0.3;\" x=\"229.153663\" xlink:href=\"#m48a2ff4c84\" y=\"173.797212\"/>\n     <use style=\"fill:#4c72b0;stroke:#4c72b0;stroke-width:0.3;\" x=\"250.963743\" xlink:href=\"#m48a2ff4c84\" y=\"48.262465\"/>\n     <use style=\"fill:#4c72b0;stroke:#4c72b0;stroke-width:0.3;\" x=\"349.451229\" xlink:href=\"#m48a2ff4c84\" y=\"69.40958\"/>\n     <use style=\"fill:#4c72b0;stroke:#4c72b0;stroke-width:0.3;\" x=\"169.382325\" xlink:href=\"#m48a2ff4c84\" y=\"182.691945\"/>\n     <use style=\"fill:#4c72b0;stroke:#4c72b0;stroke-width:0.3;\" x=\"233.109152\" xlink:href=\"#m48a2ff4c84\" y=\"41.083906\"/>\n     <use style=\"fill:#4c72b0;stroke:#4c72b0;stroke-width:0.3;\" x=\"213.24198\" xlink:href=\"#m48a2ff4c84\" y=\"183.71322\"/>\n     <use style=\"fill:#4c72b0;stroke:#4c72b0;stroke-width:0.3;\" x=\"66.641681\" xlink:href=\"#m48a2ff4c84\" y=\"178.549797\"/>\n     <use style=\"fill:#4c72b0;stroke:#4c72b0;stroke-width:0.3;\" x=\"302.827404\" xlink:href=\"#m48a2ff4c84\" y=\"61.30553\"/>\n     <use style=\"fill:#4c72b0;stroke:#4c72b0;stroke-width:0.3;\" x=\"307.904512\" xlink:href=\"#m48a2ff4c84\" y=\"39.063298\"/>\n     <use style=\"fill:#4c72b0;stroke:#4c72b0;stroke-width:0.3;\" x=\"158.289321\" xlink:href=\"#m48a2ff4c84\" y=\"183.336798\"/>\n     <use style=\"fill:#4c72b0;stroke:#4c72b0;stroke-width:0.3;\" x=\"210.264096\" xlink:href=\"#m48a2ff4c84\" y=\"165.102158\"/>\n     <use style=\"fill:#4c72b0;stroke:#4c72b0;stroke-width:0.3;\" x=\"103.101533\" xlink:href=\"#m48a2ff4c84\" y=\"153.844099\"/>\n     <use style=\"fill:#4c72b0;stroke:#4c72b0;stroke-width:0.3;\" x=\"210.729197\" xlink:href=\"#m48a2ff4c84\" y=\"169.5605\"/>\n     <use style=\"fill:#4c72b0;stroke:#4c72b0;stroke-width:0.3;\" x=\"70.964501\" xlink:href=\"#m48a2ff4c84\" y=\"168.969292\"/>\n     <use style=\"fill:#4c72b0;stroke:#4c72b0;stroke-width:0.3;\" x=\"293.86073\" xlink:href=\"#m48a2ff4c84\" y=\"45.598957\"/>\n     <use style=\"fill:#4c72b0;stroke:#4c72b0;stroke-width:0.3;\" x=\"115.899708\" xlink:href=\"#m48a2ff4c84\" y=\"179.967961\"/>\n     <use style=\"fill:#4c72b0;stroke:#4c72b0;stroke-width:0.3;\" x=\"53.901869\" xlink:href=\"#m48a2ff4c84\" y=\"168.510341\"/>\n     <use style=\"fill:#4c72b0;stroke:#4c72b0;stroke-width:0.3;\" x=\"59.390891\" xlink:href=\"#m48a2ff4c84\" y=\"186.236877\"/>\n     <use style=\"fill:#4c72b0;stroke:#4c72b0;stroke-width:0.3;\" x=\"263.688807\" xlink:href=\"#m48a2ff4c84\" y=\"54.494227\"/>\n     <use style=\"fill:#4c72b0;stroke:#4c72b0;stroke-width:0.3;\" x=\"150.777631\" xlink:href=\"#m48a2ff4c84\" y=\"150.003393\"/>\n     <use style=\"fill:#4c72b0;stroke:#4c72b0;stroke-width:0.3;\" x=\"219.573418\" xlink:href=\"#m48a2ff4c84\" y=\"182.566437\"/>\n     <use style=\"fill:#4c72b0;stroke:#4c72b0;stroke-width:0.3;\" x=\"347.274036\" xlink:href=\"#m48a2ff4c84\" y=\"43.939987\"/>\n     <use style=\"fill:#4c72b0;stroke:#4c72b0;stroke-width:0.3;\" x=\"63.550766\" xlink:href=\"#m48a2ff4c84\" y=\"163.145209\"/>\n     <use style=\"fill:#4c72b0;stroke:#4c72b0;stroke-width:0.3;\" x=\"91.396903\" xlink:href=\"#m48a2ff4c84\" y=\"188.20762\"/>\n     <use style=\"fill:#4c72b0;stroke:#4c72b0;stroke-width:0.3;\" x=\"251.237732\" xlink:href=\"#m48a2ff4c84\" y=\"61.827514\"/>\n     <use style=\"fill:#4c72b0;stroke:#4c72b0;stroke-width:0.3;\" x=\"162.73235\" xlink:href=\"#m48a2ff4c84\" y=\"165.079632\"/>\n     <use style=\"fill:#4c72b0;stroke:#4c72b0;stroke-width:0.3;\" x=\"170.972857\" xlink:href=\"#m48a2ff4c84\" y=\"170.808354\"/>\n     <use style=\"fill:#4c72b0;stroke:#4c72b0;stroke-width:0.3;\" x=\"67.826375\" xlink:href=\"#m48a2ff4c84\" y=\"183.143847\"/>\n     <use style=\"fill:#4c72b0;stroke:#4c72b0;stroke-width:0.3;\" x=\"234.763385\" xlink:href=\"#m48a2ff4c84\" y=\"62.432621\"/>\n     <use style=\"fill:#4c72b0;stroke:#4c72b0;stroke-width:0.3;\" x=\"76.688467\" xlink:href=\"#m48a2ff4c84\" y=\"193.871891\"/>\n     <use style=\"fill:#4c72b0;stroke:#4c72b0;stroke-width:0.3;\" x=\"227.577536\" xlink:href=\"#m48a2ff4c84\" y=\"175.146536\"/>\n     <use style=\"fill:#4c72b0;stroke:#4c72b0;stroke-width:0.3;\" x=\"92.755897\" xlink:href=\"#m48a2ff4c84\" y=\"170.471852\"/>\n     <use style=\"fill:#4c72b0;stroke:#4c72b0;stroke-width:0.3;\" x=\"118.161305\" xlink:href=\"#m48a2ff4c84\" y=\"174.875583\"/>\n     <use style=\"fill:#4c72b0;stroke:#4c72b0;stroke-width:0.3;\" x=\"226.255249\" xlink:href=\"#m48a2ff4c84\" y=\"185.19077\"/>\n     <use style=\"fill:#4c72b0;stroke:#4c72b0;stroke-width:0.3;\" x=\"103.715914\" xlink:href=\"#m48a2ff4c84\" y=\"182.63515\"/>\n     <use style=\"fill:#4c72b0;stroke:#4c72b0;stroke-width:0.3;\" x=\"194.210709\" xlink:href=\"#m48a2ff4c84\" y=\"172.106633\"/>\n     <use style=\"fill:#4c72b0;stroke:#4c72b0;stroke-width:0.3;\" x=\"191.235509\" xlink:href=\"#m48a2ff4c84\" y=\"169.656166\"/>\n     <use style=\"fill:#4c72b0;stroke:#4c72b0;stroke-width:0.3;\" x=\"316.258291\" xlink:href=\"#m48a2ff4c84\" y=\"64.672317\"/>\n     <use style=\"fill:#4c72b0;stroke:#4c72b0;stroke-width:0.3;\" x=\"175.57562\" xlink:href=\"#m48a2ff4c84\" y=\"176.970199\"/>\n     <use style=\"fill:#4c72b0;stroke:#4c72b0;stroke-width:0.3;\" x=\"223.974682\" xlink:href=\"#m48a2ff4c84\" y=\"158.765893\"/>\n     <use style=\"fill:#4c72b0;stroke:#4c72b0;stroke-width:0.3;\" x=\"192.79199\" xlink:href=\"#m48a2ff4c84\" y=\"157.059603\"/>\n     <use style=\"fill:#4c72b0;stroke:#4c72b0;stroke-width:0.3;\" x=\"219.063404\" xlink:href=\"#m48a2ff4c84\" y=\"175.743831\"/>\n     <use style=\"fill:#4c72b0;stroke:#4c72b0;stroke-width:0.3;\" x=\"114.360428\" xlink:href=\"#m48a2ff4c84\" y=\"169.199397\"/>\n     <use style=\"fill:#4c72b0;stroke:#4c72b0;stroke-width:0.3;\" x=\"133.554625\" xlink:href=\"#m48a2ff4c84\" y=\"164.051411\"/>\n     <use style=\"fill:#4c72b0;stroke:#4c72b0;stroke-width:0.3;\" x=\"163.403501\" xlink:href=\"#m48a2ff4c84\" y=\"161.236602\"/>\n     <use style=\"fill:#4c72b0;stroke:#4c72b0;stroke-width:0.3;\" x=\"350.954808\" xlink:href=\"#m48a2ff4c84\" y=\"26.897364\"/>\n     <use style=\"fill:#4c72b0;stroke:#4c72b0;stroke-width:0.3;\" x=\"160.031377\" xlink:href=\"#m48a2ff4c84\" y=\"175.675798\"/>\n     <use style=\"fill:#4c72b0;stroke:#4c72b0;stroke-width:0.3;\" x=\"208.294459\" xlink:href=\"#m48a2ff4c84\" y=\"148.517359\"/>\n     <use style=\"fill:#4c72b0;stroke:#4c72b0;stroke-width:0.3;\" x=\"170.92404\" xlink:href=\"#m48a2ff4c84\" y=\"170.658742\"/>\n     <use style=\"fill:#4c72b0;stroke:#4c72b0;stroke-width:0.3;\" x=\"277.16283\" xlink:href=\"#m48a2ff4c84\" y=\"61.9518\"/>\n     <use style=\"fill:#4c72b0;stroke:#4c72b0;stroke-width:0.3;\" x=\"183.329883\" xlink:href=\"#m48a2ff4c84\" y=\"171.06635\"/>\n     <use style=\"fill:#4c72b0;stroke:#4c72b0;stroke-width:0.3;\" x=\"269.363658\" xlink:href=\"#m48a2ff4c84\" y=\"49.416628\"/>\n     <use style=\"fill:#4c72b0;stroke:#4c72b0;stroke-width:0.3;\" x=\"121.574293\" xlink:href=\"#m48a2ff4c84\" y=\"164.583474\"/>\n     <use style=\"fill:#4c72b0;stroke:#4c72b0;stroke-width:0.3;\" x=\"113.445135\" xlink:href=\"#m48a2ff4c84\" y=\"171.612474\"/>\n     <use style=\"fill:#4c72b0;stroke:#4c72b0;stroke-width:0.3;\" x=\"77.079611\" xlink:href=\"#m48a2ff4c84\" y=\"173.598781\"/>\n     <use style=\"fill:#4c72b0;stroke:#4c72b0;stroke-width:0.3;\" x=\"95.979492\" xlink:href=\"#m48a2ff4c84\" y=\"155.588536\"/>\n     <use style=\"fill:#4c72b0;stroke:#4c72b0;stroke-width:0.3;\" x=\"349.705811\" xlink:href=\"#m48a2ff4c84\" y=\"44.267251\"/>\n     <use style=\"fill:#4c72b0;stroke:#4c72b0;stroke-width:0.3;\" x=\"272.240775\" xlink:href=\"#m48a2ff4c84\" y=\"70.111082\"/>\n     <use style=\"fill:#4c72b0;stroke:#4c72b0;stroke-width:0.3;\" x=\"202.49555\" xlink:href=\"#m48a2ff4c84\" y=\"147.871794\"/>\n     <use style=\"fill:#4c72b0;stroke:#4c72b0;stroke-width:0.3;\" x=\"301.964928\" xlink:href=\"#m48a2ff4c84\" y=\"71.285001\"/>\n     <use style=\"fill:#4c72b0;stroke:#4c72b0;stroke-width:0.3;\" x=\"304.607869\" xlink:href=\"#m48a2ff4c84\" y=\"47.89996\"/>\n     <use style=\"fill:#4c72b0;stroke:#4c72b0;stroke-width:0.3;\" x=\"159.06386\" xlink:href=\"#m48a2ff4c84\" y=\"169.799288\"/>\n     <use style=\"fill:#4c72b0;stroke:#4c72b0;stroke-width:0.3;\" x=\"57.947181\" xlink:href=\"#m48a2ff4c84\" y=\"174.512697\"/>\n     <use style=\"fill:#4c72b0;stroke:#4c72b0;stroke-width:0.3;\" x=\"296.931245\" xlink:href=\"#m48a2ff4c84\" y=\"27.784076\"/>\n     <use style=\"fill:#4c72b0;stroke:#4c72b0;stroke-width:0.3;\" x=\"62.501717\" xlink:href=\"#m48a2ff4c84\" y=\"192.990947\"/>\n     <use style=\"fill:#4c72b0;stroke:#4c72b0;stroke-width:0.3;\" x=\"304.091618\" xlink:href=\"#m48a2ff4c84\" y=\"57.097937\"/>\n     <use style=\"fill:#4c72b0;stroke:#4c72b0;stroke-width:0.3;\" x=\"252.564312\" xlink:href=\"#m48a2ff4c84\" y=\"36.082366\"/>\n     <use style=\"fill:#4c72b0;stroke:#4c72b0;stroke-width:0.3;\" x=\"71.895523\" xlink:href=\"#m48a2ff4c84\" y=\"164.370977\"/>\n     <use style=\"fill:#4c72b0;stroke:#4c72b0;stroke-width:0.3;\" x=\"159.78329\" xlink:href=\"#m48a2ff4c84\" y=\"174.061005\"/>\n     <use style=\"fill:#4c72b0;stroke:#4c72b0;stroke-width:0.3;\" x=\"265.084072\" xlink:href=\"#m48a2ff4c84\" y=\"41.660108\"/>\n     <use style=\"fill:#4c72b0;stroke:#4c72b0;stroke-width:0.3;\" x=\"182.214853\" xlink:href=\"#m48a2ff4c84\" y=\"173.191538\"/>\n     <use style=\"fill:#4c72b0;stroke:#4c72b0;stroke-width:0.3;\" x=\"265.151472\" xlink:href=\"#m48a2ff4c84\" y=\"39.046078\"/>\n     <use style=\"fill:#4c72b0;stroke:#4c72b0;stroke-width:0.3;\" x=\"339.810123\" xlink:href=\"#m48a2ff4c84\" y=\"61.64818\"/>\n     <use style=\"fill:#4c72b0;stroke:#4c72b0;stroke-width:0.3;\" x=\"111.881208\" xlink:href=\"#m48a2ff4c84\" y=\"162.221751\"/>\n     <use style=\"fill:#4c72b0;stroke:#4c72b0;stroke-width:0.3;\" x=\"178.282721\" xlink:href=\"#m48a2ff4c84\" y=\"176.548801\"/>\n     <use style=\"fill:#4c72b0;stroke:#4c72b0;stroke-width:0.3;\" x=\"264.543319\" xlink:href=\"#m48a2ff4c84\" y=\"64.525157\"/>\n     <use style=\"fill:#4c72b0;stroke:#4c72b0;stroke-width:0.3;\" x=\"219.785392\" xlink:href=\"#m48a2ff4c84\" y=\"178.319207\"/>\n     <use style=\"fill:#4c72b0;stroke:#4c72b0;stroke-width:0.3;\" x=\"81.121476\" xlink:href=\"#m48a2ff4c84\" y=\"155.782233\"/>\n     <use style=\"fill:#4c72b0;stroke:#4c72b0;stroke-width:0.3;\" x=\"313.015168\" xlink:href=\"#m48a2ff4c84\" y=\"19.302314\"/>\n     <use style=\"fill:#4c72b0;stroke:#4c72b0;stroke-width:0.3;\" x=\"276.785918\" xlink:href=\"#m48a2ff4c84\" y=\"45.105632\"/>\n     <use style=\"fill:#4c72b0;stroke:#4c72b0;stroke-width:0.3;\" x=\"341.234845\" xlink:href=\"#m48a2ff4c84\" y=\"34.576606\"/>\n     <use style=\"fill:#4c72b0;stroke:#4c72b0;stroke-width:0.3;\" x=\"263.095403\" xlink:href=\"#m48a2ff4c84\" y=\"33.057972\"/>\n     <use style=\"fill:#4c72b0;stroke:#4c72b0;stroke-width:0.3;\" x=\"331.031751\" xlink:href=\"#m48a2ff4c84\" y=\"58.234626\"/>\n     <use style=\"fill:#4c72b0;stroke:#4c72b0;stroke-width:0.3;\" x=\"163.941085\" xlink:href=\"#m48a2ff4c84\" y=\"161.002746\"/>\n     <use style=\"fill:#4c72b0;stroke:#4c72b0;stroke-width:0.3;\" x=\"305.774618\" xlink:href=\"#m48a2ff4c84\" y=\"48.769909\"/>\n     <use style=\"fill:#4c72b0;stroke:#4c72b0;stroke-width:0.3;\" x=\"200.003297\" xlink:href=\"#m48a2ff4c84\" y=\"159.159335\"/>\n     <use style=\"fill:#4c72b0;stroke:#4c72b0;stroke-width:0.3;\" x=\"291.621359\" xlink:href=\"#m48a2ff4c84\" y=\"31.390169\"/>\n     <use style=\"fill:#4c72b0;stroke:#4c72b0;stroke-width:0.3;\" x=\"134.899604\" xlink:href=\"#m48a2ff4c84\" y=\"165.748109\"/>\n     <use style=\"fill:#4c72b0;stroke:#4c72b0;stroke-width:0.3;\" x=\"51.862031\" xlink:href=\"#m48a2ff4c84\" y=\"164.519769\"/>\n     <use style=\"fill:#4c72b0;stroke:#4c72b0;stroke-width:0.3;\" x=\"127.872274\" xlink:href=\"#m48a2ff4c84\" y=\"161.546233\"/>\n     <use style=\"fill:#4c72b0;stroke:#4c72b0;stroke-width:0.3;\" x=\"103.579902\" xlink:href=\"#m48a2ff4c84\" y=\"180.147243\"/>\n     <use style=\"fill:#4c72b0;stroke:#4c72b0;stroke-width:0.3;\" x=\"124.697085\" xlink:href=\"#m48a2ff4c84\" y=\"165.260689\"/>\n     <use style=\"fill:#4c72b0;stroke:#4c72b0;stroke-width:0.3;\" x=\"226.006708\" xlink:href=\"#m48a2ff4c84\" y=\"187.291789\"/>\n     <use style=\"fill:#4c72b0;stroke:#4c72b0;stroke-width:0.3;\" x=\"317.55543\" xlink:href=\"#m48a2ff4c84\" y=\"56.381682\"/>\n     <use style=\"fill:#4c72b0;stroke:#4c72b0;stroke-width:0.3;\" x=\"158.474613\" xlink:href=\"#m48a2ff4c84\" y=\"183.48308\"/>\n     <use style=\"fill:#4c72b0;stroke:#4c72b0;stroke-width:0.3;\" x=\"324.628618\" xlink:href=\"#m48a2ff4c84\" y=\"51.421097\"/>\n     <use style=\"fill:#4c72b0;stroke:#4c72b0;stroke-width:0.3;\" x=\"259.220888\" xlink:href=\"#m48a2ff4c84\" y=\"36.230721\"/>\n     <use style=\"fill:#4c72b0;stroke:#4c72b0;stroke-width:0.3;\" x=\"335.835715\" xlink:href=\"#m48a2ff4c84\" y=\"42.363087\"/>\n     <use style=\"fill:#4c72b0;stroke:#4c72b0;stroke-width:0.3;\" x=\"351.059425\" xlink:href=\"#m48a2ff4c84\" y=\"49.182054\"/>\n     <use style=\"fill:#4c72b0;stroke:#4c72b0;stroke-width:0.3;\" x=\"225.659149\" xlink:href=\"#m48a2ff4c84\" y=\"183.99834\"/>\n     <use style=\"fill:#4c72b0;stroke:#4c72b0;stroke-width:0.3;\" x=\"296.296755\" xlink:href=\"#m48a2ff4c84\" y=\"52.243637\"/>\n     <use style=\"fill:#4c72b0;stroke:#4c72b0;stroke-width:0.3;\" x=\"140.663741\" xlink:href=\"#m48a2ff4c84\" y=\"188.389144\"/>\n     <use style=\"fill:#4c72b0;stroke:#4c72b0;stroke-width:0.3;\" x=\"303.60794\" xlink:href=\"#m48a2ff4c84\" y=\"46.260371\"/>\n     <use style=\"fill:#4c72b0;stroke:#4c72b0;stroke-width:0.3;\" x=\"235.11527\" xlink:href=\"#m48a2ff4c84\" y=\"37.269361\"/>\n     <use style=\"fill:#4c72b0;stroke:#4c72b0;stroke-width:0.3;\" x=\"278.02653\" xlink:href=\"#m48a2ff4c84\" y=\"57.528142\"/>\n     <use style=\"fill:#4c72b0;stroke:#4c72b0;stroke-width:0.3;\" x=\"56.345894\" xlink:href=\"#m48a2ff4c84\" y=\"165.187403\"/>\n     <use style=\"fill:#4c72b0;stroke:#4c72b0;stroke-width:0.3;\" x=\"49.691032\" xlink:href=\"#m48a2ff4c84\" y=\"180.844136\"/>\n     <use style=\"fill:#4c72b0;stroke:#4c72b0;stroke-width:0.3;\" x=\"139.503957\" xlink:href=\"#m48a2ff4c84\" y=\"170.231164\"/>\n     <use style=\"fill:#4c72b0;stroke:#4c72b0;stroke-width:0.3;\" x=\"166.932274\" xlink:href=\"#m48a2ff4c84\" y=\"171.804331\"/>\n     <use style=\"fill:#4c72b0;stroke:#4c72b0;stroke-width:0.3;\" x=\"339.216241\" xlink:href=\"#m48a2ff4c84\" y=\"74.172278\"/>\n     <use style=\"fill:#4c72b0;stroke:#4c72b0;stroke-width:0.3;\" x=\"337.846136\" xlink:href=\"#m48a2ff4c84\" y=\"41.015364\"/>\n     <use style=\"fill:#4c72b0;stroke:#4c72b0;stroke-width:0.3;\" x=\"302.684493\" xlink:href=\"#m48a2ff4c84\" y=\"43.494269\"/>\n     <use style=\"fill:#4c72b0;stroke:#4c72b0;stroke-width:0.3;\" x=\"145.260884\" xlink:href=\"#m48a2ff4c84\" y=\"180.327582\"/>\n     <use style=\"fill:#4c72b0;stroke:#4c72b0;stroke-width:0.3;\" x=\"294.739026\" xlink:href=\"#m48a2ff4c84\" y=\"53.258591\"/>\n     <use style=\"fill:#4c72b0;stroke:#4c72b0;stroke-width:0.3;\" x=\"306.254066\" xlink:href=\"#m48a2ff4c84\" y=\"42.064914\"/>\n     <use style=\"fill:#4c72b0;stroke:#4c72b0;stroke-width:0.3;\" x=\"207.983565\" xlink:href=\"#m48a2ff4c84\" y=\"174.331927\"/>\n     <use style=\"fill:#4c72b0;stroke:#4c72b0;stroke-width:0.3;\" x=\"197.878857\" xlink:href=\"#m48a2ff4c84\" y=\"173.228045\"/>\n     <use style=\"fill:#4c72b0;stroke:#4c72b0;stroke-width:0.3;\" x=\"117.779706\" xlink:href=\"#m48a2ff4c84\" y=\"186.75069\"/>\n     <use style=\"fill:#4c72b0;stroke:#4c72b0;stroke-width:0.3;\" x=\"280.26231\" xlink:href=\"#m48a2ff4c84\" y=\"63.575494\"/>\n     <use style=\"fill:#4c72b0;stroke:#4c72b0;stroke-width:0.3;\" x=\"249.79591\" xlink:href=\"#m48a2ff4c84\" y=\"48.043807\"/>\n     <use style=\"fill:#4c72b0;stroke:#4c72b0;stroke-width:0.3;\" x=\"119.180602\" xlink:href=\"#m48a2ff4c84\" y=\"159.068793\"/>\n     <use style=\"fill:#4c72b0;stroke:#4c72b0;stroke-width:0.3;\" x=\"52.374909\" xlink:href=\"#m48a2ff4c84\" y=\"166.8045\"/>\n     <use style=\"fill:#4c72b0;stroke:#4c72b0;stroke-width:0.3;\" x=\"90.416396\" xlink:href=\"#m48a2ff4c84\" y=\"151.343495\"/>\n     <use style=\"fill:#4c72b0;stroke:#4c72b0;stroke-width:0.3;\" x=\"188.068125\" xlink:href=\"#m48a2ff4c84\" y=\"181.653261\"/>\n     <use style=\"fill:#4c72b0;stroke:#4c72b0;stroke-width:0.3;\" x=\"57.837646\" xlink:href=\"#m48a2ff4c84\" y=\"174.246356\"/>\n     <use style=\"fill:#4c72b0;stroke:#4c72b0;stroke-width:0.3;\" x=\"179.292549\" xlink:href=\"#m48a2ff4c84\" y=\"189.263824\"/>\n     <use style=\"fill:#4c72b0;stroke:#4c72b0;stroke-width:0.3;\" x=\"176.09615\" xlink:href=\"#m48a2ff4c84\" y=\"186.819715\"/>\n     <use style=\"fill:#4c72b0;stroke:#4c72b0;stroke-width:0.3;\" x=\"132.114328\" xlink:href=\"#m48a2ff4c84\" y=\"188.401187\"/>\n     <use style=\"fill:#4c72b0;stroke:#4c72b0;stroke-width:0.3;\" x=\"270.693461\" xlink:href=\"#m48a2ff4c84\" y=\"58.07589\"/>\n     <use style=\"fill:#4c72b0;stroke:#4c72b0;stroke-width:0.3;\" x=\"211.676321\" xlink:href=\"#m48a2ff4c84\" y=\"199.598603\"/>\n     <use style=\"fill:#4c72b0;stroke:#4c72b0;stroke-width:0.3;\" x=\"155.154652\" xlink:href=\"#m48a2ff4c84\" y=\"171.758122\"/>\n     <use style=\"fill:#4c72b0;stroke:#4c72b0;stroke-width:0.3;\" x=\"270.143704\" xlink:href=\"#m48a2ff4c84\" y=\"22.350452\"/>\n     <use style=\"fill:#4c72b0;stroke:#4c72b0;stroke-width:0.3;\" x=\"233.395336\" xlink:href=\"#m48a2ff4c84\" y=\"62.497932\"/>\n     <use style=\"fill:#4c72b0;stroke:#4c72b0;stroke-width:0.3;\" x=\"310.979551\" xlink:href=\"#m48a2ff4c84\" y=\"51.906732\"/>\n     <use style=\"fill:#4c72b0;stroke:#4c72b0;stroke-width:0.3;\" x=\"103.362361\" xlink:href=\"#m48a2ff4c84\" y=\"161.309603\"/>\n     <use style=\"fill:#4c72b0;stroke:#4c72b0;stroke-width:0.3;\" x=\"264.630285\" xlink:href=\"#m48a2ff4c84\" y=\"54.868636\"/>\n     <use style=\"fill:#4c72b0;stroke:#4c72b0;stroke-width:0.3;\" x=\"327.613346\" xlink:href=\"#m48a2ff4c84\" y=\"58.143623\"/>\n     <use style=\"fill:#4c72b0;stroke:#4c72b0;stroke-width:0.3;\" x=\"136.065487\" xlink:href=\"#m48a2ff4c84\" y=\"148.575015\"/>\n     <use style=\"fill:#4c72b0;stroke:#4c72b0;stroke-width:0.3;\" x=\"239.167898\" xlink:href=\"#m48a2ff4c84\" y=\"72.158414\"/>\n     <use style=\"fill:#4c72b0;stroke:#4c72b0;stroke-width:0.3;\" x=\"220.864244\" xlink:href=\"#m48a2ff4c84\" y=\"173.116132\"/>\n     <use style=\"fill:#4c72b0;stroke:#4c72b0;stroke-width:0.3;\" x=\"318.90399\" xlink:href=\"#m48a2ff4c84\" y=\"28.954419\"/>\n     <use style=\"fill:#4c72b0;stroke:#4c72b0;stroke-width:0.3;\" x=\"287.594951\" xlink:href=\"#m48a2ff4c84\" y=\"72.67238\"/>\n     <use style=\"fill:#4c72b0;stroke:#4c72b0;stroke-width:0.3;\" x=\"237.729261\" xlink:href=\"#m48a2ff4c84\" y=\"51.758608\"/>\n     <use style=\"fill:#4c72b0;stroke:#4c72b0;stroke-width:0.3;\" x=\"62.635744\" xlink:href=\"#m48a2ff4c84\" y=\"170.83007\"/>\n     <use style=\"fill:#4c72b0;stroke:#4c72b0;stroke-width:0.3;\" x=\"147.862431\" xlink:href=\"#m48a2ff4c84\" y=\"193.446834\"/>\n     <use style=\"fill:#4c72b0;stroke:#4c72b0;stroke-width:0.3;\" x=\"251.378794\" xlink:href=\"#m48a2ff4c84\" y=\"42.959224\"/>\n     <use style=\"fill:#4c72b0;stroke:#4c72b0;stroke-width:0.3;\" x=\"80.832589\" xlink:href=\"#m48a2ff4c84\" y=\"181.19896\"/>\n     <use style=\"fill:#4c72b0;stroke:#4c72b0;stroke-width:0.3;\" x=\"326.844333\" xlink:href=\"#m48a2ff4c84\" y=\"51.311075\"/>\n     <use style=\"fill:#4c72b0;stroke:#4c72b0;stroke-width:0.3;\" x=\"188.947167\" xlink:href=\"#m48a2ff4c84\" y=\"160.064663\"/>\n     <use style=\"fill:#4c72b0;stroke:#4c72b0;stroke-width:0.3;\" x=\"143.49763\" xlink:href=\"#m48a2ff4c84\" y=\"177.601314\"/>\n     <use style=\"fill:#4c72b0;stroke:#4c72b0;stroke-width:0.3;\" x=\"299.582326\" xlink:href=\"#m48a2ff4c84\" y=\"40.574139\"/>\n     <use style=\"fill:#4c72b0;stroke:#4c72b0;stroke-width:0.3;\" x=\"93.465837\" xlink:href=\"#m48a2ff4c84\" y=\"185.535187\"/>\n     <use style=\"fill:#4c72b0;stroke:#4c72b0;stroke-width:0.3;\" x=\"55.825504\" xlink:href=\"#m48a2ff4c84\" y=\"165.031156\"/>\n     <use style=\"fill:#4c72b0;stroke:#4c72b0;stroke-width:0.3;\" x=\"112.35157\" xlink:href=\"#m48a2ff4c84\" y=\"176.571943\"/>\n     <use style=\"fill:#4c72b0;stroke:#4c72b0;stroke-width:0.3;\" x=\"95.499493\" xlink:href=\"#m48a2ff4c84\" y=\"168.98298\"/>\n     <use style=\"fill:#4c72b0;stroke:#4c72b0;stroke-width:0.3;\" x=\"329.393568\" xlink:href=\"#m48a2ff4c84\" y=\"53.250626\"/>\n     <use style=\"fill:#4c72b0;stroke:#4c72b0;stroke-width:0.3;\" x=\"72.529654\" xlink:href=\"#m48a2ff4c84\" y=\"159.574808\"/>\n     <use style=\"fill:#4c72b0;stroke:#4c72b0;stroke-width:0.3;\" x=\"71.454503\" xlink:href=\"#m48a2ff4c84\" y=\"134.23967\"/>\n     <use style=\"fill:#4c72b0;stroke:#4c72b0;stroke-width:0.3;\" x=\"200.326306\" xlink:href=\"#m48a2ff4c84\" y=\"166.954047\"/>\n     <use style=\"fill:#4c72b0;stroke:#4c72b0;stroke-width:0.3;\" x=\"55.307341\" xlink:href=\"#m48a2ff4c84\" y=\"178.59886\"/>\n     <use style=\"fill:#4c72b0;stroke:#4c72b0;stroke-width:0.3;\" x=\"204.121257\" xlink:href=\"#m48a2ff4c84\" y=\"146.109574\"/>\n     <use style=\"fill:#4c72b0;stroke:#4c72b0;stroke-width:0.3;\" x=\"330.546532\" xlink:href=\"#m48a2ff4c84\" y=\"62.440248\"/>\n     <use style=\"fill:#4c72b0;stroke:#4c72b0;stroke-width:0.3;\" x=\"55.004709\" xlink:href=\"#m48a2ff4c84\" y=\"159.695517\"/>\n     <use style=\"fill:#4c72b0;stroke:#4c72b0;stroke-width:0.3;\" x=\"224.943364\" xlink:href=\"#m48a2ff4c84\" y=\"179.720667\"/>\n     <use style=\"fill:#4c72b0;stroke:#4c72b0;stroke-width:0.3;\" x=\"84.935276\" xlink:href=\"#m48a2ff4c84\" y=\"176.653175\"/>\n     <use style=\"fill:#4c72b0;stroke:#4c72b0;stroke-width:0.3;\" x=\"265.368222\" xlink:href=\"#m48a2ff4c84\" y=\"45.163624\"/>\n     <use style=\"fill:#4c72b0;stroke:#4c72b0;stroke-width:0.3;\" x=\"166.555196\" xlink:href=\"#m48a2ff4c84\" y=\"180.955166\"/>\n     <use style=\"fill:#4c72b0;stroke:#4c72b0;stroke-width:0.3;\" x=\"234.831267\" xlink:href=\"#m48a2ff4c84\" y=\"45.386175\"/>\n     <use style=\"fill:#4c72b0;stroke:#4c72b0;stroke-width:0.3;\" x=\"324.945071\" xlink:href=\"#m48a2ff4c84\" y=\"72.211042\"/>\n     <use style=\"fill:#4c72b0;stroke:#4c72b0;stroke-width:0.3;\" x=\"331.388127\" xlink:href=\"#m48a2ff4c84\" y=\"44.789083\"/>\n     <use style=\"fill:#4c72b0;stroke:#4c72b0;stroke-width:0.3;\" x=\"330.447266\" xlink:href=\"#m48a2ff4c84\" y=\"41.831192\"/>\n     <use style=\"fill:#4c72b0;stroke:#4c72b0;stroke-width:0.3;\" x=\"166.183991\" xlink:href=\"#m48a2ff4c84\" y=\"181.653638\"/>\n     <use style=\"fill:#4c72b0;stroke:#4c72b0;stroke-width:0.3;\" x=\"151.3024\" xlink:href=\"#m48a2ff4c84\" y=\"174.887217\"/>\n     <use style=\"fill:#4c72b0;stroke:#4c72b0;stroke-width:0.3;\" x=\"135.029924\" xlink:href=\"#m48a2ff4c84\" y=\"173.143098\"/>\n     <use style=\"fill:#4c72b0;stroke:#4c72b0;stroke-width:0.3;\" x=\"298.950684\" xlink:href=\"#m48a2ff4c84\" y=\"58.912797\"/>\n     <use style=\"fill:#4c72b0;stroke:#4c72b0;stroke-width:0.3;\" x=\"320.144422\" xlink:href=\"#m48a2ff4c84\" y=\"59.218884\"/>\n     <use style=\"fill:#4c72b0;stroke:#4c72b0;stroke-width:0.3;\" x=\"83.973103\" xlink:href=\"#m48a2ff4c84\" y=\"161.466613\"/>\n     <use style=\"fill:#4c72b0;stroke:#4c72b0;stroke-width:0.3;\" x=\"321.857056\" xlink:href=\"#m48a2ff4c84\" y=\"54.840163\"/>\n     <use style=\"fill:#4c72b0;stroke:#4c72b0;stroke-width:0.3;\" x=\"189.152315\" xlink:href=\"#m48a2ff4c84\" y=\"163.724063\"/>\n     <use style=\"fill:#4c72b0;stroke:#4c72b0;stroke-width:0.3;\" x=\"73.888687\" xlink:href=\"#m48a2ff4c84\" y=\"176.375961\"/>\n     <use style=\"fill:#4c72b0;stroke:#4c72b0;stroke-width:0.3;\" x=\"151.752678\" xlink:href=\"#m48a2ff4c84\" y=\"165.270173\"/>\n     <use style=\"fill:#4c72b0;stroke:#4c72b0;stroke-width:0.3;\" x=\"65.286657\" xlink:href=\"#m48a2ff4c84\" y=\"182.677554\"/>\n     <use style=\"fill:#4c72b0;stroke:#4c72b0;stroke-width:0.3;\" x=\"155.362998\" xlink:href=\"#m48a2ff4c84\" y=\"165.656494\"/>\n     <use style=\"fill:#4c72b0;stroke:#4c72b0;stroke-width:0.3;\" x=\"351.980001\" xlink:href=\"#m48a2ff4c84\" y=\"37.333307\"/>\n     <use style=\"fill:#4c72b0;stroke:#4c72b0;stroke-width:0.3;\" x=\"187.331241\" xlink:href=\"#m48a2ff4c84\" y=\"166.501783\"/>\n     <use style=\"fill:#4c72b0;stroke:#4c72b0;stroke-width:0.3;\" x=\"66.509231\" xlink:href=\"#m48a2ff4c84\" y=\"162.081318\"/>\n     <use style=\"fill:#4c72b0;stroke:#4c72b0;stroke-width:0.3;\" x=\"349.790308\" xlink:href=\"#m48a2ff4c84\" y=\"54.97503\"/>\n     <use style=\"fill:#4c72b0;stroke:#4c72b0;stroke-width:0.3;\" x=\"271.592356\" xlink:href=\"#m48a2ff4c84\" y=\"54.174067\"/>\n     <use style=\"fill:#4c72b0;stroke:#4c72b0;stroke-width:0.3;\" x=\"207.25301\" xlink:href=\"#m48a2ff4c84\" y=\"154.951688\"/>\n     <use style=\"fill:#4c72b0;stroke:#4c72b0;stroke-width:0.3;\" x=\"224.157159\" xlink:href=\"#m48a2ff4c84\" y=\"180.541988\"/>\n     <use style=\"fill:#4c72b0;stroke:#4c72b0;stroke-width:0.3;\" x=\"316.67027\" xlink:href=\"#m48a2ff4c84\" y=\"56.666703\"/>\n     <use style=\"fill:#4c72b0;stroke:#4c72b0;stroke-width:0.3;\" x=\"143.490032\" xlink:href=\"#m48a2ff4c84\" y=\"159.511585\"/>\n     <use style=\"fill:#4c72b0;stroke:#4c72b0;stroke-width:0.3;\" x=\"296.94436\" xlink:href=\"#m48a2ff4c84\" y=\"42.367429\"/>\n     <use style=\"fill:#4c72b0;stroke:#4c72b0;stroke-width:0.3;\" x=\"314.788249\" xlink:href=\"#m48a2ff4c84\" y=\"49.046344\"/>\n     <use style=\"fill:#4c72b0;stroke:#4c72b0;stroke-width:0.3;\" x=\"249.245291\" xlink:href=\"#m48a2ff4c84\" y=\"39.33591\"/>\n     <use style=\"fill:#4c72b0;stroke:#4c72b0;stroke-width:0.3;\" x=\"263.247147\" xlink:href=\"#m48a2ff4c84\" y=\"44.636493\"/>\n     <use style=\"fill:#4c72b0;stroke:#4c72b0;stroke-width:0.3;\" x=\"181.123091\" xlink:href=\"#m48a2ff4c84\" y=\"174.023398\"/>\n     <use style=\"fill:#4c72b0;stroke:#4c72b0;stroke-width:0.3;\" x=\"143.90974\" xlink:href=\"#m48a2ff4c84\" y=\"178.906636\"/>\n     <use style=\"fill:#4c72b0;stroke:#4c72b0;stroke-width:0.3;\" x=\"262.284807\" xlink:href=\"#m48a2ff4c84\" y=\"47.991134\"/>\n     <use style=\"fill:#4c72b0;stroke:#4c72b0;stroke-width:0.3;\" x=\"274.734895\" xlink:href=\"#m48a2ff4c84\" y=\"45.387619\"/>\n     <use style=\"fill:#4c72b0;stroke:#4c72b0;stroke-width:0.3;\" x=\"267.207207\" xlink:href=\"#m48a2ff4c84\" y=\"57.112321\"/>\n     <use style=\"fill:#4c72b0;stroke:#4c72b0;stroke-width:0.3;\" x=\"276.144611\" xlink:href=\"#m48a2ff4c84\" y=\"76.914388\"/>\n     <use style=\"fill:#4c72b0;stroke:#4c72b0;stroke-width:0.3;\" x=\"291.953172\" xlink:href=\"#m48a2ff4c84\" y=\"31.798802\"/>\n     <use style=\"fill:#4c72b0;stroke:#4c72b0;stroke-width:0.3;\" x=\"109.088266\" xlink:href=\"#m48a2ff4c84\" y=\"185.763614\"/>\n     <use style=\"fill:#4c72b0;stroke:#4c72b0;stroke-width:0.3;\" x=\"245.456188\" xlink:href=\"#m48a2ff4c84\" y=\"50.506095\"/>\n     <use style=\"fill:#4c72b0;stroke:#4c72b0;stroke-width:0.3;\" x=\"299.807035\" xlink:href=\"#m48a2ff4c84\" y=\"71.446945\"/>\n     <use style=\"fill:#4c72b0;stroke:#4c72b0;stroke-width:0.3;\" x=\"335.785648\" xlink:href=\"#m48a2ff4c84\" y=\"45.749397\"/>\n     <use style=\"fill:#4c72b0;stroke:#4c72b0;stroke-width:0.3;\" x=\"201.164119\" xlink:href=\"#m48a2ff4c84\" y=\"189.862362\"/>\n     <use style=\"fill:#4c72b0;stroke:#4c72b0;stroke-width:0.3;\" x=\"79.573556\" xlink:href=\"#m48a2ff4c84\" y=\"170.297733\"/>\n     <use style=\"fill:#4c72b0;stroke:#4c72b0;stroke-width:0.3;\" x=\"152.46796\" xlink:href=\"#m48a2ff4c84\" y=\"184.039528\"/>\n     <use style=\"fill:#4c72b0;stroke:#4c72b0;stroke-width:0.3;\" x=\"200.605039\" xlink:href=\"#m48a2ff4c84\" y=\"186.572972\"/>\n     <use style=\"fill:#4c72b0;stroke:#4c72b0;stroke-width:0.3;\" x=\"134.356912\" xlink:href=\"#m48a2ff4c84\" y=\"185.35408\"/>\n     <use style=\"fill:#4c72b0;stroke:#4c72b0;stroke-width:0.3;\" x=\"345.206323\" xlink:href=\"#m48a2ff4c84\" y=\"32.296884\"/>\n     <use style=\"fill:#4c72b0;stroke:#4c72b0;stroke-width:0.3;\" x=\"268.713372\" xlink:href=\"#m48a2ff4c84\" y=\"63.16417\"/>\n     <use style=\"fill:#4c72b0;stroke:#4c72b0;stroke-width:0.3;\" x=\"284.161499\" xlink:href=\"#m48a2ff4c84\" y=\"45.890798\"/>\n     <use style=\"fill:#4c72b0;stroke:#4c72b0;stroke-width:0.3;\" x=\"123.714129\" xlink:href=\"#m48a2ff4c84\" y=\"198.054138\"/>\n     <use style=\"fill:#4c72b0;stroke:#4c72b0;stroke-width:0.3;\" x=\"316.149621\" xlink:href=\"#m48a2ff4c84\" y=\"53.341876\"/>\n     <use style=\"fill:#4c72b0;stroke:#4c72b0;stroke-width:0.3;\" x=\"200.406001\" xlink:href=\"#m48a2ff4c84\" y=\"183.275982\"/>\n     <use style=\"fill:#4c72b0;stroke:#4c72b0;stroke-width:0.3;\" x=\"81.472362\" xlink:href=\"#m48a2ff4c84\" y=\"176.411246\"/>\n     <use style=\"fill:#4c72b0;stroke:#4c72b0;stroke-width:0.3;\" x=\"300.356696\" xlink:href=\"#m48a2ff4c84\" y=\"89.772234\"/>\n     <use style=\"fill:#4c72b0;stroke:#4c72b0;stroke-width:0.3;\" x=\"80.842554\" xlink:href=\"#m48a2ff4c84\" y=\"180.123147\"/>\n     <use style=\"fill:#4c72b0;stroke:#4c72b0;stroke-width:0.3;\" x=\"232.895281\" xlink:href=\"#m48a2ff4c84\" y=\"58.626034\"/>\n     <use style=\"fill:#4c72b0;stroke:#4c72b0;stroke-width:0.3;\" x=\"283.188824\" xlink:href=\"#m48a2ff4c84\" y=\"62.215001\"/>\n     <use style=\"fill:#4c72b0;stroke:#4c72b0;stroke-width:0.3;\" x=\"318.509962\" xlink:href=\"#m48a2ff4c84\" y=\"34.673378\"/>\n     <use style=\"fill:#4c72b0;stroke:#4c72b0;stroke-width:0.3;\" x=\"345.767674\" xlink:href=\"#m48a2ff4c84\" y=\"43.18058\"/>\n     <use style=\"fill:#4c72b0;stroke:#4c72b0;stroke-width:0.3;\" x=\"240.663445\" xlink:href=\"#m48a2ff4c84\" y=\"33.04852\"/>\n     <use style=\"fill:#4c72b0;stroke:#4c72b0;stroke-width:0.3;\" x=\"58.163571\" xlink:href=\"#m48a2ff4c84\" y=\"179.128185\"/>\n     <use style=\"fill:#4c72b0;stroke:#4c72b0;stroke-width:0.3;\" x=\"326.802172\" xlink:href=\"#m48a2ff4c84\" y=\"60.999444\"/>\n     <use style=\"fill:#4c72b0;stroke:#4c72b0;stroke-width:0.3;\" x=\"280.252493\" xlink:href=\"#m48a2ff4c84\" y=\"73.552189\"/>\n     <use style=\"fill:#4c72b0;stroke:#4c72b0;stroke-width:0.3;\" x=\"54.431257\" xlink:href=\"#m48a2ff4c84\" y=\"164.89356\"/>\n     <use style=\"fill:#4c72b0;stroke:#4c72b0;stroke-width:0.3;\" x=\"236.75344\" xlink:href=\"#m48a2ff4c84\" y=\"22.7233\"/>\n     <use style=\"fill:#4c72b0;stroke:#4c72b0;stroke-width:0.3;\" x=\"88.390569\" xlink:href=\"#m48a2ff4c84\" y=\"171.13077\"/>\n     <use style=\"fill:#4c72b0;stroke:#4c72b0;stroke-width:0.3;\" x=\"175.696164\" xlink:href=\"#m48a2ff4c84\" y=\"168.77921\"/>\n     <use style=\"fill:#4c72b0;stroke:#4c72b0;stroke-width:0.3;\" x=\"248.935231\" xlink:href=\"#m48a2ff4c84\" y=\"40.64298\"/>\n     <use style=\"fill:#4c72b0;stroke:#4c72b0;stroke-width:0.3;\" x=\"179.904326\" xlink:href=\"#m48a2ff4c84\" y=\"169.206658\"/>\n     <use style=\"fill:#4c72b0;stroke:#4c72b0;stroke-width:0.3;\" x=\"203.937251\" xlink:href=\"#m48a2ff4c84\" y=\"170.816956\"/>\n     <use style=\"fill:#4c72b0;stroke:#4c72b0;stroke-width:0.3;\" x=\"271.340122\" xlink:href=\"#m48a2ff4c84\" y=\"53.166368\"/>\n     <use style=\"fill:#4c72b0;stroke:#4c72b0;stroke-width:0.3;\" x=\"258.727281\" xlink:href=\"#m48a2ff4c84\" y=\"47.629052\"/>\n     <use style=\"fill:#4c72b0;stroke:#4c72b0;stroke-width:0.3;\" x=\"175.574579\" xlink:href=\"#m48a2ff4c84\" y=\"168.573686\"/>\n     <use style=\"fill:#4c72b0;stroke:#4c72b0;stroke-width:0.3;\" x=\"116.728348\" xlink:href=\"#m48a2ff4c84\" y=\"172.158515\"/>\n     <use style=\"fill:#4c72b0;stroke:#4c72b0;stroke-width:0.3;\" x=\"272.342778\" xlink:href=\"#m48a2ff4c84\" y=\"50.793144\"/>\n     <use style=\"fill:#4c72b0;stroke:#4c72b0;stroke-width:0.3;\" x=\"76.114536\" xlink:href=\"#m48a2ff4c84\" y=\"166.904371\"/>\n     <use style=\"fill:#4c72b0;stroke:#4c72b0;stroke-width:0.3;\" x=\"176.193913\" xlink:href=\"#m48a2ff4c84\" y=\"175.714709\"/>\n     <use style=\"fill:#4c72b0;stroke:#4c72b0;stroke-width:0.3;\" x=\"86.24429\" xlink:href=\"#m48a2ff4c84\" y=\"178.537068\"/>\n     <use style=\"fill:#4c72b0;stroke:#4c72b0;stroke-width:0.3;\" x=\"229.905175\" xlink:href=\"#m48a2ff4c84\" y=\"187.548375\"/>\n     <use style=\"fill:#4c72b0;stroke:#4c72b0;stroke-width:0.3;\" x=\"311.833292\" xlink:href=\"#m48a2ff4c84\" y=\"36.203634\"/>\n     <use style=\"fill:#4c72b0;stroke:#4c72b0;stroke-width:0.3;\" x=\"292.365463\" xlink:href=\"#m48a2ff4c84\" y=\"69.605042\"/>\n     <use style=\"fill:#4c72b0;stroke:#4c72b0;stroke-width:0.3;\" x=\"334.969422\" xlink:href=\"#m48a2ff4c84\" y=\"63.070016\"/>\n     <use style=\"fill:#4c72b0;stroke:#4c72b0;stroke-width:0.3;\" x=\"49.158807\" xlink:href=\"#m48a2ff4c84\" y=\"181.449487\"/>\n     <use style=\"fill:#4c72b0;stroke:#4c72b0;stroke-width:0.3;\" x=\"61.23209\" xlink:href=\"#m48a2ff4c84\" y=\"187.435605\"/>\n     <use style=\"fill:#4c72b0;stroke:#4c72b0;stroke-width:0.3;\" x=\"280.045861\" xlink:href=\"#m48a2ff4c84\" y=\"30.895298\"/>\n     <use style=\"fill:#4c72b0;stroke:#4c72b0;stroke-width:0.3;\" x=\"219.950907\" xlink:href=\"#m48a2ff4c84\" y=\"187.833687\"/>\n     <use style=\"fill:#4c72b0;stroke:#4c72b0;stroke-width:0.3;\" x=\"136.137404\" xlink:href=\"#m48a2ff4c84\" y=\"169.382832\"/>\n     <use style=\"fill:#4c72b0;stroke:#4c72b0;stroke-width:0.3;\" x=\"113.339359\" xlink:href=\"#m48a2ff4c84\" y=\"147.611855\"/>\n     <use style=\"fill:#4c72b0;stroke:#4c72b0;stroke-width:0.3;\" x=\"305.837803\" xlink:href=\"#m48a2ff4c84\" y=\"63.791118\"/>\n     <use style=\"fill:#4c72b0;stroke:#4c72b0;stroke-width:0.3;\" x=\"265.288521\" xlink:href=\"#m48a2ff4c84\" y=\"61.49215\"/>\n     <use style=\"fill:#4c72b0;stroke:#4c72b0;stroke-width:0.3;\" x=\"300.910742\" xlink:href=\"#m48a2ff4c84\" y=\"55.302602\"/>\n     <use style=\"fill:#4c72b0;stroke:#4c72b0;stroke-width:0.3;\" x=\"292.923882\" xlink:href=\"#m48a2ff4c84\" y=\"40.10513\"/>\n     <use style=\"fill:#4c72b0;stroke:#4c72b0;stroke-width:0.3;\" x=\"330.733906\" xlink:href=\"#m48a2ff4c84\" y=\"54.359084\"/>\n     <use style=\"fill:#4c72b0;stroke:#4c72b0;stroke-width:0.3;\" x=\"263.599894\" xlink:href=\"#m48a2ff4c84\" y=\"54.642127\"/>\n     <use style=\"fill:#4c72b0;stroke:#4c72b0;stroke-width:0.3;\" x=\"318.467115\" xlink:href=\"#m48a2ff4c84\" y=\"52.275916\"/>\n     <use style=\"fill:#4c72b0;stroke:#4c72b0;stroke-width:0.3;\" x=\"191.425538\" xlink:href=\"#m48a2ff4c84\" y=\"179.469514\"/>\n     <use style=\"fill:#4c72b0;stroke:#4c72b0;stroke-width:0.3;\" x=\"254.392173\" xlink:href=\"#m48a2ff4c84\" y=\"57.646074\"/>\n     <use style=\"fill:#4c72b0;stroke:#4c72b0;stroke-width:0.3;\" x=\"169.126281\" xlink:href=\"#m48a2ff4c84\" y=\"171.421651\"/>\n     <use style=\"fill:#4c72b0;stroke:#4c72b0;stroke-width:0.3;\" x=\"180.215907\" xlink:href=\"#m48a2ff4c84\" y=\"176.599019\"/>\n     <use style=\"fill:#4c72b0;stroke:#4c72b0;stroke-width:0.3;\" x=\"265.532374\" xlink:href=\"#m48a2ff4c84\" y=\"18.202135\"/>\n     <use style=\"fill:#4c72b0;stroke:#4c72b0;stroke-width:0.3;\" x=\"49.170672\" xlink:href=\"#m48a2ff4c84\" y=\"148.367321\"/>\n     <use style=\"fill:#4c72b0;stroke:#4c72b0;stroke-width:0.3;\" x=\"173.672593\" xlink:href=\"#m48a2ff4c84\" y=\"150.707369\"/>\n     <use style=\"fill:#4c72b0;stroke:#4c72b0;stroke-width:0.3;\" x=\"78.212633\" xlink:href=\"#m48a2ff4c84\" y=\"174.251314\"/>\n     <use style=\"fill:#4c72b0;stroke:#4c72b0;stroke-width:0.3;\" x=\"107.835477\" xlink:href=\"#m48a2ff4c84\" y=\"169.608925\"/>\n     <use style=\"fill:#4c72b0;stroke:#4c72b0;stroke-width:0.3;\" x=\"87.861921\" xlink:href=\"#m48a2ff4c84\" y=\"165.164618\"/>\n     <use style=\"fill:#4c72b0;stroke:#4c72b0;stroke-width:0.3;\" x=\"327.2373\" xlink:href=\"#m48a2ff4c84\" y=\"53.130275\"/>\n     <use style=\"fill:#4c72b0;stroke:#4c72b0;stroke-width:0.3;\" x=\"94.813469\" xlink:href=\"#m48a2ff4c84\" y=\"168.857888\"/>\n     <use style=\"fill:#4c72b0;stroke:#4c72b0;stroke-width:0.3;\" x=\"211.593848\" xlink:href=\"#m48a2ff4c84\" y=\"166.313049\"/>\n     <use style=\"fill:#4c72b0;stroke:#4c72b0;stroke-width:0.3;\" x=\"123.246877\" xlink:href=\"#m48a2ff4c84\" y=\"171.838342\"/>\n     <use style=\"fill:#4c72b0;stroke:#4c72b0;stroke-width:0.3;\" x=\"152.629044\" xlink:href=\"#m48a2ff4c84\" y=\"201.588366\"/>\n     <use style=\"fill:#4c72b0;stroke:#4c72b0;stroke-width:0.3;\" x=\"204.108445\" xlink:href=\"#m48a2ff4c84\" y=\"172.926388\"/>\n     <use style=\"fill:#4c72b0;stroke:#4c72b0;stroke-width:0.3;\" x=\"289.823947\" xlink:href=\"#m48a2ff4c84\" y=\"59.874593\"/>\n     <use style=\"fill:#4c72b0;stroke:#4c72b0;stroke-width:0.3;\" x=\"214.508082\" xlink:href=\"#m48a2ff4c84\" y=\"168.227507\"/>\n     <use style=\"fill:#4c72b0;stroke:#4c72b0;stroke-width:0.3;\" x=\"327.52087\" xlink:href=\"#m48a2ff4c84\" y=\"46.378526\"/>\n     <use style=\"fill:#4c72b0;stroke:#4c72b0;stroke-width:0.3;\" x=\"70.985151\" xlink:href=\"#m48a2ff4c84\" y=\"181.021381\"/>\n     <use style=\"fill:#4c72b0;stroke:#4c72b0;stroke-width:0.3;\" x=\"103.618287\" xlink:href=\"#m48a2ff4c84\" y=\"182.822533\"/>\n     <use style=\"fill:#4c72b0;stroke:#4c72b0;stroke-width:0.3;\" x=\"319.829678\" xlink:href=\"#m48a2ff4c84\" y=\"53.491702\"/>\n     <use style=\"fill:#4c72b0;stroke:#4c72b0;stroke-width:0.3;\" x=\"62.210834\" xlink:href=\"#m48a2ff4c84\" y=\"181.865623\"/>\n     <use style=\"fill:#4c72b0;stroke:#4c72b0;stroke-width:0.3;\" x=\"102.166659\" xlink:href=\"#m48a2ff4c84\" y=\"170.433154\"/>\n     <use style=\"fill:#4c72b0;stroke:#4c72b0;stroke-width:0.3;\" x=\"251.055006\" xlink:href=\"#m48a2ff4c84\" y=\"66.764859\"/>\n     <use style=\"fill:#4c72b0;stroke:#4c72b0;stroke-width:0.3;\" x=\"105.621451\" xlink:href=\"#m48a2ff4c84\" y=\"151.73356\"/>\n     <use style=\"fill:#4c72b0;stroke:#4c72b0;stroke-width:0.3;\" x=\"76.848413\" xlink:href=\"#m48a2ff4c84\" y=\"174.864961\"/>\n     <use style=\"fill:#4c72b0;stroke:#4c72b0;stroke-width:0.3;\" x=\"210.003243\" xlink:href=\"#m48a2ff4c84\" y=\"179.613157\"/>\n     <use style=\"fill:#4c72b0;stroke:#4c72b0;stroke-width:0.3;\" x=\"127.304045\" xlink:href=\"#m48a2ff4c84\" y=\"184.116976\"/>\n     <use style=\"fill:#4c72b0;stroke:#4c72b0;stroke-width:0.3;\" x=\"216.94421\" xlink:href=\"#m48a2ff4c84\" y=\"179.65085\"/>\n     <use style=\"fill:#4c72b0;stroke:#4c72b0;stroke-width:0.3;\" x=\"192.118439\" xlink:href=\"#m48a2ff4c84\" y=\"174.557617\"/>\n     <use style=\"fill:#4c72b0;stroke:#4c72b0;stroke-width:0.3;\" x=\"84.620946\" xlink:href=\"#m48a2ff4c84\" y=\"186.022314\"/>\n     <use style=\"fill:#4c72b0;stroke:#4c72b0;stroke-width:0.3;\" x=\"326.123481\" xlink:href=\"#m48a2ff4c84\" y=\"49.068885\"/>\n     <use style=\"fill:#4c72b0;stroke:#4c72b0;stroke-width:0.3;\" x=\"209.258123\" xlink:href=\"#m48a2ff4c84\" y=\"178.239045\"/>\n     <use style=\"fill:#4c72b0;stroke:#4c72b0;stroke-width:0.3;\" x=\"185.390966\" xlink:href=\"#m48a2ff4c84\" y=\"179.930395\"/>\n     <use style=\"fill:#4c72b0;stroke:#4c72b0;stroke-width:0.3;\" x=\"330.854647\" xlink:href=\"#m48a2ff4c84\" y=\"53.775259\"/>\n     <use style=\"fill:#4c72b0;stroke:#4c72b0;stroke-width:0.3;\" x=\"238.264482\" xlink:href=\"#m48a2ff4c84\" y=\"60.15206\"/>\n     <use style=\"fill:#4c72b0;stroke:#4c72b0;stroke-width:0.3;\" x=\"328.481784\" xlink:href=\"#m48a2ff4c84\" y=\"42.346611\"/>\n     <use style=\"fill:#4c72b0;stroke:#4c72b0;stroke-width:0.3;\" x=\"305.735595\" xlink:href=\"#m48a2ff4c84\" y=\"38.647529\"/>\n     <use style=\"fill:#4c72b0;stroke:#4c72b0;stroke-width:0.3;\" x=\"289.781552\" xlink:href=\"#m48a2ff4c84\" y=\"40.437014\"/>\n     <use style=\"fill:#4c72b0;stroke:#4c72b0;stroke-width:0.3;\" x=\"52.209696\" xlink:href=\"#m48a2ff4c84\" y=\"163.757825\"/>\n     <use style=\"fill:#4c72b0;stroke:#4c72b0;stroke-width:0.3;\" x=\"103.011821\" xlink:href=\"#m48a2ff4c84\" y=\"162.293207\"/>\n     <use style=\"fill:#4c72b0;stroke:#4c72b0;stroke-width:0.3;\" x=\"75.340558\" xlink:href=\"#m48a2ff4c84\" y=\"159.661276\"/>\n     <use style=\"fill:#4c72b0;stroke:#4c72b0;stroke-width:0.3;\" x=\"100.460003\" xlink:href=\"#m48a2ff4c84\" y=\"162.452949\"/>\n     <use style=\"fill:#4c72b0;stroke:#4c72b0;stroke-width:0.3;\" x=\"56.44288\" xlink:href=\"#m48a2ff4c84\" y=\"175.662028\"/>\n     <use style=\"fill:#4c72b0;stroke:#4c72b0;stroke-width:0.3;\" x=\"231.535956\" xlink:href=\"#m48a2ff4c84\" y=\"152.344932\"/>\n     <use style=\"fill:#4c72b0;stroke:#4c72b0;stroke-width:0.3;\" x=\"324.202965\" xlink:href=\"#m48a2ff4c84\" y=\"46.671796\"/>\n     <use style=\"fill:#4c72b0;stroke:#4c72b0;stroke-width:0.3;\" x=\"264.710296\" xlink:href=\"#m48a2ff4c84\" y=\"31.682822\"/>\n     <use style=\"fill:#4c72b0;stroke:#4c72b0;stroke-width:0.3;\" x=\"64.17286\" xlink:href=\"#m48a2ff4c84\" y=\"194.917776\"/>\n     <use style=\"fill:#4c72b0;stroke:#4c72b0;stroke-width:0.3;\" x=\"222.57406\" xlink:href=\"#m48a2ff4c84\" y=\"167.399824\"/>\n     <use style=\"fill:#4c72b0;stroke:#4c72b0;stroke-width:0.3;\" x=\"281.123457\" xlink:href=\"#m48a2ff4c84\" y=\"49.251191\"/>\n     <use style=\"fill:#4c72b0;stroke:#4c72b0;stroke-width:0.3;\" x=\"50.039235\" xlink:href=\"#m48a2ff4c84\" y=\"166.958662\"/>\n     <use style=\"fill:#4c72b0;stroke:#4c72b0;stroke-width:0.3;\" x=\"282.470476\" xlink:href=\"#m48a2ff4c84\" y=\"63.856671\"/>\n     <use style=\"fill:#4c72b0;stroke:#4c72b0;stroke-width:0.3;\" x=\"311.795706\" xlink:href=\"#m48a2ff4c84\" y=\"46.336929\"/>\n     <use style=\"fill:#4c72b0;stroke:#4c72b0;stroke-width:0.3;\" x=\"243.563901\" xlink:href=\"#m48a2ff4c84\" y=\"44.851194\"/>\n     <use style=\"fill:#4c72b0;stroke:#4c72b0;stroke-width:0.3;\" x=\"270.70411\" xlink:href=\"#m48a2ff4c84\" y=\"25.559841\"/>\n     <use style=\"fill:#4c72b0;stroke:#4c72b0;stroke-width:0.3;\" x=\"61.696823\" xlink:href=\"#m48a2ff4c84\" y=\"167.722915\"/>\n     <use style=\"fill:#4c72b0;stroke:#4c72b0;stroke-width:0.3;\" x=\"62.717974\" xlink:href=\"#m48a2ff4c84\" y=\"170.26583\"/>\n     <use style=\"fill:#4c72b0;stroke:#4c72b0;stroke-width:0.3;\" x=\"178.115201\" xlink:href=\"#m48a2ff4c84\" y=\"181.16785\"/>\n     <use style=\"fill:#4c72b0;stroke:#4c72b0;stroke-width:0.3;\" x=\"289.542062\" xlink:href=\"#m48a2ff4c84\" y=\"27.58276\"/>\n     <use style=\"fill:#4c72b0;stroke:#4c72b0;stroke-width:0.3;\" x=\"129.939392\" xlink:href=\"#m48a2ff4c84\" y=\"152.600907\"/>\n     <use style=\"fill:#4c72b0;stroke:#4c72b0;stroke-width:0.3;\" x=\"144.601191\" xlink:href=\"#m48a2ff4c84\" y=\"165.975263\"/>\n     <use style=\"fill:#4c72b0;stroke:#4c72b0;stroke-width:0.3;\" x=\"140.578594\" xlink:href=\"#m48a2ff4c84\" y=\"160.953916\"/>\n     <use style=\"fill:#4c72b0;stroke:#4c72b0;stroke-width:0.3;\" x=\"271.145811\" xlink:href=\"#m48a2ff4c84\" y=\"47.436097\"/>\n     <use style=\"fill:#4c72b0;stroke:#4c72b0;stroke-width:0.3;\" x=\"291.268055\" xlink:href=\"#m48a2ff4c84\" y=\"47.155328\"/>\n     <use style=\"fill:#4c72b0;stroke:#4c72b0;stroke-width:0.3;\" x=\"104.257916\" xlink:href=\"#m48a2ff4c84\" y=\"169.117942\"/>\n     <use style=\"fill:#4c72b0;stroke:#4c72b0;stroke-width:0.3;\" x=\"196.057818\" xlink:href=\"#m48a2ff4c84\" y=\"194.993062\"/>\n     <use style=\"fill:#4c72b0;stroke:#4c72b0;stroke-width:0.3;\" x=\"158.78518\" xlink:href=\"#m48a2ff4c84\" y=\"171.971941\"/>\n     <use style=\"fill:#4c72b0;stroke:#4c72b0;stroke-width:0.3;\" x=\"346.737012\" xlink:href=\"#m48a2ff4c84\" y=\"59.225514\"/>\n     <use style=\"fill:#4c72b0;stroke:#4c72b0;stroke-width:0.3;\" x=\"276.701803\" xlink:href=\"#m48a2ff4c84\" y=\"45.655487\"/>\n     <use style=\"fill:#4c72b0;stroke:#4c72b0;stroke-width:0.3;\" x=\"239.787019\" xlink:href=\"#m48a2ff4c84\" y=\"53.706418\"/>\n     <use style=\"fill:#4c72b0;stroke:#4c72b0;stroke-width:0.3;\" x=\"120.540381\" xlink:href=\"#m48a2ff4c84\" y=\"173.517179\"/>\n     <use style=\"fill:#4c72b0;stroke:#4c72b0;stroke-width:0.3;\" x=\"177.517239\" xlink:href=\"#m48a2ff4c84\" y=\"184.821716\"/>\n     <use style=\"fill:#4c72b0;stroke:#4c72b0;stroke-width:0.3;\" x=\"290.170079\" xlink:href=\"#m48a2ff4c84\" y=\"53.260272\"/>\n     <use style=\"fill:#4c72b0;stroke:#4c72b0;stroke-width:0.3;\" x=\"58.348265\" xlink:href=\"#m48a2ff4c84\" y=\"172.035586\"/>\n     <use style=\"fill:#4c72b0;stroke:#4c72b0;stroke-width:0.3;\" x=\"219.092459\" xlink:href=\"#m48a2ff4c84\" y=\"152.335772\"/>\n     <use style=\"fill:#4c72b0;stroke:#4c72b0;stroke-width:0.3;\" x=\"130.726468\" xlink:href=\"#m48a2ff4c84\" y=\"179.137355\"/>\n     <use style=\"fill:#4c72b0;stroke:#4c72b0;stroke-width:0.3;\" x=\"313.804603\" xlink:href=\"#m48a2ff4c84\" y=\"57.057349\"/>\n     <use style=\"fill:#4c72b0;stroke:#4c72b0;stroke-width:0.3;\" x=\"275.756068\" xlink:href=\"#m48a2ff4c84\" y=\"55.655375\"/>\n     <use style=\"fill:#4c72b0;stroke:#4c72b0;stroke-width:0.3;\" x=\"305.572368\" xlink:href=\"#m48a2ff4c84\" y=\"61.886126\"/>\n     <use style=\"fill:#4c72b0;stroke:#4c72b0;stroke-width:0.3;\" x=\"156.376823\" xlink:href=\"#m48a2ff4c84\" y=\"177.734239\"/>\n     <use style=\"fill:#4c72b0;stroke:#4c72b0;stroke-width:0.3;\" x=\"218.675179\" xlink:href=\"#m48a2ff4c84\" y=\"161.023137\"/>\n     <use style=\"fill:#4c72b0;stroke:#4c72b0;stroke-width:0.3;\" x=\"289.846606\" xlink:href=\"#m48a2ff4c84\" y=\"30.958452\"/>\n     <use style=\"fill:#4c72b0;stroke:#4c72b0;stroke-width:0.3;\" x=\"170.66207\" xlink:href=\"#m48a2ff4c84\" y=\"191.857249\"/>\n     <use style=\"fill:#4c72b0;stroke:#4c72b0;stroke-width:0.3;\" x=\"55.244068\" xlink:href=\"#m48a2ff4c84\" y=\"156.575458\"/>\n     <use style=\"fill:#4c72b0;stroke:#4c72b0;stroke-width:0.3;\" x=\"111.157526\" xlink:href=\"#m48a2ff4c84\" y=\"158.877288\"/>\n     <use style=\"fill:#4c72b0;stroke:#4c72b0;stroke-width:0.3;\" x=\"216.228836\" xlink:href=\"#m48a2ff4c84\" y=\"153.758844\"/>\n     <use style=\"fill:#4c72b0;stroke:#4c72b0;stroke-width:0.3;\" x=\"96.99046\" xlink:href=\"#m48a2ff4c84\" y=\"164.066065\"/>\n     <use style=\"fill:#4c72b0;stroke:#4c72b0;stroke-width:0.3;\" x=\"319.428895\" xlink:href=\"#m48a2ff4c84\" y=\"71.02872\"/>\n     <use style=\"fill:#4c72b0;stroke:#4c72b0;stroke-width:0.3;\" x=\"159.771419\" xlink:href=\"#m48a2ff4c84\" y=\"162.738276\"/>\n     <use style=\"fill:#4c72b0;stroke:#4c72b0;stroke-width:0.3;\" x=\"216.669867\" xlink:href=\"#m48a2ff4c84\" y=\"172.243743\"/>\n     <use style=\"fill:#4c72b0;stroke:#4c72b0;stroke-width:0.3;\" x=\"55.502802\" xlink:href=\"#m48a2ff4c84\" y=\"172.312333\"/>\n     <use style=\"fill:#4c72b0;stroke:#4c72b0;stroke-width:0.3;\" x=\"263.379626\" xlink:href=\"#m48a2ff4c84\" y=\"39.690017\"/>\n     <use style=\"fill:#4c72b0;stroke:#4c72b0;stroke-width:0.3;\" x=\"259.463051\" xlink:href=\"#m48a2ff4c84\" y=\"39.427028\"/>\n     <use style=\"fill:#4c72b0;stroke:#4c72b0;stroke-width:0.3;\" x=\"172.520148\" xlink:href=\"#m48a2ff4c84\" y=\"186.416357\"/>\n     <use style=\"fill:#4c72b0;stroke:#4c72b0;stroke-width:0.3;\" x=\"156.064431\" xlink:href=\"#m48a2ff4c84\" y=\"140.179802\"/>\n     <use style=\"fill:#4c72b0;stroke:#4c72b0;stroke-width:0.3;\" x=\"137.424982\" xlink:href=\"#m48a2ff4c84\" y=\"171.85614\"/>\n     <use style=\"fill:#4c72b0;stroke:#4c72b0;stroke-width:0.3;\" x=\"281.614001\" xlink:href=\"#m48a2ff4c84\" y=\"41.474575\"/>\n     <use style=\"fill:#4c72b0;stroke:#4c72b0;stroke-width:0.3;\" x=\"52.992339\" xlink:href=\"#m48a2ff4c84\" y=\"170.133254\"/>\n     <use style=\"fill:#4c72b0;stroke:#4c72b0;stroke-width:0.3;\" x=\"221.335582\" xlink:href=\"#m48a2ff4c84\" y=\"176.88836\"/>\n     <use style=\"fill:#4c72b0;stroke:#4c72b0;stroke-width:0.3;\" x=\"50.589402\" xlink:href=\"#m48a2ff4c84\" y=\"169.403309\"/>\n     <use style=\"fill:#4c72b0;stroke:#4c72b0;stroke-width:0.3;\" x=\"303.15958\" xlink:href=\"#m48a2ff4c84\" y=\"38.87118\"/>\n     <use style=\"fill:#4c72b0;stroke:#4c72b0;stroke-width:0.3;\" x=\"276.041034\" xlink:href=\"#m48a2ff4c84\" y=\"61.317702\"/>\n     <use style=\"fill:#4c72b0;stroke:#4c72b0;stroke-width:0.3;\" x=\"265.288604\" xlink:href=\"#m48a2ff4c84\" y=\"43.65376\"/>\n     <use style=\"fill:#4c72b0;stroke:#4c72b0;stroke-width:0.3;\" x=\"295.058255\" xlink:href=\"#m48a2ff4c84\" y=\"43.609162\"/>\n     <use style=\"fill:#4c72b0;stroke:#4c72b0;stroke-width:0.3;\" x=\"327.202755\" xlink:href=\"#m48a2ff4c84\" y=\"54.539072\"/>\n     <use style=\"fill:#4c72b0;stroke:#4c72b0;stroke-width:0.3;\" x=\"201.875035\" xlink:href=\"#m48a2ff4c84\" y=\"165.464192\"/>\n     <use style=\"fill:#4c72b0;stroke:#4c72b0;stroke-width:0.3;\" x=\"171.128201\" xlink:href=\"#m48a2ff4c84\" y=\"171.03867\"/>\n     <use style=\"fill:#4c72b0;stroke:#4c72b0;stroke-width:0.3;\" x=\"259.287195\" xlink:href=\"#m48a2ff4c84\" y=\"70.746355\"/>\n     <use style=\"fill:#4c72b0;stroke:#4c72b0;stroke-width:0.3;\" x=\"82.022711\" xlink:href=\"#m48a2ff4c84\" y=\"160.449781\"/>\n     <use style=\"fill:#4c72b0;stroke:#4c72b0;stroke-width:0.3;\" x=\"110.054598\" xlink:href=\"#m48a2ff4c84\" y=\"173.223231\"/>\n     <use style=\"fill:#4c72b0;stroke:#4c72b0;stroke-width:0.3;\" x=\"235.450649\" xlink:href=\"#m48a2ff4c84\" y=\"56.816893\"/>\n     <use style=\"fill:#4c72b0;stroke:#4c72b0;stroke-width:0.3;\" x=\"185.539939\" xlink:href=\"#m48a2ff4c84\" y=\"148.719786\"/>\n     <use style=\"fill:#4c72b0;stroke:#4c72b0;stroke-width:0.3;\" x=\"318.590891\" xlink:href=\"#m48a2ff4c84\" y=\"57.757695\"/>\n     <use style=\"fill:#4c72b0;stroke:#4c72b0;stroke-width:0.3;\" x=\"87.550606\" xlink:href=\"#m48a2ff4c84\" y=\"164.349197\"/>\n     <use style=\"fill:#4c72b0;stroke:#4c72b0;stroke-width:0.3;\" x=\"129.829602\" xlink:href=\"#m48a2ff4c84\" y=\"159.896402\"/>\n     <use style=\"fill:#4c72b0;stroke:#4c72b0;stroke-width:0.3;\" x=\"230.880472\" xlink:href=\"#m48a2ff4c84\" y=\"153.257174\"/>\n     <use style=\"fill:#4c72b0;stroke:#4c72b0;stroke-width:0.3;\" x=\"162.728589\" xlink:href=\"#m48a2ff4c84\" y=\"150.629641\"/>\n     <use style=\"fill:#4c72b0;stroke:#4c72b0;stroke-width:0.3;\" x=\"293.970361\" xlink:href=\"#m48a2ff4c84\" y=\"51.295483\"/>\n     <use style=\"fill:#4c72b0;stroke:#4c72b0;stroke-width:0.3;\" x=\"216.884334\" xlink:href=\"#m48a2ff4c84\" y=\"188.561834\"/>\n     <use style=\"fill:#4c72b0;stroke:#4c72b0;stroke-width:0.3;\" x=\"353.464623\" xlink:href=\"#m48a2ff4c84\" y=\"47.550416\"/>\n     <use style=\"fill:#4c72b0;stroke:#4c72b0;stroke-width:0.3;\" x=\"146.216097\" xlink:href=\"#m48a2ff4c84\" y=\"196.106027\"/>\n     <use style=\"fill:#4c72b0;stroke:#4c72b0;stroke-width:0.3;\" x=\"211.532284\" xlink:href=\"#m48a2ff4c84\" y=\"165.620451\"/>\n     <use style=\"fill:#4c72b0;stroke:#4c72b0;stroke-width:0.3;\" x=\"92.288752\" xlink:href=\"#m48a2ff4c84\" y=\"192.673519\"/>\n     <use style=\"fill:#4c72b0;stroke:#4c72b0;stroke-width:0.3;\" x=\"116.410616\" xlink:href=\"#m48a2ff4c84\" y=\"165.612729\"/>\n     <use style=\"fill:#4c72b0;stroke:#4c72b0;stroke-width:0.3;\" x=\"348.412789\" xlink:href=\"#m48a2ff4c84\" y=\"38.047807\"/>\n     <use style=\"fill:#4c72b0;stroke:#4c72b0;stroke-width:0.3;\" x=\"66.198888\" xlink:href=\"#m48a2ff4c84\" y=\"191.758224\"/>\n     <use style=\"fill:#4c72b0;stroke:#4c72b0;stroke-width:0.3;\" x=\"114.447406\" xlink:href=\"#m48a2ff4c84\" y=\"184.320787\"/>\n     <use style=\"fill:#4c72b0;stroke:#4c72b0;stroke-width:0.3;\" x=\"178.212343\" xlink:href=\"#m48a2ff4c84\" y=\"173.3096\"/>\n     <use style=\"fill:#4c72b0;stroke:#4c72b0;stroke-width:0.3;\" x=\"255.34342\" xlink:href=\"#m48a2ff4c84\" y=\"71.543831\"/>\n     <use style=\"fill:#4c72b0;stroke:#4c72b0;stroke-width:0.3;\" x=\"214.306077\" xlink:href=\"#m48a2ff4c84\" y=\"163.113736\"/>\n     <use style=\"fill:#4c72b0;stroke:#4c72b0;stroke-width:0.3;\" x=\"159.743373\" xlink:href=\"#m48a2ff4c84\" y=\"168.823514\"/>\n     <use style=\"fill:#4c72b0;stroke:#4c72b0;stroke-width:0.3;\" x=\"330.393577\" xlink:href=\"#m48a2ff4c84\" y=\"52.626488\"/>\n     <use style=\"fill:#4c72b0;stroke:#4c72b0;stroke-width:0.3;\" x=\"68.145178\" xlink:href=\"#m48a2ff4c84\" y=\"176.543794\"/>\n     <use style=\"fill:#4c72b0;stroke:#4c72b0;stroke-width:0.3;\" x=\"347.280014\" xlink:href=\"#m48a2ff4c84\" y=\"48.297493\"/>\n     <use style=\"fill:#4c72b0;stroke:#4c72b0;stroke-width:0.3;\" x=\"227.892546\" xlink:href=\"#m48a2ff4c84\" y=\"172.626761\"/>\n     <use style=\"fill:#4c72b0;stroke:#4c72b0;stroke-width:0.3;\" x=\"227.645856\" xlink:href=\"#m48a2ff4c84\" y=\"152.985023\"/>\n     <use style=\"fill:#4c72b0;stroke:#4c72b0;stroke-width:0.3;\" x=\"145.808289\" xlink:href=\"#m48a2ff4c84\" y=\"174.396574\"/>\n     <use style=\"fill:#4c72b0;stroke:#4c72b0;stroke-width:0.3;\" x=\"262.889329\" xlink:href=\"#m48a2ff4c84\" y=\"48.000354\"/>\n     <use style=\"fill:#4c72b0;stroke:#4c72b0;stroke-width:0.3;\" x=\"50.921926\" xlink:href=\"#m48a2ff4c84\" y=\"176.012163\"/>\n     <use style=\"fill:#4c72b0;stroke:#4c72b0;stroke-width:0.3;\" x=\"153.503566\" xlink:href=\"#m48a2ff4c84\" y=\"152.768165\"/>\n     <use style=\"fill:#4c72b0;stroke:#4c72b0;stroke-width:0.3;\" x=\"136.349788\" xlink:href=\"#m48a2ff4c84\" y=\"199.115995\"/>\n     <use style=\"fill:#4c72b0;stroke:#4c72b0;stroke-width:0.3;\" x=\"273.373519\" xlink:href=\"#m48a2ff4c84\" y=\"39.375697\"/>\n     <use style=\"fill:#4c72b0;stroke:#4c72b0;stroke-width:0.3;\" x=\"256.616966\" xlink:href=\"#m48a2ff4c84\" y=\"58.066962\"/>\n     <use style=\"fill:#4c72b0;stroke:#4c72b0;stroke-width:0.3;\" x=\"237.063972\" xlink:href=\"#m48a2ff4c84\" y=\"49.736294\"/>\n     <use style=\"fill:#4c72b0;stroke:#4c72b0;stroke-width:0.3;\" x=\"329.698946\" xlink:href=\"#m48a2ff4c84\" y=\"21.680357\"/>\n     <use style=\"fill:#4c72b0;stroke:#4c72b0;stroke-width:0.3;\" x=\"54.588644\" xlink:href=\"#m48a2ff4c84\" y=\"189.121432\"/>\n     <use style=\"fill:#4c72b0;stroke:#4c72b0;stroke-width:0.3;\" x=\"172.04102\" xlink:href=\"#m48a2ff4c84\" y=\"175.367749\"/>\n     <use style=\"fill:#4c72b0;stroke:#4c72b0;stroke-width:0.3;\" x=\"256.01957\" xlink:href=\"#m48a2ff4c84\" y=\"62.347976\"/>\n     <use style=\"fill:#4c72b0;stroke:#4c72b0;stroke-width:0.3;\" x=\"208.208808\" xlink:href=\"#m48a2ff4c84\" y=\"156.810263\"/>\n     <use style=\"fill:#4c72b0;stroke:#4c72b0;stroke-width:0.3;\" x=\"159.854367\" xlink:href=\"#m48a2ff4c84\" y=\"179.985963\"/>\n     <use style=\"fill:#4c72b0;stroke:#4c72b0;stroke-width:0.3;\" x=\"150.314934\" xlink:href=\"#m48a2ff4c84\" y=\"161.861287\"/>\n     <use style=\"fill:#4c72b0;stroke:#4c72b0;stroke-width:0.3;\" x=\"135.087064\" xlink:href=\"#m48a2ff4c84\" y=\"183.590314\"/>\n     <use style=\"fill:#4c72b0;stroke:#4c72b0;stroke-width:0.3;\" x=\"119.826748\" xlink:href=\"#m48a2ff4c84\" y=\"156.84581\"/>\n     <use style=\"fill:#4c72b0;stroke:#4c72b0;stroke-width:0.3;\" x=\"260.295117\" xlink:href=\"#m48a2ff4c84\" y=\"40.26918\"/>\n     <use style=\"fill:#4c72b0;stroke:#4c72b0;stroke-width:0.3;\" x=\"141.508591\" xlink:href=\"#m48a2ff4c84\" y=\"165.171477\"/>\n     <use style=\"fill:#4c72b0;stroke:#4c72b0;stroke-width:0.3;\" x=\"110.268874\" xlink:href=\"#m48a2ff4c84\" y=\"170.725995\"/>\n     <use style=\"fill:#4c72b0;stroke:#4c72b0;stroke-width:0.3;\" x=\"49.289926\" xlink:href=\"#m48a2ff4c84\" y=\"157.828743\"/>\n     <use style=\"fill:#4c72b0;stroke:#4c72b0;stroke-width:0.3;\" x=\"134.674513\" xlink:href=\"#m48a2ff4c84\" y=\"179.007392\"/>\n     <use style=\"fill:#4c72b0;stroke:#4c72b0;stroke-width:0.3;\" x=\"212.676171\" xlink:href=\"#m48a2ff4c84\" y=\"169.848592\"/>\n     <use style=\"fill:#4c72b0;stroke:#4c72b0;stroke-width:0.3;\" x=\"348.939943\" xlink:href=\"#m48a2ff4c84\" y=\"53.395182\"/>\n     <use style=\"fill:#4c72b0;stroke:#4c72b0;stroke-width:0.3;\" x=\"277.897468\" xlink:href=\"#m48a2ff4c84\" y=\"42.579376\"/>\n     <use style=\"fill:#4c72b0;stroke:#4c72b0;stroke-width:0.3;\" x=\"191.016844\" xlink:href=\"#m48a2ff4c84\" y=\"181.796285\"/>\n     <use style=\"fill:#4c72b0;stroke:#4c72b0;stroke-width:0.3;\" x=\"103.84357\" xlink:href=\"#m48a2ff4c84\" y=\"160.376943\"/>\n     <use style=\"fill:#4c72b0;stroke:#4c72b0;stroke-width:0.3;\" x=\"108.073269\" xlink:href=\"#m48a2ff4c84\" y=\"170.577355\"/>\n     <use style=\"fill:#4c72b0;stroke:#4c72b0;stroke-width:0.3;\" x=\"53.170424\" xlink:href=\"#m48a2ff4c84\" y=\"173.763998\"/>\n     <use style=\"fill:#4c72b0;stroke:#4c72b0;stroke-width:0.3;\" x=\"244.957499\" xlink:href=\"#m48a2ff4c84\" y=\"66.718694\"/>\n     <use style=\"fill:#4c72b0;stroke:#4c72b0;stroke-width:0.3;\" x=\"178.639501\" xlink:href=\"#m48a2ff4c84\" y=\"147.894203\"/>\n     <use style=\"fill:#4c72b0;stroke:#4c72b0;stroke-width:0.3;\" x=\"161.972341\" xlink:href=\"#m48a2ff4c84\" y=\"192.868621\"/>\n     <use style=\"fill:#4c72b0;stroke:#4c72b0;stroke-width:0.3;\" x=\"297.883886\" xlink:href=\"#m48a2ff4c84\" y=\"55.169847\"/>\n     <use style=\"fill:#4c72b0;stroke:#4c72b0;stroke-width:0.3;\" x=\"135.83406\" xlink:href=\"#m48a2ff4c84\" y=\"174.437448\"/>\n     <use style=\"fill:#4c72b0;stroke:#4c72b0;stroke-width:0.3;\" x=\"246.818802\" xlink:href=\"#m48a2ff4c84\" y=\"66.101518\"/>\n     <use style=\"fill:#4c72b0;stroke:#4c72b0;stroke-width:0.3;\" x=\"111.353302\" xlink:href=\"#m48a2ff4c84\" y=\"177.508665\"/>\n     <use style=\"fill:#4c72b0;stroke:#4c72b0;stroke-width:0.3;\" x=\"124.679543\" xlink:href=\"#m48a2ff4c84\" y=\"175.090967\"/>\n     <use style=\"fill:#4c72b0;stroke:#4c72b0;stroke-width:0.3;\" x=\"351.637833\" xlink:href=\"#m48a2ff4c84\" y=\"45.736784\"/>\n     <use style=\"fill:#4c72b0;stroke:#4c72b0;stroke-width:0.3;\" x=\"199.702667\" xlink:href=\"#m48a2ff4c84\" y=\"185.189806\"/>\n     <use style=\"fill:#4c72b0;stroke:#4c72b0;stroke-width:0.3;\" x=\"315.945874\" xlink:href=\"#m48a2ff4c84\" y=\"27.981745\"/>\n     <use style=\"fill:#4c72b0;stroke:#4c72b0;stroke-width:0.3;\" x=\"215.268248\" xlink:href=\"#m48a2ff4c84\" y=\"193.306654\"/>\n     <use style=\"fill:#4c72b0;stroke:#4c72b0;stroke-width:0.3;\" x=\"175.891369\" xlink:href=\"#m48a2ff4c84\" y=\"156.454971\"/>\n     <use style=\"fill:#4c72b0;stroke:#4c72b0;stroke-width:0.3;\" x=\"119.219807\" xlink:href=\"#m48a2ff4c84\" y=\"167.826648\"/>\n     <use style=\"fill:#4c72b0;stroke:#4c72b0;stroke-width:0.3;\" x=\"254.609559\" xlink:href=\"#m48a2ff4c84\" y=\"37.630657\"/>\n     <use style=\"fill:#4c72b0;stroke:#4c72b0;stroke-width:0.3;\" x=\"67.480557\" xlink:href=\"#m48a2ff4c84\" y=\"164.388183\"/>\n     <use style=\"fill:#4c72b0;stroke:#4c72b0;stroke-width:0.3;\" x=\"172.561744\" xlink:href=\"#m48a2ff4c84\" y=\"143.512068\"/>\n     <use style=\"fill:#4c72b0;stroke:#4c72b0;stroke-width:0.3;\" x=\"337.865305\" xlink:href=\"#m48a2ff4c84\" y=\"62.198832\"/>\n     <use style=\"fill:#4c72b0;stroke:#4c72b0;stroke-width:0.3;\" x=\"139.622756\" xlink:href=\"#m48a2ff4c84\" y=\"178.247572\"/>\n     <use style=\"fill:#4c72b0;stroke:#4c72b0;stroke-width:0.3;\" x=\"325.469839\" xlink:href=\"#m48a2ff4c84\" y=\"52.741723\"/>\n     <use style=\"fill:#4c72b0;stroke:#4c72b0;stroke-width:0.3;\" x=\"185.043083\" xlink:href=\"#m48a2ff4c84\" y=\"180.299025\"/>\n     <use style=\"fill:#4c72b0;stroke:#4c72b0;stroke-width:0.3;\" x=\"234.394247\" xlink:href=\"#m48a2ff4c84\" y=\"45.923007\"/>\n     <use style=\"fill:#4c72b0;stroke:#4c72b0;stroke-width:0.3;\" x=\"308.214824\" xlink:href=\"#m48a2ff4c84\" y=\"44.58868\"/>\n     <use style=\"fill:#4c72b0;stroke:#4c72b0;stroke-width:0.3;\" x=\"334.652752\" xlink:href=\"#m48a2ff4c84\" y=\"39.169765\"/>\n     <use style=\"fill:#4c72b0;stroke:#4c72b0;stroke-width:0.3;\" x=\"177.061945\" xlink:href=\"#m48a2ff4c84\" y=\"173.846274\"/>\n     <use style=\"fill:#4c72b0;stroke:#4c72b0;stroke-width:0.3;\" x=\"215.274569\" xlink:href=\"#m48a2ff4c84\" y=\"178.082942\"/>\n     <use style=\"fill:#4c72b0;stroke:#4c72b0;stroke-width:0.3;\" x=\"222.14661\" xlink:href=\"#m48a2ff4c84\" y=\"172.275205\"/>\n     <use style=\"fill:#4c72b0;stroke:#4c72b0;stroke-width:0.3;\" x=\"213.790719\" xlink:href=\"#m48a2ff4c84\" y=\"185.62785\"/>\n     <use style=\"fill:#4c72b0;stroke:#4c72b0;stroke-width:0.3;\" x=\"124.918073\" xlink:href=\"#m48a2ff4c84\" y=\"177.708805\"/>\n     <use style=\"fill:#4c72b0;stroke:#4c72b0;stroke-width:0.3;\" x=\"301.7048\" xlink:href=\"#m48a2ff4c84\" y=\"39.204279\"/>\n     <use style=\"fill:#4c72b0;stroke:#4c72b0;stroke-width:0.3;\" x=\"266.975422\" xlink:href=\"#m48a2ff4c84\" y=\"45.744046\"/>\n     <use style=\"fill:#4c72b0;stroke:#4c72b0;stroke-width:0.3;\" x=\"72.555396\" xlink:href=\"#m48a2ff4c84\" y=\"163.80099\"/>\n     <use style=\"fill:#4c72b0;stroke:#4c72b0;stroke-width:0.3;\" x=\"214.018628\" xlink:href=\"#m48a2ff4c84\" y=\"166.046504\"/>\n     <use style=\"fill:#4c72b0;stroke:#4c72b0;stroke-width:0.3;\" x=\"105.083475\" xlink:href=\"#m48a2ff4c84\" y=\"183.029905\"/>\n     <use style=\"fill:#4c72b0;stroke:#4c72b0;stroke-width:0.3;\" x=\"108.971065\" xlink:href=\"#m48a2ff4c84\" y=\"155.219462\"/>\n     <use style=\"fill:#4c72b0;stroke:#4c72b0;stroke-width:0.3;\" x=\"211.533617\" xlink:href=\"#m48a2ff4c84\" y=\"165.41766\"/>\n     <use style=\"fill:#4c72b0;stroke:#4c72b0;stroke-width:0.3;\" x=\"271.770414\" xlink:href=\"#m48a2ff4c84\" y=\"72.935399\"/>\n     <use style=\"fill:#4c72b0;stroke:#4c72b0;stroke-width:0.3;\" x=\"97.785522\" xlink:href=\"#m48a2ff4c84\" y=\"170.245469\"/>\n     <use style=\"fill:#4c72b0;stroke:#4c72b0;stroke-width:0.3;\" x=\"200.929837\" xlink:href=\"#m48a2ff4c84\" y=\"172.443064\"/>\n     <use style=\"fill:#4c72b0;stroke:#4c72b0;stroke-width:0.3;\" x=\"278.636434\" xlink:href=\"#m48a2ff4c84\" y=\"52.884083\"/>\n     <use style=\"fill:#4c72b0;stroke:#4c72b0;stroke-width:0.3;\" x=\"231.832995\" xlink:href=\"#m48a2ff4c84\" y=\"39.176509\"/>\n     <use style=\"fill:#4c72b0;stroke:#4c72b0;stroke-width:0.3;\" x=\"157.797997\" xlink:href=\"#m48a2ff4c84\" y=\"150.044573\"/>\n     <use style=\"fill:#4c72b0;stroke:#4c72b0;stroke-width:0.3;\" x=\"211.712299\" xlink:href=\"#m48a2ff4c84\" y=\"176.869079\"/>\n     <use style=\"fill:#4c72b0;stroke:#4c72b0;stroke-width:0.3;\" x=\"291.253429\" xlink:href=\"#m48a2ff4c84\" y=\"45.198039\"/>\n     <use style=\"fill:#4c72b0;stroke:#4c72b0;stroke-width:0.3;\" x=\"102.664429\" xlink:href=\"#m48a2ff4c84\" y=\"178.045757\"/>\n     <use style=\"fill:#4c72b0;stroke:#4c72b0;stroke-width:0.3;\" x=\"219.355037\" xlink:href=\"#m48a2ff4c84\" y=\"168.642473\"/>\n     <use style=\"fill:#4c72b0;stroke:#4c72b0;stroke-width:0.3;\" x=\"199.273816\" xlink:href=\"#m48a2ff4c84\" y=\"170.929525\"/>\n     <use style=\"fill:#4c72b0;stroke:#4c72b0;stroke-width:0.3;\" x=\"102.332328\" xlink:href=\"#m48a2ff4c84\" y=\"169.680699\"/>\n     <use style=\"fill:#4c72b0;stroke:#4c72b0;stroke-width:0.3;\" x=\"61.161344\" xlink:href=\"#m48a2ff4c84\" y=\"164.05436\"/>\n     <use style=\"fill:#4c72b0;stroke:#4c72b0;stroke-width:0.3;\" x=\"73.007849\" xlink:href=\"#m48a2ff4c84\" y=\"153.821268\"/>\n     <use style=\"fill:#4c72b0;stroke:#4c72b0;stroke-width:0.3;\" x=\"82.21448\" xlink:href=\"#m48a2ff4c84\" y=\"162.456642\"/>\n     <use style=\"fill:#4c72b0;stroke:#4c72b0;stroke-width:0.3;\" x=\"269.046957\" xlink:href=\"#m48a2ff4c84\" y=\"33.735432\"/>\n     <use style=\"fill:#4c72b0;stroke:#4c72b0;stroke-width:0.3;\" x=\"329.05978\" xlink:href=\"#m48a2ff4c84\" y=\"78.796235\"/>\n     <use style=\"fill:#4c72b0;stroke:#4c72b0;stroke-width:0.3;\" x=\"106.815269\" xlink:href=\"#m48a2ff4c84\" y=\"187.90396\"/>\n     <use style=\"fill:#4c72b0;stroke:#4c72b0;stroke-width:0.3;\" x=\"353.330116\" xlink:href=\"#m48a2ff4c84\" y=\"48.824234\"/>\n     <use style=\"fill:#4c72b0;stroke:#4c72b0;stroke-width:0.3;\" x=\"169.751171\" xlink:href=\"#m48a2ff4c84\" y=\"175.269646\"/>\n     <use style=\"fill:#4c72b0;stroke:#4c72b0;stroke-width:0.3;\" x=\"119.097499\" xlink:href=\"#m48a2ff4c84\" y=\"142.610167\"/>\n     <use style=\"fill:#4c72b0;stroke:#4c72b0;stroke-width:0.3;\" x=\"281.420107\" xlink:href=\"#m48a2ff4c84\" y=\"42.815183\"/>\n     <use style=\"fill:#4c72b0;stroke:#4c72b0;stroke-width:0.3;\" x=\"124.665546\" xlink:href=\"#m48a2ff4c84\" y=\"184.169289\"/>\n     <use style=\"fill:#4c72b0;stroke:#4c72b0;stroke-width:0.3;\" x=\"352.314362\" xlink:href=\"#m48a2ff4c84\" y=\"52.355061\"/>\n     <use style=\"fill:#4c72b0;stroke:#4c72b0;stroke-width:0.3;\" x=\"197.796528\" xlink:href=\"#m48a2ff4c84\" y=\"168.737719\"/>\n     <use style=\"fill:#4c72b0;stroke:#4c72b0;stroke-width:0.3;\" x=\"96.61498\" xlink:href=\"#m48a2ff4c84\" y=\"156.406789\"/>\n     <use style=\"fill:#4c72b0;stroke:#4c72b0;stroke-width:0.3;\" x=\"274.372762\" xlink:href=\"#m48a2ff4c84\" y=\"38.735943\"/>\n     <use style=\"fill:#4c72b0;stroke:#4c72b0;stroke-width:0.3;\" x=\"62.567326\" xlink:href=\"#m48a2ff4c84\" y=\"174.656207\"/>\n     <use style=\"fill:#4c72b0;stroke:#4c72b0;stroke-width:0.3;\" x=\"250.426325\" xlink:href=\"#m48a2ff4c84\" y=\"70.544049\"/>\n     <use style=\"fill:#4c72b0;stroke:#4c72b0;stroke-width:0.3;\" x=\"175.693658\" xlink:href=\"#m48a2ff4c84\" y=\"175.146381\"/>\n     <use style=\"fill:#4c72b0;stroke:#4c72b0;stroke-width:0.3;\" x=\"151.936547\" xlink:href=\"#m48a2ff4c84\" y=\"161.456849\"/>\n     <use style=\"fill:#4c72b0;stroke:#4c72b0;stroke-width:0.3;\" x=\"257.397842\" xlink:href=\"#m48a2ff4c84\" y=\"37.002233\"/>\n     <use style=\"fill:#4c72b0;stroke:#4c72b0;stroke-width:0.3;\" x=\"234.166611\" xlink:href=\"#m48a2ff4c84\" y=\"51.953443\"/>\n     <use style=\"fill:#4c72b0;stroke:#4c72b0;stroke-width:0.3;\" x=\"220.526851\" xlink:href=\"#m48a2ff4c84\" y=\"179.370685\"/>\n     <use style=\"fill:#4c72b0;stroke:#4c72b0;stroke-width:0.3;\" x=\"221.568875\" xlink:href=\"#m48a2ff4c84\" y=\"197.825784\"/>\n     <use style=\"fill:#4c72b0;stroke:#4c72b0;stroke-width:0.3;\" x=\"196.49866\" xlink:href=\"#m48a2ff4c84\" y=\"177.942086\"/>\n     <use style=\"fill:#4c72b0;stroke:#4c72b0;stroke-width:0.3;\" x=\"201.675621\" xlink:href=\"#m48a2ff4c84\" y=\"166.787963\"/>\n     <use style=\"fill:#4c72b0;stroke:#4c72b0;stroke-width:0.3;\" x=\"277.427952\" xlink:href=\"#m48a2ff4c84\" y=\"34.953164\"/>\n     <use style=\"fill:#4c72b0;stroke:#4c72b0;stroke-width:0.3;\" x=\"206.324612\" xlink:href=\"#m48a2ff4c84\" y=\"169.951605\"/>\n     <use style=\"fill:#4c72b0;stroke:#4c72b0;stroke-width:0.3;\" x=\"317.13705\" xlink:href=\"#m48a2ff4c84\" y=\"53.218296\"/>\n     <use style=\"fill:#4c72b0;stroke:#4c72b0;stroke-width:0.3;\" x=\"56.905061\" xlink:href=\"#m48a2ff4c84\" y=\"178.810354\"/>\n     <use style=\"fill:#4c72b0;stroke:#4c72b0;stroke-width:0.3;\" x=\"185.067858\" xlink:href=\"#m48a2ff4c84\" y=\"171.27464\"/>\n     <use style=\"fill:#4c72b0;stroke:#4c72b0;stroke-width:0.3;\" x=\"321.494936\" xlink:href=\"#m48a2ff4c84\" y=\"61.807645\"/>\n     <use style=\"fill:#4c72b0;stroke:#4c72b0;stroke-width:0.3;\" x=\"224.952525\" xlink:href=\"#m48a2ff4c84\" y=\"178.347312\"/>\n     <use style=\"fill:#4c72b0;stroke:#4c72b0;stroke-width:0.3;\" x=\"267.2388\" xlink:href=\"#m48a2ff4c84\" y=\"55.54614\"/>\n     <use style=\"fill:#4c72b0;stroke:#4c72b0;stroke-width:0.3;\" x=\"304.29327\" xlink:href=\"#m48a2ff4c84\" y=\"96.824427\"/>\n     <use style=\"fill:#4c72b0;stroke:#4c72b0;stroke-width:0.3;\" x=\"297.993585\" xlink:href=\"#m48a2ff4c84\" y=\"34.281612\"/>\n     <use style=\"fill:#4c72b0;stroke:#4c72b0;stroke-width:0.3;\" x=\"159.808219\" xlink:href=\"#m48a2ff4c84\" y=\"171.616832\"/>\n     <use style=\"fill:#4c72b0;stroke:#4c72b0;stroke-width:0.3;\" x=\"210.836101\" xlink:href=\"#m48a2ff4c84\" y=\"172.913442\"/>\n     <use style=\"fill:#4c72b0;stroke:#4c72b0;stroke-width:0.3;\" x=\"323.014222\" xlink:href=\"#m48a2ff4c84\" y=\"63.177309\"/>\n     <use style=\"fill:#4c72b0;stroke:#4c72b0;stroke-width:0.3;\" x=\"101.921539\" xlink:href=\"#m48a2ff4c84\" y=\"178.776634\"/>\n     <use style=\"fill:#4c72b0;stroke:#4c72b0;stroke-width:0.3;\" x=\"278.386685\" xlink:href=\"#m48a2ff4c84\" y=\"49.822806\"/>\n     <use style=\"fill:#4c72b0;stroke:#4c72b0;stroke-width:0.3;\" x=\"119.702537\" xlink:href=\"#m48a2ff4c84\" y=\"158.487797\"/>\n     <use style=\"fill:#4c72b0;stroke:#4c72b0;stroke-width:0.3;\" x=\"195.609672\" xlink:href=\"#m48a2ff4c84\" y=\"184.198778\"/>\n     <use style=\"fill:#4c72b0;stroke:#4c72b0;stroke-width:0.3;\" x=\"133.746964\" xlink:href=\"#m48a2ff4c84\" y=\"171.487825\"/>\n     <use style=\"fill:#4c72b0;stroke:#4c72b0;stroke-width:0.3;\" x=\"286.511855\" xlink:href=\"#m48a2ff4c84\" y=\"50.925418\"/>\n     <use style=\"fill:#4c72b0;stroke:#4c72b0;stroke-width:0.3;\" x=\"171.692949\" xlink:href=\"#m48a2ff4c84\" y=\"183.277435\"/>\n     <use style=\"fill:#4c72b0;stroke:#4c72b0;stroke-width:0.3;\" x=\"158.956769\" xlink:href=\"#m48a2ff4c84\" y=\"191.875388\"/>\n     <use style=\"fill:#4c72b0;stroke:#4c72b0;stroke-width:0.3;\" x=\"180.076693\" xlink:href=\"#m48a2ff4c84\" y=\"192.633385\"/>\n     <use style=\"fill:#4c72b0;stroke:#4c72b0;stroke-width:0.3;\" x=\"151.184727\" xlink:href=\"#m48a2ff4c84\" y=\"199.06595\"/>\n     <use style=\"fill:#4c72b0;stroke:#4c72b0;stroke-width:0.3;\" x=\"284.903561\" xlink:href=\"#m48a2ff4c84\" y=\"73.187417\"/>\n     <use style=\"fill:#4c72b0;stroke:#4c72b0;stroke-width:0.3;\" x=\"102.357914\" xlink:href=\"#m48a2ff4c84\" y=\"167.213564\"/>\n     <use style=\"fill:#4c72b0;stroke:#4c72b0;stroke-width:0.3;\" x=\"209.393167\" xlink:href=\"#m48a2ff4c84\" y=\"171.420757\"/>\n     <use style=\"fill:#4c72b0;stroke:#4c72b0;stroke-width:0.3;\" x=\"66.263281\" xlink:href=\"#m48a2ff4c84\" y=\"153.237401\"/>\n     <use style=\"fill:#4c72b0;stroke:#4c72b0;stroke-width:0.3;\" x=\"132.996798\" xlink:href=\"#m48a2ff4c84\" y=\"176.323681\"/>\n     <use style=\"fill:#4c72b0;stroke:#4c72b0;stroke-width:0.3;\" x=\"143.897471\" xlink:href=\"#m48a2ff4c84\" y=\"164.781601\"/>\n     <use style=\"fill:#4c72b0;stroke:#4c72b0;stroke-width:0.3;\" x=\"287.359011\" xlink:href=\"#m48a2ff4c84\" y=\"53.815706\"/>\n     <use style=\"fill:#4c72b0;stroke:#4c72b0;stroke-width:0.3;\" x=\"150.601625\" xlink:href=\"#m48a2ff4c84\" y=\"196.555813\"/>\n     <use style=\"fill:#4c72b0;stroke:#4c72b0;stroke-width:0.3;\" x=\"182.857152\" xlink:href=\"#m48a2ff4c84\" y=\"151.407136\"/>\n     <use style=\"fill:#4c72b0;stroke:#4c72b0;stroke-width:0.3;\" x=\"57.962996\" xlink:href=\"#m48a2ff4c84\" y=\"187.210442\"/>\n     <use style=\"fill:#4c72b0;stroke:#4c72b0;stroke-width:0.3;\" x=\"214.4091\" xlink:href=\"#m48a2ff4c84\" y=\"189.100046\"/>\n     <use style=\"fill:#4c72b0;stroke:#4c72b0;stroke-width:0.3;\" x=\"260.651587\" xlink:href=\"#m48a2ff4c84\" y=\"50.298969\"/>\n     <use style=\"fill:#4c72b0;stroke:#4c72b0;stroke-width:0.3;\" x=\"199.915336\" xlink:href=\"#m48a2ff4c84\" y=\"152.962294\"/>\n     <use style=\"fill:#4c72b0;stroke:#4c72b0;stroke-width:0.3;\" x=\"274.015333\" xlink:href=\"#m48a2ff4c84\" y=\"48.793434\"/>\n     <use style=\"fill:#4c72b0;stroke:#4c72b0;stroke-width:0.3;\" x=\"256.071086\" xlink:href=\"#m48a2ff4c84\" y=\"37.900528\"/>\n     <use style=\"fill:#4c72b0;stroke:#4c72b0;stroke-width:0.3;\" x=\"334.36866\" xlink:href=\"#m48a2ff4c84\" y=\"67.849978\"/>\n     <use style=\"fill:#4c72b0;stroke:#4c72b0;stroke-width:0.3;\" x=\"101.432767\" xlink:href=\"#m48a2ff4c84\" y=\"175.640137\"/>\n     <use style=\"fill:#4c72b0;stroke:#4c72b0;stroke-width:0.3;\" x=\"317.282237\" xlink:href=\"#m48a2ff4c84\" y=\"46.272921\"/>\n     <use style=\"fill:#4c72b0;stroke:#4c72b0;stroke-width:0.3;\" x=\"167.99572\" xlink:href=\"#m48a2ff4c84\" y=\"181.480643\"/>\n     <use style=\"fill:#4c72b0;stroke:#4c72b0;stroke-width:0.3;\" x=\"349.158395\" xlink:href=\"#m48a2ff4c84\" y=\"67.426724\"/>\n     <use style=\"fill:#4c72b0;stroke:#4c72b0;stroke-width:0.3;\" x=\"193.297792\" xlink:href=\"#m48a2ff4c84\" y=\"157.717237\"/>\n     <use style=\"fill:#4c72b0;stroke:#4c72b0;stroke-width:0.3;\" x=\"219.803387\" xlink:href=\"#m48a2ff4c84\" y=\"140.504618\"/>\n     <use style=\"fill:#4c72b0;stroke:#4c72b0;stroke-width:0.3;\" x=\"236.936416\" xlink:href=\"#m48a2ff4c84\" y=\"37.180019\"/>\n     <use style=\"fill:#4c72b0;stroke:#4c72b0;stroke-width:0.3;\" x=\"327.365086\" xlink:href=\"#m48a2ff4c84\" y=\"55.258464\"/>\n     <use style=\"fill:#4c72b0;stroke:#4c72b0;stroke-width:0.3;\" x=\"162.831335\" xlink:href=\"#m48a2ff4c84\" y=\"170.193125\"/>\n     <use style=\"fill:#4c72b0;stroke:#4c72b0;stroke-width:0.3;\" x=\"298.205722\" xlink:href=\"#m48a2ff4c84\" y=\"48.503641\"/>\n     <use style=\"fill:#4c72b0;stroke:#4c72b0;stroke-width:0.3;\" x=\"284.916287\" xlink:href=\"#m48a2ff4c84\" y=\"46.34765\"/>\n     <use style=\"fill:#4c72b0;stroke:#4c72b0;stroke-width:0.3;\" x=\"349.895603\" xlink:href=\"#m48a2ff4c84\" y=\"56.436487\"/>\n     <use style=\"fill:#4c72b0;stroke:#4c72b0;stroke-width:0.3;\" x=\"136.21499\" xlink:href=\"#m48a2ff4c84\" y=\"187.090374\"/>\n     <use style=\"fill:#4c72b0;stroke:#4c72b0;stroke-width:0.3;\" x=\"174.941542\" xlink:href=\"#m48a2ff4c84\" y=\"174.390182\"/>\n     <use style=\"fill:#4c72b0;stroke:#4c72b0;stroke-width:0.3;\" x=\"122.741869\" xlink:href=\"#m48a2ff4c84\" y=\"178.185653\"/>\n     <use style=\"fill:#4c72b0;stroke:#4c72b0;stroke-width:0.3;\" x=\"180.388261\" xlink:href=\"#m48a2ff4c84\" y=\"168.853874\"/>\n     <use style=\"fill:#4c72b0;stroke:#4c72b0;stroke-width:0.3;\" x=\"353.522443\" xlink:href=\"#m48a2ff4c84\" y=\"57.789294\"/>\n     <use style=\"fill:#4c72b0;stroke:#4c72b0;stroke-width:0.3;\" x=\"72.431086\" xlink:href=\"#m48a2ff4c84\" y=\"150.737393\"/>\n     <use style=\"fill:#4c72b0;stroke:#4c72b0;stroke-width:0.3;\" x=\"62.43547\" xlink:href=\"#m48a2ff4c84\" y=\"171.655423\"/>\n     <use style=\"fill:#4c72b0;stroke:#4c72b0;stroke-width:0.3;\" x=\"148.91278\" xlink:href=\"#m48a2ff4c84\" y=\"165.875516\"/>\n     <use style=\"fill:#4c72b0;stroke:#4c72b0;stroke-width:0.3;\" x=\"66.694025\" xlink:href=\"#m48a2ff4c84\" y=\"176.076476\"/>\n     <use style=\"fill:#4c72b0;stroke:#4c72b0;stroke-width:0.3;\" x=\"179.384419\" xlink:href=\"#m48a2ff4c84\" y=\"194.508963\"/>\n     <use style=\"fill:#4c72b0;stroke:#4c72b0;stroke-width:0.3;\" x=\"183.162072\" xlink:href=\"#m48a2ff4c84\" y=\"154.173369\"/>\n     <use style=\"fill:#4c72b0;stroke:#4c72b0;stroke-width:0.3;\" x=\"159.939651\" xlink:href=\"#m48a2ff4c84\" y=\"187.469243\"/>\n     <use style=\"fill:#4c72b0;stroke:#4c72b0;stroke-width:0.3;\" x=\"127.364783\" xlink:href=\"#m48a2ff4c84\" y=\"184.975774\"/>\n     <use style=\"fill:#4c72b0;stroke:#4c72b0;stroke-width:0.3;\" x=\"69.338912\" xlink:href=\"#m48a2ff4c84\" y=\"162.349215\"/>\n     <use style=\"fill:#4c72b0;stroke:#4c72b0;stroke-width:0.3;\" x=\"148.157852\" xlink:href=\"#m48a2ff4c84\" y=\"181.77437\"/>\n     <use style=\"fill:#4c72b0;stroke:#4c72b0;stroke-width:0.3;\" x=\"103.96786\" xlink:href=\"#m48a2ff4c84\" y=\"174.542189\"/>\n     <use style=\"fill:#4c72b0;stroke:#4c72b0;stroke-width:0.3;\" x=\"235.912276\" xlink:href=\"#m48a2ff4c84\" y=\"55.649025\"/>\n     <use style=\"fill:#4c72b0;stroke:#4c72b0;stroke-width:0.3;\" x=\"123.857347\" xlink:href=\"#m48a2ff4c84\" y=\"162.891539\"/>\n     <use style=\"fill:#4c72b0;stroke:#4c72b0;stroke-width:0.3;\" x=\"138.246352\" xlink:href=\"#m48a2ff4c84\" y=\"184.622338\"/>\n     <use style=\"fill:#4c72b0;stroke:#4c72b0;stroke-width:0.3;\" x=\"326.529272\" xlink:href=\"#m48a2ff4c84\" y=\"51.194173\"/>\n     <use style=\"fill:#4c72b0;stroke:#4c72b0;stroke-width:0.3;\" x=\"285.825293\" xlink:href=\"#m48a2ff4c84\" y=\"48.008625\"/>\n     <use style=\"fill:#4c72b0;stroke:#4c72b0;stroke-width:0.3;\" x=\"274.538558\" xlink:href=\"#m48a2ff4c84\" y=\"49.692465\"/>\n     <use style=\"fill:#4c72b0;stroke:#4c72b0;stroke-width:0.3;\" x=\"189.547491\" xlink:href=\"#m48a2ff4c84\" y=\"193.180558\"/>\n     <use style=\"fill:#4c72b0;stroke:#4c72b0;stroke-width:0.3;\" x=\"206.762031\" xlink:href=\"#m48a2ff4c84\" y=\"166.479829\"/>\n     <use style=\"fill:#4c72b0;stroke:#4c72b0;stroke-width:0.3;\" x=\"292.318857\" xlink:href=\"#m48a2ff4c84\" y=\"26.327368\"/>\n     <use style=\"fill:#4c72b0;stroke:#4c72b0;stroke-width:0.3;\" x=\"193.809735\" xlink:href=\"#m48a2ff4c84\" y=\"184.540011\"/>\n     <use style=\"fill:#4c72b0;stroke:#4c72b0;stroke-width:0.3;\" x=\"326.91044\" xlink:href=\"#m48a2ff4c84\" y=\"37.951914\"/>\n     <use style=\"fill:#4c72b0;stroke:#4c72b0;stroke-width:0.3;\" x=\"324.626176\" xlink:href=\"#m48a2ff4c84\" y=\"52.891513\"/>\n     <use style=\"fill:#4c72b0;stroke:#4c72b0;stroke-width:0.3;\" x=\"196.387978\" xlink:href=\"#m48a2ff4c84\" y=\"181.446197\"/>\n     <use style=\"fill:#4c72b0;stroke:#4c72b0;stroke-width:0.3;\" x=\"310.073296\" xlink:href=\"#m48a2ff4c84\" y=\"66.839219\"/>\n     <use style=\"fill:#4c72b0;stroke:#4c72b0;stroke-width:0.3;\" x=\"133.250185\" xlink:href=\"#m48a2ff4c84\" y=\"173.934844\"/>\n     <use style=\"fill:#4c72b0;stroke:#4c72b0;stroke-width:0.3;\" x=\"69.229943\" xlink:href=\"#m48a2ff4c84\" y=\"188.581278\"/>\n     <use style=\"fill:#4c72b0;stroke:#4c72b0;stroke-width:0.3;\" x=\"286.333575\" xlink:href=\"#m48a2ff4c84\" y=\"44.778349\"/>\n     <use style=\"fill:#4c72b0;stroke:#4c72b0;stroke-width:0.3;\" x=\"120.869124\" xlink:href=\"#m48a2ff4c84\" y=\"175.344124\"/>\n     <use style=\"fill:#4c72b0;stroke:#4c72b0;stroke-width:0.3;\" x=\"320.36682\" xlink:href=\"#m48a2ff4c84\" y=\"39.324296\"/>\n     <use style=\"fill:#4c72b0;stroke:#4c72b0;stroke-width:0.3;\" x=\"196.36376\" xlink:href=\"#m48a2ff4c84\" y=\"202.751763\"/>\n     <use style=\"fill:#4c72b0;stroke:#4c72b0;stroke-width:0.3;\" x=\"307.112308\" xlink:href=\"#m48a2ff4c84\" y=\"40.58329\"/>\n     <use style=\"fill:#4c72b0;stroke:#4c72b0;stroke-width:0.3;\" x=\"117.125633\" xlink:href=\"#m48a2ff4c84\" y=\"160.939614\"/>\n     <use style=\"fill:#4c72b0;stroke:#4c72b0;stroke-width:0.3;\" x=\"303.687341\" xlink:href=\"#m48a2ff4c84\" y=\"45.017653\"/>\n     <use style=\"fill:#4c72b0;stroke:#4c72b0;stroke-width:0.3;\" x=\"131.970727\" xlink:href=\"#m48a2ff4c84\" y=\"172.946351\"/>\n     <use style=\"fill:#4c72b0;stroke:#4c72b0;stroke-width:0.3;\" x=\"302.484211\" xlink:href=\"#m48a2ff4c84\" y=\"41.274462\"/>\n     <use style=\"fill:#4c72b0;stroke:#4c72b0;stroke-width:0.3;\" x=\"146.14478\" xlink:href=\"#m48a2ff4c84\" y=\"162.222345\"/>\n     <use style=\"fill:#4c72b0;stroke:#4c72b0;stroke-width:0.3;\" x=\"296.545373\" xlink:href=\"#m48a2ff4c84\" y=\"70.731525\"/>\n     <use style=\"fill:#4c72b0;stroke:#4c72b0;stroke-width:0.3;\" x=\"51.617396\" xlink:href=\"#m48a2ff4c84\" y=\"149.251871\"/>\n     <use style=\"fill:#4c72b0;stroke:#4c72b0;stroke-width:0.3;\" x=\"300.569263\" xlink:href=\"#m48a2ff4c84\" y=\"62.407923\"/>\n     <use style=\"fill:#4c72b0;stroke:#4c72b0;stroke-width:0.3;\" x=\"276.490358\" xlink:href=\"#m48a2ff4c84\" y=\"49.24351\"/>\n     <use style=\"fill:#4c72b0;stroke:#4c72b0;stroke-width:0.3;\" x=\"102.210101\" xlink:href=\"#m48a2ff4c84\" y=\"170.939581\"/>\n     <use style=\"fill:#4c72b0;stroke:#4c72b0;stroke-width:0.3;\" x=\"223.777918\" xlink:href=\"#m48a2ff4c84\" y=\"186.01406\"/>\n     <use style=\"fill:#4c72b0;stroke:#4c72b0;stroke-width:0.3;\" x=\"145.984153\" xlink:href=\"#m48a2ff4c84\" y=\"200.574595\"/>\n     <use style=\"fill:#4c72b0;stroke:#4c72b0;stroke-width:0.3;\" x=\"95.524353\" xlink:href=\"#m48a2ff4c84\" y=\"154.894617\"/>\n     <use style=\"fill:#4c72b0;stroke:#4c72b0;stroke-width:0.3;\" x=\"223.977475\" xlink:href=\"#m48a2ff4c84\" y=\"168.239045\"/>\n     <use style=\"fill:#4c72b0;stroke:#4c72b0;stroke-width:0.3;\" x=\"207.166838\" xlink:href=\"#m48a2ff4c84\" y=\"183.711618\"/>\n     <use style=\"fill:#4c72b0;stroke:#4c72b0;stroke-width:0.3;\" x=\"353.042184\" xlink:href=\"#m48a2ff4c84\" y=\"40.849798\"/>\n     <use style=\"fill:#4c72b0;stroke:#4c72b0;stroke-width:0.3;\" x=\"264.549214\" xlink:href=\"#m48a2ff4c84\" y=\"38.311904\"/>\n     <use style=\"fill:#4c72b0;stroke:#4c72b0;stroke-width:0.3;\" x=\"213.693246\" xlink:href=\"#m48a2ff4c84\" y=\"144.812518\"/>\n     <use style=\"fill:#4c72b0;stroke:#4c72b0;stroke-width:0.3;\" x=\"217.215444\" xlink:href=\"#m48a2ff4c84\" y=\"148.306514\"/>\n     <use style=\"fill:#4c72b0;stroke:#4c72b0;stroke-width:0.3;\" x=\"114.435255\" xlink:href=\"#m48a2ff4c84\" y=\"172.442937\"/>\n     <use style=\"fill:#4c72b0;stroke:#4c72b0;stroke-width:0.3;\" x=\"330.554173\" xlink:href=\"#m48a2ff4c84\" y=\"41.81784\"/>\n     <use style=\"fill:#4c72b0;stroke:#4c72b0;stroke-width:0.3;\" x=\"330.770973\" xlink:href=\"#m48a2ff4c84\" y=\"59.184094\"/>\n     <use style=\"fill:#4c72b0;stroke:#4c72b0;stroke-width:0.3;\" x=\"236.569307\" xlink:href=\"#m48a2ff4c84\" y=\"58.314955\"/>\n     <use style=\"fill:#4c72b0;stroke:#4c72b0;stroke-width:0.3;\" x=\"82.7349\" xlink:href=\"#m48a2ff4c84\" y=\"161.020273\"/>\n     <use style=\"fill:#4c72b0;stroke:#4c72b0;stroke-width:0.3;\" x=\"351.134392\" xlink:href=\"#m48a2ff4c84\" y=\"51.807908\"/>\n     <use style=\"fill:#4c72b0;stroke:#4c72b0;stroke-width:0.3;\" x=\"71.429022\" xlink:href=\"#m48a2ff4c84\" y=\"159.441865\"/>\n     <use style=\"fill:#4c72b0;stroke:#4c72b0;stroke-width:0.3;\" x=\"153.290637\" xlink:href=\"#m48a2ff4c84\" y=\"181.715237\"/>\n     <use style=\"fill:#4c72b0;stroke:#4c72b0;stroke-width:0.3;\" x=\"314.151078\" xlink:href=\"#m48a2ff4c84\" y=\"53.201368\"/>\n     <use style=\"fill:#4c72b0;stroke:#4c72b0;stroke-width:0.3;\" x=\"109.022366\" xlink:href=\"#m48a2ff4c84\" y=\"167.549021\"/>\n     <use style=\"fill:#4c72b0;stroke:#4c72b0;stroke-width:0.3;\" x=\"322.717146\" xlink:href=\"#m48a2ff4c84\" y=\"55.033123\"/>\n     <use style=\"fill:#4c72b0;stroke:#4c72b0;stroke-width:0.3;\" x=\"137.132199\" xlink:href=\"#m48a2ff4c84\" y=\"152.803318\"/>\n     <use style=\"fill:#4c72b0;stroke:#4c72b0;stroke-width:0.3;\" x=\"300.897955\" xlink:href=\"#m48a2ff4c84\" y=\"46.524716\"/>\n     <use style=\"fill:#4c72b0;stroke:#4c72b0;stroke-width:0.3;\" x=\"263.83977\" xlink:href=\"#m48a2ff4c84\" y=\"38.953422\"/>\n     <use style=\"fill:#4c72b0;stroke:#4c72b0;stroke-width:0.3;\" x=\"102.195625\" xlink:href=\"#m48a2ff4c84\" y=\"185.335772\"/>\n     <use style=\"fill:#4c72b0;stroke:#4c72b0;stroke-width:0.3;\" x=\"338.172784\" xlink:href=\"#m48a2ff4c84\" y=\"39.793202\"/>\n     <use style=\"fill:#4c72b0;stroke:#4c72b0;stroke-width:0.3;\" x=\"217.270868\" xlink:href=\"#m48a2ff4c84\" y=\"190.53565\"/>\n     <use style=\"fill:#4c72b0;stroke:#4c72b0;stroke-width:0.3;\" x=\"204.112298\" xlink:href=\"#m48a2ff4c84\" y=\"197.687591\"/>\n     <use style=\"fill:#4c72b0;stroke:#4c72b0;stroke-width:0.3;\" x=\"175.156626\" xlink:href=\"#m48a2ff4c84\" y=\"177.832795\"/>\n     <use style=\"fill:#4c72b0;stroke:#4c72b0;stroke-width:0.3;\" x=\"158.805833\" xlink:href=\"#m48a2ff4c84\" y=\"173.45897\"/>\n     <use style=\"fill:#4c72b0;stroke:#4c72b0;stroke-width:0.3;\" x=\"50.906329\" xlink:href=\"#m48a2ff4c84\" y=\"166.264456\"/>\n     <use style=\"fill:#4c72b0;stroke:#4c72b0;stroke-width:0.3;\" x=\"298.696303\" xlink:href=\"#m48a2ff4c84\" y=\"51.18885\"/>\n     <use style=\"fill:#4c72b0;stroke:#4c72b0;stroke-width:0.3;\" x=\"131.151538\" xlink:href=\"#m48a2ff4c84\" y=\"157.317195\"/>\n     <use style=\"fill:#4c72b0;stroke:#4c72b0;stroke-width:0.3;\" x=\"189.426255\" xlink:href=\"#m48a2ff4c84\" y=\"171.425954\"/>\n     <use style=\"fill:#4c72b0;stroke:#4c72b0;stroke-width:0.3;\" x=\"277.950844\" xlink:href=\"#m48a2ff4c84\" y=\"17.494467\"/>\n     <use style=\"fill:#4c72b0;stroke:#4c72b0;stroke-width:0.3;\" x=\"129.833366\" xlink:href=\"#m48a2ff4c84\" y=\"171.34696\"/>\n     <use style=\"fill:#4c72b0;stroke:#4c72b0;stroke-width:0.3;\" x=\"124.109243\" xlink:href=\"#m48a2ff4c84\" y=\"162.169778\"/>\n     <use style=\"fill:#4c72b0;stroke:#4c72b0;stroke-width:0.3;\" x=\"55.10805\" xlink:href=\"#m48a2ff4c84\" y=\"161.632422\"/>\n     <use style=\"fill:#4c72b0;stroke:#4c72b0;stroke-width:0.3;\" x=\"207.880589\" xlink:href=\"#m48a2ff4c84\" y=\"166.385917\"/>\n     <use style=\"fill:#4c72b0;stroke:#4c72b0;stroke-width:0.3;\" x=\"61.099806\" xlink:href=\"#m48a2ff4c84\" y=\"176.471686\"/>\n     <use style=\"fill:#4c72b0;stroke:#4c72b0;stroke-width:0.3;\" x=\"247.864805\" xlink:href=\"#m48a2ff4c84\" y=\"32.238455\"/>\n     <use style=\"fill:#4c72b0;stroke:#4c72b0;stroke-width:0.3;\" x=\"51.238081\" xlink:href=\"#m48a2ff4c84\" y=\"163.940163\"/>\n     <use style=\"fill:#4c72b0;stroke:#4c72b0;stroke-width:0.3;\" x=\"100.265808\" xlink:href=\"#m48a2ff4c84\" y=\"190.709439\"/>\n     <use style=\"fill:#4c72b0;stroke:#4c72b0;stroke-width:0.3;\" x=\"216.550816\" xlink:href=\"#m48a2ff4c84\" y=\"175.379215\"/>\n     <use style=\"fill:#4c72b0;stroke:#4c72b0;stroke-width:0.3;\" x=\"228.731708\" xlink:href=\"#m48a2ff4c84\" y=\"172.311329\"/>\n     <use style=\"fill:#4c72b0;stroke:#4c72b0;stroke-width:0.3;\" x=\"120.224319\" xlink:href=\"#m48a2ff4c84\" y=\"165.643299\"/>\n     <use style=\"fill:#4c72b0;stroke:#4c72b0;stroke-width:0.3;\" x=\"67.569043\" xlink:href=\"#m48a2ff4c84\" y=\"174.463019\"/>\n     <use style=\"fill:#4c72b0;stroke:#4c72b0;stroke-width:0.3;\" x=\"219.02143\" xlink:href=\"#m48a2ff4c84\" y=\"157.094953\"/>\n     <use style=\"fill:#4c72b0;stroke:#4c72b0;stroke-width:0.3;\" x=\"196.915814\" xlink:href=\"#m48a2ff4c84\" y=\"179.335146\"/>\n     <use style=\"fill:#4c72b0;stroke:#4c72b0;stroke-width:0.3;\" x=\"261.715294\" xlink:href=\"#m48a2ff4c84\" y=\"55.775806\"/>\n     <use style=\"fill:#4c72b0;stroke:#4c72b0;stroke-width:0.3;\" x=\"235.999744\" xlink:href=\"#m48a2ff4c84\" y=\"44.916921\"/>\n     <use style=\"fill:#4c72b0;stroke:#4c72b0;stroke-width:0.3;\" x=\"108.551972\" xlink:href=\"#m48a2ff4c84\" y=\"180.389124\"/>\n     <use style=\"fill:#4c72b0;stroke:#4c72b0;stroke-width:0.3;\" x=\"148.073384\" xlink:href=\"#m48a2ff4c84\" y=\"175.742825\"/>\n     <use style=\"fill:#4c72b0;stroke:#4c72b0;stroke-width:0.3;\" x=\"301.702342\" xlink:href=\"#m48a2ff4c84\" y=\"68.6473\"/>\n     <use style=\"fill:#4c72b0;stroke:#4c72b0;stroke-width:0.3;\" x=\"249.188928\" xlink:href=\"#m48a2ff4c84\" y=\"45.422723\"/>\n     <use style=\"fill:#4c72b0;stroke:#4c72b0;stroke-width:0.3;\" x=\"324.547032\" xlink:href=\"#m48a2ff4c84\" y=\"45.068648\"/>\n     <use style=\"fill:#4c72b0;stroke:#4c72b0;stroke-width:0.3;\" x=\"82.420201\" xlink:href=\"#m48a2ff4c84\" y=\"164.380362\"/>\n     <use style=\"fill:#4c72b0;stroke:#4c72b0;stroke-width:0.3;\" x=\"176.460503\" xlink:href=\"#m48a2ff4c84\" y=\"190.716538\"/>\n     <use style=\"fill:#4c72b0;stroke:#4c72b0;stroke-width:0.3;\" x=\"332.986297\" xlink:href=\"#m48a2ff4c84\" y=\"34.327571\"/>\n     <use style=\"fill:#4c72b0;stroke:#4c72b0;stroke-width:0.3;\" x=\"232.682377\" xlink:href=\"#m48a2ff4c84\" y=\"46.134041\"/>\n     <use style=\"fill:#4c72b0;stroke:#4c72b0;stroke-width:0.3;\" x=\"317.036332\" xlink:href=\"#m48a2ff4c84\" y=\"41.63481\"/>\n     <use style=\"fill:#4c72b0;stroke:#4c72b0;stroke-width:0.3;\" x=\"337.303582\" xlink:href=\"#m48a2ff4c84\" y=\"64.187007\"/>\n     <use style=\"fill:#4c72b0;stroke:#4c72b0;stroke-width:0.3;\" x=\"246.75413\" xlink:href=\"#m48a2ff4c84\" y=\"64.972888\"/>\n     <use style=\"fill:#4c72b0;stroke:#4c72b0;stroke-width:0.3;\" x=\"85.742215\" xlink:href=\"#m48a2ff4c84\" y=\"203.069729\"/>\n     <use style=\"fill:#4c72b0;stroke:#4c72b0;stroke-width:0.3;\" x=\"203.567504\" xlink:href=\"#m48a2ff4c84\" y=\"182.203755\"/>\n     <use style=\"fill:#4c72b0;stroke:#4c72b0;stroke-width:0.3;\" x=\"83.110932\" xlink:href=\"#m48a2ff4c84\" y=\"172.855343\"/>\n     <use style=\"fill:#4c72b0;stroke:#4c72b0;stroke-width:0.3;\" x=\"346.19661\" xlink:href=\"#m48a2ff4c84\" y=\"53.608612\"/>\n     <use style=\"fill:#4c72b0;stroke:#4c72b0;stroke-width:0.3;\" x=\"199.120392\" xlink:href=\"#m48a2ff4c84\" y=\"173.728364\"/>\n     <use style=\"fill:#4c72b0;stroke:#4c72b0;stroke-width:0.3;\" x=\"193.258896\" xlink:href=\"#m48a2ff4c84\" y=\"170.875585\"/>\n     <use style=\"fill:#4c72b0;stroke:#4c72b0;stroke-width:0.3;\" x=\"61.799916\" xlink:href=\"#m48a2ff4c84\" y=\"168.88584\"/>\n     <use style=\"fill:#4c72b0;stroke:#4c72b0;stroke-width:0.3;\" x=\"68.349408\" xlink:href=\"#m48a2ff4c84\" y=\"194.937652\"/>\n     <use style=\"fill:#4c72b0;stroke:#4c72b0;stroke-width:0.3;\" x=\"66.192252\" xlink:href=\"#m48a2ff4c84\" y=\"182.30033\"/>\n     <use style=\"fill:#4c72b0;stroke:#4c72b0;stroke-width:0.3;\" x=\"342.935699\" xlink:href=\"#m48a2ff4c84\" y=\"53.721246\"/>\n     <use style=\"fill:#4c72b0;stroke:#4c72b0;stroke-width:0.3;\" x=\"152.141113\" xlink:href=\"#m48a2ff4c84\" y=\"174.608599\"/>\n     <use style=\"fill:#4c72b0;stroke:#4c72b0;stroke-width:0.3;\" x=\"292.480544\" xlink:href=\"#m48a2ff4c84\" y=\"53.338012\"/>\n     <use style=\"fill:#4c72b0;stroke:#4c72b0;stroke-width:0.3;\" x=\"317.533185\" xlink:href=\"#m48a2ff4c84\" y=\"51.431958\"/>\n     <use style=\"fill:#4c72b0;stroke:#4c72b0;stroke-width:0.3;\" x=\"256.944294\" xlink:href=\"#m48a2ff4c84\" y=\"48.249085\"/>\n     <use style=\"fill:#4c72b0;stroke:#4c72b0;stroke-width:0.3;\" x=\"69.680037\" xlink:href=\"#m48a2ff4c84\" y=\"146.347807\"/>\n     <use style=\"fill:#4c72b0;stroke:#4c72b0;stroke-width:0.3;\" x=\"243.86245\" xlink:href=\"#m48a2ff4c84\" y=\"46.690486\"/>\n     <use style=\"fill:#4c72b0;stroke:#4c72b0;stroke-width:0.3;\" x=\"147.67341\" xlink:href=\"#m48a2ff4c84\" y=\"180.042928\"/>\n     <use style=\"fill:#4c72b0;stroke:#4c72b0;stroke-width:0.3;\" x=\"316.510247\" xlink:href=\"#m48a2ff4c84\" y=\"46.862813\"/>\n     <use style=\"fill:#4c72b0;stroke:#4c72b0;stroke-width:0.3;\" x=\"127.678461\" xlink:href=\"#m48a2ff4c84\" y=\"185.781243\"/>\n     <use style=\"fill:#4c72b0;stroke:#4c72b0;stroke-width:0.3;\" x=\"216.069376\" xlink:href=\"#m48a2ff4c84\" y=\"170.782643\"/>\n     <use style=\"fill:#4c72b0;stroke:#4c72b0;stroke-width:0.3;\" x=\"218.714477\" xlink:href=\"#m48a2ff4c84\" y=\"181.044224\"/>\n     <use style=\"fill:#4c72b0;stroke:#4c72b0;stroke-width:0.3;\" x=\"114.672451\" xlink:href=\"#m48a2ff4c84\" y=\"158.2632\"/>\n     <use style=\"fill:#4c72b0;stroke:#4c72b0;stroke-width:0.3;\" x=\"203.840191\" xlink:href=\"#m48a2ff4c84\" y=\"183.485708\"/>\n     <use style=\"fill:#4c72b0;stroke:#4c72b0;stroke-width:0.3;\" x=\"180.489075\" xlink:href=\"#m48a2ff4c84\" y=\"170.580173\"/>\n     <use style=\"fill:#4c72b0;stroke:#4c72b0;stroke-width:0.3;\" x=\"78.796438\" xlink:href=\"#m48a2ff4c84\" y=\"187.395045\"/>\n     <use style=\"fill:#4c72b0;stroke:#4c72b0;stroke-width:0.3;\" x=\"338.124261\" xlink:href=\"#m48a2ff4c84\" y=\"41.009073\"/>\n     <use style=\"fill:#4c72b0;stroke:#4c72b0;stroke-width:0.3;\" x=\"148.542402\" xlink:href=\"#m48a2ff4c84\" y=\"174.76608\"/>\n     <use style=\"fill:#4c72b0;stroke:#4c72b0;stroke-width:0.3;\" x=\"109.022625\" xlink:href=\"#m48a2ff4c84\" y=\"156.854377\"/>\n     <use style=\"fill:#4c72b0;stroke:#4c72b0;stroke-width:0.3;\" x=\"174.741291\" xlink:href=\"#m48a2ff4c84\" y=\"165.069004\"/>\n     <use style=\"fill:#4c72b0;stroke:#4c72b0;stroke-width:0.3;\" x=\"60.153926\" xlink:href=\"#m48a2ff4c84\" y=\"168.344883\"/>\n     <use style=\"fill:#4c72b0;stroke:#4c72b0;stroke-width:0.3;\" x=\"115.469358\" xlink:href=\"#m48a2ff4c84\" y=\"163.059139\"/>\n     <use style=\"fill:#4c72b0;stroke:#4c72b0;stroke-width:0.3;\" x=\"127.138335\" xlink:href=\"#m48a2ff4c84\" y=\"159.530759\"/>\n     <use style=\"fill:#4c72b0;stroke:#4c72b0;stroke-width:0.3;\" x=\"248.002705\" xlink:href=\"#m48a2ff4c84\" y=\"46.506355\"/>\n     <use style=\"fill:#4c72b0;stroke:#4c72b0;stroke-width:0.3;\" x=\"348.69688\" xlink:href=\"#m48a2ff4c84\" y=\"27.686473\"/>\n     <use style=\"fill:#4c72b0;stroke:#4c72b0;stroke-width:0.3;\" x=\"95.414012\" xlink:href=\"#m48a2ff4c84\" y=\"162.456558\"/>\n     <use style=\"fill:#4c72b0;stroke:#4c72b0;stroke-width:0.3;\" x=\"66.073116\" xlink:href=\"#m48a2ff4c84\" y=\"159.529456\"/>\n     <use style=\"fill:#4c72b0;stroke:#4c72b0;stroke-width:0.3;\" x=\"273.290803\" xlink:href=\"#m48a2ff4c84\" y=\"26.873007\"/>\n     <use style=\"fill:#4c72b0;stroke:#4c72b0;stroke-width:0.3;\" x=\"295.63137\" xlink:href=\"#m48a2ff4c84\" y=\"59.909104\"/>\n     <use style=\"fill:#4c72b0;stroke:#4c72b0;stroke-width:0.3;\" x=\"288.879873\" xlink:href=\"#m48a2ff4c84\" y=\"59.875924\"/>\n     <use style=\"fill:#4c72b0;stroke:#4c72b0;stroke-width:0.3;\" x=\"318.778616\" xlink:href=\"#m48a2ff4c84\" y=\"62.579549\"/>\n     <use style=\"fill:#4c72b0;stroke:#4c72b0;stroke-width:0.3;\" x=\"263.161492\" xlink:href=\"#m48a2ff4c84\" y=\"33.758622\"/>\n     <use style=\"fill:#4c72b0;stroke:#4c72b0;stroke-width:0.3;\" x=\"209.212627\" xlink:href=\"#m48a2ff4c84\" y=\"168.874593\"/>\n     <use style=\"fill:#4c72b0;stroke:#4c72b0;stroke-width:0.3;\" x=\"81.463514\" xlink:href=\"#m48a2ff4c84\" y=\"170.736743\"/>\n     <use style=\"fill:#4c72b0;stroke:#4c72b0;stroke-width:0.3;\" x=\"335.694892\" xlink:href=\"#m48a2ff4c84\" y=\"38.258955\"/>\n     <use style=\"fill:#4c72b0;stroke:#4c72b0;stroke-width:0.3;\" x=\"78.3049\" xlink:href=\"#m48a2ff4c84\" y=\"147.110719\"/>\n     <use style=\"fill:#4c72b0;stroke:#4c72b0;stroke-width:0.3;\" x=\"333.066037\" xlink:href=\"#m48a2ff4c84\" y=\"58.439286\"/>\n     <use style=\"fill:#4c72b0;stroke:#4c72b0;stroke-width:0.3;\" x=\"155.806286\" xlink:href=\"#m48a2ff4c84\" y=\"178.934218\"/>\n     <use style=\"fill:#4c72b0;stroke:#4c72b0;stroke-width:0.3;\" x=\"160.892344\" xlink:href=\"#m48a2ff4c84\" y=\"201.569865\"/>\n     <use style=\"fill:#4c72b0;stroke:#4c72b0;stroke-width:0.3;\" x=\"263.919789\" xlink:href=\"#m48a2ff4c84\" y=\"56.514131\"/>\n     <use style=\"fill:#4c72b0;stroke:#4c72b0;stroke-width:0.3;\" x=\"188.44508\" xlink:href=\"#m48a2ff4c84\" y=\"168.465929\"/>\n     <use style=\"fill:#4c72b0;stroke:#4c72b0;stroke-width:0.3;\" x=\"68.147354\" xlink:href=\"#m48a2ff4c84\" y=\"171.073439\"/>\n     <use style=\"fill:#4c72b0;stroke:#4c72b0;stroke-width:0.3;\" x=\"309.920374\" xlink:href=\"#m48a2ff4c84\" y=\"38.269506\"/>\n     <use style=\"fill:#4c72b0;stroke:#4c72b0;stroke-width:0.3;\" x=\"88.889499\" xlink:href=\"#m48a2ff4c84\" y=\"184.365011\"/>\n     <use style=\"fill:#4c72b0;stroke:#4c72b0;stroke-width:0.3;\" x=\"244.784484\" xlink:href=\"#m48a2ff4c84\" y=\"43.751433\"/>\n     <use style=\"fill:#4c72b0;stroke:#4c72b0;stroke-width:0.3;\" x=\"110.322029\" xlink:href=\"#m48a2ff4c84\" y=\"151.167876\"/>\n     <use style=\"fill:#4c72b0;stroke:#4c72b0;stroke-width:0.3;\" x=\"298.524504\" xlink:href=\"#m48a2ff4c84\" y=\"67.093265\"/>\n     <use style=\"fill:#4c72b0;stroke:#4c72b0;stroke-width:0.3;\" x=\"300.839365\" xlink:href=\"#m48a2ff4c84\" y=\"66.325471\"/>\n     <use style=\"fill:#4c72b0;stroke:#4c72b0;stroke-width:0.3;\" x=\"225.736791\" xlink:href=\"#m48a2ff4c84\" y=\"163.130902\"/>\n     <use style=\"fill:#4c72b0;stroke:#4c72b0;stroke-width:0.3;\" x=\"110.61255\" xlink:href=\"#m48a2ff4c84\" y=\"171.745989\"/>\n     <use style=\"fill:#4c72b0;stroke:#4c72b0;stroke-width:0.3;\" x=\"288.099524\" xlink:href=\"#m48a2ff4c84\" y=\"49.298604\"/>\n     <use style=\"fill:#4c72b0;stroke:#4c72b0;stroke-width:0.3;\" x=\"106.458314\" xlink:href=\"#m48a2ff4c84\" y=\"171.260001\"/>\n     <use style=\"fill:#4c72b0;stroke:#4c72b0;stroke-width:0.3;\" x=\"74.898566\" xlink:href=\"#m48a2ff4c84\" y=\"149.791422\"/>\n     <use style=\"fill:#4c72b0;stroke:#4c72b0;stroke-width:0.3;\" x=\"172.28499\" xlink:href=\"#m48a2ff4c84\" y=\"154.786083\"/>\n     <use style=\"fill:#4c72b0;stroke:#4c72b0;stroke-width:0.3;\" x=\"320.21068\" xlink:href=\"#m48a2ff4c84\" y=\"35.789783\"/>\n     <use style=\"fill:#4c72b0;stroke:#4c72b0;stroke-width:0.3;\" x=\"153.67842\" xlink:href=\"#m48a2ff4c84\" y=\"177.396179\"/>\n     <use style=\"fill:#4c72b0;stroke:#4c72b0;stroke-width:0.3;\" x=\"351.543877\" xlink:href=\"#m48a2ff4c84\" y=\"56.19514\"/>\n     <use style=\"fill:#4c72b0;stroke:#4c72b0;stroke-width:0.3;\" x=\"327.060667\" xlink:href=\"#m48a2ff4c84\" y=\"17.083636\"/>\n     <use style=\"fill:#4c72b0;stroke:#4c72b0;stroke-width:0.3;\" x=\"227.728526\" xlink:href=\"#m48a2ff4c84\" y=\"171.185715\"/>\n     <use style=\"fill:#4c72b0;stroke:#4c72b0;stroke-width:0.3;\" x=\"102.273979\" xlink:href=\"#m48a2ff4c84\" y=\"161.750623\"/>\n     <use style=\"fill:#4c72b0;stroke:#4c72b0;stroke-width:0.3;\" x=\"260.435985\" xlink:href=\"#m48a2ff4c84\" y=\"35.849532\"/>\n     <use style=\"fill:#4c72b0;stroke:#4c72b0;stroke-width:0.3;\" x=\"56.126808\" xlink:href=\"#m48a2ff4c84\" y=\"161.499188\"/>\n     <use style=\"fill:#4c72b0;stroke:#4c72b0;stroke-width:0.3;\" x=\"149.074136\" xlink:href=\"#m48a2ff4c84\" y=\"183.023197\"/>\n     <use style=\"fill:#4c72b0;stroke:#4c72b0;stroke-width:0.3;\" x=\"281.502779\" xlink:href=\"#m48a2ff4c84\" y=\"39.901774\"/>\n     <use style=\"fill:#4c72b0;stroke:#4c72b0;stroke-width:0.3;\" x=\"183.570026\" xlink:href=\"#m48a2ff4c84\" y=\"165.797819\"/>\n     <use style=\"fill:#4c72b0;stroke:#4c72b0;stroke-width:0.3;\" x=\"130.212661\" xlink:href=\"#m48a2ff4c84\" y=\"152.803995\"/>\n     <use style=\"fill:#4c72b0;stroke:#4c72b0;stroke-width:0.3;\" x=\"236.031551\" xlink:href=\"#m48a2ff4c84\" y=\"51.996416\"/>\n     <use style=\"fill:#4c72b0;stroke:#4c72b0;stroke-width:0.3;\" x=\"224.329736\" xlink:href=\"#m48a2ff4c84\" y=\"182.842191\"/>\n     <use style=\"fill:#4c72b0;stroke:#4c72b0;stroke-width:0.3;\" x=\"92.678817\" xlink:href=\"#m48a2ff4c84\" y=\"147.355679\"/>\n     <use style=\"fill:#4c72b0;stroke:#4c72b0;stroke-width:0.3;\" x=\"225.636776\" xlink:href=\"#m48a2ff4c84\" y=\"163.117648\"/>\n     <use style=\"fill:#4c72b0;stroke:#4c72b0;stroke-width:0.3;\" x=\"293.278442\" xlink:href=\"#m48a2ff4c84\" y=\"44.192674\"/>\n     <use style=\"fill:#4c72b0;stroke:#4c72b0;stroke-width:0.3;\" x=\"236.182424\" xlink:href=\"#m48a2ff4c84\" y=\"61.156526\"/>\n     <use style=\"fill:#4c72b0;stroke:#4c72b0;stroke-width:0.3;\" x=\"302.01688\" xlink:href=\"#m48a2ff4c84\" y=\"50.856616\"/>\n     <use style=\"fill:#4c72b0;stroke:#4c72b0;stroke-width:0.3;\" x=\"49.535182\" xlink:href=\"#m48a2ff4c84\" y=\"164.156372\"/>\n     <use style=\"fill:#4c72b0;stroke:#4c72b0;stroke-width:0.3;\" x=\"128.832955\" xlink:href=\"#m48a2ff4c84\" y=\"173.384909\"/>\n     <use style=\"fill:#4c72b0;stroke:#4c72b0;stroke-width:0.3;\" x=\"303.166121\" xlink:href=\"#m48a2ff4c84\" y=\"33.794111\"/>\n     <use style=\"fill:#4c72b0;stroke:#4c72b0;stroke-width:0.3;\" x=\"196.519743\" xlink:href=\"#m48a2ff4c84\" y=\"157.030085\"/>\n     <use style=\"fill:#4c72b0;stroke:#4c72b0;stroke-width:0.3;\" x=\"260.642681\" xlink:href=\"#m48a2ff4c84\" y=\"50.06498\"/>\n     <use style=\"fill:#4c72b0;stroke:#4c72b0;stroke-width:0.3;\" x=\"78.611293\" xlink:href=\"#m48a2ff4c84\" y=\"166.140905\"/>\n     <use style=\"fill:#4c72b0;stroke:#4c72b0;stroke-width:0.3;\" x=\"346.593907\" xlink:href=\"#m48a2ff4c84\" y=\"48.850123\"/>\n     <use style=\"fill:#4c72b0;stroke:#4c72b0;stroke-width:0.3;\" x=\"191.958703\" xlink:href=\"#m48a2ff4c84\" y=\"180.606592\"/>\n     <use style=\"fill:#4c72b0;stroke:#4c72b0;stroke-width:0.3;\" x=\"343.414717\" xlink:href=\"#m48a2ff4c84\" y=\"53.056002\"/>\n     <use style=\"fill:#4c72b0;stroke:#4c72b0;stroke-width:0.3;\" x=\"274.150344\" xlink:href=\"#m48a2ff4c84\" y=\"35.712163\"/>\n     <use style=\"fill:#4c72b0;stroke:#4c72b0;stroke-width:0.3;\" x=\"254.070951\" xlink:href=\"#m48a2ff4c84\" y=\"61.123738\"/>\n     <use style=\"fill:#4c72b0;stroke:#4c72b0;stroke-width:0.3;\" x=\"332.841713\" xlink:href=\"#m48a2ff4c84\" y=\"64.484337\"/>\n     <use style=\"fill:#4c72b0;stroke:#4c72b0;stroke-width:0.3;\" x=\"238.184918\" xlink:href=\"#m48a2ff4c84\" y=\"41.016275\"/>\n     <use style=\"fill:#4c72b0;stroke:#4c72b0;stroke-width:0.3;\" x=\"125.529447\" xlink:href=\"#m48a2ff4c84\" y=\"175.604424\"/>\n     <use style=\"fill:#4c72b0;stroke:#4c72b0;stroke-width:0.3;\" x=\"329.211792\" xlink:href=\"#m48a2ff4c84\" y=\"40.714144\"/>\n     <use style=\"fill:#4c72b0;stroke:#4c72b0;stroke-width:0.3;\" x=\"315.404265\" xlink:href=\"#m48a2ff4c84\" y=\"35.975253\"/>\n     <use style=\"fill:#4c72b0;stroke:#4c72b0;stroke-width:0.3;\" x=\"85.452998\" xlink:href=\"#m48a2ff4c84\" y=\"162.231684\"/>\n     <use style=\"fill:#4c72b0;stroke:#4c72b0;stroke-width:0.3;\" x=\"65.854817\" xlink:href=\"#m48a2ff4c84\" y=\"160.604913\"/>\n     <use style=\"fill:#4c72b0;stroke:#4c72b0;stroke-width:0.3;\" x=\"80.825774\" xlink:href=\"#m48a2ff4c84\" y=\"170.729679\"/>\n     <use style=\"fill:#4c72b0;stroke:#4c72b0;stroke-width:0.3;\" x=\"297.028889\" xlink:href=\"#m48a2ff4c84\" y=\"46.161479\"/>\n     <use style=\"fill:#4c72b0;stroke:#4c72b0;stroke-width:0.3;\" x=\"342.986084\" xlink:href=\"#m48a2ff4c84\" y=\"52.246802\"/>\n     <use style=\"fill:#4c72b0;stroke:#4c72b0;stroke-width:0.3;\" x=\"350.366909\" xlink:href=\"#m48a2ff4c84\" y=\"60.189346\"/>\n     <use style=\"fill:#4c72b0;stroke:#4c72b0;stroke-width:0.3;\" x=\"136.589308\" xlink:href=\"#m48a2ff4c84\" y=\"155.86067\"/>\n     <use style=\"fill:#4c72b0;stroke:#4c72b0;stroke-width:0.3;\" x=\"125.083621\" xlink:href=\"#m48a2ff4c84\" y=\"155.334383\"/>\n     <use style=\"fill:#4c72b0;stroke:#4c72b0;stroke-width:0.3;\" x=\"173.29411\" xlink:href=\"#m48a2ff4c84\" y=\"155.480281\"/>\n     <use style=\"fill:#4c72b0;stroke:#4c72b0;stroke-width:0.3;\" x=\"190.693279\" xlink:href=\"#m48a2ff4c84\" y=\"174.710021\"/>\n     <use style=\"fill:#4c72b0;stroke:#4c72b0;stroke-width:0.3;\" x=\"267.760076\" xlink:href=\"#m48a2ff4c84\" y=\"63.772129\"/>\n     <use style=\"fill:#4c72b0;stroke:#4c72b0;stroke-width:0.3;\" x=\"238.865667\" xlink:href=\"#m48a2ff4c84\" y=\"59.429209\"/>\n     <use style=\"fill:#4c72b0;stroke:#4c72b0;stroke-width:0.3;\" x=\"64.797461\" xlink:href=\"#m48a2ff4c84\" y=\"165.275865\"/>\n     <use style=\"fill:#4c72b0;stroke:#4c72b0;stroke-width:0.3;\" x=\"158.097883\" xlink:href=\"#m48a2ff4c84\" y=\"155.717523\"/>\n     <use style=\"fill:#4c72b0;stroke:#4c72b0;stroke-width:0.3;\" x=\"300.986662\" xlink:href=\"#m48a2ff4c84\" y=\"30.541551\"/>\n     <use style=\"fill:#4c72b0;stroke:#4c72b0;stroke-width:0.3;\" x=\"120.858711\" xlink:href=\"#m48a2ff4c84\" y=\"158.009609\"/>\n     <use style=\"fill:#4c72b0;stroke:#4c72b0;stroke-width:0.3;\" x=\"285.959607\" xlink:href=\"#m48a2ff4c84\" y=\"47.170489\"/>\n     <use style=\"fill:#4c72b0;stroke:#4c72b0;stroke-width:0.3;\" x=\"336.411317\" xlink:href=\"#m48a2ff4c84\" y=\"34.604681\"/>\n     <use style=\"fill:#4c72b0;stroke:#4c72b0;stroke-width:0.3;\" x=\"198.969255\" xlink:href=\"#m48a2ff4c84\" y=\"180.859716\"/>\n     <use style=\"fill:#4c72b0;stroke:#4c72b0;stroke-width:0.3;\" x=\"134.823722\" xlink:href=\"#m48a2ff4c84\" y=\"165.980927\"/>\n     <use style=\"fill:#4c72b0;stroke:#4c72b0;stroke-width:0.3;\" x=\"143.904759\" xlink:href=\"#m48a2ff4c84\" y=\"170.793643\"/>\n     <use style=\"fill:#4c72b0;stroke:#4c72b0;stroke-width:0.3;\" x=\"217.604616\" xlink:href=\"#m48a2ff4c84\" y=\"174.843003\"/>\n     <use style=\"fill:#4c72b0;stroke:#4c72b0;stroke-width:0.3;\" x=\"255.161847\" xlink:href=\"#m48a2ff4c84\" y=\"56.418286\"/>\n     <use style=\"fill:#4c72b0;stroke:#4c72b0;stroke-width:0.3;\" x=\"188.835493\" xlink:href=\"#m48a2ff4c84\" y=\"155.237653\"/>\n     <use style=\"fill:#4c72b0;stroke:#4c72b0;stroke-width:0.3;\" x=\"106.927854\" xlink:href=\"#m48a2ff4c84\" y=\"177.329587\"/>\n     <use style=\"fill:#4c72b0;stroke:#4c72b0;stroke-width:0.3;\" x=\"263.325127\" xlink:href=\"#m48a2ff4c84\" y=\"45.193671\"/>\n     <use style=\"fill:#4c72b0;stroke:#4c72b0;stroke-width:0.3;\" x=\"64.594648\" xlink:href=\"#m48a2ff4c84\" y=\"169.757411\"/>\n     <use style=\"fill:#4c72b0;stroke:#4c72b0;stroke-width:0.3;\" x=\"148.430607\" xlink:href=\"#m48a2ff4c84\" y=\"161.394583\"/>\n     <use style=\"fill:#4c72b0;stroke:#4c72b0;stroke-width:0.3;\" x=\"119.078851\" xlink:href=\"#m48a2ff4c84\" y=\"167.445157\"/>\n     <use style=\"fill:#4c72b0;stroke:#4c72b0;stroke-width:0.3;\" x=\"258.22188\" xlink:href=\"#m48a2ff4c84\" y=\"37.369483\"/>\n     <use style=\"fill:#4c72b0;stroke:#4c72b0;stroke-width:0.3;\" x=\"119.963188\" xlink:href=\"#m48a2ff4c84\" y=\"195.911548\"/>\n     <use style=\"fill:#4c72b0;stroke:#4c72b0;stroke-width:0.3;\" x=\"149.428138\" xlink:href=\"#m48a2ff4c84\" y=\"186.360174\"/>\n     <use style=\"fill:#4c72b0;stroke:#4c72b0;stroke-width:0.3;\" x=\"335.209078\" xlink:href=\"#m48a2ff4c84\" y=\"50.224569\"/>\n     <use style=\"fill:#4c72b0;stroke:#4c72b0;stroke-width:0.3;\" x=\"139.428157\" xlink:href=\"#m48a2ff4c84\" y=\"162.772626\"/>\n     <use style=\"fill:#4c72b0;stroke:#4c72b0;stroke-width:0.3;\" x=\"120.056851\" xlink:href=\"#m48a2ff4c84\" y=\"157.975416\"/>\n     <use style=\"fill:#4c72b0;stroke:#4c72b0;stroke-width:0.3;\" x=\"68.225924\" xlink:href=\"#m48a2ff4c84\" y=\"155.355856\"/>\n     <use style=\"fill:#4c72b0;stroke:#4c72b0;stroke-width:0.3;\" x=\"296.586089\" xlink:href=\"#m48a2ff4c84\" y=\"45.691115\"/>\n     <use style=\"fill:#4c72b0;stroke:#4c72b0;stroke-width:0.3;\" x=\"248.21067\" xlink:href=\"#m48a2ff4c84\" y=\"56.322429\"/>\n     <use style=\"fill:#4c72b0;stroke:#4c72b0;stroke-width:0.3;\" x=\"311.101001\" xlink:href=\"#m48a2ff4c84\" y=\"39.612207\"/>\n     <use style=\"fill:#4c72b0;stroke:#4c72b0;stroke-width:0.3;\" x=\"197.507558\" xlink:href=\"#m48a2ff4c84\" y=\"167.956158\"/>\n     <use style=\"fill:#4c72b0;stroke:#4c72b0;stroke-width:0.3;\" x=\"285.305803\" xlink:href=\"#m48a2ff4c84\" y=\"35.985363\"/>\n     <use style=\"fill:#4c72b0;stroke:#4c72b0;stroke-width:0.3;\" x=\"109.739398\" xlink:href=\"#m48a2ff4c84\" y=\"172.425593\"/>\n     <use style=\"fill:#4c72b0;stroke:#4c72b0;stroke-width:0.3;\" x=\"70.067872\" xlink:href=\"#m48a2ff4c84\" y=\"180.470362\"/>\n     <use style=\"fill:#4c72b0;stroke:#4c72b0;stroke-width:0.3;\" x=\"209.046494\" xlink:href=\"#m48a2ff4c84\" y=\"182.089549\"/>\n     <use style=\"fill:#4c72b0;stroke:#4c72b0;stroke-width:0.3;\" x=\"72.188375\" xlink:href=\"#m48a2ff4c84\" y=\"189.262411\"/>\n     <use style=\"fill:#4c72b0;stroke:#4c72b0;stroke-width:0.3;\" x=\"129.949773\" xlink:href=\"#m48a2ff4c84\" y=\"186.66818\"/>\n     <use style=\"fill:#4c72b0;stroke:#4c72b0;stroke-width:0.3;\" x=\"50.402672\" xlink:href=\"#m48a2ff4c84\" y=\"155.6728\"/>\n     <use style=\"fill:#4c72b0;stroke:#4c72b0;stroke-width:0.3;\" x=\"201.456613\" xlink:href=\"#m48a2ff4c84\" y=\"186.899949\"/>\n     <use style=\"fill:#4c72b0;stroke:#4c72b0;stroke-width:0.3;\" x=\"352.559683\" xlink:href=\"#m48a2ff4c84\" y=\"39.055255\"/>\n     <use style=\"fill:#4c72b0;stroke:#4c72b0;stroke-width:0.3;\" x=\"128.258175\" xlink:href=\"#m48a2ff4c84\" y=\"155.90464\"/>\n     <use style=\"fill:#4c72b0;stroke:#4c72b0;stroke-width:0.3;\" x=\"145.436476\" xlink:href=\"#m48a2ff4c84\" y=\"180.12966\"/>\n     <use style=\"fill:#4c72b0;stroke:#4c72b0;stroke-width:0.3;\" x=\"179.309294\" xlink:href=\"#m48a2ff4c84\" y=\"165.667063\"/>\n     <use style=\"fill:#4c72b0;stroke:#4c72b0;stroke-width:0.3;\" x=\"236.652945\" xlink:href=\"#m48a2ff4c84\" y=\"53.280566\"/>\n     <use style=\"fill:#4c72b0;stroke:#4c72b0;stroke-width:0.3;\" x=\"89.385819\" xlink:href=\"#m48a2ff4c84\" y=\"155.662289\"/>\n     <use style=\"fill:#4c72b0;stroke:#4c72b0;stroke-width:0.3;\" x=\"181.454963\" xlink:href=\"#m48a2ff4c84\" y=\"166.455313\"/>\n     <use style=\"fill:#4c72b0;stroke:#4c72b0;stroke-width:0.3;\" x=\"162.209218\" xlink:href=\"#m48a2ff4c84\" y=\"181.279476\"/>\n     <use style=\"fill:#4c72b0;stroke:#4c72b0;stroke-width:0.3;\" x=\"212.211773\" xlink:href=\"#m48a2ff4c84\" y=\"180.995453\"/>\n     <use style=\"fill:#4c72b0;stroke:#4c72b0;stroke-width:0.3;\" x=\"291.471457\" xlink:href=\"#m48a2ff4c84\" y=\"56.284903\"/>\n     <use style=\"fill:#4c72b0;stroke:#4c72b0;stroke-width:0.3;\" x=\"168.630062\" xlink:href=\"#m48a2ff4c84\" y=\"175.602799\"/>\n     <use style=\"fill:#4c72b0;stroke:#4c72b0;stroke-width:0.3;\" x=\"334.715545\" xlink:href=\"#m48a2ff4c84\" y=\"67.192453\"/>\n     <use style=\"fill:#4c72b0;stroke:#4c72b0;stroke-width:0.3;\" x=\"128.026794\" xlink:href=\"#m48a2ff4c84\" y=\"150.421305\"/>\n     <use style=\"fill:#4c72b0;stroke:#4c72b0;stroke-width:0.3;\" x=\"255.159906\" xlink:href=\"#m48a2ff4c84\" y=\"63.748972\"/>\n     <use style=\"fill:#4c72b0;stroke:#4c72b0;stroke-width:0.3;\" x=\"298.806699\" xlink:href=\"#m48a2ff4c84\" y=\"35.72778\"/>\n     <use style=\"fill:#4c72b0;stroke:#4c72b0;stroke-width:0.3;\" x=\"161.837014\" xlink:href=\"#m48a2ff4c84\" y=\"188.382521\"/>\n     <use style=\"fill:#4c72b0;stroke:#4c72b0;stroke-width:0.3;\" x=\"291.18096\" xlink:href=\"#m48a2ff4c84\" y=\"52.736333\"/>\n     <use style=\"fill:#4c72b0;stroke:#4c72b0;stroke-width:0.3;\" x=\"297.277697\" xlink:href=\"#m48a2ff4c84\" y=\"51.749813\"/>\n     <use style=\"fill:#4c72b0;stroke:#4c72b0;stroke-width:0.3;\" x=\"213.754071\" xlink:href=\"#m48a2ff4c84\" y=\"156.186211\"/>\n     <use style=\"fill:#4c72b0;stroke:#4c72b0;stroke-width:0.3;\" x=\"208.917891\" xlink:href=\"#m48a2ff4c84\" y=\"188.001569\"/>\n     <use style=\"fill:#4c72b0;stroke:#4c72b0;stroke-width:0.3;\" x=\"190.252093\" xlink:href=\"#m48a2ff4c84\" y=\"171.212144\"/>\n     <use style=\"fill:#4c72b0;stroke:#4c72b0;stroke-width:0.3;\" x=\"331.623265\" xlink:href=\"#m48a2ff4c84\" y=\"75.049182\"/>\n     <use style=\"fill:#4c72b0;stroke:#4c72b0;stroke-width:0.3;\" x=\"174.46665\" xlink:href=\"#m48a2ff4c84\" y=\"161.211756\"/>\n     <use style=\"fill:#4c72b0;stroke:#4c72b0;stroke-width:0.3;\" x=\"338.711203\" xlink:href=\"#m48a2ff4c84\" y=\"37.983037\"/>\n     <use style=\"fill:#4c72b0;stroke:#4c72b0;stroke-width:0.3;\" x=\"166.951855\" xlink:href=\"#m48a2ff4c84\" y=\"168.717675\"/>\n     <use style=\"fill:#4c72b0;stroke:#4c72b0;stroke-width:0.3;\" x=\"112.030324\" xlink:href=\"#m48a2ff4c84\" y=\"153.632374\"/>\n     <use style=\"fill:#4c72b0;stroke:#4c72b0;stroke-width:0.3;\" x=\"197.454106\" xlink:href=\"#m48a2ff4c84\" y=\"191.665126\"/>\n     <use style=\"fill:#4c72b0;stroke:#4c72b0;stroke-width:0.3;\" x=\"259.928895\" xlink:href=\"#m48a2ff4c84\" y=\"52.84224\"/>\n     <use style=\"fill:#4c72b0;stroke:#4c72b0;stroke-width:0.3;\" x=\"331.578265\" xlink:href=\"#m48a2ff4c84\" y=\"68.008506\"/>\n     <use style=\"fill:#4c72b0;stroke:#4c72b0;stroke-width:0.3;\" x=\"235.528532\" xlink:href=\"#m48a2ff4c84\" y=\"48.088811\"/>\n     <use style=\"fill:#4c72b0;stroke:#4c72b0;stroke-width:0.3;\" x=\"276.503816\" xlink:href=\"#m48a2ff4c84\" y=\"67.979617\"/>\n     <use style=\"fill:#4c72b0;stroke:#4c72b0;stroke-width:0.3;\" x=\"97.791703\" xlink:href=\"#m48a2ff4c84\" y=\"163.536031\"/>\n     <use style=\"fill:#4c72b0;stroke:#4c72b0;stroke-width:0.3;\" x=\"256.719094\" xlink:href=\"#m48a2ff4c84\" y=\"43.516867\"/>\n     <use style=\"fill:#4c72b0;stroke:#4c72b0;stroke-width:0.3;\" x=\"126.809583\" xlink:href=\"#m48a2ff4c84\" y=\"163.485886\"/>\n     <use style=\"fill:#4c72b0;stroke:#4c72b0;stroke-width:0.3;\" x=\"154.437824\" xlink:href=\"#m48a2ff4c84\" y=\"169.411156\"/>\n     <use style=\"fill:#4c72b0;stroke:#4c72b0;stroke-width:0.3;\" x=\"152.073616\" xlink:href=\"#m48a2ff4c84\" y=\"148.592994\"/>\n     <use style=\"fill:#4c72b0;stroke:#4c72b0;stroke-width:0.3;\" x=\"139.980793\" xlink:href=\"#m48a2ff4c84\" y=\"186.310093\"/>\n     <use style=\"fill:#4c72b0;stroke:#4c72b0;stroke-width:0.3;\" x=\"331.934655\" xlink:href=\"#m48a2ff4c84\" y=\"43.80098\"/>\n     <use style=\"fill:#4c72b0;stroke:#4c72b0;stroke-width:0.3;\" x=\"279.575699\" xlink:href=\"#m48a2ff4c84\" y=\"41.4993\"/>\n     <use style=\"fill:#4c72b0;stroke:#4c72b0;stroke-width:0.3;\" x=\"323.011826\" xlink:href=\"#m48a2ff4c84\" y=\"48.454866\"/>\n     <use style=\"fill:#4c72b0;stroke:#4c72b0;stroke-width:0.3;\" x=\"139.330205\" xlink:href=\"#m48a2ff4c84\" y=\"178.183303\"/>\n     <use style=\"fill:#4c72b0;stroke:#4c72b0;stroke-width:0.3;\" x=\"93.826365\" xlink:href=\"#m48a2ff4c84\" y=\"174.902902\"/>\n     <use style=\"fill:#4c72b0;stroke:#4c72b0;stroke-width:0.3;\" x=\"244.566096\" xlink:href=\"#m48a2ff4c84\" y=\"62.043907\"/>\n     <use style=\"fill:#4c72b0;stroke:#4c72b0;stroke-width:0.3;\" x=\"324.074453\" xlink:href=\"#m48a2ff4c84\" y=\"42.262975\"/>\n     <use style=\"fill:#4c72b0;stroke:#4c72b0;stroke-width:0.3;\" x=\"99.516661\" xlink:href=\"#m48a2ff4c84\" y=\"169.983001\"/>\n     <use style=\"fill:#4c72b0;stroke:#4c72b0;stroke-width:0.3;\" x=\"302.587712\" xlink:href=\"#m48a2ff4c84\" y=\"49.868388\"/>\n     <use style=\"fill:#4c72b0;stroke:#4c72b0;stroke-width:0.3;\" x=\"267.593482\" xlink:href=\"#m48a2ff4c84\" y=\"52.549278\"/>\n     <use style=\"fill:#4c72b0;stroke:#4c72b0;stroke-width:0.3;\" x=\"329.158556\" xlink:href=\"#m48a2ff4c84\" y=\"39.255844\"/>\n     <use style=\"fill:#4c72b0;stroke:#4c72b0;stroke-width:0.3;\" x=\"164.494856\" xlink:href=\"#m48a2ff4c84\" y=\"180.180349\"/>\n     <use style=\"fill:#4c72b0;stroke:#4c72b0;stroke-width:0.3;\" x=\"343.999069\" xlink:href=\"#m48a2ff4c84\" y=\"48.146981\"/>\n     <use style=\"fill:#4c72b0;stroke:#4c72b0;stroke-width:0.3;\" x=\"198.603738\" xlink:href=\"#m48a2ff4c84\" y=\"163.950589\"/>\n     <use style=\"fill:#4c72b0;stroke:#4c72b0;stroke-width:0.3;\" x=\"108.585272\" xlink:href=\"#m48a2ff4c84\" y=\"186.283175\"/>\n     <use style=\"fill:#4c72b0;stroke:#4c72b0;stroke-width:0.3;\" x=\"258.623352\" xlink:href=\"#m48a2ff4c84\" y=\"60.930545\"/>\n    </g>\n   </g>\n   <g id=\"patch_3\">\n    <path d=\"M 33.940625 224.64 \nL 33.940625 7.2 \n\" style=\"fill:none;\"/>\n   </g>\n   <g id=\"patch_4\">\n    <path d=\"M 368.740625 224.64 \nL 368.740625 7.2 \n\" style=\"fill:none;\"/>\n   </g>\n   <g id=\"patch_5\">\n    <path d=\"M 33.940625 224.64 \nL 368.740625 224.64 \n\" style=\"fill:none;\"/>\n   </g>\n   <g id=\"patch_6\">\n    <path d=\"M 33.940625 7.2 \nL 368.740625 7.2 \n\" style=\"fill:none;\"/>\n   </g>\n  </g>\n </g>\n <defs>\n  <clipPath id=\"pca7cb581fc\">\n   <rect height=\"217.44\" width=\"334.8\" x=\"33.940625\" y=\"7.2\"/>\n  </clipPath>\n </defs>\n</svg>\n"
          },
          "metadata": {
            "needs_background": "light"
          }
        }
      ]
    },
    {
      "cell_type": "markdown",
      "source": [
        "> For the report. If you consider the data-generating function, what kind of decision tree would we want to describe this data?"
      ],
      "metadata": {
        "id": "SE-VI8NAeomd"
      }
    },
    {
      "cell_type": "code",
      "source": [
        "Xtrain, Xtest, Ytrain, Ytest = train_test_split(X, Y, test_size=0.2, random_state=0)"
      ],
      "metadata": {
        "id": "H-MimtECezAt"
      },
      "execution_count": 61,
      "outputs": []
    },
    {
      "cell_type": "markdown",
      "source": [
        "Let's do some training and prediction on the generated dataset."
      ],
      "metadata": {
        "id": "k1SA_DgHfQrb"
      }
    },
    {
      "cell_type": "code",
      "source": [
        "depths = [x for x in range(13)]\n",
        "criterions = ['squared_error']\n",
        "best_score = -1\n",
        "scores = {}\n",
        "\n",
        "for (d, c) in itertools.product(depths, criterions):\n",
        "    model = TreeRegressor(max_depth=d, criterion=c)\n",
        "    model.fit(Xtrain, Ytrain)\n",
        "    score = cross_validate(model, Xtrain, Ytrain,\n",
        "                        scoring='neg_mean_squared_error')['test_score']\n",
        "    score = aggregate_scores(score)\n",
        "    print(f'INFO. TreeRegressor max_depth={d} reached score: {score:.4f}')"
      ],
      "metadata": {
        "id": "VPks5n0ge50f",
        "colab": {
          "base_uri": "https://localhost:8080/"
        },
        "outputId": "e53112c6-e8d4-4017-fc95-fc8a265f63e1"
      },
      "execution_count": 62,
      "outputs": [
        {
          "output_type": "stream",
          "name": "stdout",
          "text": [
            "INFO. TreeRegressor max_depth=0 reached score: -0.2473\n",
            "INFO. TreeRegressor max_depth=1 reached score: -0.2473\n",
            "INFO. TreeRegressor max_depth=2 reached score: -0.2473\n",
            "INFO. TreeRegressor max_depth=3 reached score: -0.2473\n",
            "INFO. TreeRegressor max_depth=4 reached score: -0.2473\n",
            "INFO. TreeRegressor max_depth=5 reached score: -0.2473\n",
            "INFO. TreeRegressor max_depth=6 reached score: -0.2473\n",
            "INFO. TreeRegressor max_depth=7 reached score: -0.2473\n",
            "INFO. TreeRegressor max_depth=8 reached score: -0.2473\n",
            "INFO. TreeRegressor max_depth=9 reached score: -0.2473\n",
            "INFO. TreeRegressor max_depth=10 reached score: -0.2473\n",
            "INFO. TreeRegressor max_depth=11 reached score: -0.2473\n",
            "INFO. TreeRegressor max_depth=12 reached score: -0.2473\n"
          ]
        }
      ]
    },
    {
      "cell_type": "markdown",
      "source": [
        "### Step 3. Predicting apartment prices using decision tree regression\n",
        "\n",
        "Let's load the dataset again."
      ],
      "metadata": {
        "id": "p-VLiIkTclCq"
      }
    },
    {
      "cell_type": "code",
      "source": [
        "# Read the CSV file using Pandas.\n",
        "filename = os.path.join(data_dir, 'sberbank.csv')\n",
        "alldata = pd.read_csv(filename)\n",
        "\n",
        "# Convert the timestamp string to an integer representing the year.\n",
        "def get_year(timestamp):\n",
        "    return int(timestamp[:4])\n",
        "alldata['year'] = alldata.timestamp.apply(get_year)\n",
        "\n",
        "# Select the 9 input columns and the output column.\n",
        "selected_columns = ['price_doc', 'year', 'full_sq', 'life_sq', 'floor', 'num_room', 'kitch_sq', 'full_all']\n",
        "alldata = alldata[selected_columns]\n",
        "alldata = alldata.dropna()\n",
        "\n",
        "# Shuffle.\n",
        "alldata_shuffled = alldata.sample(frac=1.0, random_state=0)\n",
        "\n",
        "# Separate the input and output columns.\n",
        "X = alldata_shuffled.drop('price_doc', axis=1)\n",
        "# For the output, we'll use the log of the sales price.\n",
        "Y = alldata_shuffled['price_doc'].apply(np.log)\n",
        "\n",
        "# Split into training and test sets.\n",
        "Xtrain, Xtest, Ytrain, Ytest = train_test_split(X, Y, test_size=0.2, random_state=0)\n",
        "Xtrain.head()\n",
        "# Ytrain.head()"
      ],
      "metadata": {
        "id": "IeuCIYaKcn85",
        "colab": {
          "base_uri": "https://localhost:8080/",
          "height": 206
        },
        "outputId": "bf09f8ff-0125-4881-de18-66d48217bd18"
      },
      "execution_count": 44,
      "outputs": [
        {
          "output_type": "execute_result",
          "data": {
            "text/plain": [
              "       year  full_sq  life_sq  floor  num_room  kitch_sq  full_all\n",
              "11042  2013       74     74.0    2.0       2.0       1.0    122862\n",
              "11309  2013       60      1.0   23.0       2.0       1.0    156377\n",
              "12432  2013       31      1.0   22.0       1.0       1.0     13890\n",
              "9674   2013       37     20.0   12.0       1.0      10.0    156377\n",
              "13000  2013       40     40.0   15.0       1.0       1.0     21155"
            ],
            "text/html": [
              "\n",
              "  <div id=\"df-424a0285-518a-48af-9b53-20e5ae5d7d85\">\n",
              "    <div class=\"colab-df-container\">\n",
              "      <div>\n",
              "<style scoped>\n",
              "    .dataframe tbody tr th:only-of-type {\n",
              "        vertical-align: middle;\n",
              "    }\n",
              "\n",
              "    .dataframe tbody tr th {\n",
              "        vertical-align: top;\n",
              "    }\n",
              "\n",
              "    .dataframe thead th {\n",
              "        text-align: right;\n",
              "    }\n",
              "</style>\n",
              "<table border=\"1\" class=\"dataframe\">\n",
              "  <thead>\n",
              "    <tr style=\"text-align: right;\">\n",
              "      <th></th>\n",
              "      <th>year</th>\n",
              "      <th>full_sq</th>\n",
              "      <th>life_sq</th>\n",
              "      <th>floor</th>\n",
              "      <th>num_room</th>\n",
              "      <th>kitch_sq</th>\n",
              "      <th>full_all</th>\n",
              "    </tr>\n",
              "  </thead>\n",
              "  <tbody>\n",
              "    <tr>\n",
              "      <th>11042</th>\n",
              "      <td>2013</td>\n",
              "      <td>74</td>\n",
              "      <td>74.0</td>\n",
              "      <td>2.0</td>\n",
              "      <td>2.0</td>\n",
              "      <td>1.0</td>\n",
              "      <td>122862</td>\n",
              "    </tr>\n",
              "    <tr>\n",
              "      <th>11309</th>\n",
              "      <td>2013</td>\n",
              "      <td>60</td>\n",
              "      <td>1.0</td>\n",
              "      <td>23.0</td>\n",
              "      <td>2.0</td>\n",
              "      <td>1.0</td>\n",
              "      <td>156377</td>\n",
              "    </tr>\n",
              "    <tr>\n",
              "      <th>12432</th>\n",
              "      <td>2013</td>\n",
              "      <td>31</td>\n",
              "      <td>1.0</td>\n",
              "      <td>22.0</td>\n",
              "      <td>1.0</td>\n",
              "      <td>1.0</td>\n",
              "      <td>13890</td>\n",
              "    </tr>\n",
              "    <tr>\n",
              "      <th>9674</th>\n",
              "      <td>2013</td>\n",
              "      <td>37</td>\n",
              "      <td>20.0</td>\n",
              "      <td>12.0</td>\n",
              "      <td>1.0</td>\n",
              "      <td>10.0</td>\n",
              "      <td>156377</td>\n",
              "    </tr>\n",
              "    <tr>\n",
              "      <th>13000</th>\n",
              "      <td>2013</td>\n",
              "      <td>40</td>\n",
              "      <td>40.0</td>\n",
              "      <td>15.0</td>\n",
              "      <td>1.0</td>\n",
              "      <td>1.0</td>\n",
              "      <td>21155</td>\n",
              "    </tr>\n",
              "  </tbody>\n",
              "</table>\n",
              "</div>\n",
              "      <button class=\"colab-df-convert\" onclick=\"convertToInteractive('df-424a0285-518a-48af-9b53-20e5ae5d7d85')\"\n",
              "              title=\"Convert this dataframe to an interactive table.\"\n",
              "              style=\"display:none;\">\n",
              "        \n",
              "  <svg xmlns=\"http://www.w3.org/2000/svg\" height=\"24px\"viewBox=\"0 0 24 24\"\n",
              "       width=\"24px\">\n",
              "    <path d=\"M0 0h24v24H0V0z\" fill=\"none\"/>\n",
              "    <path d=\"M18.56 5.44l.94 2.06.94-2.06 2.06-.94-2.06-.94-.94-2.06-.94 2.06-2.06.94zm-11 1L8.5 8.5l.94-2.06 2.06-.94-2.06-.94L8.5 2.5l-.94 2.06-2.06.94zm10 10l.94 2.06.94-2.06 2.06-.94-2.06-.94-.94-2.06-.94 2.06-2.06.94z\"/><path d=\"M17.41 7.96l-1.37-1.37c-.4-.4-.92-.59-1.43-.59-.52 0-1.04.2-1.43.59L10.3 9.45l-7.72 7.72c-.78.78-.78 2.05 0 2.83L4 21.41c.39.39.9.59 1.41.59.51 0 1.02-.2 1.41-.59l7.78-7.78 2.81-2.81c.8-.78.8-2.07 0-2.86zM5.41 20L4 18.59l7.72-7.72 1.47 1.35L5.41 20z\"/>\n",
              "  </svg>\n",
              "      </button>\n",
              "      \n",
              "  <style>\n",
              "    .colab-df-container {\n",
              "      display:flex;\n",
              "      flex-wrap:wrap;\n",
              "      gap: 12px;\n",
              "    }\n",
              "\n",
              "    .colab-df-convert {\n",
              "      background-color: #E8F0FE;\n",
              "      border: none;\n",
              "      border-radius: 50%;\n",
              "      cursor: pointer;\n",
              "      display: none;\n",
              "      fill: #1967D2;\n",
              "      height: 32px;\n",
              "      padding: 0 0 0 0;\n",
              "      width: 32px;\n",
              "    }\n",
              "\n",
              "    .colab-df-convert:hover {\n",
              "      background-color: #E2EBFA;\n",
              "      box-shadow: 0px 1px 2px rgba(60, 64, 67, 0.3), 0px 1px 3px 1px rgba(60, 64, 67, 0.15);\n",
              "      fill: #174EA6;\n",
              "    }\n",
              "\n",
              "    [theme=dark] .colab-df-convert {\n",
              "      background-color: #3B4455;\n",
              "      fill: #D2E3FC;\n",
              "    }\n",
              "\n",
              "    [theme=dark] .colab-df-convert:hover {\n",
              "      background-color: #434B5C;\n",
              "      box-shadow: 0px 1px 3px 1px rgba(0, 0, 0, 0.15);\n",
              "      filter: drop-shadow(0px 1px 2px rgba(0, 0, 0, 0.3));\n",
              "      fill: #FFFFFF;\n",
              "    }\n",
              "  </style>\n",
              "\n",
              "      <script>\n",
              "        const buttonEl =\n",
              "          document.querySelector('#df-424a0285-518a-48af-9b53-20e5ae5d7d85 button.colab-df-convert');\n",
              "        buttonEl.style.display =\n",
              "          google.colab.kernel.accessAllowed ? 'block' : 'none';\n",
              "\n",
              "        async function convertToInteractive(key) {\n",
              "          const element = document.querySelector('#df-424a0285-518a-48af-9b53-20e5ae5d7d85');\n",
              "          const dataTable =\n",
              "            await google.colab.kernel.invokeFunction('convertToInteractive',\n",
              "                                                     [key], {});\n",
              "          if (!dataTable) return;\n",
              "\n",
              "          const docLinkHtml = 'Like what you see? Visit the ' +\n",
              "            '<a target=\"_blank\" href=https://colab.research.google.com/notebooks/data_table.ipynb>data table notebook</a>'\n",
              "            + ' to learn more about interactive tables.';\n",
              "          element.innerHTML = '';\n",
              "          dataTable['output_type'] = 'display_data';\n",
              "          await google.colab.output.renderOutput(dataTable, element);\n",
              "          const docLink = document.createElement('div');\n",
              "          docLink.innerHTML = docLinkHtml;\n",
              "          element.appendChild(docLink);\n",
              "        }\n",
              "      </script>\n",
              "    </div>\n",
              "  </div>\n",
              "  "
            ]
          },
          "metadata": {},
          "execution_count": 44
        }
      ]
    },
    {
      "cell_type": "markdown",
      "source": [
        "Let's do cross-validation on the dataset."
      ],
      "metadata": {
        "id": "bAyIZkBegIqQ"
      }
    },
    {
      "cell_type": "code",
      "source": [
        "depths = [x for x in range(13)]\n",
        "criterions = ['maj_sum', 'info_gain', 'gini']\n",
        "best_score = -1\n",
        "models = {}\n",
        "scores = {}\n",
        "\n",
        "for (d, c) in itertools.product(depths, criterions):\n",
        "    model = TreeRegressor(max_depth=d, criterion=c)\n",
        "    score = cross_validate(model, Xtrain, Ytrain,\n",
        "                           scoring='neg_mean_squared_error')['test_score']\n",
        "    score = aggregate_scores(score)\n",
        "    scores[f'd={d}, c={c}'] = score\n",
        "    models[f'd={d}, c={c}'] = model\n",
        "    print(f'INFO. Tree with depth {d} with criterion {c} achieved: {score:.4f}')\n",
        "    if score > best_score:\n",
        "        best_model = f'd={d}, c={c}'\n",
        "        best_score = score\n",
        "print(f'INFO. Tree with {best_model} achieved best score: {scores[best_model]:.4f}')"
      ],
      "metadata": {
        "id": "qQGgjgzOgTUr",
        "colab": {
          "base_uri": "https://localhost:8080/"
        },
        "outputId": "8996e035-1ab2-4ba7-de28-9f31a1cb0aee"
      },
      "execution_count": 45,
      "outputs": [
        {
          "output_type": "stream",
          "name": "stdout",
          "text": [
            "INFO. Tree with depth 0 with criterion maj_sum achieved: -0.3716\n",
            "INFO. Tree with depth 0 with criterion info_gain achieved: -0.3716\n",
            "INFO. Tree with depth 0 with criterion gini achieved: -0.3716\n",
            "INFO. Tree with depth 1 with criterion maj_sum achieved: -0.3716\n",
            "INFO. Tree with depth 1 with criterion info_gain achieved: -0.3716\n",
            "INFO. Tree with depth 1 with criterion gini achieved: -0.3716\n",
            "INFO. Tree with depth 2 with criterion maj_sum achieved: -0.3716\n",
            "INFO. Tree with depth 2 with criterion info_gain achieved: -0.3716\n",
            "INFO. Tree with depth 2 with criterion gini achieved: -0.3716\n",
            "INFO. Tree with depth 3 with criterion maj_sum achieved: -0.3716\n",
            "INFO. Tree with depth 3 with criterion info_gain achieved: -0.3716\n",
            "INFO. Tree with depth 3 with criterion gini achieved: -0.3716\n",
            "INFO. Tree with depth 4 with criterion maj_sum achieved: -0.3716\n",
            "INFO. Tree with depth 4 with criterion info_gain achieved: -0.3716\n",
            "INFO. Tree with depth 4 with criterion gini achieved: -0.3716\n",
            "INFO. Tree with depth 5 with criterion maj_sum achieved: -0.3716\n",
            "INFO. Tree with depth 5 with criterion info_gain achieved: -0.3716\n",
            "INFO. Tree with depth 5 with criterion gini achieved: -0.3716\n",
            "INFO. Tree with depth 6 with criterion maj_sum achieved: -0.3716\n",
            "INFO. Tree with depth 6 with criterion info_gain achieved: -0.3716\n",
            "INFO. Tree with depth 6 with criterion gini achieved: -0.3716\n",
            "INFO. Tree with depth 7 with criterion maj_sum achieved: -0.3716\n",
            "INFO. Tree with depth 7 with criterion info_gain achieved: -0.3716\n",
            "INFO. Tree with depth 7 with criterion gini achieved: -0.3716\n",
            "INFO. Tree with depth 8 with criterion maj_sum achieved: -0.3716\n",
            "INFO. Tree with depth 8 with criterion info_gain achieved: -0.3716\n",
            "INFO. Tree with depth 8 with criterion gini achieved: -0.3716\n",
            "INFO. Tree with depth 9 with criterion maj_sum achieved: -0.3716\n",
            "INFO. Tree with depth 9 with criterion info_gain achieved: -0.3716\n",
            "INFO. Tree with depth 9 with criterion gini achieved: -0.3716\n",
            "INFO. Tree with depth 10 with criterion maj_sum achieved: -0.3716\n",
            "INFO. Tree with depth 10 with criterion info_gain achieved: -0.3716\n",
            "INFO. Tree with depth 10 with criterion gini achieved: -0.3716\n",
            "INFO. Tree with depth 11 with criterion maj_sum achieved: -0.3716\n",
            "INFO. Tree with depth 11 with criterion info_gain achieved: -0.3716\n",
            "INFO. Tree with depth 11 with criterion gini achieved: -0.3716\n",
            "INFO. Tree with depth 12 with criterion maj_sum achieved: -0.3716\n",
            "INFO. Tree with depth 12 with criterion info_gain achieved: -0.3716\n",
            "INFO. Tree with depth 12 with criterion gini achieved: -0.3716\n",
            "INFO. Tree with d=0, c=maj_sum achieved best score: -0.3716\n"
          ]
        }
      ]
    },
    {
      "cell_type": "markdown",
      "source": [
        "Once the best model is identified, let's train and evaluate it on the dataset."
      ],
      "metadata": {
        "id": "GYoSXPNMfUpX"
      }
    },
    {
      "cell_type": "code",
      "source": [
        "from sklearn.metrics import mean_squared_error\n",
        "\n",
        "models[best_model].fit(Xtrain, Ytrain)\n",
        "neg_mse = mean_squared_error(Ytest, models[best_model].predict(Xtest))\n",
        "print(f'INFO. Trained TreeRegressor reached MSE of: {neg_mse:.4f}')"
      ],
      "metadata": {
        "id": "tnfPAqXhgZ4n",
        "colab": {
          "base_uri": "https://localhost:8080/"
        },
        "outputId": "05ef76c3-6b00-4f6a-97c9-e0105f30088a"
      },
      "execution_count": 48,
      "outputs": [
        {
          "output_type": "stream",
          "name": "stdout",
          "text": [
            "INFO. Trained TreeRegressor reached MSE of: 0.4022\n"
          ]
        }
      ]
    },
    {
      "cell_type": "markdown",
      "source": [
        "> For the report. In your submitted report, please describe what tree depth you used and the evaluation score you got on the test set."
      ],
      "metadata": {
        "id": "hcd34u7CgnKh"
      }
    },
    {
      "cell_type": "markdown",
      "source": [
        "### Step 4. Underfitting and overfitting"
      ],
      "metadata": {
        "id": "x-8CdOJ8cogL"
      }
    },
    {
      "cell_type": "code",
      "source": [
        "eval_scores_train = {}\n",
        "eval_scores_test = {}\n",
        "\n",
        "for model_id in models.keys():\n",
        "    models[model_id].fit(Xtrain, Ytrain)\n",
        "    neg_mse_train = mean_squared_error(Ytrain, models[model_id].predict(Xtrain))\n",
        "    neg_mse_test = mean_squared_error(Ytest, models[model_id].predict(Xtest))\n",
        "    eval_scores_train[model_id] = neg_mse_train\n",
        "    eval_scores_test[model_id] = neg_mse_test\n",
        "eval_scores_test.values()"
      ],
      "metadata": {
        "id": "H865qYCKgZmE",
        "colab": {
          "base_uri": "https://localhost:8080/"
        },
        "outputId": "f3ac8827-23a0-48c7-d6f2-3543c1be0ea0"
      },
      "execution_count": 57,
      "outputs": [
        {
          "output_type": "execute_result",
          "data": {
            "text/plain": [
              "dict_values([0.402233142382155, 0.402233142382155, 0.402233142382155, 0.402233142382155, 0.402233142382155, 0.402233142382155, 0.402233142382155, 0.402233142382155, 0.402233142382155, 0.402233142382155, 0.402233142382155, 0.402233142382155, 0.402233142382155, 0.402233142382155, 0.402233142382155, 0.402233142382155, 0.402233142382155, 0.402233142382155, 0.402233142382155, 0.402233142382155, 0.402233142382155, 0.402233142382155, 0.402233142382155, 0.402233142382155, 0.402233142382155, 0.402233142382155, 0.402233142382155, 0.402233142382155, 0.402233142382155, 0.402233142382155, 0.402233142382155, 0.402233142382155, 0.402233142382155, 0.402233142382155, 0.402233142382155, 0.402233142382155, 0.402233142382155, 0.402233142382155, 0.402233142382155])"
            ]
          },
          "metadata": {},
          "execution_count": 57
        }
      ]
    },
    {
      "cell_type": "code",
      "source": [
        "# Plotting\n",
        "# train_scores = eval_scores_train['gini' in eval_scores_train.keys()]\n",
        "# test_scores = eval_scores_test['gini' in eval_scores_test.keys()]\n",
        "plt.plot(list(eval_scores_train.values()), label='train_scores')\n",
        "plt.plot(list(eval_scores_test.values()), label='test_scores')\n",
        "plt.legend()\n",
        "plt.grid()\n",
        "plt.show()"
      ],
      "metadata": {
        "id": "wHCnsP9YcqYI",
        "colab": {
          "base_uri": "https://localhost:8080/",
          "height": 352
        },
        "outputId": "0d3534d3-57d3-4a61-e962-a11c8d9c3b95"
      },
      "execution_count": 58,
      "outputs": [
        {
          "output_type": "display_data",
          "data": {
            "text/plain": [
              "<Figure size 432x288 with 1 Axes>"
            ],
            "image/svg+xml": "<?xml version=\"1.0\" encoding=\"utf-8\" standalone=\"no\"?>\n<!DOCTYPE svg PUBLIC \"-//W3C//DTD SVG 1.1//EN\"\n  \"http://www.w3.org/Graphics/SVG/1.1/DTD/svg11.dtd\">\n<!-- Created with matplotlib (https://matplotlib.org/) -->\n<svg height=\"248.161875pt\" version=\"1.1\" viewBox=\"0 0 381.221875 248.161875\" width=\"381.221875pt\" xmlns=\"http://www.w3.org/2000/svg\" xmlns:xlink=\"http://www.w3.org/1999/xlink\">\n <defs>\n  <style type=\"text/css\">\n*{stroke-linecap:butt;stroke-linejoin:round;}\n  </style>\n </defs>\n <g id=\"figure_1\">\n  <g id=\"patch_1\">\n   <path d=\"M 0 248.161875 \nL 381.221875 248.161875 \nL 381.221875 0 \nL 0 0 \nz\n\" style=\"fill:none;\"/>\n  </g>\n  <g id=\"axes_1\">\n   <g id=\"patch_2\">\n    <path d=\"M 39.221875 224.64 \nL 374.021875 224.64 \nL 374.021875 7.2 \nL 39.221875 7.2 \nz\n\" style=\"fill:#eaeaf2;\"/>\n   </g>\n   <g id=\"matplotlib.axis_1\">\n    <g id=\"xtick_1\">\n     <g id=\"line2d_1\"/>\n     <g id=\"text_1\">\n      <!-- 0 -->\n      <defs>\n       <path d=\"M 51.703125 34.421875 \nQ 51.703125 24.515625 49.828125 17.75 \nQ 47.953125 10.984375 44.703125 6.8125 \nQ 41.453125 2.640625 37.0625 0.828125 \nQ 32.671875 -0.984375 27.6875 -0.984375 \nQ 22.65625 -0.984375 18.3125 0.828125 \nQ 13.96875 2.640625 10.765625 6.78125 \nQ 7.5625 10.9375 5.734375 17.703125 \nQ 3.90625 24.46875 3.90625 34.421875 \nQ 3.90625 44.828125 5.734375 51.640625 \nQ 7.5625 58.453125 10.78125 62.5 \nQ 14.015625 66.546875 18.40625 68.1875 \nQ 22.796875 69.828125 27.984375 69.828125 \nQ 32.90625 69.828125 37.21875 68.1875 \nQ 41.546875 66.546875 44.765625 62.5 \nQ 48 58.453125 49.84375 51.640625 \nQ 51.703125 44.828125 51.703125 34.421875 \nz\nM 42.78125 34.421875 \nQ 42.78125 42.625 41.796875 48.0625 \nQ 40.828125 53.515625 38.921875 56.765625 \nQ 37.015625 60.015625 34.25 61.359375 \nQ 31.5 62.703125 27.984375 62.703125 \nQ 24.265625 62.703125 21.4375 61.328125 \nQ 18.609375 59.96875 16.671875 56.71875 \nQ 14.75 53.46875 13.765625 48.015625 \nQ 12.796875 42.578125 12.796875 34.421875 \nQ 12.796875 26.515625 13.796875 21.09375 \nQ 14.796875 15.671875 16.71875 12.375 \nQ 18.65625 9.078125 21.4375 7.640625 \nQ 24.21875 6.203125 27.78125 6.203125 \nQ 31.25 6.203125 34.03125 7.640625 \nQ 36.8125 9.078125 38.734375 12.375 \nQ 40.671875 15.671875 41.71875 21.09375 \nQ 42.78125 26.515625 42.78125 34.421875 \nz\n\" id=\"LiberationSans-48\"/>\n      </defs>\n      <g style=\"fill:#262626;\" transform=\"translate(51.659588 238.886875)scale(0.1 -0.1)\">\n       <use xlink:href=\"#LiberationSans-48\"/>\n      </g>\n     </g>\n    </g>\n    <g id=\"xtick_2\">\n     <g id=\"line2d_2\"/>\n     <g id=\"text_2\">\n      <!-- 5 -->\n      <defs>\n       <path d=\"M 51.421875 22.40625 \nQ 51.421875 17.234375 49.859375 12.9375 \nQ 48.296875 8.640625 45.21875 5.53125 \nQ 42.140625 2.4375 37.578125 0.71875 \nQ 33.015625 -0.984375 27 -0.984375 \nQ 21.578125 -0.984375 17.546875 0.28125 \nQ 13.53125 1.5625 10.734375 3.78125 \nQ 7.953125 6 6.3125 8.984375 \nQ 4.6875 11.96875 4 15.375 \nL 12.890625 16.40625 \nQ 13.421875 14.453125 14.390625 12.625 \nQ 15.375 10.796875 17.0625 9.34375 \nQ 18.75 7.90625 21.21875 7.046875 \nQ 23.6875 6.203125 27.203125 6.203125 \nQ 30.609375 6.203125 33.390625 7.25 \nQ 36.1875 8.296875 38.15625 10.34375 \nQ 40.140625 12.40625 41.203125 15.375 \nQ 42.28125 18.359375 42.28125 22.21875 \nQ 42.28125 25.390625 41.25 28.046875 \nQ 40.234375 30.71875 38.328125 32.640625 \nQ 36.421875 34.578125 33.65625 35.640625 \nQ 30.90625 36.71875 27.390625 36.71875 \nQ 25.203125 36.71875 23.34375 36.328125 \nQ 21.484375 35.9375 19.890625 35.25 \nQ 18.3125 34.578125 17.015625 33.671875 \nQ 15.71875 32.765625 14.59375 31.78125 \nL 6 31.78125 \nL 8.296875 68.796875 \nL 47.40625 68.796875 \nL 47.40625 61.328125 \nL 16.3125 61.328125 \nL 14.984375 39.5 \nQ 17.328125 41.3125 20.84375 42.59375 \nQ 24.359375 43.890625 29.203125 43.890625 \nQ 34.328125 43.890625 38.421875 42.328125 \nQ 42.53125 40.765625 45.40625 37.90625 \nQ 48.296875 35.0625 49.859375 31.109375 \nQ 51.421875 27.15625 51.421875 22.40625 \nz\n\" id=\"LiberationSans-53\"/>\n      </defs>\n      <g style=\"fill:#262626;\" transform=\"translate(91.707435 238.886875)scale(0.1 -0.1)\">\n       <use xlink:href=\"#LiberationSans-53\"/>\n      </g>\n     </g>\n    </g>\n    <g id=\"xtick_3\">\n     <g id=\"line2d_3\"/>\n     <g id=\"text_3\">\n      <!-- 10 -->\n      <defs>\n       <path d=\"M 7.625 0 \nL 7.625 7.46875 \nL 25.140625 7.46875 \nL 25.140625 60.40625 \nL 9.625 49.3125 \nL 9.625 57.625 \nL 25.875 68.796875 \nL 33.984375 68.796875 \nL 33.984375 7.46875 \nL 50.734375 7.46875 \nL 50.734375 0 \nz\n\" id=\"LiberationSans-49\"/>\n      </defs>\n      <g style=\"fill:#262626;\" transform=\"translate(128.974813 238.886875)scale(0.1 -0.1)\">\n       <use xlink:href=\"#LiberationSans-49\"/>\n       <use x=\"55.615234\" xlink:href=\"#LiberationSans-48\"/>\n      </g>\n     </g>\n    </g>\n    <g id=\"xtick_4\">\n     <g id=\"line2d_4\"/>\n     <g id=\"text_4\">\n      <!-- 15 -->\n      <g style=\"fill:#262626;\" transform=\"translate(169.02266 238.886875)scale(0.1 -0.1)\">\n       <use xlink:href=\"#LiberationSans-49\"/>\n       <use x=\"55.615234\" xlink:href=\"#LiberationSans-53\"/>\n      </g>\n     </g>\n    </g>\n    <g id=\"xtick_5\">\n     <g id=\"line2d_5\"/>\n     <g id=\"text_5\">\n      <!-- 20 -->\n      <defs>\n       <path d=\"M 5.03125 0 \nL 5.03125 6.203125 \nQ 7.515625 11.921875 11.109375 16.28125 \nQ 14.703125 20.65625 18.65625 24.1875 \nQ 22.609375 27.734375 26.484375 30.765625 \nQ 30.375 33.796875 33.5 36.8125 \nQ 36.625 39.84375 38.546875 43.15625 \nQ 40.484375 46.484375 40.484375 50.6875 \nQ 40.484375 53.609375 39.59375 55.828125 \nQ 38.71875 58.0625 37.0625 59.5625 \nQ 35.40625 61.078125 33.078125 61.828125 \nQ 30.765625 62.59375 27.9375 62.59375 \nQ 25.296875 62.59375 22.96875 61.859375 \nQ 20.65625 61.140625 18.84375 59.671875 \nQ 17.046875 58.203125 15.890625 56.03125 \nQ 14.75 53.859375 14.40625 50.984375 \nL 5.421875 51.8125 \nQ 5.859375 55.515625 7.46875 58.78125 \nQ 9.078125 62.0625 11.90625 64.53125 \nQ 14.75 67 18.71875 68.40625 \nQ 22.703125 69.828125 27.9375 69.828125 \nQ 33.0625 69.828125 37.0625 68.609375 \nQ 41.0625 67.390625 43.8125 64.984375 \nQ 46.578125 62.59375 48.046875 59.078125 \nQ 49.515625 55.5625 49.515625 50.984375 \nQ 49.515625 47.515625 48.265625 44.390625 \nQ 47.015625 41.265625 44.9375 38.421875 \nQ 42.875 35.59375 40.140625 32.953125 \nQ 37.40625 30.328125 34.421875 27.8125 \nQ 31.453125 25.296875 28.421875 22.828125 \nQ 25.390625 20.359375 22.71875 17.859375 \nQ 20.0625 15.375 17.96875 12.8125 \nQ 15.875 10.25 14.703125 7.46875 \nL 50.59375 7.46875 \nL 50.59375 0 \nz\n\" id=\"LiberationSans-50\"/>\n      </defs>\n      <g style=\"fill:#262626;\" transform=\"translate(209.070507 238.886875)scale(0.1 -0.1)\">\n       <use xlink:href=\"#LiberationSans-50\"/>\n       <use x=\"55.615234\" xlink:href=\"#LiberationSans-48\"/>\n      </g>\n     </g>\n    </g>\n    <g id=\"xtick_6\">\n     <g id=\"line2d_6\"/>\n     <g id=\"text_6\">\n      <!-- 25 -->\n      <g style=\"fill:#262626;\" transform=\"translate(249.118354 238.886875)scale(0.1 -0.1)\">\n       <use xlink:href=\"#LiberationSans-50\"/>\n       <use x=\"55.615234\" xlink:href=\"#LiberationSans-53\"/>\n      </g>\n     </g>\n    </g>\n    <g id=\"xtick_7\">\n     <g id=\"line2d_7\"/>\n     <g id=\"text_7\">\n      <!-- 30 -->\n      <defs>\n       <path d=\"M 51.21875 19 \nQ 51.21875 14.265625 49.671875 10.546875 \nQ 48.140625 6.84375 45.1875 4.265625 \nQ 42.234375 1.703125 37.859375 0.359375 \nQ 33.5 -0.984375 27.875 -0.984375 \nQ 21.484375 -0.984375 17.109375 0.609375 \nQ 12.75 2.203125 9.90625 4.8125 \nQ 7.078125 7.421875 5.65625 10.765625 \nQ 4.25 14.109375 3.8125 17.671875 \nL 12.890625 18.5 \nQ 13.28125 15.765625 14.328125 13.515625 \nQ 15.375 11.28125 17.1875 9.671875 \nQ 19 8.0625 21.625 7.171875 \nQ 24.265625 6.296875 27.875 6.296875 \nQ 34.515625 6.296875 38.296875 9.5625 \nQ 42.09375 12.84375 42.09375 19.28125 \nQ 42.09375 23.09375 40.40625 25.40625 \nQ 38.71875 27.734375 36.203125 29.03125 \nQ 33.6875 30.328125 30.734375 30.765625 \nQ 27.78125 31.203125 25.296875 31.203125 \nL 20.3125 31.203125 \nL 20.3125 38.8125 \nL 25.09375 38.8125 \nQ 27.59375 38.8125 30.265625 39.328125 \nQ 32.953125 39.84375 35.171875 41.1875 \nQ 37.40625 42.53125 38.84375 44.828125 \nQ 40.28125 47.125 40.28125 50.6875 \nQ 40.28125 56.203125 37.03125 59.390625 \nQ 33.796875 62.59375 27.390625 62.59375 \nQ 21.578125 62.59375 17.984375 59.609375 \nQ 14.40625 56.640625 13.8125 51.21875 \nL 4.984375 51.90625 \nQ 5.515625 56.453125 7.46875 59.8125 \nQ 9.421875 63.1875 12.421875 65.40625 \nQ 15.4375 67.625 19.28125 68.71875 \nQ 23.140625 69.828125 27.484375 69.828125 \nQ 33.25 69.828125 37.390625 68.375 \nQ 41.546875 66.9375 44.1875 64.46875 \nQ 46.828125 62.015625 48.0625 58.6875 \nQ 49.3125 55.375 49.3125 51.609375 \nQ 49.3125 48.578125 48.484375 45.9375 \nQ 47.65625 43.3125 45.890625 41.203125 \nQ 44.140625 39.109375 41.421875 37.59375 \nQ 38.71875 36.078125 34.90625 35.296875 \nL 34.90625 35.109375 \nQ 39.0625 34.671875 42.140625 33.21875 \nQ 45.21875 31.78125 47.21875 29.625 \nQ 49.21875 27.484375 50.21875 24.75 \nQ 51.21875 22.015625 51.21875 19 \nz\n\" id=\"LiberationSans-51\"/>\n      </defs>\n      <g style=\"fill:#262626;\" transform=\"translate(289.166201 238.886875)scale(0.1 -0.1)\">\n       <use xlink:href=\"#LiberationSans-51\"/>\n       <use x=\"55.615234\" xlink:href=\"#LiberationSans-48\"/>\n      </g>\n     </g>\n    </g>\n    <g id=\"xtick_8\">\n     <g id=\"line2d_8\"/>\n     <g id=\"text_8\">\n      <!-- 35 -->\n      <g style=\"fill:#262626;\" transform=\"translate(329.214048 238.886875)scale(0.1 -0.1)\">\n       <use xlink:href=\"#LiberationSans-51\"/>\n       <use x=\"55.615234\" xlink:href=\"#LiberationSans-53\"/>\n      </g>\n     </g>\n    </g>\n   </g>\n   <g id=\"matplotlib.axis_2\">\n    <g id=\"ytick_1\">\n     <g id=\"line2d_9\"/>\n     <g id=\"text_9\">\n      <!-- 0.370 -->\n      <defs>\n       <path d=\"M 9.125 0 \nL 9.125 10.6875 \nL 18.65625 10.6875 \nL 18.65625 0 \nz\n\" id=\"LiberationSans-46\"/>\n       <path d=\"M 50.59375 61.671875 \nQ 45.40625 53.765625 41.0625 46.453125 \nQ 36.71875 39.15625 33.59375 31.75 \nQ 30.46875 24.359375 28.734375 16.578125 \nQ 27 8.796875 27 0 \nL 17.828125 0 \nQ 17.828125 8.25 19.78125 16.1875 \nQ 21.734375 24.125 25.046875 31.765625 \nQ 28.375 39.40625 32.765625 46.78125 \nQ 37.15625 54.15625 42.09375 61.328125 \nL 5.125 61.328125 \nL 5.125 68.796875 \nL 50.59375 68.796875 \nz\n\" id=\"LiberationSans-55\"/>\n      </defs>\n      <g style=\"fill:#262626;\" transform=\"translate(7.2 227.708341)scale(0.1 -0.1)\">\n       <use xlink:href=\"#LiberationSans-48\"/>\n       <use x=\"55.615234\" xlink:href=\"#LiberationSans-46\"/>\n       <use x=\"83.398438\" xlink:href=\"#LiberationSans-51\"/>\n       <use x=\"139.013672\" xlink:href=\"#LiberationSans-55\"/>\n       <use x=\"194.628906\" xlink:href=\"#LiberationSans-48\"/>\n      </g>\n     </g>\n    </g>\n    <g id=\"ytick_2\">\n     <g id=\"line2d_10\"/>\n     <g id=\"text_10\">\n      <!-- 0.375 -->\n      <g style=\"fill:#262626;\" transform=\"translate(7.2 195.598337)scale(0.1 -0.1)\">\n       <use xlink:href=\"#LiberationSans-48\"/>\n       <use x=\"55.615234\" xlink:href=\"#LiberationSans-46\"/>\n       <use x=\"83.398438\" xlink:href=\"#LiberationSans-51\"/>\n       <use x=\"139.013672\" xlink:href=\"#LiberationSans-55\"/>\n       <use x=\"194.628906\" xlink:href=\"#LiberationSans-53\"/>\n      </g>\n     </g>\n    </g>\n    <g id=\"ytick_3\">\n     <g id=\"line2d_11\"/>\n     <g id=\"text_11\">\n      <!-- 0.380 -->\n      <defs>\n       <path d=\"M 51.265625 19.1875 \nQ 51.265625 14.796875 49.875 11.109375 \nQ 48.484375 7.421875 45.625 4.734375 \nQ 42.78125 2.046875 38.328125 0.53125 \nQ 33.890625 -0.984375 27.828125 -0.984375 \nQ 21.78125 -0.984375 17.359375 0.53125 \nQ 12.9375 2.046875 10.03125 4.703125 \nQ 7.125 7.375 5.734375 11.0625 \nQ 4.34375 14.75 4.34375 19.09375 \nQ 4.34375 22.859375 5.484375 25.78125 \nQ 6.640625 28.71875 8.5625 30.828125 \nQ 10.5 32.953125 12.96875 34.25 \nQ 15.4375 35.546875 18.0625 35.984375 \nL 18.0625 36.1875 \nQ 15.1875 36.859375 12.90625 38.375 \nQ 10.640625 39.890625 9.09375 42.015625 \nQ 7.5625 44.140625 6.75 46.71875 \nQ 5.953125 49.3125 5.953125 52.203125 \nQ 5.953125 55.8125 7.34375 59 \nQ 8.734375 62.203125 11.46875 64.625 \nQ 14.203125 67.046875 18.25 68.4375 \nQ 22.3125 69.828125 27.640625 69.828125 \nQ 33.25 69.828125 37.375 68.40625 \nQ 41.5 67 44.203125 64.578125 \nQ 46.921875 62.15625 48.234375 58.9375 \nQ 49.5625 55.71875 49.5625 52.09375 \nQ 49.5625 49.265625 48.75 46.671875 \nQ 47.953125 44.09375 46.40625 41.96875 \nQ 44.875 39.84375 42.59375 38.34375 \nQ 40.328125 36.859375 37.359375 36.28125 \nL 37.359375 36.078125 \nQ 40.328125 35.59375 42.859375 34.296875 \nQ 45.40625 33.015625 47.265625 30.890625 \nQ 49.125 28.765625 50.1875 25.828125 \nQ 51.265625 22.90625 51.265625 19.1875 \nz\nM 40.4375 51.609375 \nQ 40.4375 54.203125 39.765625 56.34375 \nQ 39.109375 58.5 37.59375 60.03125 \nQ 36.078125 61.578125 33.640625 62.421875 \nQ 31.203125 63.28125 27.640625 63.28125 \nQ 24.171875 63.28125 21.78125 62.421875 \nQ 19.390625 61.578125 17.84375 60.03125 \nQ 16.3125 58.5 15.625 56.34375 \nQ 14.9375 54.203125 14.9375 51.609375 \nQ 14.9375 49.5625 15.46875 47.40625 \nQ 16.015625 45.265625 17.421875 43.5 \nQ 18.84375 41.75 21.328125 40.625 \nQ 23.828125 39.5 27.734375 39.5 \nQ 31.890625 39.5 34.40625 40.625 \nQ 36.921875 41.75 38.25 43.5 \nQ 39.59375 45.265625 40.015625 47.40625 \nQ 40.4375 49.5625 40.4375 51.609375 \nz\nM 42.140625 20.015625 \nQ 42.140625 22.515625 41.453125 24.828125 \nQ 40.765625 27.15625 39.109375 28.9375 \nQ 37.453125 30.71875 34.640625 31.8125 \nQ 31.84375 32.90625 27.640625 32.90625 \nQ 23.78125 32.90625 21.0625 31.8125 \nQ 18.359375 30.71875 16.671875 28.90625 \nQ 14.984375 27.09375 14.203125 24.71875 \nQ 13.421875 22.359375 13.421875 19.828125 \nQ 13.421875 16.65625 14.203125 14.03125 \nQ 14.984375 11.421875 16.6875 9.546875 \nQ 18.40625 7.671875 21.1875 6.640625 \nQ 23.96875 5.609375 27.9375 5.609375 \nQ 31.9375 5.609375 34.671875 6.640625 \nQ 37.40625 7.671875 39.0625 9.546875 \nQ 40.71875 11.421875 41.421875 14.078125 \nQ 42.140625 16.75 42.140625 20.015625 \nz\n\" id=\"LiberationSans-56\"/>\n      </defs>\n      <g style=\"fill:#262626;\" transform=\"translate(7.2 163.488333)scale(0.1 -0.1)\">\n       <use xlink:href=\"#LiberationSans-48\"/>\n       <use x=\"55.615234\" xlink:href=\"#LiberationSans-46\"/>\n       <use x=\"83.398438\" xlink:href=\"#LiberationSans-51\"/>\n       <use x=\"139.013672\" xlink:href=\"#LiberationSans-56\"/>\n       <use x=\"194.628906\" xlink:href=\"#LiberationSans-48\"/>\n      </g>\n     </g>\n    </g>\n    <g id=\"ytick_4\">\n     <g id=\"line2d_12\"/>\n     <g id=\"text_12\">\n      <!-- 0.385 -->\n      <g style=\"fill:#262626;\" transform=\"translate(7.2 131.378328)scale(0.1 -0.1)\">\n       <use xlink:href=\"#LiberationSans-48\"/>\n       <use x=\"55.615234\" xlink:href=\"#LiberationSans-46\"/>\n       <use x=\"83.398438\" xlink:href=\"#LiberationSans-51\"/>\n       <use x=\"139.013672\" xlink:href=\"#LiberationSans-56\"/>\n       <use x=\"194.628906\" xlink:href=\"#LiberationSans-53\"/>\n      </g>\n     </g>\n    </g>\n    <g id=\"ytick_5\">\n     <g id=\"line2d_13\"/>\n     <g id=\"text_13\">\n      <!-- 0.390 -->\n      <defs>\n       <path d=\"M 50.875 35.796875 \nQ 50.875 26.609375 49.140625 19.703125 \nQ 47.40625 12.796875 44.1875 8.203125 \nQ 40.96875 3.609375 36.34375 1.3125 \nQ 31.734375 -0.984375 25.984375 -0.984375 \nQ 22.015625 -0.984375 18.84375 -0.171875 \nQ 15.671875 0.640625 13.171875 2.34375 \nQ 10.6875 4.046875 8.921875 6.78125 \nQ 7.171875 9.515625 6.109375 13.375 \nL 14.5 14.703125 \nQ 15.875 10.25 18.78125 8.171875 \nQ 21.6875 6.109375 26.125 6.109375 \nQ 29.6875 6.109375 32.640625 7.78125 \nQ 35.59375 9.46875 37.671875 12.84375 \nQ 39.75 16.21875 40.921875 21.296875 \nQ 42.09375 26.375 42.1875 33.203125 \nQ 41.15625 30.90625 39.375 29.09375 \nQ 37.59375 27.296875 35.328125 26.046875 \nQ 33.0625 24.8125 30.421875 24.140625 \nQ 27.78125 23.484375 25.09375 23.484375 \nQ 20.40625 23.484375 16.625 25.171875 \nQ 12.84375 26.859375 10.203125 29.875 \nQ 7.5625 32.90625 6.125 37.171875 \nQ 4.6875 41.453125 4.6875 46.6875 \nQ 4.6875 52 6.21875 56.296875 \nQ 7.765625 60.59375 10.6875 63.59375 \nQ 13.625 66.609375 17.890625 68.21875 \nQ 22.171875 69.828125 27.59375 69.828125 \nQ 39.0625 69.828125 44.96875 61.328125 \nQ 50.875 52.828125 50.875 35.796875 \nz\nM 41.3125 44.28125 \nQ 41.3125 48.09375 40.40625 51.453125 \nQ 39.5 54.828125 37.71875 57.3125 \nQ 35.9375 59.8125 33.328125 61.25 \nQ 30.71875 62.703125 27.296875 62.703125 \nQ 24.125 62.703125 21.578125 61.578125 \nQ 19.046875 60.453125 17.28125 58.375 \nQ 15.53125 56.296875 14.578125 53.3125 \nQ 13.625 50.34375 13.625 46.6875 \nQ 13.625 43.21875 14.46875 40.234375 \nQ 15.328125 37.25 17.03125 35.078125 \nQ 18.75 32.90625 21.28125 31.65625 \nQ 23.828125 30.421875 27.203125 30.421875 \nQ 29.640625 30.421875 32.15625 31.25 \nQ 34.671875 32.078125 36.6875 33.78125 \nQ 38.71875 35.5 40.015625 38.109375 \nQ 41.3125 40.71875 41.3125 44.28125 \nz\n\" id=\"LiberationSans-57\"/>\n      </defs>\n      <g style=\"fill:#262626;\" transform=\"translate(7.2 99.268324)scale(0.1 -0.1)\">\n       <use xlink:href=\"#LiberationSans-48\"/>\n       <use x=\"55.615234\" xlink:href=\"#LiberationSans-46\"/>\n       <use x=\"83.398438\" xlink:href=\"#LiberationSans-51\"/>\n       <use x=\"139.013672\" xlink:href=\"#LiberationSans-57\"/>\n       <use x=\"194.628906\" xlink:href=\"#LiberationSans-48\"/>\n      </g>\n     </g>\n    </g>\n    <g id=\"ytick_6\">\n     <g id=\"line2d_14\"/>\n     <g id=\"text_14\">\n      <!-- 0.395 -->\n      <g style=\"fill:#262626;\" transform=\"translate(7.2 67.15832)scale(0.1 -0.1)\">\n       <use xlink:href=\"#LiberationSans-48\"/>\n       <use x=\"55.615234\" xlink:href=\"#LiberationSans-46\"/>\n       <use x=\"83.398438\" xlink:href=\"#LiberationSans-51\"/>\n       <use x=\"139.013672\" xlink:href=\"#LiberationSans-57\"/>\n       <use x=\"194.628906\" xlink:href=\"#LiberationSans-53\"/>\n      </g>\n     </g>\n    </g>\n    <g id=\"ytick_7\">\n     <g id=\"line2d_15\"/>\n     <g id=\"text_15\">\n      <!-- 0.400 -->\n      <defs>\n       <path d=\"M 43.015625 15.578125 \nL 43.015625 0 \nL 34.71875 0 \nL 34.71875 15.578125 \nL 2.296875 15.578125 \nL 2.296875 22.40625 \nL 33.796875 68.796875 \nL 43.015625 68.796875 \nL 43.015625 22.515625 \nL 52.6875 22.515625 \nL 52.6875 15.578125 \nz\nM 34.71875 58.890625 \nQ 34.625 58.640625 34.234375 57.9375 \nQ 33.84375 57.234375 33.34375 56.34375 \nQ 32.859375 55.46875 32.34375 54.5625 \nQ 31.84375 53.65625 31.453125 53.078125 \nL 13.8125 27.09375 \nQ 13.578125 26.703125 13.109375 26.0625 \nQ 12.640625 25.4375 12.15625 24.78125 \nQ 11.671875 24.125 11.171875 23.484375 \nQ 10.6875 22.859375 10.40625 22.515625 \nL 34.71875 22.515625 \nz\n\" id=\"LiberationSans-52\"/>\n      </defs>\n      <g style=\"fill:#262626;\" transform=\"translate(7.2 35.048316)scale(0.1 -0.1)\">\n       <use xlink:href=\"#LiberationSans-48\"/>\n       <use x=\"55.615234\" xlink:href=\"#LiberationSans-46\"/>\n       <use x=\"83.398438\" xlink:href=\"#LiberationSans-52\"/>\n       <use x=\"139.013672\" xlink:href=\"#LiberationSans-48\"/>\n       <use x=\"194.628906\" xlink:href=\"#LiberationSans-48\"/>\n      </g>\n     </g>\n    </g>\n   </g>\n   <g id=\"line2d_16\">\n    <path clip-path=\"url(#pfa0260cbf3)\" d=\"M 54.440057 214.756364 \nL 62.449626 214.756364 \nL 70.459196 214.756364 \nL 78.468765 214.756364 \nL 86.478334 214.756364 \nL 94.487904 214.756364 \nL 102.497473 214.756364 \nL 110.507042 214.756364 \nL 118.516612 214.756364 \nL 126.526181 214.756364 \nL 134.535751 214.756364 \nL 142.54532 214.756364 \nL 150.554889 214.756364 \nL 158.564459 214.756364 \nL 166.574028 214.756364 \nL 174.583597 214.756364 \nL 182.593167 214.756364 \nL 190.602736 214.756364 \nL 198.612306 214.756364 \nL 206.621875 214.756364 \nL 214.631444 214.756364 \nL 222.641014 214.756364 \nL 230.650583 214.756364 \nL 238.660153 214.756364 \nL 246.669722 214.756364 \nL 254.679291 214.756364 \nL 262.688861 214.756364 \nL 270.69843 214.756364 \nL 278.707999 214.756364 \nL 286.717569 214.756364 \nL 294.727138 214.756364 \nL 302.736708 214.756364 \nL 310.746277 214.756364 \nL 318.755846 214.756364 \nL 326.765416 214.756364 \nL 334.774985 214.756364 \nL 342.784554 214.756364 \nL 350.794124 214.756364 \nL 358.803693 214.756364 \n\" style=\"fill:none;stroke:#4c72b0;stroke-linecap:round;stroke-width:1.75;\"/>\n   </g>\n   <g id=\"line2d_17\">\n    <path clip-path=\"url(#pfa0260cbf3)\" d=\"M 54.440057 17.083636 \nL 62.449626 17.083636 \nL 70.459196 17.083636 \nL 78.468765 17.083636 \nL 86.478334 17.083636 \nL 94.487904 17.083636 \nL 102.497473 17.083636 \nL 110.507042 17.083636 \nL 118.516612 17.083636 \nL 126.526181 17.083636 \nL 134.535751 17.083636 \nL 142.54532 17.083636 \nL 150.554889 17.083636 \nL 158.564459 17.083636 \nL 166.574028 17.083636 \nL 174.583597 17.083636 \nL 182.593167 17.083636 \nL 190.602736 17.083636 \nL 198.612306 17.083636 \nL 206.621875 17.083636 \nL 214.631444 17.083636 \nL 222.641014 17.083636 \nL 230.650583 17.083636 \nL 238.660153 17.083636 \nL 246.669722 17.083636 \nL 254.679291 17.083636 \nL 262.688861 17.083636 \nL 270.69843 17.083636 \nL 278.707999 17.083636 \nL 286.717569 17.083636 \nL 294.727138 17.083636 \nL 302.736708 17.083636 \nL 310.746277 17.083636 \nL 318.755846 17.083636 \nL 326.765416 17.083636 \nL 334.774985 17.083636 \nL 342.784554 17.083636 \nL 350.794124 17.083636 \nL 358.803693 17.083636 \n\" style=\"fill:none;stroke:#55a868;stroke-linecap:round;stroke-width:1.75;\"/>\n   </g>\n   <g id=\"patch_3\">\n    <path d=\"M 39.221875 224.64 \nL 39.221875 7.2 \n\" style=\"fill:none;\"/>\n   </g>\n   <g id=\"patch_4\">\n    <path d=\"M 374.021875 224.64 \nL 374.021875 7.2 \n\" style=\"fill:none;\"/>\n   </g>\n   <g id=\"patch_5\">\n    <path d=\"M 39.221875 224.64 \nL 374.021875 224.64 \n\" style=\"fill:none;\"/>\n   </g>\n   <g id=\"patch_6\">\n    <path d=\"M 39.221875 7.2 \nL 374.021875 7.2 \n\" style=\"fill:none;\"/>\n   </g>\n   <g id=\"legend_1\">\n    <g id=\"line2d_18\">\n     <path d=\"M 282.557813 107.845 \nL 302.557813 107.845 \n\" style=\"fill:none;stroke:#4c72b0;stroke-linecap:round;stroke-width:1.75;\"/>\n    </g>\n    <g id=\"line2d_19\"/>\n    <g id=\"text_16\">\n     <!-- train_scores -->\n     <defs>\n      <path d=\"M 27.046875 0.390625 \nQ 25.046875 -0.140625 22.96875 -0.453125 \nQ 20.90625 -0.78125 18.171875 -0.78125 \nQ 7.625 -0.78125 7.625 11.1875 \nL 7.625 46.4375 \nL 1.515625 46.4375 \nL 1.515625 52.828125 \nL 7.953125 52.828125 \nL 10.546875 64.65625 \nL 16.40625 64.65625 \nL 16.40625 52.828125 \nL 26.171875 52.828125 \nL 26.171875 46.4375 \nL 16.40625 46.4375 \nL 16.40625 13.09375 \nQ 16.40625 9.28125 17.640625 7.734375 \nQ 18.890625 6.203125 21.96875 6.203125 \nQ 23.25 6.203125 24.4375 6.390625 \nQ 25.640625 6.59375 27.046875 6.890625 \nz\n\" id=\"LiberationSans-116\"/>\n      <path d=\"M 6.9375 0 \nL 6.9375 40.53125 \nQ 6.9375 42.1875 6.90625 43.921875 \nQ 6.890625 45.65625 6.828125 47.265625 \nQ 6.78125 48.875 6.734375 50.28125 \nQ 6.6875 51.703125 6.640625 52.828125 \nL 14.9375 52.828125 \nQ 14.984375 51.703125 15.0625 50.265625 \nQ 15.140625 48.828125 15.203125 47.3125 \nQ 15.28125 45.796875 15.296875 44.40625 \nQ 15.328125 43.015625 15.328125 42.046875 \nL 15.53125 42.046875 \nQ 16.453125 45.0625 17.5 47.28125 \nQ 18.5625 49.515625 19.96875 50.953125 \nQ 21.390625 52.390625 23.34375 53.09375 \nQ 25.296875 53.8125 28.078125 53.8125 \nQ 29.15625 53.8125 30.125 53.640625 \nQ 31.109375 53.46875 31.640625 53.328125 \nL 31.640625 45.265625 \nQ 30.765625 45.515625 29.59375 45.625 \nQ 28.421875 45.75 26.953125 45.75 \nQ 23.921875 45.75 21.796875 44.375 \nQ 19.671875 43.015625 18.328125 40.59375 \nQ 17 38.1875 16.359375 34.84375 \nQ 15.71875 31.5 15.71875 27.546875 \nL 15.71875 0 \nz\n\" id=\"LiberationSans-114\"/>\n      <path d=\"M 20.21875 -0.984375 \nQ 12.25 -0.984375 8.25 3.21875 \nQ 4.25 7.421875 4.25 14.75 \nQ 4.25 19.96875 6.21875 23.3125 \nQ 8.203125 26.65625 11.390625 28.5625 \nQ 14.59375 30.46875 18.6875 31.203125 \nQ 22.796875 31.9375 27.046875 32.03125 \nL 38.921875 32.234375 \nL 38.921875 35.109375 \nQ 38.921875 38.375 38.234375 40.671875 \nQ 37.546875 42.96875 36.125 44.375 \nQ 34.71875 45.796875 32.59375 46.453125 \nQ 30.46875 47.125 27.59375 47.125 \nQ 25.046875 47.125 23 46.75 \nQ 20.953125 46.390625 19.4375 45.4375 \nQ 17.921875 44.484375 16.984375 42.84375 \nQ 16.0625 41.21875 15.765625 38.71875 \nL 6.59375 39.546875 \nQ 7.078125 42.671875 8.4375 45.28125 \nQ 9.8125 47.90625 12.328125 49.796875 \nQ 14.84375 51.703125 18.625 52.75 \nQ 22.40625 53.8125 27.78125 53.8125 \nQ 37.75 53.8125 42.765625 49.234375 \nQ 47.796875 44.671875 47.796875 36.03125 \nL 47.796875 13.28125 \nQ 47.796875 9.375 48.828125 7.390625 \nQ 49.859375 5.421875 52.734375 5.421875 \nQ 53.46875 5.421875 54.203125 5.515625 \nQ 54.9375 5.609375 55.609375 5.765625 \nL 55.609375 0.296875 \nQ 53.953125 -0.09375 52.3125 -0.28125 \nQ 50.6875 -0.484375 48.828125 -0.484375 \nQ 46.34375 -0.484375 44.5625 0.171875 \nQ 42.78125 0.828125 41.65625 2.171875 \nQ 40.53125 3.515625 39.9375 5.484375 \nQ 39.359375 7.46875 39.203125 10.109375 \nL 38.921875 10.109375 \nQ 37.5 7.5625 35.8125 5.515625 \nQ 34.125 3.46875 31.875 2.03125 \nQ 29.640625 0.59375 26.78125 -0.1875 \nQ 23.921875 -0.984375 20.21875 -0.984375 \nz\nM 22.21875 5.609375 \nQ 26.421875 5.609375 29.5625 7.140625 \nQ 32.71875 8.6875 34.78125 11.078125 \nQ 36.859375 13.484375 37.890625 16.3125 \nQ 38.921875 19.140625 38.921875 21.734375 \nL 38.921875 26.078125 \nL 29.296875 25.875 \nQ 26.078125 25.828125 23.171875 25.40625 \nQ 20.265625 25 18.0625 23.78125 \nQ 15.875 22.5625 14.578125 20.359375 \nQ 13.28125 18.171875 13.28125 14.59375 \nQ 13.28125 10.296875 15.59375 7.953125 \nQ 17.921875 5.609375 22.21875 5.609375 \nz\n\" id=\"LiberationSans-97\"/>\n      <path d=\"M 6.6875 64.0625 \nL 6.6875 72.46875 \nL 15.484375 72.46875 \nL 15.484375 64.0625 \nz\nM 6.6875 0 \nL 6.6875 52.828125 \nL 15.484375 52.828125 \nL 15.484375 0 \nz\n\" id=\"LiberationSans-105\"/>\n      <path d=\"M 40.28125 0 \nL 40.28125 33.5 \nQ 40.28125 37.359375 39.71875 39.9375 \nQ 39.15625 42.53125 37.890625 44.109375 \nQ 36.625 45.703125 34.546875 46.359375 \nQ 32.46875 47.015625 29.390625 47.015625 \nQ 26.265625 47.015625 23.75 45.921875 \nQ 21.234375 44.828125 19.453125 42.75 \nQ 17.671875 40.671875 16.6875 37.625 \nQ 15.71875 34.578125 15.71875 30.609375 \nL 15.71875 0 \nL 6.9375 0 \nL 6.9375 41.546875 \nQ 6.9375 43.21875 6.90625 45.046875 \nQ 6.890625 46.875 6.828125 48.5 \nQ 6.78125 50.140625 6.734375 51.3125 \nQ 6.6875 52.484375 6.640625 52.828125 \nL 14.9375 52.828125 \nQ 14.984375 52.59375 15.03125 51.515625 \nQ 15.09375 50.4375 15.15625 49.046875 \nQ 15.234375 47.65625 15.28125 46.21875 \nQ 15.328125 44.78125 15.328125 43.796875 \nL 15.484375 43.796875 \nQ 16.75 46.09375 18.265625 47.953125 \nQ 19.78125 49.8125 21.78125 51.09375 \nQ 23.78125 52.390625 26.359375 53.09375 \nQ 28.953125 53.8125 32.375 53.8125 \nQ 36.765625 53.8125 39.9375 52.734375 \nQ 43.109375 51.65625 45.15625 49.40625 \nQ 47.21875 47.171875 48.171875 43.625 \nQ 49.125 40.09375 49.125 35.203125 \nL 49.125 0 \nz\n\" id=\"LiberationSans-110\"/>\n      <path d=\"M -1.515625 -19.875 \nL -1.515625 -13.53125 \nL 56.734375 -13.53125 \nL 56.734375 -19.875 \nz\n\" id=\"LiberationSans-95\"/>\n      <path d=\"M 46.390625 14.59375 \nQ 46.390625 10.890625 44.9375 7.984375 \nQ 43.5 5.078125 40.765625 3.09375 \nQ 38.03125 1.125 34.046875 0.0625 \nQ 30.078125 -0.984375 24.953125 -0.984375 \nQ 20.359375 -0.984375 16.671875 -0.265625 \nQ 12.984375 0.4375 10.203125 2 \nQ 7.421875 3.5625 5.53125 6.125 \nQ 3.65625 8.6875 2.78125 12.40625 \nL 10.546875 13.921875 \nQ 11.671875 9.671875 15.1875 7.6875 \nQ 18.703125 5.71875 24.953125 5.71875 \nQ 27.78125 5.71875 30.140625 6.109375 \nQ 32.515625 6.5 34.21875 7.453125 \nQ 35.9375 8.40625 36.890625 9.984375 \nQ 37.84375 11.578125 37.84375 13.921875 \nQ 37.84375 16.3125 36.71875 17.84375 \nQ 35.59375 19.390625 33.59375 20.40625 \nQ 31.59375 21.4375 28.734375 22.1875 \nQ 25.875 22.953125 22.46875 23.875 \nQ 19.28125 24.703125 16.15625 25.734375 \nQ 13.03125 26.765625 10.515625 28.4375 \nQ 8.015625 30.125 6.453125 32.609375 \nQ 4.890625 35.109375 4.890625 38.875 \nQ 4.890625 46.09375 10.03125 49.875 \nQ 15.1875 53.65625 25.046875 53.65625 \nQ 33.796875 53.65625 38.9375 50.578125 \nQ 44.09375 47.515625 45.453125 40.71875 \nL 37.546875 39.75 \nQ 37.109375 41.796875 35.9375 43.1875 \nQ 34.765625 44.578125 33.109375 45.4375 \nQ 31.453125 46.296875 29.375 46.65625 \nQ 27.296875 47.015625 25.046875 47.015625 \nQ 19.09375 47.015625 16.25 45.203125 \nQ 13.421875 43.40625 13.421875 39.75 \nQ 13.421875 37.59375 14.46875 36.203125 \nQ 15.53125 34.8125 17.40625 33.859375 \nQ 19.28125 32.90625 21.921875 32.203125 \nQ 24.5625 31.5 27.734375 30.71875 \nQ 29.828125 30.171875 32.03125 29.5625 \nQ 34.234375 28.953125 36.296875 28.09375 \nQ 38.375 27.25 40.203125 26.09375 \nQ 42.046875 24.953125 43.40625 23.34375 \nQ 44.78125 21.734375 45.578125 19.578125 \nQ 46.390625 17.4375 46.390625 14.59375 \nz\n\" id=\"LiberationSans-115\"/>\n      <path d=\"M 13.421875 26.65625 \nQ 13.421875 22.125 14.078125 18.3125 \nQ 14.75 14.5 16.3125 11.734375 \nQ 17.875 8.984375 20.4375 7.46875 \nQ 23 5.953125 26.765625 5.953125 \nQ 31.453125 5.953125 34.59375 8.484375 \nQ 37.75 11.03125 38.484375 16.3125 \nL 47.359375 15.71875 \nQ 46.921875 12.453125 45.453125 9.421875 \nQ 44 6.390625 41.484375 4.09375 \nQ 38.96875 1.8125 35.34375 0.40625 \nQ 31.734375 -0.984375 27 -0.984375 \nQ 20.796875 -0.984375 16.453125 1.109375 \nQ 12.109375 3.21875 9.390625 6.90625 \nQ 6.6875 10.59375 5.46875 15.59375 \nQ 4.25 20.609375 4.25 26.46875 \nQ 4.25 31.78125 5.125 35.859375 \nQ 6 39.9375 7.59375 42.984375 \nQ 9.1875 46.046875 11.328125 48.125 \nQ 13.484375 50.203125 15.984375 51.4375 \nQ 18.5 52.6875 21.28125 53.25 \nQ 24.078125 53.8125 26.90625 53.8125 \nQ 31.34375 53.8125 34.8125 52.59375 \nQ 38.28125 51.375 40.796875 49.25 \nQ 43.3125 47.125 44.875 44.234375 \nQ 46.4375 41.359375 47.078125 38.03125 \nL 38.03125 37.359375 \nQ 37.359375 41.75 34.5625 44.328125 \nQ 31.78125 46.921875 26.65625 46.921875 \nQ 22.90625 46.921875 20.390625 45.671875 \nQ 17.875 44.4375 16.3125 41.921875 \nQ 14.75 39.40625 14.078125 35.59375 \nQ 13.421875 31.78125 13.421875 26.65625 \nz\n\" id=\"LiberationSans-99\"/>\n      <path d=\"M 51.421875 26.46875 \nQ 51.421875 12.59375 45.3125 5.796875 \nQ 39.203125 -0.984375 27.59375 -0.984375 \nQ 22.078125 -0.984375 17.71875 0.671875 \nQ 13.375 2.34375 10.375 5.765625 \nQ 7.375 9.1875 5.78125 14.328125 \nQ 4.203125 19.484375 4.203125 26.46875 \nQ 4.203125 53.8125 27.875 53.8125 \nQ 34.03125 53.8125 38.5 52.09375 \nQ 42.96875 50.390625 45.828125 46.96875 \nQ 48.6875 43.5625 50.046875 38.421875 \nQ 51.421875 33.296875 51.421875 26.46875 \nz\nM 42.1875 26.46875 \nQ 42.1875 32.625 41.234375 36.625 \nQ 40.28125 40.625 38.453125 43.015625 \nQ 36.625 45.40625 33.984375 46.359375 \nQ 31.34375 47.3125 28.03125 47.3125 \nQ 24.65625 47.3125 21.9375 46.3125 \nQ 19.234375 45.3125 17.328125 42.890625 \nQ 15.4375 40.484375 14.421875 36.46875 \nQ 13.421875 32.46875 13.421875 26.46875 \nQ 13.421875 20.3125 14.5 16.28125 \nQ 15.578125 12.25 17.453125 9.859375 \nQ 19.34375 7.46875 21.90625 6.484375 \nQ 24.46875 5.515625 27.484375 5.515625 \nQ 30.859375 5.515625 33.59375 6.46875 \nQ 36.328125 7.421875 38.234375 9.8125 \nQ 40.140625 12.203125 41.15625 16.25 \nQ 42.1875 20.3125 42.1875 26.46875 \nz\n\" id=\"LiberationSans-111\"/>\n      <path d=\"M 13.484375 24.5625 \nQ 13.484375 20.40625 14.328125 16.90625 \nQ 15.1875 13.421875 16.96875 10.90625 \nQ 18.75 8.40625 21.53125 7 \nQ 24.3125 5.609375 28.21875 5.609375 \nQ 33.9375 5.609375 37.375 7.90625 \nQ 40.828125 10.203125 42.046875 13.71875 \nL 49.75 11.53125 \nQ 48.921875 9.328125 47.4375 7.109375 \nQ 45.953125 4.890625 43.453125 3.09375 \nQ 40.96875 1.3125 37.234375 0.15625 \nQ 33.5 -0.984375 28.21875 -0.984375 \nQ 16.5 -0.984375 10.375 6 \nQ 4.25 12.984375 4.25 26.765625 \nQ 4.25 34.1875 6.09375 39.328125 \nQ 7.953125 44.484375 11.171875 47.703125 \nQ 14.40625 50.921875 18.703125 52.359375 \nQ 23 53.8125 27.875 53.8125 \nQ 34.515625 53.8125 38.984375 51.65625 \nQ 43.453125 49.515625 46.15625 45.71875 \nQ 48.875 41.9375 50.015625 36.8125 \nQ 51.171875 31.6875 51.171875 25.734375 \nL 51.171875 24.5625 \nz\nM 42.09375 31.296875 \nQ 41.359375 39.65625 37.84375 43.484375 \nQ 34.328125 47.3125 27.734375 47.3125 \nQ 25.53125 47.3125 23.109375 46.609375 \nQ 20.703125 45.90625 18.65625 44.09375 \nQ 16.609375 42.28125 15.1875 39.171875 \nQ 13.765625 36.078125 13.578125 31.296875 \nz\n\" id=\"LiberationSans-101\"/>\n     </defs>\n     <g style=\"fill:#262626;\" transform=\"translate(310.557813 111.345)scale(0.1 -0.1)\">\n      <use xlink:href=\"#LiberationSans-116\"/>\n      <use x=\"27.783203\" xlink:href=\"#LiberationSans-114\"/>\n      <use x=\"61.083984\" xlink:href=\"#LiberationSans-97\"/>\n      <use x=\"116.699219\" xlink:href=\"#LiberationSans-105\"/>\n      <use x=\"138.916016\" xlink:href=\"#LiberationSans-110\"/>\n      <use x=\"194.53125\" xlink:href=\"#LiberationSans-95\"/>\n      <use x=\"250.146484\" xlink:href=\"#LiberationSans-115\"/>\n      <use x=\"300.146484\" xlink:href=\"#LiberationSans-99\"/>\n      <use x=\"350.146484\" xlink:href=\"#LiberationSans-111\"/>\n      <use x=\"405.761719\" xlink:href=\"#LiberationSans-114\"/>\n      <use x=\"439.0625\" xlink:href=\"#LiberationSans-101\"/>\n      <use x=\"494.677734\" xlink:href=\"#LiberationSans-115\"/>\n     </g>\n    </g>\n    <g id=\"line2d_20\">\n     <path d=\"M 282.557813 122.166875 \nL 302.557813 122.166875 \n\" style=\"fill:none;stroke:#55a868;stroke-linecap:round;stroke-width:1.75;\"/>\n    </g>\n    <g id=\"line2d_21\"/>\n    <g id=\"text_17\">\n     <!-- test_scores -->\n     <g style=\"fill:#262626;\" transform=\"translate(310.557813 125.666875)scale(0.1 -0.1)\">\n      <use xlink:href=\"#LiberationSans-116\"/>\n      <use x=\"27.783203\" xlink:href=\"#LiberationSans-101\"/>\n      <use x=\"83.398438\" xlink:href=\"#LiberationSans-115\"/>\n      <use x=\"133.398438\" xlink:href=\"#LiberationSans-116\"/>\n      <use x=\"161.181641\" xlink:href=\"#LiberationSans-95\"/>\n      <use x=\"216.796875\" xlink:href=\"#LiberationSans-115\"/>\n      <use x=\"266.796875\" xlink:href=\"#LiberationSans-99\"/>\n      <use x=\"316.796875\" xlink:href=\"#LiberationSans-111\"/>\n      <use x=\"372.412109\" xlink:href=\"#LiberationSans-114\"/>\n      <use x=\"405.712891\" xlink:href=\"#LiberationSans-101\"/>\n      <use x=\"461.328125\" xlink:href=\"#LiberationSans-115\"/>\n     </g>\n    </g>\n   </g>\n  </g>\n </g>\n <defs>\n  <clipPath id=\"pfa0260cbf3\">\n   <rect height=\"217.44\" width=\"334.8\" x=\"39.221875\" y=\"7.2\"/>\n  </clipPath>\n </defs>\n</svg>\n"
          },
          "metadata": {
            "needs_background": "light"
          }
        }
      ]
    },
    {
      "cell_type": "markdown",
      "source": [
        "> For the report. Please include this plot in the report, and comment on the differences between the two curves."
      ],
      "metadata": {
        "id": "JWeW78wsgvBa"
      }
    },
    {
      "cell_type": "code",
      "source": [
        "!jupyter nbconvert --to html assignment_1.ipynb"
      ],
      "metadata": {
        "colab": {
          "base_uri": "https://localhost:8080/"
        },
        "id": "XBlRnRSowXpU",
        "outputId": "eacce72f-0f89-4373-beba-0a0ce5967c4c"
      },
      "execution_count": 71,
      "outputs": [
        {
          "output_type": "stream",
          "name": "stdout",
          "text": [
            "[NbConvertApp] WARNING | pattern 'assignment_1.ipynb' matched no files\n",
            "This application is used to convert notebook files (*.ipynb)\n",
            "        to various other formats.\n",
            "\n",
            "        WARNING: THE COMMANDLINE INTERFACE MAY CHANGE IN FUTURE RELEASES.\n",
            "\n",
            "Options\n",
            "=======\n",
            "The options below are convenience aliases to configurable class-options,\n",
            "as listed in the \"Equivalent to\" description-line of the aliases.\n",
            "To see all configurable class-options for some <cmd>, use:\n",
            "    <cmd> --help-all\n",
            "\n",
            "--debug\n",
            "    set log level to logging.DEBUG (maximize logging output)\n",
            "    Equivalent to: [--Application.log_level=10]\n",
            "--show-config\n",
            "    Show the application's configuration (human-readable format)\n",
            "    Equivalent to: [--Application.show_config=True]\n",
            "--show-config-json\n",
            "    Show the application's configuration (json format)\n",
            "    Equivalent to: [--Application.show_config_json=True]\n",
            "--generate-config\n",
            "    generate default config file\n",
            "    Equivalent to: [--JupyterApp.generate_config=True]\n",
            "-y\n",
            "    Answer yes to any questions instead of prompting.\n",
            "    Equivalent to: [--JupyterApp.answer_yes=True]\n",
            "--execute\n",
            "    Execute the notebook prior to export.\n",
            "    Equivalent to: [--ExecutePreprocessor.enabled=True]\n",
            "--allow-errors\n",
            "    Continue notebook execution even if one of the cells throws an error and include the error message in the cell output (the default behaviour is to abort conversion). This flag is only relevant if '--execute' was specified, too.\n",
            "    Equivalent to: [--ExecutePreprocessor.allow_errors=True]\n",
            "--stdin\n",
            "    read a single notebook file from stdin. Write the resulting notebook with default basename 'notebook.*'\n",
            "    Equivalent to: [--NbConvertApp.from_stdin=True]\n",
            "--stdout\n",
            "    Write notebook output to stdout instead of files.\n",
            "    Equivalent to: [--NbConvertApp.writer_class=StdoutWriter]\n",
            "--inplace\n",
            "    Run nbconvert in place, overwriting the existing notebook (only \n",
            "            relevant when converting to notebook format)\n",
            "    Equivalent to: [--NbConvertApp.use_output_suffix=False --NbConvertApp.export_format=notebook --FilesWriter.build_directory=]\n",
            "--clear-output\n",
            "    Clear output of current file and save in place, \n",
            "            overwriting the existing notebook.\n",
            "    Equivalent to: [--NbConvertApp.use_output_suffix=False --NbConvertApp.export_format=notebook --FilesWriter.build_directory= --ClearOutputPreprocessor.enabled=True]\n",
            "--no-prompt\n",
            "    Exclude input and output prompts from converted document.\n",
            "    Equivalent to: [--TemplateExporter.exclude_input_prompt=True --TemplateExporter.exclude_output_prompt=True]\n",
            "--no-input\n",
            "    Exclude input cells and output prompts from converted document. \n",
            "            This mode is ideal for generating code-free reports.\n",
            "    Equivalent to: [--TemplateExporter.exclude_output_prompt=True --TemplateExporter.exclude_input=True]\n",
            "--log-level=<Enum>\n",
            "    Set the log level by value or name.\n",
            "    Choices: any of [0, 10, 20, 30, 40, 50, 'DEBUG', 'INFO', 'WARN', 'ERROR', 'CRITICAL']\n",
            "    Default: 30\n",
            "    Equivalent to: [--Application.log_level]\n",
            "--config=<Unicode>\n",
            "    Full path of a config file.\n",
            "    Default: ''\n",
            "    Equivalent to: [--JupyterApp.config_file]\n",
            "--to=<Unicode>\n",
            "    The export format to be used, either one of the built-in formats\n",
            "            ['asciidoc', 'custom', 'html', 'latex', 'markdown', 'notebook', 'pdf', 'python', 'rst', 'script', 'slides']\n",
            "            or a dotted object name that represents the import path for an\n",
            "            `Exporter` class\n",
            "    Default: 'html'\n",
            "    Equivalent to: [--NbConvertApp.export_format]\n",
            "--template=<Unicode>\n",
            "    Name of the template file to use\n",
            "    Default: ''\n",
            "    Equivalent to: [--TemplateExporter.template_file]\n",
            "--writer=<DottedObjectName>\n",
            "    Writer class used to write the \n",
            "                                        results of the conversion\n",
            "    Default: 'FilesWriter'\n",
            "    Equivalent to: [--NbConvertApp.writer_class]\n",
            "--post=<DottedOrNone>\n",
            "    PostProcessor class used to write the\n",
            "                                        results of the conversion\n",
            "    Default: ''\n",
            "    Equivalent to: [--NbConvertApp.postprocessor_class]\n",
            "--output=<Unicode>\n",
            "    overwrite base name use for output files.\n",
            "                can only be used when converting one notebook at a time.\n",
            "    Default: ''\n",
            "    Equivalent to: [--NbConvertApp.output_base]\n",
            "--output-dir=<Unicode>\n",
            "    Directory to write output(s) to. Defaults\n",
            "                                  to output to the directory of each notebook. To recover\n",
            "                                  previous default behaviour (outputting to the current \n",
            "                                  working directory) use . as the flag value.\n",
            "    Default: ''\n",
            "    Equivalent to: [--FilesWriter.build_directory]\n",
            "--reveal-prefix=<Unicode>\n",
            "    The URL prefix for reveal.js (version 3.x).\n",
            "            This defaults to the reveal CDN, but can be any url pointing to a copy \n",
            "            of reveal.js. \n",
            "            For speaker notes to work, this must be a relative path to a local \n",
            "            copy of reveal.js: e.g., \"reveal.js\".\n",
            "            If a relative path is given, it must be a subdirectory of the\n",
            "            current directory (from which the server is run).\n",
            "            See the usage documentation\n",
            "            (https://nbconvert.readthedocs.io/en/latest/usage.html#reveal-js-html-slideshow)\n",
            "            for more details.\n",
            "    Default: ''\n",
            "    Equivalent to: [--SlidesExporter.reveal_url_prefix]\n",
            "--nbformat=<Enum>\n",
            "    The nbformat version to write.\n",
            "            Use this to downgrade notebooks.\n",
            "    Choices: any of [1, 2, 3, 4]\n",
            "    Default: 4\n",
            "    Equivalent to: [--NotebookExporter.nbformat_version]\n",
            "\n",
            "Examples\n",
            "--------\n",
            "\n",
            "    The simplest way to use nbconvert is\n",
            "\n",
            "            > jupyter nbconvert mynotebook.ipynb\n",
            "\n",
            "            which will convert mynotebook.ipynb to the default format (probably HTML).\n",
            "\n",
            "            You can specify the export format with `--to`.\n",
            "            Options include ['asciidoc', 'custom', 'html', 'latex', 'markdown', 'notebook', 'pdf', 'python', 'rst', 'script', 'slides'].\n",
            "\n",
            "            > jupyter nbconvert --to latex mynotebook.ipynb\n",
            "\n",
            "            Both HTML and LaTeX support multiple output templates. LaTeX includes\n",
            "            'base', 'article' and 'report'.  HTML includes 'basic' and 'full'. You\n",
            "            can specify the flavor of the format used.\n",
            "\n",
            "            > jupyter nbconvert --to html --template basic mynotebook.ipynb\n",
            "\n",
            "            You can also pipe the output to stdout, rather than a file\n",
            "\n",
            "            > jupyter nbconvert mynotebook.ipynb --stdout\n",
            "\n",
            "            PDF is generated via latex\n",
            "\n",
            "            > jupyter nbconvert mynotebook.ipynb --to pdf\n",
            "\n",
            "            You can get (and serve) a Reveal.js-powered slideshow\n",
            "\n",
            "            > jupyter nbconvert myslides.ipynb --to slides --post serve\n",
            "\n",
            "            Multiple notebooks can be given at the command line in a couple of \n",
            "            different ways:\n",
            "\n",
            "            > jupyter nbconvert notebook*.ipynb\n",
            "            > jupyter nbconvert notebook1.ipynb notebook2.ipynb\n",
            "\n",
            "            or you can specify the notebooks list in a config file, containing::\n",
            "\n",
            "                c.NbConvertApp.notebooks = [\"my_notebook.ipynb\"]\n",
            "\n",
            "            > jupyter nbconvert --config mycfg.py\n",
            "\n",
            "To see all available configurables, use `--help-all`.\n",
            "\n"
          ]
        }
      ]
    },
    {
      "cell_type": "code",
      "source": [
        "# %%capture\n",
        "!wget -nc https://raw.githubusercontent.com/brpy/colab-pdf/master/colab_pdf.py\n",
        "from colab_pdf import colab_pdf\n",
        "\n",
        "pdf_dir = os.path.join(os.path.abspath(''), 'drive', 'MyDrive')\n",
        "pdf_dir = os.path.join(pdf_dir, 'Colab Notebooks', 'dat340', ASSIGNMENT_ID)\n",
        "colab_pdf(os.path.join(pdf_dir, ASSIGNMENT_ID + '.ipynb'))"
      ],
      "metadata": {
        "colab": {
          "base_uri": "https://localhost:8080/",
          "height": 1000
        },
        "id": "mVgdQGHAtQJm",
        "outputId": "727d11c2-97d5-455f-f8f5-01f8d2f668ba"
      },
      "execution_count": 70,
      "outputs": [
        {
          "output_type": "stream",
          "name": "stdout",
          "text": [
            "File ‘colab_pdf.py’ already there; not retrieving.\n",
            "\n",
            "\n",
            "WARNING: apt does not have a stable CLI interface. Use with caution in scripts.\n",
            "\n",
            "\n",
            "WARNING: apt does not have a stable CLI interface. Use with caution in scripts.\n",
            "\n",
            "[NbConvertApp] WARNING | pattern '/content/drive/MyDrive/Colab Notebooks//content/drive/MyDrive/Colab Notebooks/dat340/assignment_1/assignment_1.ipynb' matched no files\n",
            "This application is used to convert notebook files (*.ipynb)\n",
            "        to various other formats.\n",
            "\n",
            "        WARNING: THE COMMANDLINE INTERFACE MAY CHANGE IN FUTURE RELEASES.\n",
            "\n",
            "Options\n",
            "=======\n",
            "The options below are convenience aliases to configurable class-options,\n",
            "as listed in the \"Equivalent to\" description-line of the aliases.\n",
            "To see all configurable class-options for some <cmd>, use:\n",
            "    <cmd> --help-all\n",
            "\n",
            "--debug\n",
            "    set log level to logging.DEBUG (maximize logging output)\n",
            "    Equivalent to: [--Application.log_level=10]\n",
            "--show-config\n",
            "    Show the application's configuration (human-readable format)\n",
            "    Equivalent to: [--Application.show_config=True]\n",
            "--show-config-json\n",
            "    Show the application's configuration (json format)\n",
            "    Equivalent to: [--Application.show_config_json=True]\n",
            "--generate-config\n",
            "    generate default config file\n",
            "    Equivalent to: [--JupyterApp.generate_config=True]\n",
            "-y\n",
            "    Answer yes to any questions instead of prompting.\n",
            "    Equivalent to: [--JupyterApp.answer_yes=True]\n",
            "--execute\n",
            "    Execute the notebook prior to export.\n",
            "    Equivalent to: [--ExecutePreprocessor.enabled=True]\n",
            "--allow-errors\n",
            "    Continue notebook execution even if one of the cells throws an error and include the error message in the cell output (the default behaviour is to abort conversion). This flag is only relevant if '--execute' was specified, too.\n",
            "    Equivalent to: [--ExecutePreprocessor.allow_errors=True]\n",
            "--stdin\n",
            "    read a single notebook file from stdin. Write the resulting notebook with default basename 'notebook.*'\n",
            "    Equivalent to: [--NbConvertApp.from_stdin=True]\n",
            "--stdout\n",
            "    Write notebook output to stdout instead of files.\n",
            "    Equivalent to: [--NbConvertApp.writer_class=StdoutWriter]\n",
            "--inplace\n",
            "    Run nbconvert in place, overwriting the existing notebook (only \n",
            "            relevant when converting to notebook format)\n",
            "    Equivalent to: [--NbConvertApp.use_output_suffix=False --NbConvertApp.export_format=notebook --FilesWriter.build_directory=]\n",
            "--clear-output\n",
            "    Clear output of current file and save in place, \n",
            "            overwriting the existing notebook.\n",
            "    Equivalent to: [--NbConvertApp.use_output_suffix=False --NbConvertApp.export_format=notebook --FilesWriter.build_directory= --ClearOutputPreprocessor.enabled=True]\n",
            "--no-prompt\n",
            "    Exclude input and output prompts from converted document.\n",
            "    Equivalent to: [--TemplateExporter.exclude_input_prompt=True --TemplateExporter.exclude_output_prompt=True]\n",
            "--no-input\n",
            "    Exclude input cells and output prompts from converted document. \n",
            "            This mode is ideal for generating code-free reports.\n",
            "    Equivalent to: [--TemplateExporter.exclude_output_prompt=True --TemplateExporter.exclude_input=True]\n",
            "--log-level=<Enum>\n",
            "    Set the log level by value or name.\n",
            "    Choices: any of [0, 10, 20, 30, 40, 50, 'DEBUG', 'INFO', 'WARN', 'ERROR', 'CRITICAL']\n",
            "    Default: 30\n",
            "    Equivalent to: [--Application.log_level]\n",
            "--config=<Unicode>\n",
            "    Full path of a config file.\n",
            "    Default: ''\n",
            "    Equivalent to: [--JupyterApp.config_file]\n",
            "--to=<Unicode>\n",
            "    The export format to be used, either one of the built-in formats\n",
            "            ['asciidoc', 'custom', 'html', 'latex', 'markdown', 'notebook', 'pdf', 'python', 'rst', 'script', 'slides']\n",
            "            or a dotted object name that represents the import path for an\n",
            "            `Exporter` class\n",
            "    Default: 'html'\n",
            "    Equivalent to: [--NbConvertApp.export_format]\n",
            "--template=<Unicode>\n",
            "    Name of the template file to use\n",
            "    Default: ''\n",
            "    Equivalent to: [--TemplateExporter.template_file]\n",
            "--writer=<DottedObjectName>\n",
            "    Writer class used to write the \n",
            "                                        results of the conversion\n",
            "    Default: 'FilesWriter'\n",
            "    Equivalent to: [--NbConvertApp.writer_class]\n",
            "--post=<DottedOrNone>\n",
            "    PostProcessor class used to write the\n",
            "                                        results of the conversion\n",
            "    Default: ''\n",
            "    Equivalent to: [--NbConvertApp.postprocessor_class]\n",
            "--output=<Unicode>\n",
            "    overwrite base name use for output files.\n",
            "                can only be used when converting one notebook at a time.\n",
            "    Default: ''\n",
            "    Equivalent to: [--NbConvertApp.output_base]\n",
            "--output-dir=<Unicode>\n",
            "    Directory to write output(s) to. Defaults\n",
            "                                  to output to the directory of each notebook. To recover\n",
            "                                  previous default behaviour (outputting to the current \n",
            "                                  working directory) use . as the flag value.\n",
            "    Default: ''\n",
            "    Equivalent to: [--FilesWriter.build_directory]\n",
            "--reveal-prefix=<Unicode>\n",
            "    The URL prefix for reveal.js (version 3.x).\n",
            "            This defaults to the reveal CDN, but can be any url pointing to a copy \n",
            "            of reveal.js. \n",
            "            For speaker notes to work, this must be a relative path to a local \n",
            "            copy of reveal.js: e.g., \"reveal.js\".\n",
            "            If a relative path is given, it must be a subdirectory of the\n",
            "            current directory (from which the server is run).\n",
            "            See the usage documentation\n",
            "            (https://nbconvert.readthedocs.io/en/latest/usage.html#reveal-js-html-slideshow)\n",
            "            for more details.\n",
            "    Default: ''\n",
            "    Equivalent to: [--SlidesExporter.reveal_url_prefix]\n",
            "--nbformat=<Enum>\n",
            "    The nbformat version to write.\n",
            "            Use this to downgrade notebooks.\n",
            "    Choices: any of [1, 2, 3, 4]\n",
            "    Default: 4\n",
            "    Equivalent to: [--NotebookExporter.nbformat_version]\n",
            "\n",
            "Examples\n",
            "--------\n",
            "\n",
            "    The simplest way to use nbconvert is\n",
            "\n",
            "            > jupyter nbconvert mynotebook.ipynb\n",
            "\n",
            "            which will convert mynotebook.ipynb to the default format (probably HTML).\n",
            "\n",
            "            You can specify the export format with `--to`.\n",
            "            Options include ['asciidoc', 'custom', 'html', 'latex', 'markdown', 'notebook', 'pdf', 'python', 'rst', 'script', 'slides'].\n",
            "\n",
            "            > jupyter nbconvert --to latex mynotebook.ipynb\n",
            "\n",
            "            Both HTML and LaTeX support multiple output templates. LaTeX includes\n",
            "            'base', 'article' and 'report'.  HTML includes 'basic' and 'full'. You\n",
            "            can specify the flavor of the format used.\n",
            "\n",
            "            > jupyter nbconvert --to html --template basic mynotebook.ipynb\n",
            "\n",
            "            You can also pipe the output to stdout, rather than a file\n",
            "\n",
            "            > jupyter nbconvert mynotebook.ipynb --stdout\n",
            "\n",
            "            PDF is generated via latex\n",
            "\n",
            "            > jupyter nbconvert mynotebook.ipynb --to pdf\n",
            "\n",
            "            You can get (and serve) a Reveal.js-powered slideshow\n",
            "\n",
            "            > jupyter nbconvert myslides.ipynb --to slides --post serve\n",
            "\n",
            "            Multiple notebooks can be given at the command line in a couple of \n",
            "            different ways:\n",
            "\n",
            "            > jupyter nbconvert notebook*.ipynb\n",
            "            > jupyter nbconvert notebook1.ipynb notebook2.ipynb\n",
            "\n",
            "            or you can specify the notebooks list in a config file, containing::\n",
            "\n",
            "                c.NbConvertApp.notebooks = [\"my_notebook.ipynb\"]\n",
            "\n",
            "            > jupyter nbconvert --config mycfg.py\n",
            "\n",
            "To see all available configurables, use `--help-all`.\n",
            "\n"
          ]
        },
        {
          "output_type": "execute_result",
          "data": {
            "text/plain": [
              "'File Download Unsuccessful. Saved in Google Drive'"
            ],
            "application/vnd.google.colaboratory.intrinsic+json": {
              "type": "string"
            }
          },
          "metadata": {},
          "execution_count": 70
        }
      ]
    },
    {
      "cell_type": "code",
      "source": [
        ""
      ],
      "metadata": {
        "id": "ejWqmLLCtT3G"
      },
      "execution_count": null,
      "outputs": []
    }
  ]
}